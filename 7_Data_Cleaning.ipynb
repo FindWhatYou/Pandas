{
  "nbformat": 4,
  "nbformat_minor": 0,
  "metadata": {
    "colab": {
      "provenance": [],
      "authorship_tag": "ABX9TyN8GLNV+aJrSgq1qJHn2tIu"
    },
    "kernelspec": {
      "name": "python3",
      "display_name": "Python 3"
    },
    "language_info": {
      "name": "python"
    }
  },
  "cells": [
    {
      "cell_type": "markdown",
      "source": [
        "#**Data Cleaning**\n"
      ],
      "metadata": {
        "id": "jYpHLAcA23KA"
      }
    },
    {
      "cell_type": "markdown",
      "source": [
        "Pandas Pipeline\n",
        "1.   Impor the data.\n",
        "2.   Set the data types. (as function)\n",
        "3.   Remove the outlier. (as function)\n",
        "\n"
      ],
      "metadata": {
        "id": "-ERtEmDdD7_w"
      }
    },
    {
      "cell_type": "markdown",
      "source": [
        "\n",
        "\n",
        "```\n",
        "df.pipe(set_type).pipe(remove_out, min_row_country=10)\n",
        "```\n",
        "\n"
      ],
      "metadata": {
        "id": "DyWGmgEBJVQF"
      }
    },
    {
      "cell_type": "code",
      "source": [
        "# Import libraries\n",
        "import pandas as pd\n",
        "import numpy as np\n",
        "\n",
        "\n",
        "# This code is made to load our data stored on Google Drive\n",
        "def gd_path(file_id):\n",
        "    \"\"\"Generate a shareable link from Google Drive file id.\"\"\"\n",
        "    return f\"https://drive.google.com/uc?export=download&id={file_id}\"\n",
        "\n",
        "csv_names = ['products', 'orders', 'orderlines', 'brands']\n",
        "\n",
        "# Google Drive file ids\n",
        "\n",
        "\n",
        "files_id = {\n",
        "    'products':\"1afxwDXfl-7cQ_qLwyDitfcCx3u7WMvkU\",\n",
        "    'orders':\"1Vu0q91qZw6lqhIqbjoXYvYAQTmVHh6uZ\",\n",
        "    'orderlines':\"1FYhN_2AzTBFuWcfHaRuKcuCE6CWXsWtG\",\n",
        "    'brands':\"1m1ThDDIYRTTii-rqM5SEQjJ8McidJskD\" \n",
        "} \n",
        "\n",
        "# Read data from Google Drive\n",
        "products = pd.read_csv(gd_path(files_id['products']), sep=\",\")\n",
        "orders = pd.read_csv(gd_path(files_id['orders']), sep=\",\")\n",
        "orderlines = pd.read_csv(gd_path(files_id['orderlines']), sep=\",\")\n",
        "brands = pd.read_csv(gd_path(files_id['brands']), sep=\",\")"
      ],
      "metadata": {
        "id": "WXK1hVzx5ww9"
      },
      "execution_count": 107,
      "outputs": []
    },
    {
      "cell_type": "code",
      "source": [
        "# Display options\n",
        "pd.set_option('display.max_rows', 1000)\n",
        "pd.set_option('display.float_format', lambda x: '%.2f' % x)"
      ],
      "metadata": {
        "id": "BKupTQ6Rqxrn"
      },
      "execution_count": 108,
      "outputs": []
    },
    {
      "cell_type": "markdown",
      "source": [
        "# Functions"
      ],
      "metadata": {
        "id": "7oNPLvEKPItO"
      }
    },
    {
      "cell_type": "code",
      "source": [
        "def start_pipeline(dataf):\n",
        "    return dataf.copy()\n",
        "\n",
        "def remove_dup(dataf):\n",
        "    return dataf.drop_duplicates()\n",
        "\n",
        "def check(df, operator, column_name, length_of_element):\n",
        "  # Check if the operator is 'len' to indicate length check, otherwise assume dot count check\n",
        "    if operator == len:  \n",
        "        i = '.'  # Use '.' for length check\n",
        "    else: \n",
        "        i = '\\.'  # Use '\\.' for dot count check\n",
        "    return df[column_name].str.count(i).eq(length_of_element).sum()\n",
        "\n",
        "def transform(df, column, new_column):    \n",
        "  # Create a new column 'new_column' in the DataFrame 'df' to store the transformed values\n",
        "    df[new_column] = (\n",
        "    df[column].loc[df[column].notna() &\n",
        "   (df[column].str.match(r'^\\d{1,4}\\.\\d{1,3}$') | \n",
        "    df[column].str.match(r'^\\d{1,5}$'))]\n",
        "                .astype(float) # Convert the matched values to float data type\n",
        "    .combine_first(df[column].loc[df[column].notna() &\n",
        "                   df[column].str.match(r'^\\d{3}\\.\\d{3}$')]\n",
        "                             .astype(float) / 10) # Divide the matched values by 10\n",
        "    .combine_first(df[column].loc[df[column].notna() &\n",
        "                   df[column].str.match(r'^\\d{1,3}\\.\\d{3}\\.\\d{3}$')]\n",
        "                             .str.replace(\".\", \"\", regex=False) # Remove the dots from the matched values\n",
        "                             .astype(float) / 100000) # Divide the matched values by 100000\n",
        ")\n",
        "    return df\n",
        "\n",
        "def transform_OL(df, column, new_column):    # After analyzing the unti_price ORDERLINES, some new patterns were applied \n",
        "    df[new_column] = (\n",
        "    df[column].loc[df[column].notna() &\n",
        "   (df[column].str.match(r'^\\d{1,4}\\.\\d{2}$'))]\n",
        "              .astype(float)\n",
        "    .combine_first(df[column].loc[df[column].notna() &\n",
        "                   df[column].str.match(r'^\\d{1,3}\\.\\d{3}\\.\\d{2}$')]\n",
        "                             .str.replace(\".\", \"\", regex=False)\n",
        "                             .astype(float)/100)\n",
        ")\n",
        "    return df\n",
        "\n",
        "\n",
        "def analyze_prices(products_df, price_column):\n",
        "  # Count and print the distribution of prices matching the pattern \\d{1,3}\\.\\d{3}\\.\\d{3}\n",
        "    case1_counts = (products_df[price_column].notna() & \n",
        "                    products_df[price_column].str.match(r'^\\d{1,3}\\.\\d{3}\\.\\d{3}$')).value_counts(normalize=True)\n",
        "    print(\"CASE 1: \\d{1,3}\\.\\d{3}\\.\\d{3}\")\n",
        "    print(case1_counts)\n",
        "\n",
        "    case2_counts = (products_df[price_column].notna() & \n",
        "                    products_df[price_column].str.match(r'^\\d{3}\\.\\d{3}$')).value_counts(normalize=True)\n",
        "    print(\"CASE 2: \\d{3}\\.\\d{3}\")\n",
        "    print(case2_counts)\n",
        "\n",
        "    case3_counts = (products_df[price_column].notna() & \n",
        "                    products_df[price_column].str.match(r'^\\d{1,4}\\.\\d{1,3}$')).value_counts(normalize=True)\n",
        "    print(\"CASE 3: \\d{1,4}\\.\\d{1,3}\")\n",
        "    print(case3_counts)\n",
        "\n",
        "    case4_counts = (products_df[price_column].notna() & \n",
        "                    products_df[price_column].str.match(r'^\\d{1,5}$')).value_counts(normalize=True)\n",
        "    print(\"CASE 4: \\d{1,5}\")\n",
        "    print(case4_counts)\n",
        " \n",
        "  # Count and print the distribution of missing (NA) prices\n",
        "    na_counts = products_df[price_column].isna().value_counts(normalize=True)\n",
        "    print(\"CASE Na\")\n",
        "    print(na_counts)\n"
      ],
      "metadata": {
        "id": "qBWNrqZ-PO1g"
      },
      "execution_count": 109,
      "outputs": []
    },
    {
      "cell_type": "markdown",
      "source": [
        "# 1 Products [non ok]"
      ],
      "metadata": {
        "id": "kiEjI2PO038v"
      }
    },
    {
      "cell_type": "markdown",
      "source": [
        "**products.csv**\n",
        "* `sku` – stock keeping unit: a unique identifier for each product\n",
        "* `name` – product name\n",
        "* `desc` – product description\n",
        "* `in_stock` – whether or not the product was in stock at the moment of the data extraction\n",
        "* `type` – a numerical code for product type"
      ],
      "metadata": {
        "id": "iHjSbg1d2OZb"
      }
    },
    {
      "cell_type": "code",
      "source": [
        "products.info()"
      ],
      "metadata": {
        "colab": {
          "base_uri": "https://localhost:8080/"
        },
        "id": "gqFdsCqrGkyA",
        "outputId": "38eda084-7b49-4969-935b-158543a66432"
      },
      "execution_count": 110,
      "outputs": [
        {
          "output_type": "stream",
          "name": "stdout",
          "text": [
            "<class 'pandas.core.frame.DataFrame'>\n",
            "RangeIndex: 19326 entries, 0 to 19325\n",
            "Data columns (total 7 columns):\n",
            " #   Column       Non-Null Count  Dtype \n",
            "---  ------       --------------  ----- \n",
            " 0   sku          19326 non-null  object\n",
            " 1   name         19326 non-null  object\n",
            " 2   desc         19319 non-null  object\n",
            " 3   price        19280 non-null  object\n",
            " 4   promo_price  19326 non-null  object\n",
            " 5   in_stock     19326 non-null  int64 \n",
            " 6   type         19276 non-null  object\n",
            "dtypes: int64(1), object(6)\n",
            "memory usage: 1.0+ MB\n"
          ]
        }
      ]
    },
    {
      "cell_type": "markdown",
      "source": [
        "### Preprocessing \n",
        "Check the size and drop duplicates."
      ],
      "metadata": {
        "id": "XDjsID4ORm4f"
      }
    },
    {
      "cell_type": "code",
      "source": [
        "products.nunique(), products.shape"
      ],
      "metadata": {
        "colab": {
          "base_uri": "https://localhost:8080/"
        },
        "id": "QXRXMf9THCW6",
        "outputId": "dfeee52d-3400-4444-f767-5d54503c14a3"
      },
      "execution_count": 111,
      "outputs": [
        {
          "output_type": "execute_result",
          "data": {
            "text/plain": [
              "(sku            10579\n",
              " name           10373\n",
              " desc            7098\n",
              " price           2690\n",
              " promo_price     4614\n",
              " in_stock           2\n",
              " type             126\n",
              " dtype: int64,\n",
              " (19326, 7))"
            ]
          },
          "metadata": {},
          "execution_count": 111
        }
      ]
    },
    {
      "cell_type": "code",
      "source": [
        "products_1sp = products.pipe(start_pipeline).pipe(remove_dup)"
      ],
      "metadata": {
        "id": "wkfAVA1iHQ9i"
      },
      "execution_count": 112,
      "outputs": []
    },
    {
      "cell_type": "markdown",
      "source": [
        "#### **`price` analyses**"
      ],
      "metadata": {
        "id": "30GPh6A0R7iF"
      }
    },
    {
      "cell_type": "code",
      "source": [
        "pd.set_option('display.max_colwidth', None) # Display full cell wight "
      ],
      "metadata": {
        "id": "XAR4xiXcSkZD"
      },
      "execution_count": 113,
      "outputs": []
    },
    {
      "cell_type": "code",
      "source": [
        "products_1sp[[\"name\",\"price\",\"promo_price\"]].sample(5)"
      ],
      "metadata": {
        "colab": {
          "base_uri": "https://localhost:8080/",
          "height": 206
        },
        "id": "81KZhv0iQ_21",
        "outputId": "07c579f7-d19b-471f-d902-6ab09fdf73f3"
      },
      "execution_count": 114,
      "outputs": [
        {
          "output_type": "execute_result",
          "data": {
            "text/plain": [
              "                                                                         name  \\\n",
              "594                       IK Multimedia iKlip microphone black iPad 2 Adapter   \n",
              "16910                                           Candy Apple Brown Pencil Case   \n",
              "1198                         D-Link DGS-1100-16 Gigabit Smart Switch 16 ports   \n",
              "18781  Open - Apple MacBook Pro Retina 15 \"i7 25 Ghz | RAM 16GB | 512GB Flash   \n",
              "11910                       MIXIT Belkin USB wall charger 24A Metallic Silver   \n",
              "\n",
              "        price promo_price  \n",
              "594     48.79     349.896  \n",
              "16910      35     350.005  \n",
              "1198   123.99   1.099.902  \n",
              "18781    2609  23.227.444  \n",
              "11910   19.99     179.903  "
            ],
            "text/html": [
              "\n",
              "  <div id=\"df-4f29bade-a6c1-4ffc-9955-e9c35b798037\">\n",
              "    <div class=\"colab-df-container\">\n",
              "      <div>\n",
              "<style scoped>\n",
              "    .dataframe tbody tr th:only-of-type {\n",
              "        vertical-align: middle;\n",
              "    }\n",
              "\n",
              "    .dataframe tbody tr th {\n",
              "        vertical-align: top;\n",
              "    }\n",
              "\n",
              "    .dataframe thead th {\n",
              "        text-align: right;\n",
              "    }\n",
              "</style>\n",
              "<table border=\"1\" class=\"dataframe\">\n",
              "  <thead>\n",
              "    <tr style=\"text-align: right;\">\n",
              "      <th></th>\n",
              "      <th>name</th>\n",
              "      <th>price</th>\n",
              "      <th>promo_price</th>\n",
              "    </tr>\n",
              "  </thead>\n",
              "  <tbody>\n",
              "    <tr>\n",
              "      <th>594</th>\n",
              "      <td>IK Multimedia iKlip microphone black iPad 2 Adapter</td>\n",
              "      <td>48.79</td>\n",
              "      <td>349.896</td>\n",
              "    </tr>\n",
              "    <tr>\n",
              "      <th>16910</th>\n",
              "      <td>Candy Apple Brown Pencil Case</td>\n",
              "      <td>35</td>\n",
              "      <td>350.005</td>\n",
              "    </tr>\n",
              "    <tr>\n",
              "      <th>1198</th>\n",
              "      <td>D-Link DGS-1100-16 Gigabit Smart Switch 16 ports</td>\n",
              "      <td>123.99</td>\n",
              "      <td>1.099.902</td>\n",
              "    </tr>\n",
              "    <tr>\n",
              "      <th>18781</th>\n",
              "      <td>Open - Apple MacBook Pro Retina 15 \"i7 25 Ghz | RAM 16GB | 512GB Flash</td>\n",
              "      <td>2609</td>\n",
              "      <td>23.227.444</td>\n",
              "    </tr>\n",
              "    <tr>\n",
              "      <th>11910</th>\n",
              "      <td>MIXIT Belkin USB wall charger 24A Metallic Silver</td>\n",
              "      <td>19.99</td>\n",
              "      <td>179.903</td>\n",
              "    </tr>\n",
              "  </tbody>\n",
              "</table>\n",
              "</div>\n",
              "      <button class=\"colab-df-convert\" onclick=\"convertToInteractive('df-4f29bade-a6c1-4ffc-9955-e9c35b798037')\"\n",
              "              title=\"Convert this dataframe to an interactive table.\"\n",
              "              style=\"display:none;\">\n",
              "        \n",
              "  <svg xmlns=\"http://www.w3.org/2000/svg\" height=\"24px\"viewBox=\"0 0 24 24\"\n",
              "       width=\"24px\">\n",
              "    <path d=\"M0 0h24v24H0V0z\" fill=\"none\"/>\n",
              "    <path d=\"M18.56 5.44l.94 2.06.94-2.06 2.06-.94-2.06-.94-.94-2.06-.94 2.06-2.06.94zm-11 1L8.5 8.5l.94-2.06 2.06-.94-2.06-.94L8.5 2.5l-.94 2.06-2.06.94zm10 10l.94 2.06.94-2.06 2.06-.94-2.06-.94-.94-2.06-.94 2.06-2.06.94z\"/><path d=\"M17.41 7.96l-1.37-1.37c-.4-.4-.92-.59-1.43-.59-.52 0-1.04.2-1.43.59L10.3 9.45l-7.72 7.72c-.78.78-.78 2.05 0 2.83L4 21.41c.39.39.9.59 1.41.59.51 0 1.02-.2 1.41-.59l7.78-7.78 2.81-2.81c.8-.78.8-2.07 0-2.86zM5.41 20L4 18.59l7.72-7.72 1.47 1.35L5.41 20z\"/>\n",
              "  </svg>\n",
              "      </button>\n",
              "      \n",
              "  <style>\n",
              "    .colab-df-container {\n",
              "      display:flex;\n",
              "      flex-wrap:wrap;\n",
              "      gap: 12px;\n",
              "    }\n",
              "\n",
              "    .colab-df-convert {\n",
              "      background-color: #E8F0FE;\n",
              "      border: none;\n",
              "      border-radius: 50%;\n",
              "      cursor: pointer;\n",
              "      display: none;\n",
              "      fill: #1967D2;\n",
              "      height: 32px;\n",
              "      padding: 0 0 0 0;\n",
              "      width: 32px;\n",
              "    }\n",
              "\n",
              "    .colab-df-convert:hover {\n",
              "      background-color: #E2EBFA;\n",
              "      box-shadow: 0px 1px 2px rgba(60, 64, 67, 0.3), 0px 1px 3px 1px rgba(60, 64, 67, 0.15);\n",
              "      fill: #174EA6;\n",
              "    }\n",
              "\n",
              "    [theme=dark] .colab-df-convert {\n",
              "      background-color: #3B4455;\n",
              "      fill: #D2E3FC;\n",
              "    }\n",
              "\n",
              "    [theme=dark] .colab-df-convert:hover {\n",
              "      background-color: #434B5C;\n",
              "      box-shadow: 0px 1px 3px 1px rgba(0, 0, 0, 0.15);\n",
              "      filter: drop-shadow(0px 1px 2px rgba(0, 0, 0, 0.3));\n",
              "      fill: #FFFFFF;\n",
              "    }\n",
              "  </style>\n",
              "\n",
              "      <script>\n",
              "        const buttonEl =\n",
              "          document.querySelector('#df-4f29bade-a6c1-4ffc-9955-e9c35b798037 button.colab-df-convert');\n",
              "        buttonEl.style.display =\n",
              "          google.colab.kernel.accessAllowed ? 'block' : 'none';\n",
              "\n",
              "        async function convertToInteractive(key) {\n",
              "          const element = document.querySelector('#df-4f29bade-a6c1-4ffc-9955-e9c35b798037');\n",
              "          const dataTable =\n",
              "            await google.colab.kernel.invokeFunction('convertToInteractive',\n",
              "                                                     [key], {});\n",
              "          if (!dataTable) return;\n",
              "\n",
              "          const docLinkHtml = 'Like what you see? Visit the ' +\n",
              "            '<a target=\"_blank\" href=https://colab.research.google.com/notebooks/data_table.ipynb>data table notebook</a>'\n",
              "            + ' to learn more about interactive tables.';\n",
              "          element.innerHTML = '';\n",
              "          dataTable['output_type'] = 'display_data';\n",
              "          await google.colab.output.renderOutput(dataTable, element);\n",
              "          const docLink = document.createElement('div');\n",
              "          docLink.innerHTML = docLinkHtml;\n",
              "          element.appendChild(docLink);\n",
              "        }\n",
              "      </script>\n",
              "    </div>\n",
              "  </div>\n",
              "  "
            ]
          },
          "metadata": {},
          "execution_count": 114
        }
      ]
    },
    {
      "cell_type": "code",
      "source": [
        "products_1sp[products_1sp.price == products_1sp.promo_price].info()"
      ],
      "metadata": {
        "colab": {
          "base_uri": "https://localhost:8080/"
        },
        "id": "Z25UaGx012bD",
        "outputId": "6b85339b-97b2-4000-a22b-efa24ae431a7"
      },
      "execution_count": 115,
      "outputs": [
        {
          "output_type": "stream",
          "name": "stdout",
          "text": [
            "<class 'pandas.core.frame.DataFrame'>\n",
            "Int64Index: 204 entries, 60 to 19306\n",
            "Data columns (total 7 columns):\n",
            " #   Column       Non-Null Count  Dtype \n",
            "---  ------       --------------  ----- \n",
            " 0   sku          204 non-null    object\n",
            " 1   name         204 non-null    object\n",
            " 2   desc         203 non-null    object\n",
            " 3   price        204 non-null    object\n",
            " 4   promo_price  204 non-null    object\n",
            " 5   in_stock     204 non-null    int64 \n",
            " 6   type         200 non-null    object\n",
            "dtypes: int64(1), object(6)\n",
            "memory usage: 12.8+ KB\n"
          ]
        }
      ]
    },
    {
      "cell_type": "code",
      "source": [
        "products_1sp[products_1sp.price.str.count('.') != products_1sp.promo_price.str.count('.')].sample(5)"
      ],
      "metadata": {
        "colab": {
          "base_uri": "https://localhost:8080/",
          "height": 206
        },
        "id": "ky3F87A024MR",
        "outputId": "40684ac2-6f99-4847-8aac-19367a7a0f27"
      },
      "execution_count": 116,
      "outputs": [
        {
          "output_type": "execute_result",
          "data": {
            "text/plain": [
              "             sku  \\\n",
              "13135    APP1628   \n",
              "11032    PAC1391   \n",
              "19097  SXA0026-A   \n",
              "12639    SPE0176   \n",
              "10981    JMO0082   \n",
              "\n",
              "                                                                          name  \\\n",
              "13135                   Smart Apple iPad Keyboard Case with Keyboard Pro 9.7 \"   \n",
              "11032                     Pack QNAP TS-451 + | 2GB RAM + 32TB Seagate IronWolf   \n",
              "19097  Open - SecurityXtra One adjustable desk Security Support iPad Black Pro   \n",
              "12639                   Speck SeeThru Case Macbook Pro Retina 15 \"Blue Calypso   \n",
              "10981                   Just Mobile Tenc Case iPhone 6 / 6S Plus Crystal Clear   \n",
              "\n",
              "                                                                                                           desc  \\\n",
              "13135                             Cover with keyboard shortcuts and Spanish (direct connection) for iPad Pro 97   \n",
              "11032  Pack QNAP TS-451 + with 2GB of RAM memory + 32TB (4x8TB) NAS IronWolf Seagate Hard Drive for Mac and PC.   \n",
              "19097                                            Reconditioned support desk with adjustable fastenings iPad Pro   \n",
              "12639                                                            Protective Case for MacBook Pro 15-inch Retina   \n",
              "10981                                               Polycarbonate shell with self-Heald for iPhone 6 / 6S Plus.   \n",
              "\n",
              "         price promo_price  in_stock      type  \n",
              "13135      169   1.580.006         0      5403  \n",
              "11032  1918.95  13.543.675         1  12175397  \n",
              "19097      210   1.436.844         0      1216  \n",
              "12639     49.9     369.897         0  13835403  \n",
              "10981    29.99     199.892         0  11865403  "
            ],
            "text/html": [
              "\n",
              "  <div id=\"df-a12d9e3d-a330-4c5b-8d14-9e1dc408092d\">\n",
              "    <div class=\"colab-df-container\">\n",
              "      <div>\n",
              "<style scoped>\n",
              "    .dataframe tbody tr th:only-of-type {\n",
              "        vertical-align: middle;\n",
              "    }\n",
              "\n",
              "    .dataframe tbody tr th {\n",
              "        vertical-align: top;\n",
              "    }\n",
              "\n",
              "    .dataframe thead th {\n",
              "        text-align: right;\n",
              "    }\n",
              "</style>\n",
              "<table border=\"1\" class=\"dataframe\">\n",
              "  <thead>\n",
              "    <tr style=\"text-align: right;\">\n",
              "      <th></th>\n",
              "      <th>sku</th>\n",
              "      <th>name</th>\n",
              "      <th>desc</th>\n",
              "      <th>price</th>\n",
              "      <th>promo_price</th>\n",
              "      <th>in_stock</th>\n",
              "      <th>type</th>\n",
              "    </tr>\n",
              "  </thead>\n",
              "  <tbody>\n",
              "    <tr>\n",
              "      <th>13135</th>\n",
              "      <td>APP1628</td>\n",
              "      <td>Smart Apple iPad Keyboard Case with Keyboard Pro 9.7 \"</td>\n",
              "      <td>Cover with keyboard shortcuts and Spanish (direct connection) for iPad Pro 97</td>\n",
              "      <td>169</td>\n",
              "      <td>1.580.006</td>\n",
              "      <td>0</td>\n",
              "      <td>5403</td>\n",
              "    </tr>\n",
              "    <tr>\n",
              "      <th>11032</th>\n",
              "      <td>PAC1391</td>\n",
              "      <td>Pack QNAP TS-451 + | 2GB RAM + 32TB Seagate IronWolf</td>\n",
              "      <td>Pack QNAP TS-451 + with 2GB of RAM memory + 32TB (4x8TB) NAS IronWolf Seagate Hard Drive for Mac and PC.</td>\n",
              "      <td>1918.95</td>\n",
              "      <td>13.543.675</td>\n",
              "      <td>1</td>\n",
              "      <td>12175397</td>\n",
              "    </tr>\n",
              "    <tr>\n",
              "      <th>19097</th>\n",
              "      <td>SXA0026-A</td>\n",
              "      <td>Open - SecurityXtra One adjustable desk Security Support iPad Black Pro</td>\n",
              "      <td>Reconditioned support desk with adjustable fastenings iPad Pro</td>\n",
              "      <td>210</td>\n",
              "      <td>1.436.844</td>\n",
              "      <td>0</td>\n",
              "      <td>1216</td>\n",
              "    </tr>\n",
              "    <tr>\n",
              "      <th>12639</th>\n",
              "      <td>SPE0176</td>\n",
              "      <td>Speck SeeThru Case Macbook Pro Retina 15 \"Blue Calypso</td>\n",
              "      <td>Protective Case for MacBook Pro 15-inch Retina</td>\n",
              "      <td>49.9</td>\n",
              "      <td>369.897</td>\n",
              "      <td>0</td>\n",
              "      <td>13835403</td>\n",
              "    </tr>\n",
              "    <tr>\n",
              "      <th>10981</th>\n",
              "      <td>JMO0082</td>\n",
              "      <td>Just Mobile Tenc Case iPhone 6 / 6S Plus Crystal Clear</td>\n",
              "      <td>Polycarbonate shell with self-Heald for iPhone 6 / 6S Plus.</td>\n",
              "      <td>29.99</td>\n",
              "      <td>199.892</td>\n",
              "      <td>0</td>\n",
              "      <td>11865403</td>\n",
              "    </tr>\n",
              "  </tbody>\n",
              "</table>\n",
              "</div>\n",
              "      <button class=\"colab-df-convert\" onclick=\"convertToInteractive('df-a12d9e3d-a330-4c5b-8d14-9e1dc408092d')\"\n",
              "              title=\"Convert this dataframe to an interactive table.\"\n",
              "              style=\"display:none;\">\n",
              "        \n",
              "  <svg xmlns=\"http://www.w3.org/2000/svg\" height=\"24px\"viewBox=\"0 0 24 24\"\n",
              "       width=\"24px\">\n",
              "    <path d=\"M0 0h24v24H0V0z\" fill=\"none\"/>\n",
              "    <path d=\"M18.56 5.44l.94 2.06.94-2.06 2.06-.94-2.06-.94-.94-2.06-.94 2.06-2.06.94zm-11 1L8.5 8.5l.94-2.06 2.06-.94-2.06-.94L8.5 2.5l-.94 2.06-2.06.94zm10 10l.94 2.06.94-2.06 2.06-.94-2.06-.94-.94-2.06-.94 2.06-2.06.94z\"/><path d=\"M17.41 7.96l-1.37-1.37c-.4-.4-.92-.59-1.43-.59-.52 0-1.04.2-1.43.59L10.3 9.45l-7.72 7.72c-.78.78-.78 2.05 0 2.83L4 21.41c.39.39.9.59 1.41.59.51 0 1.02-.2 1.41-.59l7.78-7.78 2.81-2.81c.8-.78.8-2.07 0-2.86zM5.41 20L4 18.59l7.72-7.72 1.47 1.35L5.41 20z\"/>\n",
              "  </svg>\n",
              "      </button>\n",
              "      \n",
              "  <style>\n",
              "    .colab-df-container {\n",
              "      display:flex;\n",
              "      flex-wrap:wrap;\n",
              "      gap: 12px;\n",
              "    }\n",
              "\n",
              "    .colab-df-convert {\n",
              "      background-color: #E8F0FE;\n",
              "      border: none;\n",
              "      border-radius: 50%;\n",
              "      cursor: pointer;\n",
              "      display: none;\n",
              "      fill: #1967D2;\n",
              "      height: 32px;\n",
              "      padding: 0 0 0 0;\n",
              "      width: 32px;\n",
              "    }\n",
              "\n",
              "    .colab-df-convert:hover {\n",
              "      background-color: #E2EBFA;\n",
              "      box-shadow: 0px 1px 2px rgba(60, 64, 67, 0.3), 0px 1px 3px 1px rgba(60, 64, 67, 0.15);\n",
              "      fill: #174EA6;\n",
              "    }\n",
              "\n",
              "    [theme=dark] .colab-df-convert {\n",
              "      background-color: #3B4455;\n",
              "      fill: #D2E3FC;\n",
              "    }\n",
              "\n",
              "    [theme=dark] .colab-df-convert:hover {\n",
              "      background-color: #434B5C;\n",
              "      box-shadow: 0px 1px 3px 1px rgba(0, 0, 0, 0.15);\n",
              "      filter: drop-shadow(0px 1px 2px rgba(0, 0, 0, 0.3));\n",
              "      fill: #FFFFFF;\n",
              "    }\n",
              "  </style>\n",
              "\n",
              "      <script>\n",
              "        const buttonEl =\n",
              "          document.querySelector('#df-a12d9e3d-a330-4c5b-8d14-9e1dc408092d button.colab-df-convert');\n",
              "        buttonEl.style.display =\n",
              "          google.colab.kernel.accessAllowed ? 'block' : 'none';\n",
              "\n",
              "        async function convertToInteractive(key) {\n",
              "          const element = document.querySelector('#df-a12d9e3d-a330-4c5b-8d14-9e1dc408092d');\n",
              "          const dataTable =\n",
              "            await google.colab.kernel.invokeFunction('convertToInteractive',\n",
              "                                                     [key], {});\n",
              "          if (!dataTable) return;\n",
              "\n",
              "          const docLinkHtml = 'Like what you see? Visit the ' +\n",
              "            '<a target=\"_blank\" href=https://colab.research.google.com/notebooks/data_table.ipynb>data table notebook</a>'\n",
              "            + ' to learn more about interactive tables.';\n",
              "          element.innerHTML = '';\n",
              "          dataTable['output_type'] = 'display_data';\n",
              "          await google.colab.output.renderOutput(dataTable, element);\n",
              "          const docLink = document.createElement('div');\n",
              "          docLink.innerHTML = docLinkHtml;\n",
              "          element.appendChild(docLink);\n",
              "        }\n",
              "      </script>\n",
              "    </div>\n",
              "  </div>\n",
              "  "
            ]
          },
          "metadata": {},
          "execution_count": 116
        }
      ]
    },
    {
      "cell_type": "code",
      "source": [
        "# Investigate the cases\n",
        "(\n",
        "#CASE 1\n",
        "    (products_1sp.price.notna() & \n",
        "     products_1sp.price.str.match(r'^\\d{1,3}\\.\\d{3}\\.\\d{3}$'))\n",
        "     .value_counts(normalize=True)\n",
        "#CASE 2\n",
        "   ,(products_1sp.price.notna() & \n",
        "      products_1sp.price.str.match(r'^\\d{3}\\.\\d{3}$'))\n",
        "     .value_counts(normalize=True)\n",
        "#CASE 3\n",
        "   ,(products_1sp.price.notna() & \n",
        "      products_1sp.price.str.match(r'^\\d{1,4}\\.\\d{1,3}$'))  \n",
        "     .value_counts(normalize=True)\n",
        "#CASE 4\n",
        "   ,(products_1sp.price.notna() & \n",
        "      products_1sp.price.str.match(r'^\\d{1,5}$'))  \n",
        "     .value_counts(normalize=True)\n",
        "#Na\n",
        "   ,products_1sp.price.isna().value_counts(normalize=True)\n",
        ")\n",
        "\n",
        "# code too function"
      ],
      "metadata": {
        "colab": {
          "base_uri": "https://localhost:8080/"
        },
        "id": "hDXRjGiGduAy",
        "outputId": "156bd719-3f51-4b85-cd56-d4cfdaad96a3"
      },
      "execution_count": 117,
      "outputs": [
        {
          "output_type": "execute_result",
          "data": {
            "text/plain": [
              "(False   0.96\n",
              " True    0.04\n",
              " Name: price, dtype: float64,\n",
              " False   0.99\n",
              " True    0.01\n",
              " Name: price, dtype: float64,\n",
              " True    0.66\n",
              " False   0.34\n",
              " Name: price, dtype: float64,\n",
              " False   0.70\n",
              " True    0.30\n",
              " Name: price, dtype: float64,\n",
              " False   1.00\n",
              " True    0.00\n",
              " Name: price, dtype: float64)"
            ]
          },
          "metadata": {},
          "execution_count": 117
        }
      ]
    },
    {
      "cell_type": "code",
      "source": [
        "analyze_prices(products_1sp, \"price\")"
      ],
      "metadata": {
        "colab": {
          "base_uri": "https://localhost:8080/"
        },
        "id": "JFUY_jLRyDIa",
        "outputId": "c0896b80-b627-4e87-ef97-d807657e0491"
      },
      "execution_count": 118,
      "outputs": [
        {
          "output_type": "stream",
          "name": "stdout",
          "text": [
            "CASE 1: \\d{1,3}\\.\\d{3}\\.\\d{3}\n",
            "False   0.96\n",
            "True    0.04\n",
            "Name: price, dtype: float64\n",
            "CASE 2: \\d{3}\\.\\d{3}\n",
            "False   0.99\n",
            "True    0.01\n",
            "Name: price, dtype: float64\n",
            "CASE 3: \\d{1,4}\\.\\d{1,3}\n",
            "True    0.66\n",
            "False   0.34\n",
            "Name: price, dtype: float64\n",
            "CASE 4: \\d{1,5}\n",
            "False   0.70\n",
            "True    0.30\n",
            "Name: price, dtype: float64\n",
            "CASE Na\n",
            "False   1.00\n",
            "True    0.00\n",
            "Name: price, dtype: float64\n"
          ]
        }
      ]
    },
    {
      "cell_type": "markdown",
      "source": [
        "#### **Clean by cases**\n",
        "\n",
        "The columns `price` and `prome_price` seem to have multiple mistakes. \n",
        "\n",
        "* The range of \".\" count is 0-2.\n",
        "* The range of digits in a nummer 1-11.\n",
        "\n",
        "```\n",
        "CASE 1\n",
        "- 352.559.394 (10)   >  remove \".\" , float / 10000\n",
        "-  12.808.289 (138)  >  remove \".\" , float / 10000\n",
        "-   6.999.003 (229)  >  remove \".\" , float / 10000\n",
        "\t\n",
        "r'^\\d{1,3}\\.\\d{3}\\.\\d{3}$'\n",
        "\n",
        "CASE 2\t\n",
        "-     164.923 (139) > float / 10 \n",
        "\n",
        "r'^\\d{3}\\.\\d{3}$'\n",
        "\n",
        "CASE 3\n",
        "-      91.989 (23)  > float\n",
        "-       9.082 (3)   > float\n",
        "\n",
        "-     679.99 > float\n",
        "-      79.99 > float\n",
        "-       9.99 > float\n",
        " \n",
        "-    2117.5 (35) > float\n",
        "-     119.9 (113)> float \n",
        "-      19.9 (347)> float\n",
        "-       9.9 (11) > float \n",
        "       sum: 6941\n",
        "\n",
        "r'^\\d{1,4}\\.\\d{1,3}$'\n",
        "\n",
        "CASE 4\n",
        "- 11019 (42)   > float\n",
        "-  2859 (1132) > float\n",
        "-   209 (1112) > float\n",
        "-    35        > float\n",
        "-     9        > float \n",
        "     sum:3215\n",
        "\n",
        "r'^\\d{1,5}$'\n",
        "\n",
        "```\n"
      ],
      "metadata": {
        "id": "_IlpsFSrDm82"
      }
    },
    {
      "cell_type": "markdown",
      "source": [
        "##### CASE 4 and CASE 3"
      ],
      "metadata": {
        "id": "9b45CN6Kc26T"
      }
    },
    {
      "cell_type": "code",
      "source": [
        "(\n",
        "    products_1sp.loc[products_1sp.price.notna() &\n",
        "                     (products_1sp.price.str.match(r'^\\d{1,4}\\.\\d{1,3}$') | \n",
        "                      products_1sp.price.str.match(r'^\\d{1,5}$'))][\"price\"]\n",
        "                                        .astype(float)\n",
        "    .combine_first(products_1sp.loc[products_1sp.price.notna() &\n",
        "                                    products_1sp.price.str.match(r'^\\d{3}\\.\\d{3}$')][\"price\"]\n",
        "                                                          .astype(float) / 10)\n",
        ")"
      ],
      "metadata": {
        "colab": {
          "base_uri": "https://localhost:8080/"
        },
        "id": "n-5FPNtcDhVK",
        "outputId": "902735c2-2226-49f5-8ae8-35916961a618"
      },
      "execution_count": 119,
      "outputs": [
        {
          "output_type": "execute_result",
          "data": {
            "text/plain": [
              "0       59.99\n",
              "1       59.00\n",
              "2       59.00\n",
              "3       25.00\n",
              "4       34.99\n",
              "         ... \n",
              "19321   29.99\n",
              "19322   69.95\n",
              "19323   69.95\n",
              "19324   69.95\n",
              "19325   69.95\n",
              "Name: price, Length: 10156, dtype: float64"
            ]
          },
          "metadata": {},
          "execution_count": 119
        }
      ]
    },
    {
      "cell_type": "markdown",
      "source": [
        "##### CASE 2"
      ],
      "metadata": {
        "id": "aZPBJBWcdg7O"
      }
    },
    {
      "cell_type": "code",
      "source": [
        "(\n",
        "products_1sp[products_1sp.price.notna() &\n",
        "             products_1sp.price.str.match(r'^\\d{3}\\.\\d{3}$')].price.sample(10)\n",
        "                                                              .astype(float)/10\n",
        ")"
      ],
      "metadata": {
        "colab": {
          "base_uri": "https://localhost:8080/"
        },
        "id": "W_J9L0ntddK8",
        "outputId": "9158add5-61a6-4c29-eb06-cdb7e1c640eb"
      },
      "execution_count": 120,
      "outputs": [
        {
          "output_type": "execute_result",
          "data": {
            "text/plain": [
              "12747   89.99\n",
              "14945   34.99\n",
              "15377   59.99\n",
              "15344   59.99\n",
              "19162   59.99\n",
              "15502   79.99\n",
              "15486   39.99\n",
              "12127   49.99\n",
              "18939   11.00\n",
              "15328   59.99\n",
              "Name: price, dtype: float64"
            ]
          },
          "metadata": {},
          "execution_count": 120
        }
      ]
    },
    {
      "cell_type": "markdown",
      "source": [
        "##### CASE 1"
      ],
      "metadata": {
        "id": "I3ltvJ_MelVK"
      }
    },
    {
      "cell_type": "code",
      "source": [
        "(\n",
        "products_1sp[products_1sp.price.notna() &\n",
        "             products_1sp.price.str.match(r'^\\d{1,3}\\.\\d{3}\\.\\d{3}$')]\n",
        "                         .price.str.replace(\".\",\"\", regex=False)\n",
        "                         .astype(float)/100000\n",
        ").copy()   \n",
        "\n",
        "(\n",
        "products_1sp.isna().sum()\n",
        ",products_1sp[[\"desc\",\"price\",\"type\"]].isna().value_counts(normalize=True)\n",
        ")"
      ],
      "metadata": {
        "colab": {
          "base_uri": "https://localhost:8080/"
        },
        "id": "nbH9vxo1elcZ",
        "outputId": "e9e005f9-a916-411e-93aa-2832f798f88c"
      },
      "execution_count": 121,
      "outputs": [
        {
          "output_type": "execute_result",
          "data": {
            "text/plain": [
              "(sku             0\n",
              " name            0\n",
              " desc            7\n",
              " price          46\n",
              " promo_price     0\n",
              " in_stock        0\n",
              " type           50\n",
              " dtype: int64,\n",
              " desc   price  type \n",
              " False  False  False   0.99\n",
              "               True    0.00\n",
              "        True   False   0.00\n",
              " True   False  False   0.00\n",
              " dtype: float64)"
            ]
          },
          "metadata": {},
          "execution_count": 121
        }
      ]
    },
    {
      "cell_type": "markdown",
      "source": [
        "##### Apply all Cases"
      ],
      "metadata": {
        "id": "NiTW7evxHYGw"
      }
    },
    {
      "cell_type": "code",
      "source": [
        "products_1sp[\"cl_price\"] = (\n",
        "products_1sp[products_1sp.price.notna() &\n",
        "             products_1sp.price.str.match(r'^\\d{1,4}\\.\\d{1,3}$')| \n",
        "             products_1sp.price.str.match(r'^\\d{1,5}$')]\n",
        "                         .price.astype(float)\n",
        ".combine_first(products_1sp[products_1sp.price.notna() &\n",
        "               products_1sp.price.str.match(r'^\\d{3}\\.\\d{3}$')]\n",
        "                           .price.astype(float)/10)\n",
        ".combine_first(products_1sp[products_1sp.price.notna() &\n",
        "             products_1sp.price.str.match(r'^\\d{1,3}\\.\\d{3}\\.\\d{3}$')]\n",
        "                         .price.str.replace(\".\",\"\", regex=False)\n",
        "                         .astype(float)/100000)\n",
        ")\n",
        "# As functions "
      ],
      "metadata": {
        "id": "ZaT1r_Bgudz6"
      },
      "execution_count": 122,
      "outputs": []
    },
    {
      "cell_type": "code",
      "source": [
        "products_2sp = transform(products_1sp,'price','cl_price').dropna().copy()\n",
        "\n",
        "(\n",
        "products_2sp.cl_price.describe()\n",
        ",products_2sp[products_2sp.cl_price < 1000].boxplot('cl_price')\n",
        ")"
      ],
      "metadata": {
        "colab": {
          "base_uri": "https://localhost:8080/",
          "height": 608
        },
        "id": "za6wOSTc1VZ2",
        "outputId": "16f56190-eed6-40ac-a0d8-2e5e44b8e15b"
      },
      "execution_count": 123,
      "outputs": [
        {
          "output_type": "execute_result",
          "data": {
            "text/plain": [
              "(count   10476.00\n",
              " mean      646.07\n",
              " std      1336.52\n",
              " min         2.99\n",
              " 25%        44.95\n",
              " 50%       109.99\n",
              " 75%       601.32\n",
              " max     15339.00\n",
              " Name: cl_price, dtype: float64,\n",
              " <Axes: >)"
            ]
          },
          "metadata": {},
          "execution_count": 123
        },
        {
          "output_type": "display_data",
          "data": {
            "text/plain": [
              "<Figure size 640x480 with 1 Axes>"
            ],
            "image/png": "[encoded data removed]"
          },
          "metadata": {}
        }
      ]
    },
    {
      "cell_type": "markdown",
      "source": [
        "####`promo_price`"
      ],
      "metadata": {
        "id": "KT_eH0xZtTLx"
      }
    },
    {
      "cell_type": "code",
      "source": [
        "products_2sp.promo_price"
      ],
      "metadata": {
        "colab": {
          "base_uri": "https://localhost:8080/"
        },
        "id": "h2TD73MyZjV_",
        "outputId": "1a4eb540-c776-46ea-dbd6-341d1696eeac"
      },
      "execution_count": 124,
      "outputs": [
        {
          "output_type": "execute_result",
          "data": {
            "text/plain": [
              "0        499.899\n",
              "1        589.996\n",
              "2        569.898\n",
              "3        229.997\n",
              "4          31.99\n",
              "          ...   \n",
              "19321    269.903\n",
              "19322    649.903\n",
              "19323    649.903\n",
              "19324    649.903\n",
              "19325    649.903\n",
              "Name: promo_price, Length: 10476, dtype: object"
            ]
          },
          "metadata": {},
          "execution_count": 124
        }
      ]
    },
    {
      "cell_type": "code",
      "source": [
        "# Investigate the cases\n",
        "analyze_prices(products_1sp, \"promo_price\")"
      ],
      "metadata": {
        "colab": {
          "base_uri": "https://localhost:8080/"
        },
        "id": "ELny8gJQbXax",
        "outputId": "09c5136d-2005-426e-e99e-fbfce33281ca"
      },
      "execution_count": 125,
      "outputs": [
        {
          "output_type": "stream",
          "name": "stdout",
          "text": [
            "CASE 1: \\d{1,3}\\.\\d{3}\\.\\d{3}\n",
            "False   0.57\n",
            "True    0.43\n",
            "Name: promo_price, dtype: float64\n",
            "CASE 2: \\d{3}\\.\\d{3}\n",
            "False   0.56\n",
            "True    0.44\n",
            "Name: promo_price, dtype: float64\n",
            "CASE 3: \\d{1,4}\\.\\d{1,3}\n",
            "True    0.55\n",
            "False   0.45\n",
            "Name: promo_price, dtype: float64\n",
            "CASE 4: \\d{1,5}\n",
            "False   0.99\n",
            "True    0.01\n",
            "Name: promo_price, dtype: float64\n",
            "CASE Na\n",
            "False   1.00\n",
            "Name: promo_price, dtype: float64\n"
          ]
        }
      ]
    },
    {
      "cell_type": "markdown",
      "source": [
        "Compare `price` to `promo_price` - is seemingly corrupted.\n",
        "* 43% with X.xxx.xxx  \n",
        "* 44% with xxx.xxx "
      ],
      "metadata": {
        "id": "Zp3iqpr2y7QN"
      }
    },
    {
      "cell_type": "code",
      "source": [
        "#Only testing the function\n",
        "products_2sp = transform(products_1sp,'promo_price','cl_promo_price').dropna().copy()\n",
        "\n",
        "(\n",
        "products_2sp.cl_promo_price.describe()\n",
        ",products_2sp[products_2sp.cl_promo_price > 1].boxplot('cl_promo_price')\n",
        ")"
      ],
      "metadata": {
        "colab": {
          "base_uri": "https://localhost:8080/",
          "height": 608
        },
        "id": "w2fvFbMf0xnh",
        "outputId": "f13eec95-fea1-45d2-d629-f5108dd49ccd"
      },
      "execution_count": 126,
      "outputs": [
        {
          "output_type": "execute_result",
          "data": {
            "text/plain": [
              "(count   10476.00\n",
              " mean      255.55\n",
              " std       299.21\n",
              " min         2.31\n",
              " 25%        49.89\n",
              " 50%       169.90\n",
              " 75%       369.90\n",
              " max      9841.99\n",
              " Name: cl_promo_price, dtype: float64,\n",
              " <Axes: >)"
            ]
          },
          "metadata": {},
          "execution_count": 126
        },
        {
          "output_type": "display_data",
          "data": {
            "text/plain": [
              "<Figure size 640x480 with 1 Axes>"
            ],
            "image/png": "[encoded data removed]"
          },
          "metadata": {}
        }
      ]
    },
    {
      "cell_type": "markdown",
      "source": [
        "####**`sku`**"
      ],
      "metadata": {
        "id": "9iNMeEAB646C"
      }
    },
    {
      "cell_type": "code",
      "source": [
        "products_2sp.sku"
      ],
      "metadata": {
        "colab": {
          "base_uri": "https://localhost:8080/"
        },
        "id": "QYolYTPasI4V",
        "outputId": "7acbbeba-95a9-455e-98c2-6f0e34e9dec3"
      },
      "execution_count": 127,
      "outputs": [
        {
          "output_type": "execute_result",
          "data": {
            "text/plain": [
              "0        RAI0007\n",
              "1        APP0023\n",
              "2        APP0025\n",
              "3        APP0072\n",
              "4        KIN0007\n",
              "          ...   \n",
              "19321    BEL0376\n",
              "19322    THU0060\n",
              "19323    THU0061\n",
              "19324    THU0062\n",
              "19325    THU0063\n",
              "Name: sku, Length: 10476, dtype: object"
            ]
          },
          "metadata": {},
          "execution_count": 127
        }
      ]
    },
    {
      "cell_type": "code",
      "source": [
        "len(products_2sp.sku.unique())"
      ],
      "metadata": {
        "colab": {
          "base_uri": "https://localhost:8080/"
        },
        "id": "WhFrMK-VeSFb",
        "outputId": "9b10e303-a33d-4324-b65a-10f30a752a96"
      },
      "execution_count": 128,
      "outputs": [
        {
          "output_type": "execute_result",
          "data": {
            "text/plain": [
              "10476"
            ]
          },
          "metadata": {},
          "execution_count": 128
        }
      ]
    },
    {
      "cell_type": "code",
      "source": [
        "products_2sp[products_1sp.sku.str.slice(0,3) == \"REP\"].sort_values(by=\"desc\").sample(2)"
      ],
      "metadata": {
        "colab": {
          "base_uri": "https://localhost:8080/",
          "height": 147
        },
        "id": "oBBCmpwG6-UO",
        "outputId": "fa4dc01e-9ab6-417e-ead5-0599d40a728c"
      },
      "execution_count": 129,
      "outputs": [
        {
          "output_type": "stream",
          "name": "stderr",
          "text": [
            "<ipython-input-129-0d7eca000b8f>:1: UserWarning: Boolean Series key will be reindexed to match DataFrame index.\n",
            "  products_2sp[products_1sp.sku.str.slice(0,3) == \"REP\"].sort_values(by=\"desc\").sample(2)\n"
          ]
        },
        {
          "output_type": "execute_result",
          "data": {
            "text/plain": [
              "           sku                              name  \\\n",
              "15389  REP0297         Full screen iPhone repair   \n",
              "19307  REP0418  iPhone charging connector repair   \n",
              "\n",
              "                                                      desc  price promo_price  \\\n",
              "15389  Repair service including parts and labor for iPhone  59.99       59.99   \n",
              "19307  Repair service including parts and labor for iPhone  49.99     499.899   \n",
              "\n",
              "       in_stock      type  cl_price  cl_promo_price  \n",
              "15389         0  1,44E+11     59.99           59.99  \n",
              "19307         0  1,44E+11     49.99          499.90  "
            ],
            "text/html": [
              "\n",
              "  <div id=\"df-a4976028-0285-4952-b59c-04aeaf14b9a8\">\n",
              "    <div class=\"colab-df-container\">\n",
              "      <div>\n",
              "<style scoped>\n",
              "    .dataframe tbody tr th:only-of-type {\n",
              "        vertical-align: middle;\n",
              "    }\n",
              "\n",
              "    .dataframe tbody tr th {\n",
              "        vertical-align: top;\n",
              "    }\n",
              "\n",
              "    .dataframe thead th {\n",
              "        text-align: right;\n",
              "    }\n",
              "</style>\n",
              "<table border=\"1\" class=\"dataframe\">\n",
              "  <thead>\n",
              "    <tr style=\"text-align: right;\">\n",
              "      <th></th>\n",
              "      <th>sku</th>\n",
              "      <th>name</th>\n",
              "      <th>desc</th>\n",
              "      <th>price</th>\n",
              "      <th>promo_price</th>\n",
              "      <th>in_stock</th>\n",
              "      <th>type</th>\n",
              "      <th>cl_price</th>\n",
              "      <th>cl_promo_price</th>\n",
              "    </tr>\n",
              "  </thead>\n",
              "  <tbody>\n",
              "    <tr>\n",
              "      <th>15389</th>\n",
              "      <td>REP0297</td>\n",
              "      <td>Full screen iPhone repair</td>\n",
              "      <td>Repair service including parts and labor for iPhone</td>\n",
              "      <td>59.99</td>\n",
              "      <td>59.99</td>\n",
              "      <td>0</td>\n",
              "      <td>1,44E+11</td>\n",
              "      <td>59.99</td>\n",
              "      <td>59.99</td>\n",
              "    </tr>\n",
              "    <tr>\n",
              "      <th>19307</th>\n",
              "      <td>REP0418</td>\n",
              "      <td>iPhone charging connector repair</td>\n",
              "      <td>Repair service including parts and labor for iPhone</td>\n",
              "      <td>49.99</td>\n",
              "      <td>499.899</td>\n",
              "      <td>0</td>\n",
              "      <td>1,44E+11</td>\n",
              "      <td>49.99</td>\n",
              "      <td>499.90</td>\n",
              "    </tr>\n",
              "  </tbody>\n",
              "</table>\n",
              "</div>\n",
              "      <button class=\"colab-df-convert\" onclick=\"convertToInteractive('df-a4976028-0285-4952-b59c-04aeaf14b9a8')\"\n",
              "              title=\"Convert this dataframe to an interactive table.\"\n",
              "              style=\"display:none;\">\n",
              "        \n",
              "  <svg xmlns=\"http://www.w3.org/2000/svg\" height=\"24px\"viewBox=\"0 0 24 24\"\n",
              "       width=\"24px\">\n",
              "    <path d=\"M0 0h24v24H0V0z\" fill=\"none\"/>\n",
              "    <path d=\"M18.56 5.44l.94 2.06.94-2.06 2.06-.94-2.06-.94-.94-2.06-.94 2.06-2.06.94zm-11 1L8.5 8.5l.94-2.06 2.06-.94-2.06-.94L8.5 2.5l-.94 2.06-2.06.94zm10 10l.94 2.06.94-2.06 2.06-.94-2.06-.94-.94-2.06-.94 2.06-2.06.94z\"/><path d=\"M17.41 7.96l-1.37-1.37c-.4-.4-.92-.59-1.43-.59-.52 0-1.04.2-1.43.59L10.3 9.45l-7.72 7.72c-.78.78-.78 2.05 0 2.83L4 21.41c.39.39.9.59 1.41.59.51 0 1.02-.2 1.41-.59l7.78-7.78 2.81-2.81c.8-.78.8-2.07 0-2.86zM5.41 20L4 18.59l7.72-7.72 1.47 1.35L5.41 20z\"/>\n",
              "  </svg>\n",
              "      </button>\n",
              "      \n",
              "  <style>\n",
              "    .colab-df-container {\n",
              "      display:flex;\n",
              "      flex-wrap:wrap;\n",
              "      gap: 12px;\n",
              "    }\n",
              "\n",
              "    .colab-df-convert {\n",
              "      background-color: #E8F0FE;\n",
              "      border: none;\n",
              "      border-radius: 50%;\n",
              "      cursor: pointer;\n",
              "      display: none;\n",
              "      fill: #1967D2;\n",
              "      height: 32px;\n",
              "      padding: 0 0 0 0;\n",
              "      width: 32px;\n",
              "    }\n",
              "\n",
              "    .colab-df-convert:hover {\n",
              "      background-color: #E2EBFA;\n",
              "      box-shadow: 0px 1px 2px rgba(60, 64, 67, 0.3), 0px 1px 3px 1px rgba(60, 64, 67, 0.15);\n",
              "      fill: #174EA6;\n",
              "    }\n",
              "\n",
              "    [theme=dark] .colab-df-convert {\n",
              "      background-color: #3B4455;\n",
              "      fill: #D2E3FC;\n",
              "    }\n",
              "\n",
              "    [theme=dark] .colab-df-convert:hover {\n",
              "      background-color: #434B5C;\n",
              "      box-shadow: 0px 1px 3px 1px rgba(0, 0, 0, 0.15);\n",
              "      filter: drop-shadow(0px 1px 2px rgba(0, 0, 0, 0.3));\n",
              "      fill: #FFFFFF;\n",
              "    }\n",
              "  </style>\n",
              "\n",
              "      <script>\n",
              "        const buttonEl =\n",
              "          document.querySelector('#df-a4976028-0285-4952-b59c-04aeaf14b9a8 button.colab-df-convert');\n",
              "        buttonEl.style.display =\n",
              "          google.colab.kernel.accessAllowed ? 'block' : 'none';\n",
              "\n",
              "        async function convertToInteractive(key) {\n",
              "          const element = document.querySelector('#df-a4976028-0285-4952-b59c-04aeaf14b9a8');\n",
              "          const dataTable =\n",
              "            await google.colab.kernel.invokeFunction('convertToInteractive',\n",
              "                                                     [key], {});\n",
              "          if (!dataTable) return;\n",
              "\n",
              "          const docLinkHtml = 'Like what you see? Visit the ' +\n",
              "            '<a target=\"_blank\" href=https://colab.research.google.com/notebooks/data_table.ipynb>data table notebook</a>'\n",
              "            + ' to learn more about interactive tables.';\n",
              "          element.innerHTML = '';\n",
              "          dataTable['output_type'] = 'display_data';\n",
              "          await google.colab.output.renderOutput(dataTable, element);\n",
              "          const docLink = document.createElement('div');\n",
              "          docLink.innerHTML = docLinkHtml;\n",
              "          element.appendChild(docLink);\n",
              "        }\n",
              "      </script>\n",
              "    </div>\n",
              "  </div>\n",
              "  "
            ]
          },
          "metadata": {},
          "execution_count": 129
        }
      ]
    },
    {
      "cell_type": "code",
      "source": [
        "products_2sp[\"brands\"] = products_2sp.sku.str.slice(0,3)\n",
        "\n",
        "products_3sp = (\n",
        "products_2sp.merge(\n",
        "    brands,\n",
        "    how=\"inner\", \n",
        "    left_on=\"brands\", \n",
        "    right_on=\"short\")\n",
        "[[\"sku\",\"long\", \"name\", \"desc\", \"price\", \"promo_price\",\"cl_price\",\"cl_promo_price\", \"type\",]]\n",
        ".copy()\n",
        ")"
      ],
      "metadata": {
        "id": "Z7qqORRx2Ybe"
      },
      "execution_count": 130,
      "outputs": []
    },
    {
      "cell_type": "markdown",
      "source": [
        "### Comparing, checking for differences"
      ],
      "metadata": {
        "id": "5Dq_WNmu18m1"
      }
    },
    {
      "cell_type": "code",
      "source": [
        "products_3sp['cl_deff'] = products_3sp.cl_price - products_3sp.cl_promo_price\n",
        "products_3sp['cl_deff_2'] = products_3sp.cl_promo_price/products_3sp.cl_price\n",
        "products_3sp[[\"price\", \"promo_price\",\"cl_price\",\"cl_promo_price\",\"cl_deff\",\"cl_deff_2\"]]\n",
        "\n",
        "\n",
        "products_3sp[products_3sp.cl_deff_2 > 1].cl_deff_2.hist(bins=100);"
      ],
      "metadata": {
        "colab": {
          "base_uri": "https://localhost:8080/",
          "height": 430
        },
        "id": "glTlylAY8oFb",
        "outputId": "50464cc0-c333-47f6-c7c8-2959c1c08d3a"
      },
      "execution_count": 131,
      "outputs": [
        {
          "output_type": "display_data",
          "data": {
            "text/plain": [
              "<Figure size 640x480 with 1 Axes>"
            ],
            "image/png": "[encoded data removed]"
          },
          "metadata": {}
        }
      ]
    },
    {
      "cell_type": "code",
      "source": [
        "#Drop columns\n",
        "#products_3sp = products_3sp.drop([\"price\",\"promo_price\",\"cl_deff\",'cl_deff_2'], axis=1)\n",
        "products_3sp = products_3sp.drop(['cl_promo_price'], axis=1)\n",
        "products_3sp.sample(5)"
      ],
      "metadata": {
        "id": "cA19bG5Hjqqg",
        "colab": {
          "base_uri": "https://localhost:8080/",
          "height": 206
        },
        "outputId": "5d93aac2-9913-4d8b-ad21-18e384bb6778"
      },
      "execution_count": 132,
      "outputs": [
        {
          "output_type": "execute_result",
          "data": {
            "text/plain": [
              "          sku        long  \\\n",
              "7939  OLL0021    Olloclip   \n",
              "9278  THU0040       Thule   \n",
              "1716  APP2375       Apple   \n",
              "4850  PAC1403        Pack   \n",
              "9979  GLY0017  Glyph Atom   \n",
              "\n",
              "                                                              name  \\\n",
              "7939          Olloclip 4-in-1 Lens iPhone 5 / 5s / SE Gold / White   \n",
              "9278                    Thule Subterra mini iPad Sleeve Case Black   \n",
              "1716  Apple Macbook Pro 13 \"Core i7 25GHz | 8GB | 256GB SSD Silver   \n",
              "4850     Synology DS716 + II Pack | 2GB RAM | Seagate 6TB IronWolf   \n",
              "9979       Glyph Blackbox Plus 1TB External Hard Drive USB-C (3.1)   \n",
              "\n",
              "                                                                                                     desc  \\\n",
              "7939                                    Wide angle fisheye macro macro x10 and x15 for iPhone 5 / 5s / SE   \n",
              "9278                                                    Case with outside pocket and zipper for iPad mini   \n",
              "1716                             New MacBook Pro 13-inch Core i7 25GHz with 8GB of RAM and 256GB PCIe SSD   \n",
              "4850  Synology DS716 + II with 2GB of RAM memory + 6TB (2x3TB) Seagate Hard Drive for Mac and PC IronWolf   \n",
              "9979                        1TB external hard drive with USB-C connection 7200rpm HDD disk for Mac and PC   \n",
              "\n",
              "       price promo_price  cl_price      type  cl_deff  cl_deff_2  \n",
              "7939   69.99     599.906     69.99  11905404  -529.92       8.57  \n",
              "9278   39.95       31.99     39.95  12635403     7.96       0.80  \n",
              "1716    2109  19.820.042   2109.00  1,02E+12  1910.80       0.09  \n",
              "4850  751.88   6.871.796    751.88  12175397   683.16       0.09  \n",
              "9979  140.99   1.319.941    140.99  11935397   127.79       0.09  "
            ],
            "text/html": [
              "\n",
              "  <div id=\"df-2fe68678-28f9-4259-b128-f784927f37ad\">\n",
              "    <div class=\"colab-df-container\">\n",
              "      <div>\n",
              "<style scoped>\n",
              "    .dataframe tbody tr th:only-of-type {\n",
              "        vertical-align: middle;\n",
              "    }\n",
              "\n",
              "    .dataframe tbody tr th {\n",
              "        vertical-align: top;\n",
              "    }\n",
              "\n",
              "    .dataframe thead th {\n",
              "        text-align: right;\n",
              "    }\n",
              "</style>\n",
              "<table border=\"1\" class=\"dataframe\">\n",
              "  <thead>\n",
              "    <tr style=\"text-align: right;\">\n",
              "      <th></th>\n",
              "      <th>sku</th>\n",
              "      <th>long</th>\n",
              "      <th>name</th>\n",
              "      <th>desc</th>\n",
              "      <th>price</th>\n",
              "      <th>promo_price</th>\n",
              "      <th>cl_price</th>\n",
              "      <th>type</th>\n",
              "      <th>cl_deff</th>\n",
              "      <th>cl_deff_2</th>\n",
              "    </tr>\n",
              "  </thead>\n",
              "  <tbody>\n",
              "    <tr>\n",
              "      <th>7939</th>\n",
              "      <td>OLL0021</td>\n",
              "      <td>Olloclip</td>\n",
              "      <td>Olloclip 4-in-1 Lens iPhone 5 / 5s / SE Gold / White</td>\n",
              "      <td>Wide angle fisheye macro macro x10 and x15 for iPhone 5 / 5s / SE</td>\n",
              "      <td>69.99</td>\n",
              "      <td>599.906</td>\n",
              "      <td>69.99</td>\n",
              "      <td>11905404</td>\n",
              "      <td>-529.92</td>\n",
              "      <td>8.57</td>\n",
              "    </tr>\n",
              "    <tr>\n",
              "      <th>9278</th>\n",
              "      <td>THU0040</td>\n",
              "      <td>Thule</td>\n",
              "      <td>Thule Subterra mini iPad Sleeve Case Black</td>\n",
              "      <td>Case with outside pocket and zipper for iPad mini</td>\n",
              "      <td>39.95</td>\n",
              "      <td>31.99</td>\n",
              "      <td>39.95</td>\n",
              "      <td>12635403</td>\n",
              "      <td>7.96</td>\n",
              "      <td>0.80</td>\n",
              "    </tr>\n",
              "    <tr>\n",
              "      <th>1716</th>\n",
              "      <td>APP2375</td>\n",
              "      <td>Apple</td>\n",
              "      <td>Apple Macbook Pro 13 \"Core i7 25GHz | 8GB | 256GB SSD Silver</td>\n",
              "      <td>New MacBook Pro 13-inch Core i7 25GHz with 8GB of RAM and 256GB PCIe SSD</td>\n",
              "      <td>2109</td>\n",
              "      <td>19.820.042</td>\n",
              "      <td>2109.00</td>\n",
              "      <td>1,02E+12</td>\n",
              "      <td>1910.80</td>\n",
              "      <td>0.09</td>\n",
              "    </tr>\n",
              "    <tr>\n",
              "      <th>4850</th>\n",
              "      <td>PAC1403</td>\n",
              "      <td>Pack</td>\n",
              "      <td>Synology DS716 + II Pack | 2GB RAM | Seagate 6TB IronWolf</td>\n",
              "      <td>Synology DS716 + II with 2GB of RAM memory + 6TB (2x3TB) Seagate Hard Drive for Mac and PC IronWolf</td>\n",
              "      <td>751.88</td>\n",
              "      <td>6.871.796</td>\n",
              "      <td>751.88</td>\n",
              "      <td>12175397</td>\n",
              "      <td>683.16</td>\n",
              "      <td>0.09</td>\n",
              "    </tr>\n",
              "    <tr>\n",
              "      <th>9979</th>\n",
              "      <td>GLY0017</td>\n",
              "      <td>Glyph Atom</td>\n",
              "      <td>Glyph Blackbox Plus 1TB External Hard Drive USB-C (3.1)</td>\n",
              "      <td>1TB external hard drive with USB-C connection 7200rpm HDD disk for Mac and PC</td>\n",
              "      <td>140.99</td>\n",
              "      <td>1.319.941</td>\n",
              "      <td>140.99</td>\n",
              "      <td>11935397</td>\n",
              "      <td>127.79</td>\n",
              "      <td>0.09</td>\n",
              "    </tr>\n",
              "  </tbody>\n",
              "</table>\n",
              "</div>\n",
              "      <button class=\"colab-df-convert\" onclick=\"convertToInteractive('df-2fe68678-28f9-4259-b128-f784927f37ad')\"\n",
              "              title=\"Convert this dataframe to an interactive table.\"\n",
              "              style=\"display:none;\">\n",
              "        \n",
              "  <svg xmlns=\"http://www.w3.org/2000/svg\" height=\"24px\"viewBox=\"0 0 24 24\"\n",
              "       width=\"24px\">\n",
              "    <path d=\"M0 0h24v24H0V0z\" fill=\"none\"/>\n",
              "    <path d=\"M18.56 5.44l.94 2.06.94-2.06 2.06-.94-2.06-.94-.94-2.06-.94 2.06-2.06.94zm-11 1L8.5 8.5l.94-2.06 2.06-.94-2.06-.94L8.5 2.5l-.94 2.06-2.06.94zm10 10l.94 2.06.94-2.06 2.06-.94-2.06-.94-.94-2.06-.94 2.06-2.06.94z\"/><path d=\"M17.41 7.96l-1.37-1.37c-.4-.4-.92-.59-1.43-.59-.52 0-1.04.2-1.43.59L10.3 9.45l-7.72 7.72c-.78.78-.78 2.05 0 2.83L4 21.41c.39.39.9.59 1.41.59.51 0 1.02-.2 1.41-.59l7.78-7.78 2.81-2.81c.8-.78.8-2.07 0-2.86zM5.41 20L4 18.59l7.72-7.72 1.47 1.35L5.41 20z\"/>\n",
              "  </svg>\n",
              "      </button>\n",
              "      \n",
              "  <style>\n",
              "    .colab-df-container {\n",
              "      display:flex;\n",
              "      flex-wrap:wrap;\n",
              "      gap: 12px;\n",
              "    }\n",
              "\n",
              "    .colab-df-convert {\n",
              "      background-color: #E8F0FE;\n",
              "      border: none;\n",
              "      border-radius: 50%;\n",
              "      cursor: pointer;\n",
              "      display: none;\n",
              "      fill: #1967D2;\n",
              "      height: 32px;\n",
              "      padding: 0 0 0 0;\n",
              "      width: 32px;\n",
              "    }\n",
              "\n",
              "    .colab-df-convert:hover {\n",
              "      background-color: #E2EBFA;\n",
              "      box-shadow: 0px 1px 2px rgba(60, 64, 67, 0.3), 0px 1px 3px 1px rgba(60, 64, 67, 0.15);\n",
              "      fill: #174EA6;\n",
              "    }\n",
              "\n",
              "    [theme=dark] .colab-df-convert {\n",
              "      background-color: #3B4455;\n",
              "      fill: #D2E3FC;\n",
              "    }\n",
              "\n",
              "    [theme=dark] .colab-df-convert:hover {\n",
              "      background-color: #434B5C;\n",
              "      box-shadow: 0px 1px 3px 1px rgba(0, 0, 0, 0.15);\n",
              "      filter: drop-shadow(0px 1px 2px rgba(0, 0, 0, 0.3));\n",
              "      fill: #FFFFFF;\n",
              "    }\n",
              "  </style>\n",
              "\n",
              "      <script>\n",
              "        const buttonEl =\n",
              "          document.querySelector('#df-2fe68678-28f9-4259-b128-f784927f37ad button.colab-df-convert');\n",
              "        buttonEl.style.display =\n",
              "          google.colab.kernel.accessAllowed ? 'block' : 'none';\n",
              "\n",
              "        async function convertToInteractive(key) {\n",
              "          const element = document.querySelector('#df-2fe68678-28f9-4259-b128-f784927f37ad');\n",
              "          const dataTable =\n",
              "            await google.colab.kernel.invokeFunction('convertToInteractive',\n",
              "                                                     [key], {});\n",
              "          if (!dataTable) return;\n",
              "\n",
              "          const docLinkHtml = 'Like what you see? Visit the ' +\n",
              "            '<a target=\"_blank\" href=https://colab.research.google.com/notebooks/data_table.ipynb>data table notebook</a>'\n",
              "            + ' to learn more about interactive tables.';\n",
              "          element.innerHTML = '';\n",
              "          dataTable['output_type'] = 'display_data';\n",
              "          await google.colab.output.renderOutput(dataTable, element);\n",
              "          const docLink = document.createElement('div');\n",
              "          docLink.innerHTML = docLinkHtml;\n",
              "          element.appendChild(docLink);\n",
              "        }\n",
              "      </script>\n",
              "    </div>\n",
              "  </div>\n",
              "  "
            ]
          },
          "metadata": {},
          "execution_count": 132
        }
      ]
    },
    {
      "cell_type": "markdown",
      "source": [
        "### Status\n",
        "`promo_price` not OK\n",
        "\n",
        "`type, name, desc, price`\n",
        "keep, no cleaning required\n",
        "\n",
        "Last Version: `products_3sp` "
      ],
      "metadata": {
        "id": "kb8xnsYM5mtw"
      }
    },
    {
      "cell_type": "markdown",
      "source": [
        "# 2 Brands [ok]"
      ],
      "metadata": {
        "id": "2quyAKQw1HT9"
      }
    },
    {
      "cell_type": "markdown",
      "source": [
        "**brands.csv**\n",
        "* `short` – the 3-character code by which the brand can be identified in the first 3 characters of products.sku\n",
        "* `long` – brand name"
      ],
      "metadata": {
        "id": "CeAn-rzo2mhf"
      }
    },
    {
      "cell_type": "code",
      "source": [
        "brands.sample(10)"
      ],
      "metadata": {
        "id": "e5I9aUcy1LIA",
        "colab": {
          "base_uri": "https://localhost:8080/",
          "height": 363
        },
        "outputId": "102d3131-9b2d-4a12-ebdf-f4d2503c56b4"
      },
      "execution_count": 133,
      "outputs": [
        {
          "output_type": "execute_result",
          "data": {
            "text/plain": [
              "    short              long\n",
              "70    KEN           Jaybird\n",
              "31    DRO             Drobo\n",
              "166   TOS           Toshiba\n",
              "111   NTE         NewerTech\n",
              "146   SNA              Sena\n",
              "123   PHI           Philips\n",
              "178   WIK           Wikango\n",
              "174   UAG  Urban Armor Gear\n",
              "136   RET     Retrak Utopia\n",
              "76    LAN       LandingZone"
            ],
            "text/html": [
              "\n",
              "  <div id=\"df-8017f56f-b065-43c8-8a93-6a9aca2a4f11\">\n",
              "    <div class=\"colab-df-container\">\n",
              "      <div>\n",
              "<style scoped>\n",
              "    .dataframe tbody tr th:only-of-type {\n",
              "        vertical-align: middle;\n",
              "    }\n",
              "\n",
              "    .dataframe tbody tr th {\n",
              "        vertical-align: top;\n",
              "    }\n",
              "\n",
              "    .dataframe thead th {\n",
              "        text-align: right;\n",
              "    }\n",
              "</style>\n",
              "<table border=\"1\" class=\"dataframe\">\n",
              "  <thead>\n",
              "    <tr style=\"text-align: right;\">\n",
              "      <th></th>\n",
              "      <th>short</th>\n",
              "      <th>long</th>\n",
              "    </tr>\n",
              "  </thead>\n",
              "  <tbody>\n",
              "    <tr>\n",
              "      <th>70</th>\n",
              "      <td>KEN</td>\n",
              "      <td>Jaybird</td>\n",
              "    </tr>\n",
              "    <tr>\n",
              "      <th>31</th>\n",
              "      <td>DRO</td>\n",
              "      <td>Drobo</td>\n",
              "    </tr>\n",
              "    <tr>\n",
              "      <th>166</th>\n",
              "      <td>TOS</td>\n",
              "      <td>Toshiba</td>\n",
              "    </tr>\n",
              "    <tr>\n",
              "      <th>111</th>\n",
              "      <td>NTE</td>\n",
              "      <td>NewerTech</td>\n",
              "    </tr>\n",
              "    <tr>\n",
              "      <th>146</th>\n",
              "      <td>SNA</td>\n",
              "      <td>Sena</td>\n",
              "    </tr>\n",
              "    <tr>\n",
              "      <th>123</th>\n",
              "      <td>PHI</td>\n",
              "      <td>Philips</td>\n",
              "    </tr>\n",
              "    <tr>\n",
              "      <th>178</th>\n",
              "      <td>WIK</td>\n",
              "      <td>Wikango</td>\n",
              "    </tr>\n",
              "    <tr>\n",
              "      <th>174</th>\n",
              "      <td>UAG</td>\n",
              "      <td>Urban Armor Gear</td>\n",
              "    </tr>\n",
              "    <tr>\n",
              "      <th>136</th>\n",
              "      <td>RET</td>\n",
              "      <td>Retrak Utopia</td>\n",
              "    </tr>\n",
              "    <tr>\n",
              "      <th>76</th>\n",
              "      <td>LAN</td>\n",
              "      <td>LandingZone</td>\n",
              "    </tr>\n",
              "  </tbody>\n",
              "</table>\n",
              "</div>\n",
              "      <button class=\"colab-df-convert\" onclick=\"convertToInteractive('df-8017f56f-b065-43c8-8a93-6a9aca2a4f11')\"\n",
              "              title=\"Convert this dataframe to an interactive table.\"\n",
              "              style=\"display:none;\">\n",
              "        \n",
              "  <svg xmlns=\"http://www.w3.org/2000/svg\" height=\"24px\"viewBox=\"0 0 24 24\"\n",
              "       width=\"24px\">\n",
              "    <path d=\"M0 0h24v24H0V0z\" fill=\"none\"/>\n",
              "    <path d=\"M18.56 5.44l.94 2.06.94-2.06 2.06-.94-2.06-.94-.94-2.06-.94 2.06-2.06.94zm-11 1L8.5 8.5l.94-2.06 2.06-.94-2.06-.94L8.5 2.5l-.94 2.06-2.06.94zm10 10l.94 2.06.94-2.06 2.06-.94-2.06-.94-.94-2.06-.94 2.06-2.06.94z\"/><path d=\"M17.41 7.96l-1.37-1.37c-.4-.4-.92-.59-1.43-.59-.52 0-1.04.2-1.43.59L10.3 9.45l-7.72 7.72c-.78.78-.78 2.05 0 2.83L4 21.41c.39.39.9.59 1.41.59.51 0 1.02-.2 1.41-.59l7.78-7.78 2.81-2.81c.8-.78.8-2.07 0-2.86zM5.41 20L4 18.59l7.72-7.72 1.47 1.35L5.41 20z\"/>\n",
              "  </svg>\n",
              "      </button>\n",
              "      \n",
              "  <style>\n",
              "    .colab-df-container {\n",
              "      display:flex;\n",
              "      flex-wrap:wrap;\n",
              "      gap: 12px;\n",
              "    }\n",
              "\n",
              "    .colab-df-convert {\n",
              "      background-color: #E8F0FE;\n",
              "      border: none;\n",
              "      border-radius: 50%;\n",
              "      cursor: pointer;\n",
              "      display: none;\n",
              "      fill: #1967D2;\n",
              "      height: 32px;\n",
              "      padding: 0 0 0 0;\n",
              "      width: 32px;\n",
              "    }\n",
              "\n",
              "    .colab-df-convert:hover {\n",
              "      background-color: #E2EBFA;\n",
              "      box-shadow: 0px 1px 2px rgba(60, 64, 67, 0.3), 0px 1px 3px 1px rgba(60, 64, 67, 0.15);\n",
              "      fill: #174EA6;\n",
              "    }\n",
              "\n",
              "    [theme=dark] .colab-df-convert {\n",
              "      background-color: #3B4455;\n",
              "      fill: #D2E3FC;\n",
              "    }\n",
              "\n",
              "    [theme=dark] .colab-df-convert:hover {\n",
              "      background-color: #434B5C;\n",
              "      box-shadow: 0px 1px 3px 1px rgba(0, 0, 0, 0.15);\n",
              "      filter: drop-shadow(0px 1px 2px rgba(0, 0, 0, 0.3));\n",
              "      fill: #FFFFFF;\n",
              "    }\n",
              "  </style>\n",
              "\n",
              "      <script>\n",
              "        const buttonEl =\n",
              "          document.querySelector('#df-8017f56f-b065-43c8-8a93-6a9aca2a4f11 button.colab-df-convert');\n",
              "        buttonEl.style.display =\n",
              "          google.colab.kernel.accessAllowed ? 'block' : 'none';\n",
              "\n",
              "        async function convertToInteractive(key) {\n",
              "          const element = document.querySelector('#df-8017f56f-b065-43c8-8a93-6a9aca2a4f11');\n",
              "          const dataTable =\n",
              "            await google.colab.kernel.invokeFunction('convertToInteractive',\n",
              "                                                     [key], {});\n",
              "          if (!dataTable) return;\n",
              "\n",
              "          const docLinkHtml = 'Like what you see? Visit the ' +\n",
              "            '<a target=\"_blank\" href=https://colab.research.google.com/notebooks/data_table.ipynb>data table notebook</a>'\n",
              "            + ' to learn more about interactive tables.';\n",
              "          element.innerHTML = '';\n",
              "          dataTable['output_type'] = 'display_data';\n",
              "          await google.colab.output.renderOutput(dataTable, element);\n",
              "          const docLink = document.createElement('div');\n",
              "          docLink.innerHTML = docLinkHtml;\n",
              "          element.appendChild(docLink);\n",
              "        }\n",
              "      </script>\n",
              "    </div>\n",
              "  </div>\n",
              "  "
            ]
          },
          "metadata": {},
          "execution_count": 133
        }
      ]
    },
    {
      "cell_type": "code",
      "source": [
        "brands.info()"
      ],
      "metadata": {
        "id": "uWtFNjyY1P5A",
        "colab": {
          "base_uri": "https://localhost:8080/"
        },
        "outputId": "4913a9e0-69cf-43d5-a222-8a888632a757"
      },
      "execution_count": 134,
      "outputs": [
        {
          "output_type": "stream",
          "name": "stdout",
          "text": [
            "<class 'pandas.core.frame.DataFrame'>\n",
            "RangeIndex: 187 entries, 0 to 186\n",
            "Data columns (total 2 columns):\n",
            " #   Column  Non-Null Count  Dtype \n",
            "---  ------  --------------  ----- \n",
            " 0   short   187 non-null    object\n",
            " 1   long    187 non-null    object\n",
            "dtypes: object(2)\n",
            "memory usage: 3.0+ KB\n"
          ]
        }
      ]
    },
    {
      "cell_type": "markdown",
      "source": [
        "### Status\n",
        "\n",
        "All datatype are OK\n",
        "\n",
        "Last Version: `brands` "
      ],
      "metadata": {
        "id": "L25fqEYo5j35"
      }
    },
    {
      "cell_type": "markdown",
      "source": [
        "# 3 Orders [ok]\n"
      ],
      "metadata": {
        "id": "RqiGCqF81TYQ"
      }
    },
    {
      "cell_type": "markdown",
      "source": [
        "**orders.csv** – Every row in this file represents an order.\n",
        "* `order_id` – a unique identifier for each order\n",
        "* `created_date` – a timestamp for when the order was created\n",
        "* `total_paid` – the total amount paid by the customer for this order, in euros\n",
        "state \n",
        " * “Shopping basket” – products have been placed in the shopping basket, but the order has not been processed yet.\n",
        " * “Pending” – the shopping basket has been processed, but payment confirmation is pending.\n",
        " * “Completed” – the order has been placed and paid, and the transaction is completed.\n",
        " * “Cancelled” – the order has been cancelled and the payment returned to the \n",
        "customer."
      ],
      "metadata": {
        "id": "Kmysdfqm2yYJ"
      }
    },
    {
      "cell_type": "code",
      "source": [
        "orders.info()"
      ],
      "metadata": {
        "id": "n_4RWDxo1fVc",
        "colab": {
          "base_uri": "https://localhost:8080/"
        },
        "outputId": "cacc97d4-ec68-4c29-d423-305d38ecc2f8"
      },
      "execution_count": 135,
      "outputs": [
        {
          "output_type": "stream",
          "name": "stdout",
          "text": [
            "<class 'pandas.core.frame.DataFrame'>\n",
            "RangeIndex: 226909 entries, 0 to 226908\n",
            "Data columns (total 4 columns):\n",
            " #   Column        Non-Null Count   Dtype  \n",
            "---  ------        --------------   -----  \n",
            " 0   order_id      226909 non-null  int64  \n",
            " 1   created_date  226909 non-null  object \n",
            " 2   total_paid    226904 non-null  float64\n",
            " 3   state         226909 non-null  object \n",
            "dtypes: float64(1), int64(1), object(2)\n",
            "memory usage: 6.9+ MB\n"
          ]
        }
      ]
    },
    {
      "cell_type": "code",
      "source": [
        "orders.sample(5)"
      ],
      "metadata": {
        "id": "h_SL6gk51i6G",
        "colab": {
          "base_uri": "https://localhost:8080/",
          "height": 206
        },
        "outputId": "539f19ca-ccbb-4843-f79c-00f1f760801b"
      },
      "execution_count": 136,
      "outputs": [
        {
          "output_type": "execute_result",
          "data": {
            "text/plain": [
              "        order_id         created_date  total_paid            state\n",
              "183168    483575  2018-01-06 12:25:44       22.98        Completed\n",
              "184216    484623  2018-01-07 22:26:37     1585.00  Shopping Basket\n",
              "183835    484242  2018-01-07 13:11:27       22.99  Shopping Basket\n",
              "193933    494416  2018-01-19 10:49:07      889.00  Shopping Basket\n",
              "43585     343075  2017-04-04 12:05:18      142.99  Shopping Basket"
            ],
            "text/html": [
              "\n",
              "  <div id=\"df-0e586f94-c91f-470a-b1c3-38ca87c90b95\">\n",
              "    <div class=\"colab-df-container\">\n",
              "      <div>\n",
              "<style scoped>\n",
              "    .dataframe tbody tr th:only-of-type {\n",
              "        vertical-align: middle;\n",
              "    }\n",
              "\n",
              "    .dataframe tbody tr th {\n",
              "        vertical-align: top;\n",
              "    }\n",
              "\n",
              "    .dataframe thead th {\n",
              "        text-align: right;\n",
              "    }\n",
              "</style>\n",
              "<table border=\"1\" class=\"dataframe\">\n",
              "  <thead>\n",
              "    <tr style=\"text-align: right;\">\n",
              "      <th></th>\n",
              "      <th>order_id</th>\n",
              "      <th>created_date</th>\n",
              "      <th>total_paid</th>\n",
              "      <th>state</th>\n",
              "    </tr>\n",
              "  </thead>\n",
              "  <tbody>\n",
              "    <tr>\n",
              "      <th>183168</th>\n",
              "      <td>483575</td>\n",
              "      <td>2018-01-06 12:25:44</td>\n",
              "      <td>22.98</td>\n",
              "      <td>Completed</td>\n",
              "    </tr>\n",
              "    <tr>\n",
              "      <th>184216</th>\n",
              "      <td>484623</td>\n",
              "      <td>2018-01-07 22:26:37</td>\n",
              "      <td>1585.00</td>\n",
              "      <td>Shopping Basket</td>\n",
              "    </tr>\n",
              "    <tr>\n",
              "      <th>183835</th>\n",
              "      <td>484242</td>\n",
              "      <td>2018-01-07 13:11:27</td>\n",
              "      <td>22.99</td>\n",
              "      <td>Shopping Basket</td>\n",
              "    </tr>\n",
              "    <tr>\n",
              "      <th>193933</th>\n",
              "      <td>494416</td>\n",
              "      <td>2018-01-19 10:49:07</td>\n",
              "      <td>889.00</td>\n",
              "      <td>Shopping Basket</td>\n",
              "    </tr>\n",
              "    <tr>\n",
              "      <th>43585</th>\n",
              "      <td>343075</td>\n",
              "      <td>2017-04-04 12:05:18</td>\n",
              "      <td>142.99</td>\n",
              "      <td>Shopping Basket</td>\n",
              "    </tr>\n",
              "  </tbody>\n",
              "</table>\n",
              "</div>\n",
              "      <button class=\"colab-df-convert\" onclick=\"convertToInteractive('df-0e586f94-c91f-470a-b1c3-38ca87c90b95')\"\n",
              "              title=\"Convert this dataframe to an interactive table.\"\n",
              "              style=\"display:none;\">\n",
              "        \n",
              "  <svg xmlns=\"http://www.w3.org/2000/svg\" height=\"24px\"viewBox=\"0 0 24 24\"\n",
              "       width=\"24px\">\n",
              "    <path d=\"M0 0h24v24H0V0z\" fill=\"none\"/>\n",
              "    <path d=\"M18.56 5.44l.94 2.06.94-2.06 2.06-.94-2.06-.94-.94-2.06-.94 2.06-2.06.94zm-11 1L8.5 8.5l.94-2.06 2.06-.94-2.06-.94L8.5 2.5l-.94 2.06-2.06.94zm10 10l.94 2.06.94-2.06 2.06-.94-2.06-.94-.94-2.06-.94 2.06-2.06.94z\"/><path d=\"M17.41 7.96l-1.37-1.37c-.4-.4-.92-.59-1.43-.59-.52 0-1.04.2-1.43.59L10.3 9.45l-7.72 7.72c-.78.78-.78 2.05 0 2.83L4 21.41c.39.39.9.59 1.41.59.51 0 1.02-.2 1.41-.59l7.78-7.78 2.81-2.81c.8-.78.8-2.07 0-2.86zM5.41 20L4 18.59l7.72-7.72 1.47 1.35L5.41 20z\"/>\n",
              "  </svg>\n",
              "      </button>\n",
              "      \n",
              "  <style>\n",
              "    .colab-df-container {\n",
              "      display:flex;\n",
              "      flex-wrap:wrap;\n",
              "      gap: 12px;\n",
              "    }\n",
              "\n",
              "    .colab-df-convert {\n",
              "      background-color: #E8F0FE;\n",
              "      border: none;\n",
              "      border-radius: 50%;\n",
              "      cursor: pointer;\n",
              "      display: none;\n",
              "      fill: #1967D2;\n",
              "      height: 32px;\n",
              "      padding: 0 0 0 0;\n",
              "      width: 32px;\n",
              "    }\n",
              "\n",
              "    .colab-df-convert:hover {\n",
              "      background-color: #E2EBFA;\n",
              "      box-shadow: 0px 1px 2px rgba(60, 64, 67, 0.3), 0px 1px 3px 1px rgba(60, 64, 67, 0.15);\n",
              "      fill: #174EA6;\n",
              "    }\n",
              "\n",
              "    [theme=dark] .colab-df-convert {\n",
              "      background-color: #3B4455;\n",
              "      fill: #D2E3FC;\n",
              "    }\n",
              "\n",
              "    [theme=dark] .colab-df-convert:hover {\n",
              "      background-color: #434B5C;\n",
              "      box-shadow: 0px 1px 3px 1px rgba(0, 0, 0, 0.15);\n",
              "      filter: drop-shadow(0px 1px 2px rgba(0, 0, 0, 0.3));\n",
              "      fill: #FFFFFF;\n",
              "    }\n",
              "  </style>\n",
              "\n",
              "      <script>\n",
              "        const buttonEl =\n",
              "          document.querySelector('#df-0e586f94-c91f-470a-b1c3-38ca87c90b95 button.colab-df-convert');\n",
              "        buttonEl.style.display =\n",
              "          google.colab.kernel.accessAllowed ? 'block' : 'none';\n",
              "\n",
              "        async function convertToInteractive(key) {\n",
              "          const element = document.querySelector('#df-0e586f94-c91f-470a-b1c3-38ca87c90b95');\n",
              "          const dataTable =\n",
              "            await google.colab.kernel.invokeFunction('convertToInteractive',\n",
              "                                                     [key], {});\n",
              "          if (!dataTable) return;\n",
              "\n",
              "          const docLinkHtml = 'Like what you see? Visit the ' +\n",
              "            '<a target=\"_blank\" href=https://colab.research.google.com/notebooks/data_table.ipynb>data table notebook</a>'\n",
              "            + ' to learn more about interactive tables.';\n",
              "          element.innerHTML = '';\n",
              "          dataTable['output_type'] = 'display_data';\n",
              "          await google.colab.output.renderOutput(dataTable, element);\n",
              "          const docLink = document.createElement('div');\n",
              "          docLink.innerHTML = docLinkHtml;\n",
              "          element.appendChild(docLink);\n",
              "        }\n",
              "      </script>\n",
              "    </div>\n",
              "  </div>\n",
              "  "
            ]
          },
          "metadata": {},
          "execution_count": 136
        }
      ]
    },
    {
      "cell_type": "code",
      "source": [
        "orders.nunique()"
      ],
      "metadata": {
        "id": "JFoitNgX3wOa",
        "colab": {
          "base_uri": "https://localhost:8080/"
        },
        "outputId": "ac1d18b6-4d4e-4c65-c22b-0a38482a6d07"
      },
      "execution_count": 137,
      "outputs": [
        {
          "output_type": "execute_result",
          "data": {
            "text/plain": [
              "order_id        226909\n",
              "created_date    224828\n",
              "total_paid       31236\n",
              "state                5\n",
              "dtype: int64"
            ]
          },
          "metadata": {},
          "execution_count": 137
        }
      ]
    },
    {
      "cell_type": "code",
      "source": [
        "len(orders.order_id.unique())"
      ],
      "metadata": {
        "id": "TTgPqPSu3ndT",
        "colab": {
          "base_uri": "https://localhost:8080/"
        },
        "outputId": "b8e63bac-dc5a-454f-c751-1e807b403b90"
      },
      "execution_count": 138,
      "outputs": [
        {
          "output_type": "execute_result",
          "data": {
            "text/plain": [
              "226909"
            ]
          },
          "metadata": {},
          "execution_count": 138
        }
      ]
    },
    {
      "cell_type": "markdown",
      "source": [
        "All `order_is` are unique."
      ],
      "metadata": {
        "id": "4isvv25F33BS"
      }
    },
    {
      "cell_type": "code",
      "source": [
        "orders_1sp = orders.copy()\n",
        "orders_1sp[\"created_date\"] = pd.to_datetime(orders.created_date)"
      ],
      "metadata": {
        "id": "QX0DtPi14LvK"
      },
      "execution_count": 139,
      "outputs": []
    },
    {
      "cell_type": "code",
      "source": [
        "orders_1sp.info()"
      ],
      "metadata": {
        "id": "fKQug8p65Y7h",
        "colab": {
          "base_uri": "https://localhost:8080/"
        },
        "outputId": "20393115-83fd-4345-8af3-2027c82478da"
      },
      "execution_count": 140,
      "outputs": [
        {
          "output_type": "stream",
          "name": "stdout",
          "text": [
            "<class 'pandas.core.frame.DataFrame'>\n",
            "RangeIndex: 226909 entries, 0 to 226908\n",
            "Data columns (total 4 columns):\n",
            " #   Column        Non-Null Count   Dtype         \n",
            "---  ------        --------------   -----         \n",
            " 0   order_id      226909 non-null  int64         \n",
            " 1   created_date  226909 non-null  datetime64[ns]\n",
            " 2   total_paid    226904 non-null  float64       \n",
            " 3   state         226909 non-null  object        \n",
            "dtypes: datetime64[ns](1), float64(1), int64(1), object(1)\n",
            "memory usage: 6.9+ MB\n"
          ]
        }
      ]
    },
    {
      "cell_type": "code",
      "source": [
        "orders_2sp_comp = orders_1sp[orders_1sp.state == \"Completed\"].dropna().copy()"
      ],
      "metadata": {
        "id": "NXvBGa-KIA8u"
      },
      "execution_count": 141,
      "outputs": []
    },
    {
      "cell_type": "code",
      "source": [
        "orders_2sp_comp"
      ],
      "metadata": {
        "colab": {
          "base_uri": "https://localhost:8080/",
          "height": 423
        },
        "id": "fv4Hz6S22xDE",
        "outputId": "3273dea9-79ab-4399-8e72-8dd7615def97"
      },
      "execution_count": 142,
      "outputs": [
        {
          "output_type": "execute_result",
          "data": {
            "text/plain": [
              "        order_id        created_date  total_paid      state\n",
              "1         241423 2017-11-06 13:10:02      136.15  Completed\n",
              "2         242832 2017-12-31 17:40:03       15.76  Completed\n",
              "3         243330 2017-02-16 10:59:38       84.98  Completed\n",
              "5         245275 2017-06-28 11:35:37      149.00  Completed\n",
              "6         245595 2017-01-21 12:52:47      112.97  Completed\n",
              "...          ...                 ...         ...        ...\n",
              "226549    527042 2018-03-14 11:47:50       18.98  Completed\n",
              "226577    527070 2018-03-14 11:50:48       24.97  Completed\n",
              "226581    527074 2018-03-14 11:51:42       24.97  Completed\n",
              "226603    527096 2018-03-14 11:58:40       34.96  Completed\n",
              "226619    527112 2018-03-14 12:03:52       14.98  Completed\n",
              "\n",
              "[46605 rows x 4 columns]"
            ],
            "text/html": [
              "\n",
              "  <div id=\"df-843488ae-a71e-482a-9a6b-978ee8f6f802\">\n",
              "    <div class=\"colab-df-container\">\n",
              "      <div>\n",
              "<style scoped>\n",
              "    .dataframe tbody tr th:only-of-type {\n",
              "        vertical-align: middle;\n",
              "    }\n",
              "\n",
              "    .dataframe tbody tr th {\n",
              "        vertical-align: top;\n",
              "    }\n",
              "\n",
              "    .dataframe thead th {\n",
              "        text-align: right;\n",
              "    }\n",
              "</style>\n",
              "<table border=\"1\" class=\"dataframe\">\n",
              "  <thead>\n",
              "    <tr style=\"text-align: right;\">\n",
              "      <th></th>\n",
              "      <th>order_id</th>\n",
              "      <th>created_date</th>\n",
              "      <th>total_paid</th>\n",
              "      <th>state</th>\n",
              "    </tr>\n",
              "  </thead>\n",
              "  <tbody>\n",
              "    <tr>\n",
              "      <th>1</th>\n",
              "      <td>241423</td>\n",
              "      <td>2017-11-06 13:10:02</td>\n",
              "      <td>136.15</td>\n",
              "      <td>Completed</td>\n",
              "    </tr>\n",
              "    <tr>\n",
              "      <th>2</th>\n",
              "      <td>242832</td>\n",
              "      <td>2017-12-31 17:40:03</td>\n",
              "      <td>15.76</td>\n",
              "      <td>Completed</td>\n",
              "    </tr>\n",
              "    <tr>\n",
              "      <th>3</th>\n",
              "      <td>243330</td>\n",
              "      <td>2017-02-16 10:59:38</td>\n",
              "      <td>84.98</td>\n",
              "      <td>Completed</td>\n",
              "    </tr>\n",
              "    <tr>\n",
              "      <th>5</th>\n",
              "      <td>245275</td>\n",
              "      <td>2017-06-28 11:35:37</td>\n",
              "      <td>149.00</td>\n",
              "      <td>Completed</td>\n",
              "    </tr>\n",
              "    <tr>\n",
              "      <th>6</th>\n",
              "      <td>245595</td>\n",
              "      <td>2017-01-21 12:52:47</td>\n",
              "      <td>112.97</td>\n",
              "      <td>Completed</td>\n",
              "    </tr>\n",
              "    <tr>\n",
              "      <th>...</th>\n",
              "      <td>...</td>\n",
              "      <td>...</td>\n",
              "      <td>...</td>\n",
              "      <td>...</td>\n",
              "    </tr>\n",
              "    <tr>\n",
              "      <th>226549</th>\n",
              "      <td>527042</td>\n",
              "      <td>2018-03-14 11:47:50</td>\n",
              "      <td>18.98</td>\n",
              "      <td>Completed</td>\n",
              "    </tr>\n",
              "    <tr>\n",
              "      <th>226577</th>\n",
              "      <td>527070</td>\n",
              "      <td>2018-03-14 11:50:48</td>\n",
              "      <td>24.97</td>\n",
              "      <td>Completed</td>\n",
              "    </tr>\n",
              "    <tr>\n",
              "      <th>226581</th>\n",
              "      <td>527074</td>\n",
              "      <td>2018-03-14 11:51:42</td>\n",
              "      <td>24.97</td>\n",
              "      <td>Completed</td>\n",
              "    </tr>\n",
              "    <tr>\n",
              "      <th>226603</th>\n",
              "      <td>527096</td>\n",
              "      <td>2018-03-14 11:58:40</td>\n",
              "      <td>34.96</td>\n",
              "      <td>Completed</td>\n",
              "    </tr>\n",
              "    <tr>\n",
              "      <th>226619</th>\n",
              "      <td>527112</td>\n",
              "      <td>2018-03-14 12:03:52</td>\n",
              "      <td>14.98</td>\n",
              "      <td>Completed</td>\n",
              "    </tr>\n",
              "  </tbody>\n",
              "</table>\n",
              "<p>46605 rows × 4 columns</p>\n",
              "</div>\n",
              "      <button class=\"colab-df-convert\" onclick=\"convertToInteractive('df-843488ae-a71e-482a-9a6b-978ee8f6f802')\"\n",
              "              title=\"Convert this dataframe to an interactive table.\"\n",
              "              style=\"display:none;\">\n",
              "        \n",
              "  <svg xmlns=\"http://www.w3.org/2000/svg\" height=\"24px\"viewBox=\"0 0 24 24\"\n",
              "       width=\"24px\">\n",
              "    <path d=\"M0 0h24v24H0V0z\" fill=\"none\"/>\n",
              "    <path d=\"M18.56 5.44l.94 2.06.94-2.06 2.06-.94-2.06-.94-.94-2.06-.94 2.06-2.06.94zm-11 1L8.5 8.5l.94-2.06 2.06-.94-2.06-.94L8.5 2.5l-.94 2.06-2.06.94zm10 10l.94 2.06.94-2.06 2.06-.94-2.06-.94-.94-2.06-.94 2.06-2.06.94z\"/><path d=\"M17.41 7.96l-1.37-1.37c-.4-.4-.92-.59-1.43-.59-.52 0-1.04.2-1.43.59L10.3 9.45l-7.72 7.72c-.78.78-.78 2.05 0 2.83L4 21.41c.39.39.9.59 1.41.59.51 0 1.02-.2 1.41-.59l7.78-7.78 2.81-2.81c.8-.78.8-2.07 0-2.86zM5.41 20L4 18.59l7.72-7.72 1.47 1.35L5.41 20z\"/>\n",
              "  </svg>\n",
              "      </button>\n",
              "      \n",
              "  <style>\n",
              "    .colab-df-container {\n",
              "      display:flex;\n",
              "      flex-wrap:wrap;\n",
              "      gap: 12px;\n",
              "    }\n",
              "\n",
              "    .colab-df-convert {\n",
              "      background-color: #E8F0FE;\n",
              "      border: none;\n",
              "      border-radius: 50%;\n",
              "      cursor: pointer;\n",
              "      display: none;\n",
              "      fill: #1967D2;\n",
              "      height: 32px;\n",
              "      padding: 0 0 0 0;\n",
              "      width: 32px;\n",
              "    }\n",
              "\n",
              "    .colab-df-convert:hover {\n",
              "      background-color: #E2EBFA;\n",
              "      box-shadow: 0px 1px 2px rgba(60, 64, 67, 0.3), 0px 1px 3px 1px rgba(60, 64, 67, 0.15);\n",
              "      fill: #174EA6;\n",
              "    }\n",
              "\n",
              "    [theme=dark] .colab-df-convert {\n",
              "      background-color: #3B4455;\n",
              "      fill: #D2E3FC;\n",
              "    }\n",
              "\n",
              "    [theme=dark] .colab-df-convert:hover {\n",
              "      background-color: #434B5C;\n",
              "      box-shadow: 0px 1px 3px 1px rgba(0, 0, 0, 0.15);\n",
              "      filter: drop-shadow(0px 1px 2px rgba(0, 0, 0, 0.3));\n",
              "      fill: #FFFFFF;\n",
              "    }\n",
              "  </style>\n",
              "\n",
              "      <script>\n",
              "        const buttonEl =\n",
              "          document.querySelector('#df-843488ae-a71e-482a-9a6b-978ee8f6f802 button.colab-df-convert');\n",
              "        buttonEl.style.display =\n",
              "          google.colab.kernel.accessAllowed ? 'block' : 'none';\n",
              "\n",
              "        async function convertToInteractive(key) {\n",
              "          const element = document.querySelector('#df-843488ae-a71e-482a-9a6b-978ee8f6f802');\n",
              "          const dataTable =\n",
              "            await google.colab.kernel.invokeFunction('convertToInteractive',\n",
              "                                                     [key], {});\n",
              "          if (!dataTable) return;\n",
              "\n",
              "          const docLinkHtml = 'Like what you see? Visit the ' +\n",
              "            '<a target=\"_blank\" href=https://colab.research.google.com/notebooks/data_table.ipynb>data table notebook</a>'\n",
              "            + ' to learn more about interactive tables.';\n",
              "          element.innerHTML = '';\n",
              "          dataTable['output_type'] = 'display_data';\n",
              "          await google.colab.output.renderOutput(dataTable, element);\n",
              "          const docLink = document.createElement('div');\n",
              "          docLink.innerHTML = docLinkHtml;\n",
              "          element.appendChild(docLink);\n",
              "        }\n",
              "      </script>\n",
              "    </div>\n",
              "  </div>\n",
              "  "
            ]
          },
          "metadata": {},
          "execution_count": 142
        }
      ]
    },
    {
      "cell_type": "markdown",
      "source": [
        "### Status\n",
        "All datatype are OK.\n",
        "Price range is not OK\n",
        "\n",
        "Last Version: `orders_2sp_comp` "
      ],
      "metadata": {
        "id": "wOVvhQJY5dyn"
      }
    },
    {
      "cell_type": "markdown",
      "source": [
        "#4 Orderlines [non ok]"
      ],
      "metadata": {
        "id": "TJAUUTUR6jC1"
      }
    },
    {
      "cell_type": "markdown",
      "source": [
        "**orderlines.csv** – Every row represents each one of the different products involved in an order.\n",
        "* `id` – a unique identifier for each row in this file\n",
        "* `id_order` – corresponds to orders.order_id\n",
        "* `product_id` – an old identifier for each product, nowadays not in use\n",
        "* `product_quantity` – how many units of that product were purchased on that order\n",
        "* `sku` – stock keeping unit: a unique identifier for each product\n",
        "* `unit_price` – the unitary price (in euros) of each product at the moment of placing that order\n",
        "date \n",
        "* `timestamp` for the processing of that product"
      ],
      "metadata": {
        "id": "RyXRB5cU6xm8"
      }
    },
    {
      "cell_type": "code",
      "source": [
        "orderlines.info()"
      ],
      "metadata": {
        "id": "LZa64_JA7OMB",
        "colab": {
          "base_uri": "https://localhost:8080/"
        },
        "outputId": "cab72cd2-e32f-4f3b-ec29-8a22448dca10"
      },
      "execution_count": 143,
      "outputs": [
        {
          "output_type": "stream",
          "name": "stdout",
          "text": [
            "<class 'pandas.core.frame.DataFrame'>\n",
            "RangeIndex: 293983 entries, 0 to 293982\n",
            "Data columns (total 7 columns):\n",
            " #   Column            Non-Null Count   Dtype \n",
            "---  ------            --------------   ----- \n",
            " 0   id                293983 non-null  int64 \n",
            " 1   id_order          293983 non-null  int64 \n",
            " 2   product_id        293983 non-null  int64 \n",
            " 3   product_quantity  293983 non-null  int64 \n",
            " 4   sku               293983 non-null  object\n",
            " 5   unit_price        293983 non-null  object\n",
            " 6   date              293983 non-null  object\n",
            "dtypes: int64(4), object(3)\n",
            "memory usage: 15.7+ MB\n"
          ]
        }
      ]
    },
    {
      "cell_type": "markdown",
      "source": [
        "###`unti_price` analyses"
      ],
      "metadata": {
        "id": "uyLeNPQKD_Nk"
      }
    },
    {
      "cell_type": "code",
      "source": [
        "analyze_prices(orderlines,'unit_price')"
      ],
      "metadata": {
        "colab": {
          "base_uri": "https://localhost:8080/"
        },
        "id": "Lvp7fdZu83fQ",
        "outputId": "7ee33fc9-4ce0-4c7b-8cf5-3f551751bfda"
      },
      "execution_count": 144,
      "outputs": [
        {
          "output_type": "stream",
          "name": "stdout",
          "text": [
            "CASE 1: \\d{1,3}\\.\\d{3}\\.\\d{3}\n",
            "False   1.00\n",
            "Name: unit_price, dtype: float64\n",
            "CASE 2: \\d{3}\\.\\d{3}\n",
            "False   1.00\n",
            "Name: unit_price, dtype: float64\n",
            "CASE 3: \\d{1,4}\\.\\d{1,3}\n",
            "True    0.88\n",
            "False   0.12\n",
            "Name: unit_price, dtype: float64\n",
            "CASE 4: \\d{1,5}\n",
            "False   1.00\n",
            "Name: unit_price, dtype: float64\n",
            "CASE Na\n",
            "False   1.00\n",
            "Name: unit_price, dtype: float64\n"
          ]
        }
      ]
    },
    {
      "cell_type": "code",
      "source": [
        "orderlines.unit_price.str.match(r'^\\d+\\.\\d+\\.\\d+$').value_counts(normalize=True)\n",
        "orderlines.unit_price.str.count(\".\").value_counts(normalize=True)\n",
        "((orderlines.unit_price.str.endswith(\"0\")) | (orderlines.unit_price.str.endswith(\"9\"))).value_counts(normalize=True)"
      ],
      "metadata": {
        "colab": {
          "base_uri": "https://localhost:8080/"
        },
        "id": "Dpp4ttRv9mCs",
        "outputId": "6657e49d-6732-46d2-e309-44fee8982531"
      },
      "execution_count": 145,
      "outputs": [
        {
          "output_type": "execute_result",
          "data": {
            "text/plain": [
              "True    0.87\n",
              "False   0.13\n",
              "Name: unit_price, dtype: float64"
            ]
          },
          "metadata": {},
          "execution_count": 145
        }
      ]
    },
    {
      "cell_type": "code",
      "source": [
        "orderlines[orderlines.unit_price.str.match(r'^\\d+\\.\\d+\\.\\d{2}$')].sample(5)\n",
        "orderlines[orderlines.unit_price.str.match(r'^\\d{3}\\.\\d{2}$')].sample(5)"
      ],
      "metadata": {
        "colab": {
          "base_uri": "https://localhost:8080/",
          "height": 206
        },
        "id": "7socGiaRFJpx",
        "outputId": "7fac8172-139e-43c1-a327-3e92a57e96e8"
      },
      "execution_count": 146,
      "outputs": [
        {
          "output_type": "execute_result",
          "data": {
            "text/plain": [
              "             id  id_order  product_id  product_quantity      sku unit_price  \\\n",
              "78646   1271423    367285           0                 1  APP2131     989.00   \n",
              "26640   1177842    322983           0                 1  SYN0147     331.99   \n",
              "5961    1135633    305065           0                 4  WDT0141     112.99   \n",
              "173456  1456637    447635           0                 1  APP1776     109.99   \n",
              "103579  1316373    388680           0                 1  SAM0074     160.58   \n",
              "\n",
              "                       date  \n",
              "78646   2017-06-19 21:14:23  \n",
              "26640   2017-02-12 17:11:32  \n",
              "5961    2017-01-08 22:20:10  \n",
              "173456  2017-11-27 11:26:10  \n",
              "103579  2017-08-11 12:57:35  "
            ],
            "text/html": [
              "\n",
              "  <div id=\"df-52c69c8f-5c70-4808-90ea-a633821fa5c3\">\n",
              "    <div class=\"colab-df-container\">\n",
              "      <div>\n",
              "<style scoped>\n",
              "    .dataframe tbody tr th:only-of-type {\n",
              "        vertical-align: middle;\n",
              "    }\n",
              "\n",
              "    .dataframe tbody tr th {\n",
              "        vertical-align: top;\n",
              "    }\n",
              "\n",
              "    .dataframe thead th {\n",
              "        text-align: right;\n",
              "    }\n",
              "</style>\n",
              "<table border=\"1\" class=\"dataframe\">\n",
              "  <thead>\n",
              "    <tr style=\"text-align: right;\">\n",
              "      <th></th>\n",
              "      <th>id</th>\n",
              "      <th>id_order</th>\n",
              "      <th>product_id</th>\n",
              "      <th>product_quantity</th>\n",
              "      <th>sku</th>\n",
              "      <th>unit_price</th>\n",
              "      <th>date</th>\n",
              "    </tr>\n",
              "  </thead>\n",
              "  <tbody>\n",
              "    <tr>\n",
              "      <th>78646</th>\n",
              "      <td>1271423</td>\n",
              "      <td>367285</td>\n",
              "      <td>0</td>\n",
              "      <td>1</td>\n",
              "      <td>APP2131</td>\n",
              "      <td>989.00</td>\n",
              "      <td>2017-06-19 21:14:23</td>\n",
              "    </tr>\n",
              "    <tr>\n",
              "      <th>26640</th>\n",
              "      <td>1177842</td>\n",
              "      <td>322983</td>\n",
              "      <td>0</td>\n",
              "      <td>1</td>\n",
              "      <td>SYN0147</td>\n",
              "      <td>331.99</td>\n",
              "      <td>2017-02-12 17:11:32</td>\n",
              "    </tr>\n",
              "    <tr>\n",
              "      <th>5961</th>\n",
              "      <td>1135633</td>\n",
              "      <td>305065</td>\n",
              "      <td>0</td>\n",
              "      <td>4</td>\n",
              "      <td>WDT0141</td>\n",
              "      <td>112.99</td>\n",
              "      <td>2017-01-08 22:20:10</td>\n",
              "    </tr>\n",
              "    <tr>\n",
              "      <th>173456</th>\n",
              "      <td>1456637</td>\n",
              "      <td>447635</td>\n",
              "      <td>0</td>\n",
              "      <td>1</td>\n",
              "      <td>APP1776</td>\n",
              "      <td>109.99</td>\n",
              "      <td>2017-11-27 11:26:10</td>\n",
              "    </tr>\n",
              "    <tr>\n",
              "      <th>103579</th>\n",
              "      <td>1316373</td>\n",
              "      <td>388680</td>\n",
              "      <td>0</td>\n",
              "      <td>1</td>\n",
              "      <td>SAM0074</td>\n",
              "      <td>160.58</td>\n",
              "      <td>2017-08-11 12:57:35</td>\n",
              "    </tr>\n",
              "  </tbody>\n",
              "</table>\n",
              "</div>\n",
              "      <button class=\"colab-df-convert\" onclick=\"convertToInteractive('df-52c69c8f-5c70-4808-90ea-a633821fa5c3')\"\n",
              "              title=\"Convert this dataframe to an interactive table.\"\n",
              "              style=\"display:none;\">\n",
              "        \n",
              "  <svg xmlns=\"http://www.w3.org/2000/svg\" height=\"24px\"viewBox=\"0 0 24 24\"\n",
              "       width=\"24px\">\n",
              "    <path d=\"M0 0h24v24H0V0z\" fill=\"none\"/>\n",
              "    <path d=\"M18.56 5.44l.94 2.06.94-2.06 2.06-.94-2.06-.94-.94-2.06-.94 2.06-2.06.94zm-11 1L8.5 8.5l.94-2.06 2.06-.94-2.06-.94L8.5 2.5l-.94 2.06-2.06.94zm10 10l.94 2.06.94-2.06 2.06-.94-2.06-.94-.94-2.06-.94 2.06-2.06.94z\"/><path d=\"M17.41 7.96l-1.37-1.37c-.4-.4-.92-.59-1.43-.59-.52 0-1.04.2-1.43.59L10.3 9.45l-7.72 7.72c-.78.78-.78 2.05 0 2.83L4 21.41c.39.39.9.59 1.41.59.51 0 1.02-.2 1.41-.59l7.78-7.78 2.81-2.81c.8-.78.8-2.07 0-2.86zM5.41 20L4 18.59l7.72-7.72 1.47 1.35L5.41 20z\"/>\n",
              "  </svg>\n",
              "      </button>\n",
              "      \n",
              "  <style>\n",
              "    .colab-df-container {\n",
              "      display:flex;\n",
              "      flex-wrap:wrap;\n",
              "      gap: 12px;\n",
              "    }\n",
              "\n",
              "    .colab-df-convert {\n",
              "      background-color: #E8F0FE;\n",
              "      border: none;\n",
              "      border-radius: 50%;\n",
              "      cursor: pointer;\n",
              "      display: none;\n",
              "      fill: #1967D2;\n",
              "      height: 32px;\n",
              "      padding: 0 0 0 0;\n",
              "      width: 32px;\n",
              "    }\n",
              "\n",
              "    .colab-df-convert:hover {\n",
              "      background-color: #E2EBFA;\n",
              "      box-shadow: 0px 1px 2px rgba(60, 64, 67, 0.3), 0px 1px 3px 1px rgba(60, 64, 67, 0.15);\n",
              "      fill: #174EA6;\n",
              "    }\n",
              "\n",
              "    [theme=dark] .colab-df-convert {\n",
              "      background-color: #3B4455;\n",
              "      fill: #D2E3FC;\n",
              "    }\n",
              "\n",
              "    [theme=dark] .colab-df-convert:hover {\n",
              "      background-color: #434B5C;\n",
              "      box-shadow: 0px 1px 3px 1px rgba(0, 0, 0, 0.15);\n",
              "      filter: drop-shadow(0px 1px 2px rgba(0, 0, 0, 0.3));\n",
              "      fill: #FFFFFF;\n",
              "    }\n",
              "  </style>\n",
              "\n",
              "      <script>\n",
              "        const buttonEl =\n",
              "          document.querySelector('#df-52c69c8f-5c70-4808-90ea-a633821fa5c3 button.colab-df-convert');\n",
              "        buttonEl.style.display =\n",
              "          google.colab.kernel.accessAllowed ? 'block' : 'none';\n",
              "\n",
              "        async function convertToInteractive(key) {\n",
              "          const element = document.querySelector('#df-52c69c8f-5c70-4808-90ea-a633821fa5c3');\n",
              "          const dataTable =\n",
              "            await google.colab.kernel.invokeFunction('convertToInteractive',\n",
              "                                                     [key], {});\n",
              "          if (!dataTable) return;\n",
              "\n",
              "          const docLinkHtml = 'Like what you see? Visit the ' +\n",
              "            '<a target=\"_blank\" href=https://colab.research.google.com/notebooks/data_table.ipynb>data table notebook</a>'\n",
              "            + ' to learn more about interactive tables.';\n",
              "          element.innerHTML = '';\n",
              "          dataTable['output_type'] = 'display_data';\n",
              "          await google.colab.output.renderOutput(dataTable, element);\n",
              "          const docLink = document.createElement('div');\n",
              "          docLink.innerHTML = docLinkHtml;\n",
              "          element.appendChild(docLink);\n",
              "        }\n",
              "      </script>\n",
              "    </div>\n",
              "  </div>\n",
              "  "
            ]
          },
          "metadata": {},
          "execution_count": 146
        }
      ]
    },
    {
      "cell_type": "code",
      "source": [
        "orderlines[orderlines.unit_price.str.count(\".\") > 4].sample(5)"
      ],
      "metadata": {
        "colab": {
          "base_uri": "https://localhost:8080/",
          "height": 206
        },
        "id": "KJVD-rlRHCwU",
        "outputId": "8b22170c-5b76-47b1-9d2d-27edbff526b0"
      },
      "execution_count": 147,
      "outputs": [
        {
          "output_type": "execute_result",
          "data": {
            "text/plain": [
              "             id  id_order  product_id  product_quantity      sku unit_price  \\\n",
              "140628  1395481    420915           0                 1  APP1190      56.00   \n",
              "125538  1368320    407772           0                 1  LAC0226     232.94   \n",
              "215911  1522224    475003           0                 1  QNA0257     300.69   \n",
              "164649  1442066    441400           0                 1  BNQ0063     169.99   \n",
              "204332  1500155    464596           0                 1  APP2075   3.049.00   \n",
              "\n",
              "                       date  \n",
              "140628  2017-11-02 08:12:06  \n",
              "125538  2017-10-03 09:57:26  \n",
              "215911  2017-12-28 15:13:33  \n",
              "164649  2017-11-24 20:19:54  \n",
              "204332  2017-12-16 23:00:22  "
            ],
            "text/html": [
              "\n",
              "  <div id=\"df-ed46c07d-2e46-4114-9eda-9b3da7261d2b\">\n",
              "    <div class=\"colab-df-container\">\n",
              "      <div>\n",
              "<style scoped>\n",
              "    .dataframe tbody tr th:only-of-type {\n",
              "        vertical-align: middle;\n",
              "    }\n",
              "\n",
              "    .dataframe tbody tr th {\n",
              "        vertical-align: top;\n",
              "    }\n",
              "\n",
              "    .dataframe thead th {\n",
              "        text-align: right;\n",
              "    }\n",
              "</style>\n",
              "<table border=\"1\" class=\"dataframe\">\n",
              "  <thead>\n",
              "    <tr style=\"text-align: right;\">\n",
              "      <th></th>\n",
              "      <th>id</th>\n",
              "      <th>id_order</th>\n",
              "      <th>product_id</th>\n",
              "      <th>product_quantity</th>\n",
              "      <th>sku</th>\n",
              "      <th>unit_price</th>\n",
              "      <th>date</th>\n",
              "    </tr>\n",
              "  </thead>\n",
              "  <tbody>\n",
              "    <tr>\n",
              "      <th>140628</th>\n",
              "      <td>1395481</td>\n",
              "      <td>420915</td>\n",
              "      <td>0</td>\n",
              "      <td>1</td>\n",
              "      <td>APP1190</td>\n",
              "      <td>56.00</td>\n",
              "      <td>2017-11-02 08:12:06</td>\n",
              "    </tr>\n",
              "    <tr>\n",
              "      <th>125538</th>\n",
              "      <td>1368320</td>\n",
              "      <td>407772</td>\n",
              "      <td>0</td>\n",
              "      <td>1</td>\n",
              "      <td>LAC0226</td>\n",
              "      <td>232.94</td>\n",
              "      <td>2017-10-03 09:57:26</td>\n",
              "    </tr>\n",
              "    <tr>\n",
              "      <th>215911</th>\n",
              "      <td>1522224</td>\n",
              "      <td>475003</td>\n",
              "      <td>0</td>\n",
              "      <td>1</td>\n",
              "      <td>QNA0257</td>\n",
              "      <td>300.69</td>\n",
              "      <td>2017-12-28 15:13:33</td>\n",
              "    </tr>\n",
              "    <tr>\n",
              "      <th>164649</th>\n",
              "      <td>1442066</td>\n",
              "      <td>441400</td>\n",
              "      <td>0</td>\n",
              "      <td>1</td>\n",
              "      <td>BNQ0063</td>\n",
              "      <td>169.99</td>\n",
              "      <td>2017-11-24 20:19:54</td>\n",
              "    </tr>\n",
              "    <tr>\n",
              "      <th>204332</th>\n",
              "      <td>1500155</td>\n",
              "      <td>464596</td>\n",
              "      <td>0</td>\n",
              "      <td>1</td>\n",
              "      <td>APP2075</td>\n",
              "      <td>3.049.00</td>\n",
              "      <td>2017-12-16 23:00:22</td>\n",
              "    </tr>\n",
              "  </tbody>\n",
              "</table>\n",
              "</div>\n",
              "      <button class=\"colab-df-convert\" onclick=\"convertToInteractive('df-ed46c07d-2e46-4114-9eda-9b3da7261d2b')\"\n",
              "              title=\"Convert this dataframe to an interactive table.\"\n",
              "              style=\"display:none;\">\n",
              "        \n",
              "  <svg xmlns=\"http://www.w3.org/2000/svg\" height=\"24px\"viewBox=\"0 0 24 24\"\n",
              "       width=\"24px\">\n",
              "    <path d=\"M0 0h24v24H0V0z\" fill=\"none\"/>\n",
              "    <path d=\"M18.56 5.44l.94 2.06.94-2.06 2.06-.94-2.06-.94-.94-2.06-.94 2.06-2.06.94zm-11 1L8.5 8.5l.94-2.06 2.06-.94-2.06-.94L8.5 2.5l-.94 2.06-2.06.94zm10 10l.94 2.06.94-2.06 2.06-.94-2.06-.94-.94-2.06-.94 2.06-2.06.94z\"/><path d=\"M17.41 7.96l-1.37-1.37c-.4-.4-.92-.59-1.43-.59-.52 0-1.04.2-1.43.59L10.3 9.45l-7.72 7.72c-.78.78-.78 2.05 0 2.83L4 21.41c.39.39.9.59 1.41.59.51 0 1.02-.2 1.41-.59l7.78-7.78 2.81-2.81c.8-.78.8-2.07 0-2.86zM5.41 20L4 18.59l7.72-7.72 1.47 1.35L5.41 20z\"/>\n",
              "  </svg>\n",
              "      </button>\n",
              "      \n",
              "  <style>\n",
              "    .colab-df-container {\n",
              "      display:flex;\n",
              "      flex-wrap:wrap;\n",
              "      gap: 12px;\n",
              "    }\n",
              "\n",
              "    .colab-df-convert {\n",
              "      background-color: #E8F0FE;\n",
              "      border: none;\n",
              "      border-radius: 50%;\n",
              "      cursor: pointer;\n",
              "      display: none;\n",
              "      fill: #1967D2;\n",
              "      height: 32px;\n",
              "      padding: 0 0 0 0;\n",
              "      width: 32px;\n",
              "    }\n",
              "\n",
              "    .colab-df-convert:hover {\n",
              "      background-color: #E2EBFA;\n",
              "      box-shadow: 0px 1px 2px rgba(60, 64, 67, 0.3), 0px 1px 3px 1px rgba(60, 64, 67, 0.15);\n",
              "      fill: #174EA6;\n",
              "    }\n",
              "\n",
              "    [theme=dark] .colab-df-convert {\n",
              "      background-color: #3B4455;\n",
              "      fill: #D2E3FC;\n",
              "    }\n",
              "\n",
              "    [theme=dark] .colab-df-convert:hover {\n",
              "      background-color: #434B5C;\n",
              "      box-shadow: 0px 1px 3px 1px rgba(0, 0, 0, 0.15);\n",
              "      filter: drop-shadow(0px 1px 2px rgba(0, 0, 0, 0.3));\n",
              "      fill: #FFFFFF;\n",
              "    }\n",
              "  </style>\n",
              "\n",
              "      <script>\n",
              "        const buttonEl =\n",
              "          document.querySelector('#df-ed46c07d-2e46-4114-9eda-9b3da7261d2b button.colab-df-convert');\n",
              "        buttonEl.style.display =\n",
              "          google.colab.kernel.accessAllowed ? 'block' : 'none';\n",
              "\n",
              "        async function convertToInteractive(key) {\n",
              "          const element = document.querySelector('#df-ed46c07d-2e46-4114-9eda-9b3da7261d2b');\n",
              "          const dataTable =\n",
              "            await google.colab.kernel.invokeFunction('convertToInteractive',\n",
              "                                                     [key], {});\n",
              "          if (!dataTable) return;\n",
              "\n",
              "          const docLinkHtml = 'Like what you see? Visit the ' +\n",
              "            '<a target=\"_blank\" href=https://colab.research.google.com/notebooks/data_table.ipynb>data table notebook</a>'\n",
              "            + ' to learn more about interactive tables.';\n",
              "          element.innerHTML = '';\n",
              "          dataTable['output_type'] = 'display_data';\n",
              "          await google.colab.output.renderOutput(dataTable, element);\n",
              "          const docLink = document.createElement('div');\n",
              "          docLink.innerHTML = docLinkHtml;\n",
              "          element.appendChild(docLink);\n",
              "        }\n",
              "      </script>\n",
              "    </div>\n",
              "  </div>\n",
              "  "
            ]
          },
          "metadata": {},
          "execution_count": 147
        }
      ]
    },
    {
      "cell_type": "code",
      "source": [
        "orderlines_1sp = transform_OL(orderlines,\"unit_price\",\"cl_unit_price\").copy()"
      ],
      "metadata": {
        "id": "-e1THc-2KobG"
      },
      "execution_count": 148,
      "outputs": []
    },
    {
      "cell_type": "code",
      "source": [
        "orderlines[orderlines['id_order'] == 461458], orders_1sp[orders_1sp['order_id'] == 461458]"
      ],
      "metadata": {
        "id": "SdQCSSdkCWgn",
        "colab": {
          "base_uri": "https://localhost:8080/"
        },
        "outputId": "323aa053-4ed3-4638-99a7-7089c3c110e8"
      },
      "execution_count": 149,
      "outputs": [
        {
          "output_type": "execute_result",
          "data": {
            "text/plain": [
              "(             id  id_order  product_id  product_quantity      sku unit_price  \\\n",
              " 199773  1492821    461458           0                 1  MIN0011      13.99   \n",
              " \n",
              "                        date  cl_unit_price  \n",
              " 199773  2017-12-13 07:37:44          13.99  ,\n",
              "         order_id        created_date  total_paid            state\n",
              " 161200    461458 2017-12-13 07:37:44       13.99  Shopping Basket)"
            ]
          },
          "metadata": {},
          "execution_count": 149
        }
      ]
    },
    {
      "cell_type": "markdown",
      "source": [
        "* `orders`:`created_date` is the same as `orderlines`:`date`\n",
        " \n",
        "* `orders`:`order_id` is the same as `orderlines`:`id_order`\n",
        "\n",
        "\n",
        "\n",
        "\n"
      ],
      "metadata": {
        "id": "fQzIGwhgCutC"
      }
    },
    {
      "cell_type": "code",
      "source": [
        "orderlines_2sp = orderlines_1sp.copy()\n",
        "orderlines_2sp[\"date\"] = pd.to_datetime(orderlines.date)\n",
        "orderlines_2sp.info()"
      ],
      "metadata": {
        "id": "MZkVRlQOAl7h",
        "colab": {
          "base_uri": "https://localhost:8080/"
        },
        "outputId": "1dc2450f-ee8d-4524-cc83-0fb271ae438e"
      },
      "execution_count": 150,
      "outputs": [
        {
          "output_type": "stream",
          "name": "stdout",
          "text": [
            "<class 'pandas.core.frame.DataFrame'>\n",
            "RangeIndex: 293983 entries, 0 to 293982\n",
            "Data columns (total 8 columns):\n",
            " #   Column            Non-Null Count   Dtype         \n",
            "---  ------            --------------   -----         \n",
            " 0   id                293983 non-null  int64         \n",
            " 1   id_order          293983 non-null  int64         \n",
            " 2   product_id        293983 non-null  int64         \n",
            " 3   product_quantity  293983 non-null  int64         \n",
            " 4   sku               293983 non-null  object        \n",
            " 5   unit_price        293983 non-null  object        \n",
            " 6   date              293983 non-null  datetime64[ns]\n",
            " 7   cl_unit_price     293982 non-null  float64       \n",
            "dtypes: datetime64[ns](1), float64(1), int64(4), object(2)\n",
            "memory usage: 17.9+ MB\n"
          ]
        }
      ]
    },
    {
      "cell_type": "code",
      "source": [
        "orderlines_2sp[orderlines_2sp.product_quantity ==2]\n",
        "orderlines_2sp[\"sum_price\"] = orderlines_1sp.product_quantity * orderlines_1sp.cl_unit_price\n",
        "orderlines_2sp"
      ],
      "metadata": {
        "id": "1gBIoZ-h7Sk6",
        "colab": {
          "base_uri": "https://localhost:8080/",
          "height": 423
        },
        "outputId": "7d5165ec-84b2-4e51-f780-0c8b6c2de69b"
      },
      "execution_count": 151,
      "outputs": [
        {
          "output_type": "execute_result",
          "data": {
            "text/plain": [
              "             id  id_order  product_id  product_quantity      sku unit_price  \\\n",
              "0       1119109    299539           0                 1  OTT0133      18.99   \n",
              "1       1119110    299540           0                 1  LGE0043     399.00   \n",
              "2       1119111    299541           0                 1  PAR0071     474.05   \n",
              "3       1119112    299542           0                 1  WDT0315      68.39   \n",
              "4       1119113    299543           0                 1  JBL0104      23.74   \n",
              "...         ...       ...         ...               ...      ...        ...   \n",
              "293978  1650199    527398           0                 1  JBL0122      42.99   \n",
              "293979  1650200    527399           0                 1  PAC0653     141.58   \n",
              "293980  1650201    527400           0                 2  APP0698       9.99   \n",
              "293981  1650202    527388           0                 1  BEZ0204      19.99   \n",
              "293982  1650203    527401           0                 1  APP0927      13.99   \n",
              "\n",
              "                      date  cl_unit_price  sum_price  \n",
              "0      2017-01-01 00:07:19          18.99      18.99  \n",
              "1      2017-01-01 00:19:45         399.00     399.00  \n",
              "2      2017-01-01 00:20:57         474.05     474.05  \n",
              "3      2017-01-01 00:51:40          68.39      68.39  \n",
              "4      2017-01-01 01:06:38          23.74      23.74  \n",
              "...                    ...            ...        ...  \n",
              "293978 2018-03-14 13:57:25          42.99      42.99  \n",
              "293979 2018-03-14 13:57:34         141.58     141.58  \n",
              "293980 2018-03-14 13:57:41           9.99      19.98  \n",
              "293981 2018-03-14 13:58:01          19.99      19.99  \n",
              "293982 2018-03-14 13:58:36          13.99      13.99  \n",
              "\n",
              "[293983 rows x 9 columns]"
            ],
            "text/html": [
              "\n",
              "  <div id=\"df-4306e227-19b8-459f-91d3-dc27c0a0c06f\">\n",
              "    <div class=\"colab-df-container\">\n",
              "      <div>\n",
              "<style scoped>\n",
              "    .dataframe tbody tr th:only-of-type {\n",
              "        vertical-align: middle;\n",
              "    }\n",
              "\n",
              "    .dataframe tbody tr th {\n",
              "        vertical-align: top;\n",
              "    }\n",
              "\n",
              "    .dataframe thead th {\n",
              "        text-align: right;\n",
              "    }\n",
              "</style>\n",
              "<table border=\"1\" class=\"dataframe\">\n",
              "  <thead>\n",
              "    <tr style=\"text-align: right;\">\n",
              "      <th></th>\n",
              "      <th>id</th>\n",
              "      <th>id_order</th>\n",
              "      <th>product_id</th>\n",
              "      <th>product_quantity</th>\n",
              "      <th>sku</th>\n",
              "      <th>unit_price</th>\n",
              "      <th>date</th>\n",
              "      <th>cl_unit_price</th>\n",
              "      <th>sum_price</th>\n",
              "    </tr>\n",
              "  </thead>\n",
              "  <tbody>\n",
              "    <tr>\n",
              "      <th>0</th>\n",
              "      <td>1119109</td>\n",
              "      <td>299539</td>\n",
              "      <td>0</td>\n",
              "      <td>1</td>\n",
              "      <td>OTT0133</td>\n",
              "      <td>18.99</td>\n",
              "      <td>2017-01-01 00:07:19</td>\n",
              "      <td>18.99</td>\n",
              "      <td>18.99</td>\n",
              "    </tr>\n",
              "    <tr>\n",
              "      <th>1</th>\n",
              "      <td>1119110</td>\n",
              "      <td>299540</td>\n",
              "      <td>0</td>\n",
              "      <td>1</td>\n",
              "      <td>LGE0043</td>\n",
              "      <td>399.00</td>\n",
              "      <td>2017-01-01 00:19:45</td>\n",
              "      <td>399.00</td>\n",
              "      <td>399.00</td>\n",
              "    </tr>\n",
              "    <tr>\n",
              "      <th>2</th>\n",
              "      <td>1119111</td>\n",
              "      <td>299541</td>\n",
              "      <td>0</td>\n",
              "      <td>1</td>\n",
              "      <td>PAR0071</td>\n",
              "      <td>474.05</td>\n",
              "      <td>2017-01-01 00:20:57</td>\n",
              "      <td>474.05</td>\n",
              "      <td>474.05</td>\n",
              "    </tr>\n",
              "    <tr>\n",
              "      <th>3</th>\n",
              "      <td>1119112</td>\n",
              "      <td>299542</td>\n",
              "      <td>0</td>\n",
              "      <td>1</td>\n",
              "      <td>WDT0315</td>\n",
              "      <td>68.39</td>\n",
              "      <td>2017-01-01 00:51:40</td>\n",
              "      <td>68.39</td>\n",
              "      <td>68.39</td>\n",
              "    </tr>\n",
              "    <tr>\n",
              "      <th>4</th>\n",
              "      <td>1119113</td>\n",
              "      <td>299543</td>\n",
              "      <td>0</td>\n",
              "      <td>1</td>\n",
              "      <td>JBL0104</td>\n",
              "      <td>23.74</td>\n",
              "      <td>2017-01-01 01:06:38</td>\n",
              "      <td>23.74</td>\n",
              "      <td>23.74</td>\n",
              "    </tr>\n",
              "    <tr>\n",
              "      <th>...</th>\n",
              "      <td>...</td>\n",
              "      <td>...</td>\n",
              "      <td>...</td>\n",
              "      <td>...</td>\n",
              "      <td>...</td>\n",
              "      <td>...</td>\n",
              "      <td>...</td>\n",
              "      <td>...</td>\n",
              "      <td>...</td>\n",
              "    </tr>\n",
              "    <tr>\n",
              "      <th>293978</th>\n",
              "      <td>1650199</td>\n",
              "      <td>527398</td>\n",
              "      <td>0</td>\n",
              "      <td>1</td>\n",
              "      <td>JBL0122</td>\n",
              "      <td>42.99</td>\n",
              "      <td>2018-03-14 13:57:25</td>\n",
              "      <td>42.99</td>\n",
              "      <td>42.99</td>\n",
              "    </tr>\n",
              "    <tr>\n",
              "      <th>293979</th>\n",
              "      <td>1650200</td>\n",
              "      <td>527399</td>\n",
              "      <td>0</td>\n",
              "      <td>1</td>\n",
              "      <td>PAC0653</td>\n",
              "      <td>141.58</td>\n",
              "      <td>2018-03-14 13:57:34</td>\n",
              "      <td>141.58</td>\n",
              "      <td>141.58</td>\n",
              "    </tr>\n",
              "    <tr>\n",
              "      <th>293980</th>\n",
              "      <td>1650201</td>\n",
              "      <td>527400</td>\n",
              "      <td>0</td>\n",
              "      <td>2</td>\n",
              "      <td>APP0698</td>\n",
              "      <td>9.99</td>\n",
              "      <td>2018-03-14 13:57:41</td>\n",
              "      <td>9.99</td>\n",
              "      <td>19.98</td>\n",
              "    </tr>\n",
              "    <tr>\n",
              "      <th>293981</th>\n",
              "      <td>1650202</td>\n",
              "      <td>527388</td>\n",
              "      <td>0</td>\n",
              "      <td>1</td>\n",
              "      <td>BEZ0204</td>\n",
              "      <td>19.99</td>\n",
              "      <td>2018-03-14 13:58:01</td>\n",
              "      <td>19.99</td>\n",
              "      <td>19.99</td>\n",
              "    </tr>\n",
              "    <tr>\n",
              "      <th>293982</th>\n",
              "      <td>1650203</td>\n",
              "      <td>527401</td>\n",
              "      <td>0</td>\n",
              "      <td>1</td>\n",
              "      <td>APP0927</td>\n",
              "      <td>13.99</td>\n",
              "      <td>2018-03-14 13:58:36</td>\n",
              "      <td>13.99</td>\n",
              "      <td>13.99</td>\n",
              "    </tr>\n",
              "  </tbody>\n",
              "</table>\n",
              "<p>293983 rows × 9 columns</p>\n",
              "</div>\n",
              "      <button class=\"colab-df-convert\" onclick=\"convertToInteractive('df-4306e227-19b8-459f-91d3-dc27c0a0c06f')\"\n",
              "              title=\"Convert this dataframe to an interactive table.\"\n",
              "              style=\"display:none;\">\n",
              "        \n",
              "  <svg xmlns=\"http://www.w3.org/2000/svg\" height=\"24px\"viewBox=\"0 0 24 24\"\n",
              "       width=\"24px\">\n",
              "    <path d=\"M0 0h24v24H0V0z\" fill=\"none\"/>\n",
              "    <path d=\"M18.56 5.44l.94 2.06.94-2.06 2.06-.94-2.06-.94-.94-2.06-.94 2.06-2.06.94zm-11 1L8.5 8.5l.94-2.06 2.06-.94-2.06-.94L8.5 2.5l-.94 2.06-2.06.94zm10 10l.94 2.06.94-2.06 2.06-.94-2.06-.94-.94-2.06-.94 2.06-2.06.94z\"/><path d=\"M17.41 7.96l-1.37-1.37c-.4-.4-.92-.59-1.43-.59-.52 0-1.04.2-1.43.59L10.3 9.45l-7.72 7.72c-.78.78-.78 2.05 0 2.83L4 21.41c.39.39.9.59 1.41.59.51 0 1.02-.2 1.41-.59l7.78-7.78 2.81-2.81c.8-.78.8-2.07 0-2.86zM5.41 20L4 18.59l7.72-7.72 1.47 1.35L5.41 20z\"/>\n",
              "  </svg>\n",
              "      </button>\n",
              "      \n",
              "  <style>\n",
              "    .colab-df-container {\n",
              "      display:flex;\n",
              "      flex-wrap:wrap;\n",
              "      gap: 12px;\n",
              "    }\n",
              "\n",
              "    .colab-df-convert {\n",
              "      background-color: #E8F0FE;\n",
              "      border: none;\n",
              "      border-radius: 50%;\n",
              "      cursor: pointer;\n",
              "      display: none;\n",
              "      fill: #1967D2;\n",
              "      height: 32px;\n",
              "      padding: 0 0 0 0;\n",
              "      width: 32px;\n",
              "    }\n",
              "\n",
              "    .colab-df-convert:hover {\n",
              "      background-color: #E2EBFA;\n",
              "      box-shadow: 0px 1px 2px rgba(60, 64, 67, 0.3), 0px 1px 3px 1px rgba(60, 64, 67, 0.15);\n",
              "      fill: #174EA6;\n",
              "    }\n",
              "\n",
              "    [theme=dark] .colab-df-convert {\n",
              "      background-color: #3B4455;\n",
              "      fill: #D2E3FC;\n",
              "    }\n",
              "\n",
              "    [theme=dark] .colab-df-convert:hover {\n",
              "      background-color: #434B5C;\n",
              "      box-shadow: 0px 1px 3px 1px rgba(0, 0, 0, 0.15);\n",
              "      filter: drop-shadow(0px 1px 2px rgba(0, 0, 0, 0.3));\n",
              "      fill: #FFFFFF;\n",
              "    }\n",
              "  </style>\n",
              "\n",
              "      <script>\n",
              "        const buttonEl =\n",
              "          document.querySelector('#df-4306e227-19b8-459f-91d3-dc27c0a0c06f button.colab-df-convert');\n",
              "        buttonEl.style.display =\n",
              "          google.colab.kernel.accessAllowed ? 'block' : 'none';\n",
              "\n",
              "        async function convertToInteractive(key) {\n",
              "          const element = document.querySelector('#df-4306e227-19b8-459f-91d3-dc27c0a0c06f');\n",
              "          const dataTable =\n",
              "            await google.colab.kernel.invokeFunction('convertToInteractive',\n",
              "                                                     [key], {});\n",
              "          if (!dataTable) return;\n",
              "\n",
              "          const docLinkHtml = 'Like what you see? Visit the ' +\n",
              "            '<a target=\"_blank\" href=https://colab.research.google.com/notebooks/data_table.ipynb>data table notebook</a>'\n",
              "            + ' to learn more about interactive tables.';\n",
              "          element.innerHTML = '';\n",
              "          dataTable['output_type'] = 'display_data';\n",
              "          await google.colab.output.renderOutput(dataTable, element);\n",
              "          const docLink = document.createElement('div');\n",
              "          docLink.innerHTML = docLinkHtml;\n",
              "          element.appendChild(docLink);\n",
              "        }\n",
              "      </script>\n",
              "    </div>\n",
              "  </div>\n",
              "  "
            ]
          },
          "metadata": {},
          "execution_count": 151
        }
      ]
    },
    {
      "cell_type": "code",
      "source": [
        "#Drop columns\n",
        "orderlines_2sp = orderlines_2sp.drop(['unit_price'], axis=1)\n",
        "orderlines_2sp"
      ],
      "metadata": {
        "colab": {
          "base_uri": "https://localhost:8080/",
          "height": 423
        },
        "id": "SnGfllMJV1gm",
        "outputId": "23831f75-f43e-43da-cb29-c8fbf7dfa3cf"
      },
      "execution_count": 152,
      "outputs": [
        {
          "output_type": "execute_result",
          "data": {
            "text/plain": [
              "             id  id_order  product_id  product_quantity      sku  \\\n",
              "0       1119109    299539           0                 1  OTT0133   \n",
              "1       1119110    299540           0                 1  LGE0043   \n",
              "2       1119111    299541           0                 1  PAR0071   \n",
              "3       1119112    299542           0                 1  WDT0315   \n",
              "4       1119113    299543           0                 1  JBL0104   \n",
              "...         ...       ...         ...               ...      ...   \n",
              "293978  1650199    527398           0                 1  JBL0122   \n",
              "293979  1650200    527399           0                 1  PAC0653   \n",
              "293980  1650201    527400           0                 2  APP0698   \n",
              "293981  1650202    527388           0                 1  BEZ0204   \n",
              "293982  1650203    527401           0                 1  APP0927   \n",
              "\n",
              "                      date  cl_unit_price  sum_price  \n",
              "0      2017-01-01 00:07:19          18.99      18.99  \n",
              "1      2017-01-01 00:19:45         399.00     399.00  \n",
              "2      2017-01-01 00:20:57         474.05     474.05  \n",
              "3      2017-01-01 00:51:40          68.39      68.39  \n",
              "4      2017-01-01 01:06:38          23.74      23.74  \n",
              "...                    ...            ...        ...  \n",
              "293978 2018-03-14 13:57:25          42.99      42.99  \n",
              "293979 2018-03-14 13:57:34         141.58     141.58  \n",
              "293980 2018-03-14 13:57:41           9.99      19.98  \n",
              "293981 2018-03-14 13:58:01          19.99      19.99  \n",
              "293982 2018-03-14 13:58:36          13.99      13.99  \n",
              "\n",
              "[293983 rows x 8 columns]"
            ],
            "text/html": [
              "\n",
              "  <div id=\"df-d52dc1b2-b9c0-4e78-9918-13f2119f74b9\">\n",
              "    <div class=\"colab-df-container\">\n",
              "      <div>\n",
              "<style scoped>\n",
              "    .dataframe tbody tr th:only-of-type {\n",
              "        vertical-align: middle;\n",
              "    }\n",
              "\n",
              "    .dataframe tbody tr th {\n",
              "        vertical-align: top;\n",
              "    }\n",
              "\n",
              "    .dataframe thead th {\n",
              "        text-align: right;\n",
              "    }\n",
              "</style>\n",
              "<table border=\"1\" class=\"dataframe\">\n",
              "  <thead>\n",
              "    <tr style=\"text-align: right;\">\n",
              "      <th></th>\n",
              "      <th>id</th>\n",
              "      <th>id_order</th>\n",
              "      <th>product_id</th>\n",
              "      <th>product_quantity</th>\n",
              "      <th>sku</th>\n",
              "      <th>date</th>\n",
              "      <th>cl_unit_price</th>\n",
              "      <th>sum_price</th>\n",
              "    </tr>\n",
              "  </thead>\n",
              "  <tbody>\n",
              "    <tr>\n",
              "      <th>0</th>\n",
              "      <td>1119109</td>\n",
              "      <td>299539</td>\n",
              "      <td>0</td>\n",
              "      <td>1</td>\n",
              "      <td>OTT0133</td>\n",
              "      <td>2017-01-01 00:07:19</td>\n",
              "      <td>18.99</td>\n",
              "      <td>18.99</td>\n",
              "    </tr>\n",
              "    <tr>\n",
              "      <th>1</th>\n",
              "      <td>1119110</td>\n",
              "      <td>299540</td>\n",
              "      <td>0</td>\n",
              "      <td>1</td>\n",
              "      <td>LGE0043</td>\n",
              "      <td>2017-01-01 00:19:45</td>\n",
              "      <td>399.00</td>\n",
              "      <td>399.00</td>\n",
              "    </tr>\n",
              "    <tr>\n",
              "      <th>2</th>\n",
              "      <td>1119111</td>\n",
              "      <td>299541</td>\n",
              "      <td>0</td>\n",
              "      <td>1</td>\n",
              "      <td>PAR0071</td>\n",
              "      <td>2017-01-01 00:20:57</td>\n",
              "      <td>474.05</td>\n",
              "      <td>474.05</td>\n",
              "    </tr>\n",
              "    <tr>\n",
              "      <th>3</th>\n",
              "      <td>1119112</td>\n",
              "      <td>299542</td>\n",
              "      <td>0</td>\n",
              "      <td>1</td>\n",
              "      <td>WDT0315</td>\n",
              "      <td>2017-01-01 00:51:40</td>\n",
              "      <td>68.39</td>\n",
              "      <td>68.39</td>\n",
              "    </tr>\n",
              "    <tr>\n",
              "      <th>4</th>\n",
              "      <td>1119113</td>\n",
              "      <td>299543</td>\n",
              "      <td>0</td>\n",
              "      <td>1</td>\n",
              "      <td>JBL0104</td>\n",
              "      <td>2017-01-01 01:06:38</td>\n",
              "      <td>23.74</td>\n",
              "      <td>23.74</td>\n",
              "    </tr>\n",
              "    <tr>\n",
              "      <th>...</th>\n",
              "      <td>...</td>\n",
              "      <td>...</td>\n",
              "      <td>...</td>\n",
              "      <td>...</td>\n",
              "      <td>...</td>\n",
              "      <td>...</td>\n",
              "      <td>...</td>\n",
              "      <td>...</td>\n",
              "    </tr>\n",
              "    <tr>\n",
              "      <th>293978</th>\n",
              "      <td>1650199</td>\n",
              "      <td>527398</td>\n",
              "      <td>0</td>\n",
              "      <td>1</td>\n",
              "      <td>JBL0122</td>\n",
              "      <td>2018-03-14 13:57:25</td>\n",
              "      <td>42.99</td>\n",
              "      <td>42.99</td>\n",
              "    </tr>\n",
              "    <tr>\n",
              "      <th>293979</th>\n",
              "      <td>1650200</td>\n",
              "      <td>527399</td>\n",
              "      <td>0</td>\n",
              "      <td>1</td>\n",
              "      <td>PAC0653</td>\n",
              "      <td>2018-03-14 13:57:34</td>\n",
              "      <td>141.58</td>\n",
              "      <td>141.58</td>\n",
              "    </tr>\n",
              "    <tr>\n",
              "      <th>293980</th>\n",
              "      <td>1650201</td>\n",
              "      <td>527400</td>\n",
              "      <td>0</td>\n",
              "      <td>2</td>\n",
              "      <td>APP0698</td>\n",
              "      <td>2018-03-14 13:57:41</td>\n",
              "      <td>9.99</td>\n",
              "      <td>19.98</td>\n",
              "    </tr>\n",
              "    <tr>\n",
              "      <th>293981</th>\n",
              "      <td>1650202</td>\n",
              "      <td>527388</td>\n",
              "      <td>0</td>\n",
              "      <td>1</td>\n",
              "      <td>BEZ0204</td>\n",
              "      <td>2018-03-14 13:58:01</td>\n",
              "      <td>19.99</td>\n",
              "      <td>19.99</td>\n",
              "    </tr>\n",
              "    <tr>\n",
              "      <th>293982</th>\n",
              "      <td>1650203</td>\n",
              "      <td>527401</td>\n",
              "      <td>0</td>\n",
              "      <td>1</td>\n",
              "      <td>APP0927</td>\n",
              "      <td>2018-03-14 13:58:36</td>\n",
              "      <td>13.99</td>\n",
              "      <td>13.99</td>\n",
              "    </tr>\n",
              "  </tbody>\n",
              "</table>\n",
              "<p>293983 rows × 8 columns</p>\n",
              "</div>\n",
              "      <button class=\"colab-df-convert\" onclick=\"convertToInteractive('df-d52dc1b2-b9c0-4e78-9918-13f2119f74b9')\"\n",
              "              title=\"Convert this dataframe to an interactive table.\"\n",
              "              style=\"display:none;\">\n",
              "        \n",
              "  <svg xmlns=\"http://www.w3.org/2000/svg\" height=\"24px\"viewBox=\"0 0 24 24\"\n",
              "       width=\"24px\">\n",
              "    <path d=\"M0 0h24v24H0V0z\" fill=\"none\"/>\n",
              "    <path d=\"M18.56 5.44l.94 2.06.94-2.06 2.06-.94-2.06-.94-.94-2.06-.94 2.06-2.06.94zm-11 1L8.5 8.5l.94-2.06 2.06-.94-2.06-.94L8.5 2.5l-.94 2.06-2.06.94zm10 10l.94 2.06.94-2.06 2.06-.94-2.06-.94-.94-2.06-.94 2.06-2.06.94z\"/><path d=\"M17.41 7.96l-1.37-1.37c-.4-.4-.92-.59-1.43-.59-.52 0-1.04.2-1.43.59L10.3 9.45l-7.72 7.72c-.78.78-.78 2.05 0 2.83L4 21.41c.39.39.9.59 1.41.59.51 0 1.02-.2 1.41-.59l7.78-7.78 2.81-2.81c.8-.78.8-2.07 0-2.86zM5.41 20L4 18.59l7.72-7.72 1.47 1.35L5.41 20z\"/>\n",
              "  </svg>\n",
              "      </button>\n",
              "      \n",
              "  <style>\n",
              "    .colab-df-container {\n",
              "      display:flex;\n",
              "      flex-wrap:wrap;\n",
              "      gap: 12px;\n",
              "    }\n",
              "\n",
              "    .colab-df-convert {\n",
              "      background-color: #E8F0FE;\n",
              "      border: none;\n",
              "      border-radius: 50%;\n",
              "      cursor: pointer;\n",
              "      display: none;\n",
              "      fill: #1967D2;\n",
              "      height: 32px;\n",
              "      padding: 0 0 0 0;\n",
              "      width: 32px;\n",
              "    }\n",
              "\n",
              "    .colab-df-convert:hover {\n",
              "      background-color: #E2EBFA;\n",
              "      box-shadow: 0px 1px 2px rgba(60, 64, 67, 0.3), 0px 1px 3px 1px rgba(60, 64, 67, 0.15);\n",
              "      fill: #174EA6;\n",
              "    }\n",
              "\n",
              "    [theme=dark] .colab-df-convert {\n",
              "      background-color: #3B4455;\n",
              "      fill: #D2E3FC;\n",
              "    }\n",
              "\n",
              "    [theme=dark] .colab-df-convert:hover {\n",
              "      background-color: #434B5C;\n",
              "      box-shadow: 0px 1px 3px 1px rgba(0, 0, 0, 0.15);\n",
              "      filter: drop-shadow(0px 1px 2px rgba(0, 0, 0, 0.3));\n",
              "      fill: #FFFFFF;\n",
              "    }\n",
              "  </style>\n",
              "\n",
              "      <script>\n",
              "        const buttonEl =\n",
              "          document.querySelector('#df-d52dc1b2-b9c0-4e78-9918-13f2119f74b9 button.colab-df-convert');\n",
              "        buttonEl.style.display =\n",
              "          google.colab.kernel.accessAllowed ? 'block' : 'none';\n",
              "\n",
              "        async function convertToInteractive(key) {\n",
              "          const element = document.querySelector('#df-d52dc1b2-b9c0-4e78-9918-13f2119f74b9');\n",
              "          const dataTable =\n",
              "            await google.colab.kernel.invokeFunction('convertToInteractive',\n",
              "                                                     [key], {});\n",
              "          if (!dataTable) return;\n",
              "\n",
              "          const docLinkHtml = 'Like what you see? Visit the ' +\n",
              "            '<a target=\"_blank\" href=https://colab.research.google.com/notebooks/data_table.ipynb>data table notebook</a>'\n",
              "            + ' to learn more about interactive tables.';\n",
              "          element.innerHTML = '';\n",
              "          dataTable['output_type'] = 'display_data';\n",
              "          await google.colab.output.renderOutput(dataTable, element);\n",
              "          const docLink = document.createElement('div');\n",
              "          docLink.innerHTML = docLinkHtml;\n",
              "          element.appendChild(docLink);\n",
              "        }\n",
              "      </script>\n",
              "    </div>\n",
              "  </div>\n",
              "  "
            ]
          },
          "metadata": {},
          "execution_count": 152
        }
      ]
    },
    {
      "cell_type": "code",
      "source": [
        "orderlines_2sp.id_order.nunique()"
      ],
      "metadata": {
        "id": "Vy37kGTF7X9M",
        "colab": {
          "base_uri": "https://localhost:8080/"
        },
        "outputId": "90c4f4b0-8fa2-4424-ec68-e4272416932a"
      },
      "execution_count": 153,
      "outputs": [
        {
          "output_type": "execute_result",
          "data": {
            "text/plain": [
              "204855"
            ]
          },
          "metadata": {},
          "execution_count": 153
        }
      ]
    },
    {
      "cell_type": "markdown",
      "source": [
        "Different ammount of unique `id_order`\n",
        "\n",
        "`orders`: 226909\n",
        "`orderlines`: 204855"
      ],
      "metadata": {
        "id": "hZGX3EyM7nzr"
      }
    },
    {
      "cell_type": "code",
      "source": [
        "orderlines_2sp.query('product_quantity == 1').id_order.nunique()"
      ],
      "metadata": {
        "id": "dIZuGHfL8BUv",
        "colab": {
          "base_uri": "https://localhost:8080/"
        },
        "outputId": "f0a196a7-f343-42db-cfe9-fe62ccf53928"
      },
      "execution_count": 154,
      "outputs": [
        {
          "output_type": "execute_result",
          "data": {
            "text/plain": [
              "194780"
            ]
          },
          "metadata": {},
          "execution_count": 154
        }
      ]
    },
    {
      "cell_type": "code",
      "source": [
        "orderlines_2sp.query('product_quantity != 1').id_order.nunique()"
      ],
      "metadata": {
        "id": "JVSys2248W1N",
        "colab": {
          "base_uri": "https://localhost:8080/"
        },
        "outputId": "3e47eb0e-3dd1-4b2d-8860-f6f3338403f2"
      },
      "execution_count": 155,
      "outputs": [
        {
          "output_type": "execute_result",
          "data": {
            "text/plain": [
              "14734"
            ]
          },
          "metadata": {},
          "execution_count": 155
        }
      ]
    },
    {
      "cell_type": "markdown",
      "source": [
        "REP is not in `orderlines`"
      ],
      "metadata": {
        "id": "vcAI512Dnkms"
      }
    },
    {
      "cell_type": "code",
      "source": [
        "orderlines_2sp.sku.isin([\"REP\"]).sum() "
      ],
      "metadata": {
        "id": "0zNc29lT81Tg",
        "colab": {
          "base_uri": "https://localhost:8080/"
        },
        "outputId": "2e8f81ba-aff5-4f18-b1d5-3c281bca493a"
      },
      "execution_count": 156,
      "outputs": [
        {
          "output_type": "execute_result",
          "data": {
            "text/plain": [
              "0"
            ]
          },
          "metadata": {},
          "execution_count": 156
        }
      ]
    },
    {
      "cell_type": "markdown",
      "source": [
        "### Status\n",
        "All OK \n",
        "\n",
        "Last Version `orderlines_2sp`"
      ],
      "metadata": {
        "id": "8HZSZOGPPeYT"
      }
    },
    {
      "cell_type": "markdown",
      "source": [
        "# Combine Tables"
      ],
      "metadata": {
        "id": "ASaBmWSm_BnE"
      }
    },
    {
      "cell_type": "markdown",
      "source": [
        "The `products` table should be the primary reference for all the products being sold. It is likely that, during the Data Cleaning phase, you deleted many rows from `products`. Any order involving products not present there is susceptible to containing corrupted information.\n",
        "\n",
        "You might choose to deal with this in many different ways, but a conservative one would be to delete all of the potentially corrupted rows. \n",
        "\n",
        "Exclude orders with unknown products.\n",
        "\n",
        "`orderlines.sku` are in `produts.sku`. If `sku` not in `products` remove it from `orderlines.order_id` and from `orders`.  If no it will affect the Orders. \n"
      ],
      "metadata": {
        "id": "dVWx-43qQMfn"
      }
    },
    {
      "cell_type": "markdown",
      "source": [
        "### All clean Tables"
      ],
      "metadata": {
        "id": "sVNf5ZUGxu5s"
      }
    },
    {
      "cell_type": "code",
      "source": [
        "orderlines_2sp.head(1).sort_values(by=\"id_order\")"
      ],
      "metadata": {
        "colab": {
          "base_uri": "https://localhost:8080/",
          "height": 81
        },
        "id": "d0n2rODQTpdx",
        "outputId": "bd724731-cfa1-411f-8b04-2cc3424c3647"
      },
      "execution_count": 157,
      "outputs": [
        {
          "output_type": "execute_result",
          "data": {
            "text/plain": [
              "        id  id_order  product_id  product_quantity      sku  \\\n",
              "0  1119109    299539           0                 1  OTT0133   \n",
              "\n",
              "                 date  cl_unit_price  sum_price  \n",
              "0 2017-01-01 00:07:19          18.99      18.99  "
            ],
            "text/html": [
              "\n",
              "  <div id=\"df-954a99c8-54b5-4cfe-8eea-4a25761bcfe0\">\n",
              "    <div class=\"colab-df-container\">\n",
              "      <div>\n",
              "<style scoped>\n",
              "    .dataframe tbody tr th:only-of-type {\n",
              "        vertical-align: middle;\n",
              "    }\n",
              "\n",
              "    .dataframe tbody tr th {\n",
              "        vertical-align: top;\n",
              "    }\n",
              "\n",
              "    .dataframe thead th {\n",
              "        text-align: right;\n",
              "    }\n",
              "</style>\n",
              "<table border=\"1\" class=\"dataframe\">\n",
              "  <thead>\n",
              "    <tr style=\"text-align: right;\">\n",
              "      <th></th>\n",
              "      <th>id</th>\n",
              "      <th>id_order</th>\n",
              "      <th>product_id</th>\n",
              "      <th>product_quantity</th>\n",
              "      <th>sku</th>\n",
              "      <th>date</th>\n",
              "      <th>cl_unit_price</th>\n",
              "      <th>sum_price</th>\n",
              "    </tr>\n",
              "  </thead>\n",
              "  <tbody>\n",
              "    <tr>\n",
              "      <th>0</th>\n",
              "      <td>1119109</td>\n",
              "      <td>299539</td>\n",
              "      <td>0</td>\n",
              "      <td>1</td>\n",
              "      <td>OTT0133</td>\n",
              "      <td>2017-01-01 00:07:19</td>\n",
              "      <td>18.99</td>\n",
              "      <td>18.99</td>\n",
              "    </tr>\n",
              "  </tbody>\n",
              "</table>\n",
              "</div>\n",
              "      <button class=\"colab-df-convert\" onclick=\"convertToInteractive('df-954a99c8-54b5-4cfe-8eea-4a25761bcfe0')\"\n",
              "              title=\"Convert this dataframe to an interactive table.\"\n",
              "              style=\"display:none;\">\n",
              "        \n",
              "  <svg xmlns=\"http://www.w3.org/2000/svg\" height=\"24px\"viewBox=\"0 0 24 24\"\n",
              "       width=\"24px\">\n",
              "    <path d=\"M0 0h24v24H0V0z\" fill=\"none\"/>\n",
              "    <path d=\"M18.56 5.44l.94 2.06.94-2.06 2.06-.94-2.06-.94-.94-2.06-.94 2.06-2.06.94zm-11 1L8.5 8.5l.94-2.06 2.06-.94-2.06-.94L8.5 2.5l-.94 2.06-2.06.94zm10 10l.94 2.06.94-2.06 2.06-.94-2.06-.94-.94-2.06-.94 2.06-2.06.94z\"/><path d=\"M17.41 7.96l-1.37-1.37c-.4-.4-.92-.59-1.43-.59-.52 0-1.04.2-1.43.59L10.3 9.45l-7.72 7.72c-.78.78-.78 2.05 0 2.83L4 21.41c.39.39.9.59 1.41.59.51 0 1.02-.2 1.41-.59l7.78-7.78 2.81-2.81c.8-.78.8-2.07 0-2.86zM5.41 20L4 18.59l7.72-7.72 1.47 1.35L5.41 20z\"/>\n",
              "  </svg>\n",
              "      </button>\n",
              "      \n",
              "  <style>\n",
              "    .colab-df-container {\n",
              "      display:flex;\n",
              "      flex-wrap:wrap;\n",
              "      gap: 12px;\n",
              "    }\n",
              "\n",
              "    .colab-df-convert {\n",
              "      background-color: #E8F0FE;\n",
              "      border: none;\n",
              "      border-radius: 50%;\n",
              "      cursor: pointer;\n",
              "      display: none;\n",
              "      fill: #1967D2;\n",
              "      height: 32px;\n",
              "      padding: 0 0 0 0;\n",
              "      width: 32px;\n",
              "    }\n",
              "\n",
              "    .colab-df-convert:hover {\n",
              "      background-color: #E2EBFA;\n",
              "      box-shadow: 0px 1px 2px rgba(60, 64, 67, 0.3), 0px 1px 3px 1px rgba(60, 64, 67, 0.15);\n",
              "      fill: #174EA6;\n",
              "    }\n",
              "\n",
              "    [theme=dark] .colab-df-convert {\n",
              "      background-color: #3B4455;\n",
              "      fill: #D2E3FC;\n",
              "    }\n",
              "\n",
              "    [theme=dark] .colab-df-convert:hover {\n",
              "      background-color: #434B5C;\n",
              "      box-shadow: 0px 1px 3px 1px rgba(0, 0, 0, 0.15);\n",
              "      filter: drop-shadow(0px 1px 2px rgba(0, 0, 0, 0.3));\n",
              "      fill: #FFFFFF;\n",
              "    }\n",
              "  </style>\n",
              "\n",
              "      <script>\n",
              "        const buttonEl =\n",
              "          document.querySelector('#df-954a99c8-54b5-4cfe-8eea-4a25761bcfe0 button.colab-df-convert');\n",
              "        buttonEl.style.display =\n",
              "          google.colab.kernel.accessAllowed ? 'block' : 'none';\n",
              "\n",
              "        async function convertToInteractive(key) {\n",
              "          const element = document.querySelector('#df-954a99c8-54b5-4cfe-8eea-4a25761bcfe0');\n",
              "          const dataTable =\n",
              "            await google.colab.kernel.invokeFunction('convertToInteractive',\n",
              "                                                     [key], {});\n",
              "          if (!dataTable) return;\n",
              "\n",
              "          const docLinkHtml = 'Like what you see? Visit the ' +\n",
              "            '<a target=\"_blank\" href=https://colab.research.google.com/notebooks/data_table.ipynb>data table notebook</a>'\n",
              "            + ' to learn more about interactive tables.';\n",
              "          element.innerHTML = '';\n",
              "          dataTable['output_type'] = 'display_data';\n",
              "          await google.colab.output.renderOutput(dataTable, element);\n",
              "          const docLink = document.createElement('div');\n",
              "          docLink.innerHTML = docLinkHtml;\n",
              "          element.appendChild(docLink);\n",
              "        }\n",
              "      </script>\n",
              "    </div>\n",
              "  </div>\n",
              "  "
            ]
          },
          "metadata": {},
          "execution_count": 157
        }
      ]
    },
    {
      "cell_type": "code",
      "source": [
        "products_3sp.sample(1)"
      ],
      "metadata": {
        "colab": {
          "base_uri": "https://localhost:8080/",
          "height": 81
        },
        "id": "T1nQTSCbfPVP",
        "outputId": "72eec462-0f6f-4021-d5ab-fa32697b46cc"
      },
      "execution_count": 158,
      "outputs": [
        {
          "output_type": "execute_result",
          "data": {
            "text/plain": [
              "            sku     long  \\\n",
              "8736  PHI0073-A  Philips   \n",
              "\n",
              "                                                                  name  \\\n",
              "8736  Open - Philips Hue White and Color Light Bulb 10W A60 E27 Single   \n",
              "\n",
              "                                                                  desc  price  \\\n",
              "8736  Independent bulb color and white for Philips Hue open box system  59.95   \n",
              "\n",
              "     promo_price  cl_price      type  cl_deff  cl_deff_2  \n",
              "8736     450.444     59.95  11905404  -390.49       7.51  "
            ],
            "text/html": [
              "\n",
              "  <div id=\"df-d2a420df-0371-4ed1-9b03-20d92ba50e23\">\n",
              "    <div class=\"colab-df-container\">\n",
              "      <div>\n",
              "<style scoped>\n",
              "    .dataframe tbody tr th:only-of-type {\n",
              "        vertical-align: middle;\n",
              "    }\n",
              "\n",
              "    .dataframe tbody tr th {\n",
              "        vertical-align: top;\n",
              "    }\n",
              "\n",
              "    .dataframe thead th {\n",
              "        text-align: right;\n",
              "    }\n",
              "</style>\n",
              "<table border=\"1\" class=\"dataframe\">\n",
              "  <thead>\n",
              "    <tr style=\"text-align: right;\">\n",
              "      <th></th>\n",
              "      <th>sku</th>\n",
              "      <th>long</th>\n",
              "      <th>name</th>\n",
              "      <th>desc</th>\n",
              "      <th>price</th>\n",
              "      <th>promo_price</th>\n",
              "      <th>cl_price</th>\n",
              "      <th>type</th>\n",
              "      <th>cl_deff</th>\n",
              "      <th>cl_deff_2</th>\n",
              "    </tr>\n",
              "  </thead>\n",
              "  <tbody>\n",
              "    <tr>\n",
              "      <th>8736</th>\n",
              "      <td>PHI0073-A</td>\n",
              "      <td>Philips</td>\n",
              "      <td>Open - Philips Hue White and Color Light Bulb 10W A60 E27 Single</td>\n",
              "      <td>Independent bulb color and white for Philips Hue open box system</td>\n",
              "      <td>59.95</td>\n",
              "      <td>450.444</td>\n",
              "      <td>59.95</td>\n",
              "      <td>11905404</td>\n",
              "      <td>-390.49</td>\n",
              "      <td>7.51</td>\n",
              "    </tr>\n",
              "  </tbody>\n",
              "</table>\n",
              "</div>\n",
              "      <button class=\"colab-df-convert\" onclick=\"convertToInteractive('df-d2a420df-0371-4ed1-9b03-20d92ba50e23')\"\n",
              "              title=\"Convert this dataframe to an interactive table.\"\n",
              "              style=\"display:none;\">\n",
              "        \n",
              "  <svg xmlns=\"http://www.w3.org/2000/svg\" height=\"24px\"viewBox=\"0 0 24 24\"\n",
              "       width=\"24px\">\n",
              "    <path d=\"M0 0h24v24H0V0z\" fill=\"none\"/>\n",
              "    <path d=\"M18.56 5.44l.94 2.06.94-2.06 2.06-.94-2.06-.94-.94-2.06-.94 2.06-2.06.94zm-11 1L8.5 8.5l.94-2.06 2.06-.94-2.06-.94L8.5 2.5l-.94 2.06-2.06.94zm10 10l.94 2.06.94-2.06 2.06-.94-2.06-.94-.94-2.06-.94 2.06-2.06.94z\"/><path d=\"M17.41 7.96l-1.37-1.37c-.4-.4-.92-.59-1.43-.59-.52 0-1.04.2-1.43.59L10.3 9.45l-7.72 7.72c-.78.78-.78 2.05 0 2.83L4 21.41c.39.39.9.59 1.41.59.51 0 1.02-.2 1.41-.59l7.78-7.78 2.81-2.81c.8-.78.8-2.07 0-2.86zM5.41 20L4 18.59l7.72-7.72 1.47 1.35L5.41 20z\"/>\n",
              "  </svg>\n",
              "      </button>\n",
              "      \n",
              "  <style>\n",
              "    .colab-df-container {\n",
              "      display:flex;\n",
              "      flex-wrap:wrap;\n",
              "      gap: 12px;\n",
              "    }\n",
              "\n",
              "    .colab-df-convert {\n",
              "      background-color: #E8F0FE;\n",
              "      border: none;\n",
              "      border-radius: 50%;\n",
              "      cursor: pointer;\n",
              "      display: none;\n",
              "      fill: #1967D2;\n",
              "      height: 32px;\n",
              "      padding: 0 0 0 0;\n",
              "      width: 32px;\n",
              "    }\n",
              "\n",
              "    .colab-df-convert:hover {\n",
              "      background-color: #E2EBFA;\n",
              "      box-shadow: 0px 1px 2px rgba(60, 64, 67, 0.3), 0px 1px 3px 1px rgba(60, 64, 67, 0.15);\n",
              "      fill: #174EA6;\n",
              "    }\n",
              "\n",
              "    [theme=dark] .colab-df-convert {\n",
              "      background-color: #3B4455;\n",
              "      fill: #D2E3FC;\n",
              "    }\n",
              "\n",
              "    [theme=dark] .colab-df-convert:hover {\n",
              "      background-color: #434B5C;\n",
              "      box-shadow: 0px 1px 3px 1px rgba(0, 0, 0, 0.15);\n",
              "      filter: drop-shadow(0px 1px 2px rgba(0, 0, 0, 0.3));\n",
              "      fill: #FFFFFF;\n",
              "    }\n",
              "  </style>\n",
              "\n",
              "      <script>\n",
              "        const buttonEl =\n",
              "          document.querySelector('#df-d2a420df-0371-4ed1-9b03-20d92ba50e23 button.colab-df-convert');\n",
              "        buttonEl.style.display =\n",
              "          google.colab.kernel.accessAllowed ? 'block' : 'none';\n",
              "\n",
              "        async function convertToInteractive(key) {\n",
              "          const element = document.querySelector('#df-d2a420df-0371-4ed1-9b03-20d92ba50e23');\n",
              "          const dataTable =\n",
              "            await google.colab.kernel.invokeFunction('convertToInteractive',\n",
              "                                                     [key], {});\n",
              "          if (!dataTable) return;\n",
              "\n",
              "          const docLinkHtml = 'Like what you see? Visit the ' +\n",
              "            '<a target=\"_blank\" href=https://colab.research.google.com/notebooks/data_table.ipynb>data table notebook</a>'\n",
              "            + ' to learn more about interactive tables.';\n",
              "          element.innerHTML = '';\n",
              "          dataTable['output_type'] = 'display_data';\n",
              "          await google.colab.output.renderOutput(dataTable, element);\n",
              "          const docLink = document.createElement('div');\n",
              "          docLink.innerHTML = docLinkHtml;\n",
              "          element.appendChild(docLink);\n",
              "        }\n",
              "      </script>\n",
              "    </div>\n",
              "  </div>\n",
              "  "
            ]
          },
          "metadata": {},
          "execution_count": 158
        }
      ]
    },
    {
      "cell_type": "code",
      "source": [
        "orders_2sp_comp.sample(1)"
      ],
      "metadata": {
        "colab": {
          "base_uri": "https://localhost:8080/",
          "height": 81
        },
        "id": "fxWEf_9dfKCi",
        "outputId": "97613819-de05-4c2e-d5c7-5701c376e86e"
      },
      "execution_count": 159,
      "outputs": [
        {
          "output_type": "execute_result",
          "data": {
            "text/plain": [
              "        order_id        created_date  total_paid      state\n",
              "175762    476151 2017-12-29 12:39:01      110.54  Completed"
            ],
            "text/html": [
              "\n",
              "  <div id=\"df-b1b571e5-ce94-46ce-bbf2-5402542b632d\">\n",
              "    <div class=\"colab-df-container\">\n",
              "      <div>\n",
              "<style scoped>\n",
              "    .dataframe tbody tr th:only-of-type {\n",
              "        vertical-align: middle;\n",
              "    }\n",
              "\n",
              "    .dataframe tbody tr th {\n",
              "        vertical-align: top;\n",
              "    }\n",
              "\n",
              "    .dataframe thead th {\n",
              "        text-align: right;\n",
              "    }\n",
              "</style>\n",
              "<table border=\"1\" class=\"dataframe\">\n",
              "  <thead>\n",
              "    <tr style=\"text-align: right;\">\n",
              "      <th></th>\n",
              "      <th>order_id</th>\n",
              "      <th>created_date</th>\n",
              "      <th>total_paid</th>\n",
              "      <th>state</th>\n",
              "    </tr>\n",
              "  </thead>\n",
              "  <tbody>\n",
              "    <tr>\n",
              "      <th>175762</th>\n",
              "      <td>476151</td>\n",
              "      <td>2017-12-29 12:39:01</td>\n",
              "      <td>110.54</td>\n",
              "      <td>Completed</td>\n",
              "    </tr>\n",
              "  </tbody>\n",
              "</table>\n",
              "</div>\n",
              "      <button class=\"colab-df-convert\" onclick=\"convertToInteractive('df-b1b571e5-ce94-46ce-bbf2-5402542b632d')\"\n",
              "              title=\"Convert this dataframe to an interactive table.\"\n",
              "              style=\"display:none;\">\n",
              "        \n",
              "  <svg xmlns=\"http://www.w3.org/2000/svg\" height=\"24px\"viewBox=\"0 0 24 24\"\n",
              "       width=\"24px\">\n",
              "    <path d=\"M0 0h24v24H0V0z\" fill=\"none\"/>\n",
              "    <path d=\"M18.56 5.44l.94 2.06.94-2.06 2.06-.94-2.06-.94-.94-2.06-.94 2.06-2.06.94zm-11 1L8.5 8.5l.94-2.06 2.06-.94-2.06-.94L8.5 2.5l-.94 2.06-2.06.94zm10 10l.94 2.06.94-2.06 2.06-.94-2.06-.94-.94-2.06-.94 2.06-2.06.94z\"/><path d=\"M17.41 7.96l-1.37-1.37c-.4-.4-.92-.59-1.43-.59-.52 0-1.04.2-1.43.59L10.3 9.45l-7.72 7.72c-.78.78-.78 2.05 0 2.83L4 21.41c.39.39.9.59 1.41.59.51 0 1.02-.2 1.41-.59l7.78-7.78 2.81-2.81c.8-.78.8-2.07 0-2.86zM5.41 20L4 18.59l7.72-7.72 1.47 1.35L5.41 20z\"/>\n",
              "  </svg>\n",
              "      </button>\n",
              "      \n",
              "  <style>\n",
              "    .colab-df-container {\n",
              "      display:flex;\n",
              "      flex-wrap:wrap;\n",
              "      gap: 12px;\n",
              "    }\n",
              "\n",
              "    .colab-df-convert {\n",
              "      background-color: #E8F0FE;\n",
              "      border: none;\n",
              "      border-radius: 50%;\n",
              "      cursor: pointer;\n",
              "      display: none;\n",
              "      fill: #1967D2;\n",
              "      height: 32px;\n",
              "      padding: 0 0 0 0;\n",
              "      width: 32px;\n",
              "    }\n",
              "\n",
              "    .colab-df-convert:hover {\n",
              "      background-color: #E2EBFA;\n",
              "      box-shadow: 0px 1px 2px rgba(60, 64, 67, 0.3), 0px 1px 3px 1px rgba(60, 64, 67, 0.15);\n",
              "      fill: #174EA6;\n",
              "    }\n",
              "\n",
              "    [theme=dark] .colab-df-convert {\n",
              "      background-color: #3B4455;\n",
              "      fill: #D2E3FC;\n",
              "    }\n",
              "\n",
              "    [theme=dark] .colab-df-convert:hover {\n",
              "      background-color: #434B5C;\n",
              "      box-shadow: 0px 1px 3px 1px rgba(0, 0, 0, 0.15);\n",
              "      filter: drop-shadow(0px 1px 2px rgba(0, 0, 0, 0.3));\n",
              "      fill: #FFFFFF;\n",
              "    }\n",
              "  </style>\n",
              "\n",
              "      <script>\n",
              "        const buttonEl =\n",
              "          document.querySelector('#df-b1b571e5-ce94-46ce-bbf2-5402542b632d button.colab-df-convert');\n",
              "        buttonEl.style.display =\n",
              "          google.colab.kernel.accessAllowed ? 'block' : 'none';\n",
              "\n",
              "        async function convertToInteractive(key) {\n",
              "          const element = document.querySelector('#df-b1b571e5-ce94-46ce-bbf2-5402542b632d');\n",
              "          const dataTable =\n",
              "            await google.colab.kernel.invokeFunction('convertToInteractive',\n",
              "                                                     [key], {});\n",
              "          if (!dataTable) return;\n",
              "\n",
              "          const docLinkHtml = 'Like what you see? Visit the ' +\n",
              "            '<a target=\"_blank\" href=https://colab.research.google.com/notebooks/data_table.ipynb>data table notebook</a>'\n",
              "            + ' to learn more about interactive tables.';\n",
              "          element.innerHTML = '';\n",
              "          dataTable['output_type'] = 'display_data';\n",
              "          await google.colab.output.renderOutput(dataTable, element);\n",
              "          const docLink = document.createElement('div');\n",
              "          docLink.innerHTML = docLinkHtml;\n",
              "          element.appendChild(docLink);\n",
              "        }\n",
              "      </script>\n",
              "    </div>\n",
              "  </div>\n",
              "  "
            ]
          },
          "metadata": {},
          "execution_count": 159
        }
      ]
    },
    {
      "cell_type": "code",
      "source": [
        "orderlines_in_prod = orderlines_2sp.merge(\n",
        "    products_3sp,\n",
        "    how = \"left\",\n",
        "    left_on = 'sku',\n",
        "    right_on = 'sku'\n",
        ")\n",
        "\n",
        "len(set(orderlines_in_prod.sku)), len(set(orderlines_2sp.sku))"
      ],
      "metadata": {
        "colab": {
          "base_uri": "https://localhost:8080/"
        },
        "id": "FQaEMYsRUXQa",
        "outputId": "2864a68c-0ef5-4587-ef2d-6d701a6bc0b1"
      },
      "execution_count": 160,
      "outputs": [
        {
          "output_type": "execute_result",
          "data": {
            "text/plain": [
              "(7951, 7951)"
            ]
          },
          "metadata": {},
          "execution_count": 160
        }
      ]
    },
    {
      "cell_type": "code",
      "source": [
        "orderlines_in_prod.isna().sum() #NA from products"
      ],
      "metadata": {
        "colab": {
          "base_uri": "https://localhost:8080/"
        },
        "id": "2OBu8Hgyi18V",
        "outputId": "590f1a64-56b0-4ace-d043-986953ce83a9"
      },
      "execution_count": 161,
      "outputs": [
        {
          "output_type": "execute_result",
          "data": {
            "text/plain": [
              "id                     0\n",
              "id_order               0\n",
              "product_id             0\n",
              "product_quantity       0\n",
              "sku                    0\n",
              "date                   0\n",
              "cl_unit_price          1\n",
              "sum_price              1\n",
              "long                2031\n",
              "name                2031\n",
              "desc                2031\n",
              "price               2031\n",
              "promo_price         2031\n",
              "cl_price            2031\n",
              "type                2031\n",
              "cl_deff             2031\n",
              "cl_deff_2           2031\n",
              "dtype: int64"
            ]
          },
          "metadata": {},
          "execution_count": 161
        }
      ]
    },
    {
      "cell_type": "markdown",
      "source": [
        "This `ska` and `id_order` are not in `produkts`."
      ],
      "metadata": {
        "id": "WJUgEjqRq1IZ"
      }
    },
    {
      "cell_type": "code",
      "source": [
        "orderlines_in_prod[orderlines_in_prod['type'].isna()].tail(5)"
      ],
      "metadata": {
        "colab": {
          "base_uri": "https://localhost:8080/",
          "height": 206
        },
        "id": "xhT70b-HgjOg",
        "outputId": "34ae48f7-10a5-40d1-b72a-160a844a3c0a"
      },
      "execution_count": 162,
      "outputs": [
        {
          "output_type": "execute_result",
          "data": {
            "text/plain": [
              "             id  id_order  product_id  product_quantity      sku  \\\n",
              "291957  1646559    525670           0                 1  DOD0010   \n",
              "292161  1646897    523315           0                 1  LUM0008   \n",
              "292194  1646975    525863           0                 1  UBT0009   \n",
              "292356  1647280    526003           0                 1  NET0028   \n",
              "293648  1649570    527099           0                 2  CAL0010   \n",
              "\n",
              "                      date  cl_unit_price  sum_price long name desc price  \\\n",
              "291957 2018-03-11 22:54:41          21.99      21.99  NaN  NaN  NaN   NaN   \n",
              "292161 2018-03-12 11:07:33          59.99      59.99  NaN  NaN  NaN   NaN   \n",
              "292194 2018-03-12 12:03:31         159.95     159.95  NaN  NaN  NaN   NaN   \n",
              "292356 2018-03-12 15:59:19         404.99     404.99  NaN  NaN  NaN   NaN   \n",
              "293648 2018-03-14 11:54:58         299.99     599.98  NaN  NaN  NaN   NaN   \n",
              "\n",
              "       promo_price  cl_price type  cl_deff  cl_deff_2  \n",
              "291957         NaN       NaN  NaN      NaN        NaN  \n",
              "292161         NaN       NaN  NaN      NaN        NaN  \n",
              "292194         NaN       NaN  NaN      NaN        NaN  \n",
              "292356         NaN       NaN  NaN      NaN        NaN  \n",
              "293648         NaN       NaN  NaN      NaN        NaN  "
            ],
            "text/html": [
              "\n",
              "  <div id=\"df-8b874f95-5a40-42a7-9edf-99b8047fea76\">\n",
              "    <div class=\"colab-df-container\">\n",
              "      <div>\n",
              "<style scoped>\n",
              "    .dataframe tbody tr th:only-of-type {\n",
              "        vertical-align: middle;\n",
              "    }\n",
              "\n",
              "    .dataframe tbody tr th {\n",
              "        vertical-align: top;\n",
              "    }\n",
              "\n",
              "    .dataframe thead th {\n",
              "        text-align: right;\n",
              "    }\n",
              "</style>\n",
              "<table border=\"1\" class=\"dataframe\">\n",
              "  <thead>\n",
              "    <tr style=\"text-align: right;\">\n",
              "      <th></th>\n",
              "      <th>id</th>\n",
              "      <th>id_order</th>\n",
              "      <th>product_id</th>\n",
              "      <th>product_quantity</th>\n",
              "      <th>sku</th>\n",
              "      <th>date</th>\n",
              "      <th>cl_unit_price</th>\n",
              "      <th>sum_price</th>\n",
              "      <th>long</th>\n",
              "      <th>name</th>\n",
              "      <th>desc</th>\n",
              "      <th>price</th>\n",
              "      <th>promo_price</th>\n",
              "      <th>cl_price</th>\n",
              "      <th>type</th>\n",
              "      <th>cl_deff</th>\n",
              "      <th>cl_deff_2</th>\n",
              "    </tr>\n",
              "  </thead>\n",
              "  <tbody>\n",
              "    <tr>\n",
              "      <th>291957</th>\n",
              "      <td>1646559</td>\n",
              "      <td>525670</td>\n",
              "      <td>0</td>\n",
              "      <td>1</td>\n",
              "      <td>DOD0010</td>\n",
              "      <td>2018-03-11 22:54:41</td>\n",
              "      <td>21.99</td>\n",
              "      <td>21.99</td>\n",
              "      <td>NaN</td>\n",
              "      <td>NaN</td>\n",
              "      <td>NaN</td>\n",
              "      <td>NaN</td>\n",
              "      <td>NaN</td>\n",
              "      <td>NaN</td>\n",
              "      <td>NaN</td>\n",
              "      <td>NaN</td>\n",
              "      <td>NaN</td>\n",
              "    </tr>\n",
              "    <tr>\n",
              "      <th>292161</th>\n",
              "      <td>1646897</td>\n",
              "      <td>523315</td>\n",
              "      <td>0</td>\n",
              "      <td>1</td>\n",
              "      <td>LUM0008</td>\n",
              "      <td>2018-03-12 11:07:33</td>\n",
              "      <td>59.99</td>\n",
              "      <td>59.99</td>\n",
              "      <td>NaN</td>\n",
              "      <td>NaN</td>\n",
              "      <td>NaN</td>\n",
              "      <td>NaN</td>\n",
              "      <td>NaN</td>\n",
              "      <td>NaN</td>\n",
              "      <td>NaN</td>\n",
              "      <td>NaN</td>\n",
              "      <td>NaN</td>\n",
              "    </tr>\n",
              "    <tr>\n",
              "      <th>292194</th>\n",
              "      <td>1646975</td>\n",
              "      <td>525863</td>\n",
              "      <td>0</td>\n",
              "      <td>1</td>\n",
              "      <td>UBT0009</td>\n",
              "      <td>2018-03-12 12:03:31</td>\n",
              "      <td>159.95</td>\n",
              "      <td>159.95</td>\n",
              "      <td>NaN</td>\n",
              "      <td>NaN</td>\n",
              "      <td>NaN</td>\n",
              "      <td>NaN</td>\n",
              "      <td>NaN</td>\n",
              "      <td>NaN</td>\n",
              "      <td>NaN</td>\n",
              "      <td>NaN</td>\n",
              "      <td>NaN</td>\n",
              "    </tr>\n",
              "    <tr>\n",
              "      <th>292356</th>\n",
              "      <td>1647280</td>\n",
              "      <td>526003</td>\n",
              "      <td>0</td>\n",
              "      <td>1</td>\n",
              "      <td>NET0028</td>\n",
              "      <td>2018-03-12 15:59:19</td>\n",
              "      <td>404.99</td>\n",
              "      <td>404.99</td>\n",
              "      <td>NaN</td>\n",
              "      <td>NaN</td>\n",
              "      <td>NaN</td>\n",
              "      <td>NaN</td>\n",
              "      <td>NaN</td>\n",
              "      <td>NaN</td>\n",
              "      <td>NaN</td>\n",
              "      <td>NaN</td>\n",
              "      <td>NaN</td>\n",
              "    </tr>\n",
              "    <tr>\n",
              "      <th>293648</th>\n",
              "      <td>1649570</td>\n",
              "      <td>527099</td>\n",
              "      <td>0</td>\n",
              "      <td>2</td>\n",
              "      <td>CAL0010</td>\n",
              "      <td>2018-03-14 11:54:58</td>\n",
              "      <td>299.99</td>\n",
              "      <td>599.98</td>\n",
              "      <td>NaN</td>\n",
              "      <td>NaN</td>\n",
              "      <td>NaN</td>\n",
              "      <td>NaN</td>\n",
              "      <td>NaN</td>\n",
              "      <td>NaN</td>\n",
              "      <td>NaN</td>\n",
              "      <td>NaN</td>\n",
              "      <td>NaN</td>\n",
              "    </tr>\n",
              "  </tbody>\n",
              "</table>\n",
              "</div>\n",
              "      <button class=\"colab-df-convert\" onclick=\"convertToInteractive('df-8b874f95-5a40-42a7-9edf-99b8047fea76')\"\n",
              "              title=\"Convert this dataframe to an interactive table.\"\n",
              "              style=\"display:none;\">\n",
              "        \n",
              "  <svg xmlns=\"http://www.w3.org/2000/svg\" height=\"24px\"viewBox=\"0 0 24 24\"\n",
              "       width=\"24px\">\n",
              "    <path d=\"M0 0h24v24H0V0z\" fill=\"none\"/>\n",
              "    <path d=\"M18.56 5.44l.94 2.06.94-2.06 2.06-.94-2.06-.94-.94-2.06-.94 2.06-2.06.94zm-11 1L8.5 8.5l.94-2.06 2.06-.94-2.06-.94L8.5 2.5l-.94 2.06-2.06.94zm10 10l.94 2.06.94-2.06 2.06-.94-2.06-.94-.94-2.06-.94 2.06-2.06.94z\"/><path d=\"M17.41 7.96l-1.37-1.37c-.4-.4-.92-.59-1.43-.59-.52 0-1.04.2-1.43.59L10.3 9.45l-7.72 7.72c-.78.78-.78 2.05 0 2.83L4 21.41c.39.39.9.59 1.41.59.51 0 1.02-.2 1.41-.59l7.78-7.78 2.81-2.81c.8-.78.8-2.07 0-2.86zM5.41 20L4 18.59l7.72-7.72 1.47 1.35L5.41 20z\"/>\n",
              "  </svg>\n",
              "      </button>\n",
              "      \n",
              "  <style>\n",
              "    .colab-df-container {\n",
              "      display:flex;\n",
              "      flex-wrap:wrap;\n",
              "      gap: 12px;\n",
              "    }\n",
              "\n",
              "    .colab-df-convert {\n",
              "      background-color: #E8F0FE;\n",
              "      border: none;\n",
              "      border-radius: 50%;\n",
              "      cursor: pointer;\n",
              "      display: none;\n",
              "      fill: #1967D2;\n",
              "      height: 32px;\n",
              "      padding: 0 0 0 0;\n",
              "      width: 32px;\n",
              "    }\n",
              "\n",
              "    .colab-df-convert:hover {\n",
              "      background-color: #E2EBFA;\n",
              "      box-shadow: 0px 1px 2px rgba(60, 64, 67, 0.3), 0px 1px 3px 1px rgba(60, 64, 67, 0.15);\n",
              "      fill: #174EA6;\n",
              "    }\n",
              "\n",
              "    [theme=dark] .colab-df-convert {\n",
              "      background-color: #3B4455;\n",
              "      fill: #D2E3FC;\n",
              "    }\n",
              "\n",
              "    [theme=dark] .colab-df-convert:hover {\n",
              "      background-color: #434B5C;\n",
              "      box-shadow: 0px 1px 3px 1px rgba(0, 0, 0, 0.15);\n",
              "      filter: drop-shadow(0px 1px 2px rgba(0, 0, 0, 0.3));\n",
              "      fill: #FFFFFF;\n",
              "    }\n",
              "  </style>\n",
              "\n",
              "      <script>\n",
              "        const buttonEl =\n",
              "          document.querySelector('#df-8b874f95-5a40-42a7-9edf-99b8047fea76 button.colab-df-convert');\n",
              "        buttonEl.style.display =\n",
              "          google.colab.kernel.accessAllowed ? 'block' : 'none';\n",
              "\n",
              "        async function convertToInteractive(key) {\n",
              "          const element = document.querySelector('#df-8b874f95-5a40-42a7-9edf-99b8047fea76');\n",
              "          const dataTable =\n",
              "            await google.colab.kernel.invokeFunction('convertToInteractive',\n",
              "                                                     [key], {});\n",
              "          if (!dataTable) return;\n",
              "\n",
              "          const docLinkHtml = 'Like what you see? Visit the ' +\n",
              "            '<a target=\"_blank\" href=https://colab.research.google.com/notebooks/data_table.ipynb>data table notebook</a>'\n",
              "            + ' to learn more about interactive tables.';\n",
              "          element.innerHTML = '';\n",
              "          dataTable['output_type'] = 'display_data';\n",
              "          await google.colab.output.renderOutput(dataTable, element);\n",
              "          const docLink = document.createElement('div');\n",
              "          docLink.innerHTML = docLinkHtml;\n",
              "          element.appendChild(docLink);\n",
              "        }\n",
              "      </script>\n",
              "    </div>\n",
              "  </div>\n",
              "  "
            ]
          },
          "metadata": {},
          "execution_count": 162
        }
      ]
    },
    {
      "cell_type": "code",
      "source": [
        "drop_ids = list(orderlines_in_prod[orderlines_in_prod['type'].isna()].id_order.drop_duplicates())"
      ],
      "metadata": {
        "id": "LQAzUjS9rM1i"
      },
      "execution_count": 163,
      "outputs": []
    },
    {
      "cell_type": "markdown",
      "source": [
        "Remove no corresponding `id_orders` from `orderlines`"
      ],
      "metadata": {
        "id": "Wksjc0E4wrsh"
      }
    },
    {
      "cell_type": "code",
      "source": [
        "orderlines_3sp = orderlines_2sp.set_index(\"id_order\").drop(drop_ids, axis=0).reset_index().copy()"
      ],
      "metadata": {
        "id": "H3ZYmVdZqCho"
      },
      "execution_count": 164,
      "outputs": []
    },
    {
      "cell_type": "code",
      "source": [
        "orderlines_2sp.shape, orderlines_3sp.shape"
      ],
      "metadata": {
        "colab": {
          "base_uri": "https://localhost:8080/"
        },
        "id": "6fY5E1l2vybx",
        "outputId": "ab1ff384-ef45-48b2-d92b-eca679944fbd"
      },
      "execution_count": 165,
      "outputs": [
        {
          "output_type": "execute_result",
          "data": {
            "text/plain": [
              "((293983, 8), (289669, 8))"
            ]
          },
          "metadata": {},
          "execution_count": 165
        }
      ]
    },
    {
      "cell_type": "markdown",
      "source": [
        "Remove no corresponding `order_id` from `orders`\n"
      ],
      "metadata": {
        "id": "_Vs_6EyHxYif"
      }
    },
    {
      "cell_type": "code",
      "source": [
        "# Convert drop_ids to a set for faster membership checking\n",
        "drop_ids_set = set(drop_ids)\n",
        "\n",
        "# Filter rows with existing index values\n",
        "orders_3sp_comp = orders_2sp_comp.set_index(\"order_id\").loc[lambda x: x.index.isin(drop_ids_set) == False].reset_index()\n",
        "orders_3sp_comp"
      ],
      "metadata": {
        "colab": {
          "base_uri": "https://localhost:8080/",
          "height": 423
        },
        "id": "HTZc3y5f40nU",
        "outputId": "aee66422-dac1-47da-e1f1-ce2e7cf7cc16"
      },
      "execution_count": 166,
      "outputs": [
        {
          "output_type": "execute_result",
          "data": {
            "text/plain": [
              "       order_id        created_date  total_paid      state\n",
              "0        241423 2017-11-06 13:10:02      136.15  Completed\n",
              "1        242832 2017-12-31 17:40:03       15.76  Completed\n",
              "2        243330 2017-02-16 10:59:38       84.98  Completed\n",
              "3        245275 2017-06-28 11:35:37      149.00  Completed\n",
              "4        245595 2017-01-21 12:52:47      112.97  Completed\n",
              "...         ...                 ...         ...        ...\n",
              "46157    527042 2018-03-14 11:47:50       18.98  Completed\n",
              "46158    527070 2018-03-14 11:50:48       24.97  Completed\n",
              "46159    527074 2018-03-14 11:51:42       24.97  Completed\n",
              "46160    527096 2018-03-14 11:58:40       34.96  Completed\n",
              "46161    527112 2018-03-14 12:03:52       14.98  Completed\n",
              "\n",
              "[46162 rows x 4 columns]"
            ],
            "text/html": [
              "\n",
              "  <div id=\"df-4d6ea18c-b4ad-4828-b3be-bcc2c7f3859c\">\n",
              "    <div class=\"colab-df-container\">\n",
              "      <div>\n",
              "<style scoped>\n",
              "    .dataframe tbody tr th:only-of-type {\n",
              "        vertical-align: middle;\n",
              "    }\n",
              "\n",
              "    .dataframe tbody tr th {\n",
              "        vertical-align: top;\n",
              "    }\n",
              "\n",
              "    .dataframe thead th {\n",
              "        text-align: right;\n",
              "    }\n",
              "</style>\n",
              "<table border=\"1\" class=\"dataframe\">\n",
              "  <thead>\n",
              "    <tr style=\"text-align: right;\">\n",
              "      <th></th>\n",
              "      <th>order_id</th>\n",
              "      <th>created_date</th>\n",
              "      <th>total_paid</th>\n",
              "      <th>state</th>\n",
              "    </tr>\n",
              "  </thead>\n",
              "  <tbody>\n",
              "    <tr>\n",
              "      <th>0</th>\n",
              "      <td>241423</td>\n",
              "      <td>2017-11-06 13:10:02</td>\n",
              "      <td>136.15</td>\n",
              "      <td>Completed</td>\n",
              "    </tr>\n",
              "    <tr>\n",
              "      <th>1</th>\n",
              "      <td>242832</td>\n",
              "      <td>2017-12-31 17:40:03</td>\n",
              "      <td>15.76</td>\n",
              "      <td>Completed</td>\n",
              "    </tr>\n",
              "    <tr>\n",
              "      <th>2</th>\n",
              "      <td>243330</td>\n",
              "      <td>2017-02-16 10:59:38</td>\n",
              "      <td>84.98</td>\n",
              "      <td>Completed</td>\n",
              "    </tr>\n",
              "    <tr>\n",
              "      <th>3</th>\n",
              "      <td>245275</td>\n",
              "      <td>2017-06-28 11:35:37</td>\n",
              "      <td>149.00</td>\n",
              "      <td>Completed</td>\n",
              "    </tr>\n",
              "    <tr>\n",
              "      <th>4</th>\n",
              "      <td>245595</td>\n",
              "      <td>2017-01-21 12:52:47</td>\n",
              "      <td>112.97</td>\n",
              "      <td>Completed</td>\n",
              "    </tr>\n",
              "    <tr>\n",
              "      <th>...</th>\n",
              "      <td>...</td>\n",
              "      <td>...</td>\n",
              "      <td>...</td>\n",
              "      <td>...</td>\n",
              "    </tr>\n",
              "    <tr>\n",
              "      <th>46157</th>\n",
              "      <td>527042</td>\n",
              "      <td>2018-03-14 11:47:50</td>\n",
              "      <td>18.98</td>\n",
              "      <td>Completed</td>\n",
              "    </tr>\n",
              "    <tr>\n",
              "      <th>46158</th>\n",
              "      <td>527070</td>\n",
              "      <td>2018-03-14 11:50:48</td>\n",
              "      <td>24.97</td>\n",
              "      <td>Completed</td>\n",
              "    </tr>\n",
              "    <tr>\n",
              "      <th>46159</th>\n",
              "      <td>527074</td>\n",
              "      <td>2018-03-14 11:51:42</td>\n",
              "      <td>24.97</td>\n",
              "      <td>Completed</td>\n",
              "    </tr>\n",
              "    <tr>\n",
              "      <th>46160</th>\n",
              "      <td>527096</td>\n",
              "      <td>2018-03-14 11:58:40</td>\n",
              "      <td>34.96</td>\n",
              "      <td>Completed</td>\n",
              "    </tr>\n",
              "    <tr>\n",
              "      <th>46161</th>\n",
              "      <td>527112</td>\n",
              "      <td>2018-03-14 12:03:52</td>\n",
              "      <td>14.98</td>\n",
              "      <td>Completed</td>\n",
              "    </tr>\n",
              "  </tbody>\n",
              "</table>\n",
              "<p>46162 rows × 4 columns</p>\n",
              "</div>\n",
              "      <button class=\"colab-df-convert\" onclick=\"convertToInteractive('df-4d6ea18c-b4ad-4828-b3be-bcc2c7f3859c')\"\n",
              "              title=\"Convert this dataframe to an interactive table.\"\n",
              "              style=\"display:none;\">\n",
              "        \n",
              "  <svg xmlns=\"http://www.w3.org/2000/svg\" height=\"24px\"viewBox=\"0 0 24 24\"\n",
              "       width=\"24px\">\n",
              "    <path d=\"M0 0h24v24H0V0z\" fill=\"none\"/>\n",
              "    <path d=\"M18.56 5.44l.94 2.06.94-2.06 2.06-.94-2.06-.94-.94-2.06-.94 2.06-2.06.94zm-11 1L8.5 8.5l.94-2.06 2.06-.94-2.06-.94L8.5 2.5l-.94 2.06-2.06.94zm10 10l.94 2.06.94-2.06 2.06-.94-2.06-.94-.94-2.06-.94 2.06-2.06.94z\"/><path d=\"M17.41 7.96l-1.37-1.37c-.4-.4-.92-.59-1.43-.59-.52 0-1.04.2-1.43.59L10.3 9.45l-7.72 7.72c-.78.78-.78 2.05 0 2.83L4 21.41c.39.39.9.59 1.41.59.51 0 1.02-.2 1.41-.59l7.78-7.78 2.81-2.81c.8-.78.8-2.07 0-2.86zM5.41 20L4 18.59l7.72-7.72 1.47 1.35L5.41 20z\"/>\n",
              "  </svg>\n",
              "      </button>\n",
              "      \n",
              "  <style>\n",
              "    .colab-df-container {\n",
              "      display:flex;\n",
              "      flex-wrap:wrap;\n",
              "      gap: 12px;\n",
              "    }\n",
              "\n",
              "    .colab-df-convert {\n",
              "      background-color: #E8F0FE;\n",
              "      border: none;\n",
              "      border-radius: 50%;\n",
              "      cursor: pointer;\n",
              "      display: none;\n",
              "      fill: #1967D2;\n",
              "      height: 32px;\n",
              "      padding: 0 0 0 0;\n",
              "      width: 32px;\n",
              "    }\n",
              "\n",
              "    .colab-df-convert:hover {\n",
              "      background-color: #E2EBFA;\n",
              "      box-shadow: 0px 1px 2px rgba(60, 64, 67, 0.3), 0px 1px 3px 1px rgba(60, 64, 67, 0.15);\n",
              "      fill: #174EA6;\n",
              "    }\n",
              "\n",
              "    [theme=dark] .colab-df-convert {\n",
              "      background-color: #3B4455;\n",
              "      fill: #D2E3FC;\n",
              "    }\n",
              "\n",
              "    [theme=dark] .colab-df-convert:hover {\n",
              "      background-color: #434B5C;\n",
              "      box-shadow: 0px 1px 3px 1px rgba(0, 0, 0, 0.15);\n",
              "      filter: drop-shadow(0px 1px 2px rgba(0, 0, 0, 0.3));\n",
              "      fill: #FFFFFF;\n",
              "    }\n",
              "  </style>\n",
              "\n",
              "      <script>\n",
              "        const buttonEl =\n",
              "          document.querySelector('#df-4d6ea18c-b4ad-4828-b3be-bcc2c7f3859c button.colab-df-convert');\n",
              "        buttonEl.style.display =\n",
              "          google.colab.kernel.accessAllowed ? 'block' : 'none';\n",
              "\n",
              "        async function convertToInteractive(key) {\n",
              "          const element = document.querySelector('#df-4d6ea18c-b4ad-4828-b3be-bcc2c7f3859c');\n",
              "          const dataTable =\n",
              "            await google.colab.kernel.invokeFunction('convertToInteractive',\n",
              "                                                     [key], {});\n",
              "          if (!dataTable) return;\n",
              "\n",
              "          const docLinkHtml = 'Like what you see? Visit the ' +\n",
              "            '<a target=\"_blank\" href=https://colab.research.google.com/notebooks/data_table.ipynb>data table notebook</a>'\n",
              "            + ' to learn more about interactive tables.';\n",
              "          element.innerHTML = '';\n",
              "          dataTable['output_type'] = 'display_data';\n",
              "          await google.colab.output.renderOutput(dataTable, element);\n",
              "          const docLink = document.createElement('div');\n",
              "          docLink.innerHTML = docLinkHtml;\n",
              "          element.appendChild(docLink);\n",
              "        }\n",
              "      </script>\n",
              "    </div>\n",
              "  </div>\n",
              "  "
            ]
          },
          "metadata": {},
          "execution_count": 166
        }
      ]
    },
    {
      "cell_type": "markdown",
      "source": [
        "# Big table"
      ],
      "metadata": {
        "id": "j65CLX7lUGox"
      }
    },
    {
      "cell_type": "code",
      "source": [
        "all_commbine = (\n",
        "orders_3sp_comp\n",
        " .merge(\n",
        "    orderlines_1sp, \n",
        "    how = \"inner\", \n",
        "    left_on =\"order_id\", \n",
        "    right_on =\"id_order\")\n",
        " .merge(\n",
        "    products_3sp, \n",
        "    how = \"inner\",\n",
        "    left_on = \"sku\",\n",
        "    right_on = \"sku\")\n",
        " .copy()\n",
        ")"
      ],
      "metadata": {
        "id": "OV9w7T4v_ViY"
      },
      "execution_count": 167,
      "outputs": []
    },
    {
      "cell_type": "code",
      "source": [
        "(\n",
        "all_commbine[(all_commbine.product_quantity == 1)\n",
        "           & (all_commbine.state == \"Completed\")\n",
        "           & (all_commbine.total_paid > 100) \n",
        "           & (all_commbine.total_paid < 100000) ]\n",
        "            [[\"total_paid\", \n",
        "              \"product_quantity\",\n",
        "              'cl_unit_price',\n",
        "              'cl_price']]\n",
        "              .sort_values(by=\"total_paid\")\n",
        "              .drop_duplicates()\n",
        ")"
      ],
      "metadata": {
        "id": "udpQGlhDJxAQ",
        "colab": {
          "base_uri": "https://localhost:8080/",
          "height": 423
        },
        "outputId": "fd9a5893-4029-435d-c0ea-96371e416bd3"
      },
      "execution_count": 168,
      "outputs": [
        {
          "output_type": "execute_result",
          "data": {
            "text/plain": [
              "       total_paid  product_quantity  cl_unit_price  cl_price\n",
              "12773      100.15                 1          80.16    107.98\n",
              "55545      100.15                 1          80.16    129.90\n",
              "32364      100.19                 1          95.20    124.99\n",
              "35809      100.24                 1          93.25    105.00\n",
              "10239      100.26                 1          17.99     29.99\n",
              "...           ...               ...            ...       ...\n",
              "31776     9987.76                 1         429.00    429.00\n",
              "19046     9987.76                 1          63.20     79.00\n",
              "41421     9987.76                 1        1112.99   1159.00\n",
              "47294    10586.97                 1        2713.59   2849.00\n",
              "47630    10586.97                 1        2156.59   2339.00\n",
              "\n",
              "[23938 rows x 4 columns]"
            ],
            "text/html": [
              "\n",
              "  <div id=\"df-f36dc13f-772f-4f9e-9c00-44edeec9a052\">\n",
              "    <div class=\"colab-df-container\">\n",
              "      <div>\n",
              "<style scoped>\n",
              "    .dataframe tbody tr th:only-of-type {\n",
              "        vertical-align: middle;\n",
              "    }\n",
              "\n",
              "    .dataframe tbody tr th {\n",
              "        vertical-align: top;\n",
              "    }\n",
              "\n",
              "    .dataframe thead th {\n",
              "        text-align: right;\n",
              "    }\n",
              "</style>\n",
              "<table border=\"1\" class=\"dataframe\">\n",
              "  <thead>\n",
              "    <tr style=\"text-align: right;\">\n",
              "      <th></th>\n",
              "      <th>total_paid</th>\n",
              "      <th>product_quantity</th>\n",
              "      <th>cl_unit_price</th>\n",
              "      <th>cl_price</th>\n",
              "    </tr>\n",
              "  </thead>\n",
              "  <tbody>\n",
              "    <tr>\n",
              "      <th>12773</th>\n",
              "      <td>100.15</td>\n",
              "      <td>1</td>\n",
              "      <td>80.16</td>\n",
              "      <td>107.98</td>\n",
              "    </tr>\n",
              "    <tr>\n",
              "      <th>55545</th>\n",
              "      <td>100.15</td>\n",
              "      <td>1</td>\n",
              "      <td>80.16</td>\n",
              "      <td>129.90</td>\n",
              "    </tr>\n",
              "    <tr>\n",
              "      <th>32364</th>\n",
              "      <td>100.19</td>\n",
              "      <td>1</td>\n",
              "      <td>95.20</td>\n",
              "      <td>124.99</td>\n",
              "    </tr>\n",
              "    <tr>\n",
              "      <th>35809</th>\n",
              "      <td>100.24</td>\n",
              "      <td>1</td>\n",
              "      <td>93.25</td>\n",
              "      <td>105.00</td>\n",
              "    </tr>\n",
              "    <tr>\n",
              "      <th>10239</th>\n",
              "      <td>100.26</td>\n",
              "      <td>1</td>\n",
              "      <td>17.99</td>\n",
              "      <td>29.99</td>\n",
              "    </tr>\n",
              "    <tr>\n",
              "      <th>...</th>\n",
              "      <td>...</td>\n",
              "      <td>...</td>\n",
              "      <td>...</td>\n",
              "      <td>...</td>\n",
              "    </tr>\n",
              "    <tr>\n",
              "      <th>31776</th>\n",
              "      <td>9987.76</td>\n",
              "      <td>1</td>\n",
              "      <td>429.00</td>\n",
              "      <td>429.00</td>\n",
              "    </tr>\n",
              "    <tr>\n",
              "      <th>19046</th>\n",
              "      <td>9987.76</td>\n",
              "      <td>1</td>\n",
              "      <td>63.20</td>\n",
              "      <td>79.00</td>\n",
              "    </tr>\n",
              "    <tr>\n",
              "      <th>41421</th>\n",
              "      <td>9987.76</td>\n",
              "      <td>1</td>\n",
              "      <td>1112.99</td>\n",
              "      <td>1159.00</td>\n",
              "    </tr>\n",
              "    <tr>\n",
              "      <th>47294</th>\n",
              "      <td>10586.97</td>\n",
              "      <td>1</td>\n",
              "      <td>2713.59</td>\n",
              "      <td>2849.00</td>\n",
              "    </tr>\n",
              "    <tr>\n",
              "      <th>47630</th>\n",
              "      <td>10586.97</td>\n",
              "      <td>1</td>\n",
              "      <td>2156.59</td>\n",
              "      <td>2339.00</td>\n",
              "    </tr>\n",
              "  </tbody>\n",
              "</table>\n",
              "<p>23938 rows × 4 columns</p>\n",
              "</div>\n",
              "      <button class=\"colab-df-convert\" onclick=\"convertToInteractive('df-f36dc13f-772f-4f9e-9c00-44edeec9a052')\"\n",
              "              title=\"Convert this dataframe to an interactive table.\"\n",
              "              style=\"display:none;\">\n",
              "        \n",
              "  <svg xmlns=\"http://www.w3.org/2000/svg\" height=\"24px\"viewBox=\"0 0 24 24\"\n",
              "       width=\"24px\">\n",
              "    <path d=\"M0 0h24v24H0V0z\" fill=\"none\"/>\n",
              "    <path d=\"M18.56 5.44l.94 2.06.94-2.06 2.06-.94-2.06-.94-.94-2.06-.94 2.06-2.06.94zm-11 1L8.5 8.5l.94-2.06 2.06-.94-2.06-.94L8.5 2.5l-.94 2.06-2.06.94zm10 10l.94 2.06.94-2.06 2.06-.94-2.06-.94-.94-2.06-.94 2.06-2.06.94z\"/><path d=\"M17.41 7.96l-1.37-1.37c-.4-.4-.92-.59-1.43-.59-.52 0-1.04.2-1.43.59L10.3 9.45l-7.72 7.72c-.78.78-.78 2.05 0 2.83L4 21.41c.39.39.9.59 1.41.59.51 0 1.02-.2 1.41-.59l7.78-7.78 2.81-2.81c.8-.78.8-2.07 0-2.86zM5.41 20L4 18.59l7.72-7.72 1.47 1.35L5.41 20z\"/>\n",
              "  </svg>\n",
              "      </button>\n",
              "      \n",
              "  <style>\n",
              "    .colab-df-container {\n",
              "      display:flex;\n",
              "      flex-wrap:wrap;\n",
              "      gap: 12px;\n",
              "    }\n",
              "\n",
              "    .colab-df-convert {\n",
              "      background-color: #E8F0FE;\n",
              "      border: none;\n",
              "      border-radius: 50%;\n",
              "      cursor: pointer;\n",
              "      display: none;\n",
              "      fill: #1967D2;\n",
              "      height: 32px;\n",
              "      padding: 0 0 0 0;\n",
              "      width: 32px;\n",
              "    }\n",
              "\n",
              "    .colab-df-convert:hover {\n",
              "      background-color: #E2EBFA;\n",
              "      box-shadow: 0px 1px 2px rgba(60, 64, 67, 0.3), 0px 1px 3px 1px rgba(60, 64, 67, 0.15);\n",
              "      fill: #174EA6;\n",
              "    }\n",
              "\n",
              "    [theme=dark] .colab-df-convert {\n",
              "      background-color: #3B4455;\n",
              "      fill: #D2E3FC;\n",
              "    }\n",
              "\n",
              "    [theme=dark] .colab-df-convert:hover {\n",
              "      background-color: #434B5C;\n",
              "      box-shadow: 0px 1px 3px 1px rgba(0, 0, 0, 0.15);\n",
              "      filter: drop-shadow(0px 1px 2px rgba(0, 0, 0, 0.3));\n",
              "      fill: #FFFFFF;\n",
              "    }\n",
              "  </style>\n",
              "\n",
              "      <script>\n",
              "        const buttonEl =\n",
              "          document.querySelector('#df-f36dc13f-772f-4f9e-9c00-44edeec9a052 button.colab-df-convert');\n",
              "        buttonEl.style.display =\n",
              "          google.colab.kernel.accessAllowed ? 'block' : 'none';\n",
              "\n",
              "        async function convertToInteractive(key) {\n",
              "          const element = document.querySelector('#df-f36dc13f-772f-4f9e-9c00-44edeec9a052');\n",
              "          const dataTable =\n",
              "            await google.colab.kernel.invokeFunction('convertToInteractive',\n",
              "                                                     [key], {});\n",
              "          if (!dataTable) return;\n",
              "\n",
              "          const docLinkHtml = 'Like what you see? Visit the ' +\n",
              "            '<a target=\"_blank\" href=https://colab.research.google.com/notebooks/data_table.ipynb>data table notebook</a>'\n",
              "            + ' to learn more about interactive tables.';\n",
              "          element.innerHTML = '';\n",
              "          dataTable['output_type'] = 'display_data';\n",
              "          await google.colab.output.renderOutput(dataTable, element);\n",
              "          const docLink = document.createElement('div');\n",
              "          docLink.innerHTML = docLinkHtml;\n",
              "          element.appendChild(docLink);\n",
              "        }\n",
              "      </script>\n",
              "    </div>\n",
              "  </div>\n",
              "  "
            ]
          },
          "metadata": {},
          "execution_count": 168
        }
      ]
    },
    {
      "cell_type": "markdown",
      "source": [
        "# Save tables"
      ],
      "metadata": {
        "id": "GCVIQkGA6RdT"
      }
    },
    {
      "cell_type": "code",
      "source": [
        "from google.colab import files\n",
        "\n",
        "orders_3sp_comp.to_csv(\"orders_cl.csv\", index=False)\n",
        "files.download(\"orders_cl.csv\")"
      ],
      "metadata": {
        "colab": {
          "base_uri": "https://localhost:8080/",
          "height": 17
        },
        "id": "FGCYeebK7dnW",
        "outputId": "2022c8c8-dbf3-487a-fda4-6d54357572a6"
      },
      "execution_count": 169,
      "outputs": [
        {
          "output_type": "display_data",
          "data": {
            "text/plain": [
              "<IPython.core.display.Javascript object>"
            ],
            "application/javascript": [
              "\n",
              "    async function download(id, filename, size) {\n",
              "      if (!google.colab.kernel.accessAllowed) {\n",
              "        return;\n",
              "      }\n",
              "      const div = document.createElement('div');\n",
              "      const label = document.createElement('label');\n",
              "      label.textContent = `Downloading \"${filename}\": `;\n",
              "      div.appendChild(label);\n",
              "      const progress = document.createElement('progress');\n",
              "      progress.max = size;\n",
              "      div.appendChild(progress);\n",
              "      document.body.appendChild(div);\n",
              "\n",
              "      const buffers = [];\n",
              "      let downloaded = 0;\n",
              "\n",
              "      const channel = await google.colab.kernel.comms.open(id);\n",
              "      // Send a message to notify the kernel that we're ready.\n",
              "      channel.send({})\n",
              "\n",
              "      for await (const message of channel.messages) {\n",
              "        // Send a message to notify the kernel that we're ready.\n",
              "        channel.send({})\n",
              "        if (message.buffers) {\n",
              "          for (const buffer of message.buffers) {\n",
              "            buffers.push(buffer);\n",
              "            downloaded += buffer.byteLength;\n",
              "            progress.value = downloaded;\n",
              "          }\n",
              "        }\n",
              "      }\n",
              "      const blob = new Blob(buffers, {type: 'application/binary'});\n",
              "      const a = document.createElement('a');\n",
              "      a.href = window.URL.createObjectURL(blob);\n",
              "      a.download = filename;\n",
              "      div.appendChild(a);\n",
              "      a.click();\n",
              "      div.remove();\n",
              "    }\n",
              "  "
            ]
          },
          "metadata": {}
        },
        {
          "output_type": "display_data",
          "data": {
            "text/plain": [
              "<IPython.core.display.Javascript object>"
            ],
            "application/javascript": [
              "download(\"download_34de2480-7068-44f6-ba24-e7a7e54b3c02\", \"orders_cl.csv\", 2009840)"
            ]
          },
          "metadata": {}
        }
      ]
    },
    {
      "cell_type": "code",
      "source": [
        "orderlines_3sp.to_csv(\"orderslines_cl.csv\", index=False)\n",
        "files.download(\"orderslines_cl.csv\")"
      ],
      "metadata": {
        "colab": {
          "base_uri": "https://localhost:8080/",
          "height": 17
        },
        "id": "UIfx2UWX8IGz",
        "outputId": "19c7c819-53f3-474e-9bbe-119757e77e84"
      },
      "execution_count": 170,
      "outputs": [
        {
          "output_type": "display_data",
          "data": {
            "text/plain": [
              "<IPython.core.display.Javascript object>"
            ],
            "application/javascript": [
              "\n",
              "    async function download(id, filename, size) {\n",
              "      if (!google.colab.kernel.accessAllowed) {\n",
              "        return;\n",
              "      }\n",
              "      const div = document.createElement('div');\n",
              "      const label = document.createElement('label');\n",
              "      label.textContent = `Downloading \"${filename}\": `;\n",
              "      div.appendChild(label);\n",
              "      const progress = document.createElement('progress');\n",
              "      progress.max = size;\n",
              "      div.appendChild(progress);\n",
              "      document.body.appendChild(div);\n",
              "\n",
              "      const buffers = [];\n",
              "      let downloaded = 0;\n",
              "\n",
              "      const channel = await google.colab.kernel.comms.open(id);\n",
              "      // Send a message to notify the kernel that we're ready.\n",
              "      channel.send({})\n",
              "\n",
              "      for await (const message of channel.messages) {\n",
              "        // Send a message to notify the kernel that we're ready.\n",
              "        channel.send({})\n",
              "        if (message.buffers) {\n",
              "          for (const buffer of message.buffers) {\n",
              "            buffers.push(buffer);\n",
              "            downloaded += buffer.byteLength;\n",
              "            progress.value = downloaded;\n",
              "          }\n",
              "        }\n",
              "      }\n",
              "      const blob = new Blob(buffers, {type: 'application/binary'});\n",
              "      const a = document.createElement('a');\n",
              "      a.href = window.URL.createObjectURL(blob);\n",
              "      a.download = filename;\n",
              "      div.appendChild(a);\n",
              "      a.click();\n",
              "      div.remove();\n",
              "    }\n",
              "  "
            ]
          },
          "metadata": {}
        },
        {
          "output_type": "display_data",
          "data": {
            "text/plain": [
              "<IPython.core.display.Javascript object>"
            ],
            "application/javascript": [
              "download(\"download_371fd3ef-c6db-4c59-a846-6c44361fa63b\", \"orderslines_cl.csv\", 17311284)"
            ]
          },
          "metadata": {}
        }
      ]
    },
    {
      "cell_type": "code",
      "source": [
        "products_3sp.to_csv(\"products_cl.csv\", index=False)\n",
        "files.download(\"products_cl.csv\")"
      ],
      "metadata": {
        "colab": {
          "base_uri": "https://localhost:8080/",
          "height": 17
        },
        "id": "PBppBc4t8-_n",
        "outputId": "4cd8d2e4-78dd-4c7a-cd6c-fc70f4cd3e1c"
      },
      "execution_count": 171,
      "outputs": [
        {
          "output_type": "display_data",
          "data": {
            "text/plain": [
              "<IPython.core.display.Javascript object>"
            ],
            "application/javascript": [
              "\n",
              "    async function download(id, filename, size) {\n",
              "      if (!google.colab.kernel.accessAllowed) {\n",
              "        return;\n",
              "      }\n",
              "      const div = document.createElement('div');\n",
              "      const label = document.createElement('label');\n",
              "      label.textContent = `Downloading \"${filename}\": `;\n",
              "      div.appendChild(label);\n",
              "      const progress = document.createElement('progress');\n",
              "      progress.max = size;\n",
              "      div.appendChild(progress);\n",
              "      document.body.appendChild(div);\n",
              "\n",
              "      const buffers = [];\n",
              "      let downloaded = 0;\n",
              "\n",
              "      const channel = await google.colab.kernel.comms.open(id);\n",
              "      // Send a message to notify the kernel that we're ready.\n",
              "      channel.send({})\n",
              "\n",
              "      for await (const message of channel.messages) {\n",
              "        // Send a message to notify the kernel that we're ready.\n",
              "        channel.send({})\n",
              "        if (message.buffers) {\n",
              "          for (const buffer of message.buffers) {\n",
              "            buffers.push(buffer);\n",
              "            downloaded += buffer.byteLength;\n",
              "            progress.value = downloaded;\n",
              "          }\n",
              "        }\n",
              "      }\n",
              "      const blob = new Blob(buffers, {type: 'application/binary'});\n",
              "      const a = document.createElement('a');\n",
              "      a.href = window.URL.createObjectURL(blob);\n",
              "      a.download = filename;\n",
              "      div.appendChild(a);\n",
              "      a.click();\n",
              "      div.remove();\n",
              "    }\n",
              "  "
            ]
          },
          "metadata": {}
        },
        {
          "output_type": "display_data",
          "data": {
            "text/plain": [
              "<IPython.core.display.Javascript object>"
            ],
            "application/javascript": [
              "download(\"download_6c1ee8d8-c3be-4fca-8848-71e03e8c0c72\", \"products_cl.csv\", 1974840)"
            ]
          },
          "metadata": {}
        }
      ]
    }
  ]
}