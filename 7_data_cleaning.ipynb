{
  "nbformat": 4,
  "nbformat_minor": 0,
  "metadata": {
    "colab": {
      "provenance": [],
      "toc_visible": true,
      "authorship_tag": "ABX9TyNcQ30M7J4hXjDpbujG8YWI"
    },
    "kernelspec": {
      "name": "python3",
      "display_name": "Python 3"
    },
    "language_info": {
      "name": "python"
    }
  },
  "cells": [
    {
      "cell_type": "markdown",
      "source": [
        "#**Data Cleaning**\n"
      ],
      "metadata": {
        "id": "jYpHLAcA23KA"
      }
    },
    {
      "cell_type": "markdown",
      "source": [
        "Pandas Pipeline\n",
        "1.   Impor the data.\n",
        "2.   Set the data types. (as function)\n",
        "3.   Remove the outlier. (as function)\n",
        "\n"
      ],
      "metadata": {
        "id": "-ERtEmDdD7_w"
      }
    },
    {
      "cell_type": "markdown",
      "source": [
        "\n",
        "\n",
        "```\n",
        "df.pipe(set_type).pipe(remove_out, min_row_country=10)\n",
        "```\n",
        "\n"
      ],
      "metadata": {
        "id": "DyWGmgEBJVQF"
      }
    },
    {
      "cell_type": "code",
      "source": [
        "# Import libraries\n",
        "import pandas as pd\n",
        "import numpy as np\n",
        "\n",
        "\n",
        "# This code is made to load our data stored on Google Drive\n",
        "def gd_path(file_id):\n",
        "    \"\"\"Generate a shareable link from Google Drive file id.\"\"\"\n",
        "    return f\"https://drive.google.com/uc?export=download&id={file_id}\"\n",
        "\n",
        "csv_names = ['products', 'orders', 'orderlines', 'brands']\n",
        "\n",
        "# Google Drive file ids\n",
        "\n",
        "\n",
        "files_id = {\n",
        "    'products':\"1afxwDXfl-7cQ_qLwyDitfcCx3u7WMvkU\",\n",
        "    'orders':\"1Vu0q91qZw6lqhIqbjoXYvYAQTmVHh6uZ\",\n",
        "    'orderlines':\"1FYhN_2AzTBFuWcfHaRuKcuCE6CWXsWtG\",\n",
        "    'brands':\"1m1ThDDIYRTTii-rqM5SEQjJ8McidJskD\" \n",
        "} \n",
        "\n",
        "# Read data from Google Drive\n",
        "products = pd.read_csv(gd_path(files_id['products']), sep=\",\")\n",
        "orders = pd.read_csv(gd_path(files_id['orders']), sep=\",\")\n",
        "orderlines = pd.read_csv(gd_path(files_id['orderlines']), sep=\",\")\n",
        "brands = pd.read_csv(gd_path(files_id['brands']), sep=\",\")"
      ],
      "metadata": {
        "id": "WXK1hVzx5ww9"
      },
      "execution_count": 35,
      "outputs": []
    },
    {
      "cell_type": "code",
      "source": [
        "# Display options\n",
        "pd.set_option('display.max_rows', 1000)\n",
        "pd.set_option('display.float_format', lambda x: '%.2f' % x)"
      ],
      "metadata": {
        "id": "BKupTQ6Rqxrn"
      },
      "execution_count": 36,
      "outputs": []
    },
    {
      "cell_type": "markdown",
      "source": [
        "# Functions"
      ],
      "metadata": {
        "id": "7oNPLvEKPItO"
      }
    },
    {
      "cell_type": "code",
      "source": [
        "def start_pipeline(dataf):\n",
        "    return dataf.copy()\n",
        "\n",
        "def remove_dup(dataf):\n",
        "    return dataf.drop_duplicates()\n",
        "\n",
        "def check(df, operator, column_name, length_of_element):\n",
        "  # Check if the operator is 'len' to indicate length check, otherwise assume dot count check\n",
        "    if operator == len:  \n",
        "        i = '.'  # Use '.' for length check\n",
        "    else: \n",
        "        i = '\\.'  # Use '\\.' for dot count check\n",
        "    return df[column_name].str.count(i).eq(length_of_element).sum()\n",
        "\n",
        "def transform(df, column, new_column):    \n",
        "  # Create a new column 'new_column' in the DataFrame 'df' to store the transformed values\n",
        "    df[new_column] = (\n",
        "    df[column].loc[df[column].notna() &\n",
        "   (df[column].str.match(r'^\\d{1,4}\\.\\d{1,3}$') | \n",
        "    df[column].str.match(r'^\\d{1,5}$'))]\n",
        "                .astype(float) # Convert the matched values to float data type\n",
        "    .combine_first(df[column].loc[df[column].notna() &\n",
        "                   df[column].str.match(r'^\\d{3}\\.\\d{3}$')]\n",
        "                             .astype(float) / 10) # Divide the matched values by 10\n",
        "    .combine_first(df[column].loc[df[column].notna() &\n",
        "                   df[column].str.match(r'^\\d{1,3}\\.\\d{3}\\.\\d{3}$')]\n",
        "                             .str.replace(\".\", \"\", regex=False) # Remove the dots from the matched values\n",
        "                             .astype(float) / 100000) # Divide the matched values by 100000\n",
        ")\n",
        "    return df\n",
        "\n",
        "def transform_OL(df, column, new_column):    # After analyzing the unti_price ORDERLINES, some new patterns were applied \n",
        "    df[new_column] = (\n",
        "    df[column].loc[df[column].notna() &\n",
        "   (df[column].str.match(r'^\\d{1,4}\\.\\d{2}$'))]\n",
        "              .astype(float)\n",
        "    .combine_first(df[column].loc[df[column].notna() &\n",
        "                   df[column].str.match(r'^\\d{1,3}\\.\\d{3}\\.\\d{2}$')]\n",
        "                             .str.replace(\".\", \"\", regex=False)\n",
        "                             .astype(float)/100)\n",
        ")\n",
        "    return df\n",
        "\n",
        "\n",
        "def analyze_prices(products_df, price_column):\n",
        "  # Count and print the distribution of prices matching the pattern \\d{1,3}\\.\\d{3}\\.\\d{3}\n",
        "    case1_counts = (products_df[price_column].notna() & \n",
        "                    products_df[price_column].str.match(r'^\\d{1,3}\\.\\d{3}\\.\\d{3}$')).value_counts(normalize=True)\n",
        "    print(\"CASE 1: \\d{1,3}\\.\\d{3}\\.\\d{3}\")\n",
        "    print(case1_counts)\n",
        "\n",
        "    case2_counts = (products_df[price_column].notna() & \n",
        "                    products_df[price_column].str.match(r'^\\d{3}\\.\\d{3}$')).value_counts(normalize=True)\n",
        "    print(\"CASE 2: \\d{3}\\.\\d{3}\")\n",
        "    print(case2_counts)\n",
        "\n",
        "    case3_counts = (products_df[price_column].notna() & \n",
        "                    products_df[price_column].str.match(r'^\\d{1,4}\\.\\d{1,3}$')).value_counts(normalize=True)\n",
        "    print(\"CASE 3: \\d{1,4}\\.\\d{1,3}\")\n",
        "    print(case3_counts)\n",
        "\n",
        "    case4_counts = (products_df[price_column].notna() & \n",
        "                    products_df[price_column].str.match(r'^\\d{1,5}$')).value_counts(normalize=True)\n",
        "    print(\"CASE 4: \\d{1,5}\")\n",
        "    print(case4_counts)\n",
        " \n",
        "  # Count and print the distribution of missing (NA) prices\n",
        "    na_counts = products_df[price_column].isna().value_counts(normalize=True)\n",
        "    print(\"CASE Na\")\n",
        "    print(na_counts)\n"
      ],
      "metadata": {
        "id": "qBWNrqZ-PO1g"
      },
      "execution_count": 37,
      "outputs": []
    },
    {
      "cell_type": "markdown",
      "source": [
        "# 1 Products [non ok]"
      ],
      "metadata": {
        "id": "kiEjI2PO038v"
      }
    },
    {
      "cell_type": "markdown",
      "source": [
        "**products.csv**\n",
        "* `sku` – stock keeping unit: a unique identifier for each product\n",
        "* `name` – product name\n",
        "* `desc` – product description\n",
        "* `in_stock` – whether or not the product was in stock at the moment of the data extraction\n",
        "* `type` – a numerical code for product type"
      ],
      "metadata": {
        "id": "iHjSbg1d2OZb"
      }
    },
    {
      "cell_type": "code",
      "source": [
        "products.info()"
      ],
      "metadata": {
        "colab": {
          "base_uri": "https://localhost:8080/"
        },
        "id": "gqFdsCqrGkyA",
        "outputId": "7cd01afd-3a20-427a-a55a-5e3ab362d116"
      },
      "execution_count": 38,
      "outputs": [
        {
          "output_type": "stream",
          "name": "stdout",
          "text": [
            "<class 'pandas.core.frame.DataFrame'>\n",
            "RangeIndex: 19326 entries, 0 to 19325\n",
            "Data columns (total 7 columns):\n",
            " #   Column       Non-Null Count  Dtype \n",
            "---  ------       --------------  ----- \n",
            " 0   sku          19326 non-null  object\n",
            " 1   name         19326 non-null  object\n",
            " 2   desc         19319 non-null  object\n",
            " 3   price        19280 non-null  object\n",
            " 4   promo_price  19326 non-null  object\n",
            " 5   in_stock     19326 non-null  int64 \n",
            " 6   type         19276 non-null  object\n",
            "dtypes: int64(1), object(6)\n",
            "memory usage: 1.0+ MB\n"
          ]
        }
      ]
    },
    {
      "cell_type": "markdown",
      "source": [
        "### Preprocessing \n",
        "Check the size and drop duplicates."
      ],
      "metadata": {
        "id": "XDjsID4ORm4f"
      }
    },
    {
      "cell_type": "code",
      "source": [
        "products.nunique(), products.shape"
      ],
      "metadata": {
        "colab": {
          "base_uri": "https://localhost:8080/"
        },
        "id": "QXRXMf9THCW6",
        "outputId": "b2bedd61-9c24-4163-b9a6-0d32710017cb"
      },
      "execution_count": 39,
      "outputs": [
        {
          "output_type": "execute_result",
          "data": {
            "text/plain": [
              "(sku            10579\n",
              " name           10373\n",
              " desc            7098\n",
              " price           2690\n",
              " promo_price     4614\n",
              " in_stock           2\n",
              " type             126\n",
              " dtype: int64,\n",
              " (19326, 7))"
            ]
          },
          "metadata": {},
          "execution_count": 39
        }
      ]
    },
    {
      "cell_type": "code",
      "source": [
        "products_1sp = products.pipe(start_pipeline).pipe(remove_dup)"
      ],
      "metadata": {
        "id": "wkfAVA1iHQ9i"
      },
      "execution_count": 40,
      "outputs": []
    },
    {
      "cell_type": "markdown",
      "source": [
        "#### **`price` analyses**"
      ],
      "metadata": {
        "id": "30GPh6A0R7iF"
      }
    },
    {
      "cell_type": "code",
      "source": [
        "pd.set_option('display.max_colwidth', None) # Display full cell wight "
      ],
      "metadata": {
        "id": "XAR4xiXcSkZD"
      },
      "execution_count": 41,
      "outputs": []
    },
    {
      "cell_type": "code",
      "source": [
        "products_1sp[[\"name\",\"price\",\"promo_price\"]].sample(5)"
      ],
      "metadata": {
        "colab": {
          "base_uri": "https://localhost:8080/",
          "height": 206
        },
        "id": "81KZhv0iQ_21",
        "outputId": "3bdeb4c9-12f4-4467-977d-14799c86c79e"
      },
      "execution_count": 42,
      "outputs": [
        {
          "output_type": "execute_result",
          "data": {
            "text/plain": [
              "                                                                                     name  \\\n",
              "1872                                             Crucial Mac Memory 8GB 1866MHz DDR3 DIMM   \n",
              "12585                                                      iFixit Piece Speaker iPhone 5s   \n",
              "10808                  Housing Flex Elektro Tucano iPhone 6 / 6S Plus Transparent / Black   \n",
              "10036  Apple iMac 27 \"Core i5 3.2GHz Retina 5K | 8GB RAM | 512GB SSD | AMD Radeon R9 M390   \n",
              "12790                                                         iFixit iPad 2 Piece Battery   \n",
              "\n",
              "        price promo_price  \n",
              "1872   115.99   1.159.894  \n",
              "12585   19.95      18.991  \n",
              "10808    19.9     159.902  \n",
              "10036    2689  24.739.902  \n",
              "12790   49.95     399.905  "
            ],
            "text/html": [
              "\n",
              "  <div id=\"df-3c6f151d-e3f3-465f-aea7-7a7bd064ab1b\">\n",
              "    <div class=\"colab-df-container\">\n",
              "      <div>\n",
              "<style scoped>\n",
              "    .dataframe tbody tr th:only-of-type {\n",
              "        vertical-align: middle;\n",
              "    }\n",
              "\n",
              "    .dataframe tbody tr th {\n",
              "        vertical-align: top;\n",
              "    }\n",
              "\n",
              "    .dataframe thead th {\n",
              "        text-align: right;\n",
              "    }\n",
              "</style>\n",
              "<table border=\"1\" class=\"dataframe\">\n",
              "  <thead>\n",
              "    <tr style=\"text-align: right;\">\n",
              "      <th></th>\n",
              "      <th>name</th>\n",
              "      <th>price</th>\n",
              "      <th>promo_price</th>\n",
              "    </tr>\n",
              "  </thead>\n",
              "  <tbody>\n",
              "    <tr>\n",
              "      <th>1872</th>\n",
              "      <td>Crucial Mac Memory 8GB 1866MHz DDR3 DIMM</td>\n",
              "      <td>115.99</td>\n",
              "      <td>1.159.894</td>\n",
              "    </tr>\n",
              "    <tr>\n",
              "      <th>12585</th>\n",
              "      <td>iFixit Piece Speaker iPhone 5s</td>\n",
              "      <td>19.95</td>\n",
              "      <td>18.991</td>\n",
              "    </tr>\n",
              "    <tr>\n",
              "      <th>10808</th>\n",
              "      <td>Housing Flex Elektro Tucano iPhone 6 / 6S Plus Transparent / Black</td>\n",
              "      <td>19.9</td>\n",
              "      <td>159.902</td>\n",
              "    </tr>\n",
              "    <tr>\n",
              "      <th>10036</th>\n",
              "      <td>Apple iMac 27 \"Core i5 3.2GHz Retina 5K | 8GB RAM | 512GB SSD | AMD Radeon R9 M390</td>\n",
              "      <td>2689</td>\n",
              "      <td>24.739.902</td>\n",
              "    </tr>\n",
              "    <tr>\n",
              "      <th>12790</th>\n",
              "      <td>iFixit iPad 2 Piece Battery</td>\n",
              "      <td>49.95</td>\n",
              "      <td>399.905</td>\n",
              "    </tr>\n",
              "  </tbody>\n",
              "</table>\n",
              "</div>\n",
              "      <button class=\"colab-df-convert\" onclick=\"convertToInteractive('df-3c6f151d-e3f3-465f-aea7-7a7bd064ab1b')\"\n",
              "              title=\"Convert this dataframe to an interactive table.\"\n",
              "              style=\"display:none;\">\n",
              "        \n",
              "  <svg xmlns=\"http://www.w3.org/2000/svg\" height=\"24px\"viewBox=\"0 0 24 24\"\n",
              "       width=\"24px\">\n",
              "    <path d=\"M0 0h24v24H0V0z\" fill=\"none\"/>\n",
              "    <path d=\"M18.56 5.44l.94 2.06.94-2.06 2.06-.94-2.06-.94-.94-2.06-.94 2.06-2.06.94zm-11 1L8.5 8.5l.94-2.06 2.06-.94-2.06-.94L8.5 2.5l-.94 2.06-2.06.94zm10 10l.94 2.06.94-2.06 2.06-.94-2.06-.94-.94-2.06-.94 2.06-2.06.94z\"/><path d=\"M17.41 7.96l-1.37-1.37c-.4-.4-.92-.59-1.43-.59-.52 0-1.04.2-1.43.59L10.3 9.45l-7.72 7.72c-.78.78-.78 2.05 0 2.83L4 21.41c.39.39.9.59 1.41.59.51 0 1.02-.2 1.41-.59l7.78-7.78 2.81-2.81c.8-.78.8-2.07 0-2.86zM5.41 20L4 18.59l7.72-7.72 1.47 1.35L5.41 20z\"/>\n",
              "  </svg>\n",
              "      </button>\n",
              "      \n",
              "  <style>\n",
              "    .colab-df-container {\n",
              "      display:flex;\n",
              "      flex-wrap:wrap;\n",
              "      gap: 12px;\n",
              "    }\n",
              "\n",
              "    .colab-df-convert {\n",
              "      background-color: #E8F0FE;\n",
              "      border: none;\n",
              "      border-radius: 50%;\n",
              "      cursor: pointer;\n",
              "      display: none;\n",
              "      fill: #1967D2;\n",
              "      height: 32px;\n",
              "      padding: 0 0 0 0;\n",
              "      width: 32px;\n",
              "    }\n",
              "\n",
              "    .colab-df-convert:hover {\n",
              "      background-color: #E2EBFA;\n",
              "      box-shadow: 0px 1px 2px rgba(60, 64, 67, 0.3), 0px 1px 3px 1px rgba(60, 64, 67, 0.15);\n",
              "      fill: #174EA6;\n",
              "    }\n",
              "\n",
              "    [theme=dark] .colab-df-convert {\n",
              "      background-color: #3B4455;\n",
              "      fill: #D2E3FC;\n",
              "    }\n",
              "\n",
              "    [theme=dark] .colab-df-convert:hover {\n",
              "      background-color: #434B5C;\n",
              "      box-shadow: 0px 1px 3px 1px rgba(0, 0, 0, 0.15);\n",
              "      filter: drop-shadow(0px 1px 2px rgba(0, 0, 0, 0.3));\n",
              "      fill: #FFFFFF;\n",
              "    }\n",
              "  </style>\n",
              "\n",
              "      <script>\n",
              "        const buttonEl =\n",
              "          document.querySelector('#df-3c6f151d-e3f3-465f-aea7-7a7bd064ab1b button.colab-df-convert');\n",
              "        buttonEl.style.display =\n",
              "          google.colab.kernel.accessAllowed ? 'block' : 'none';\n",
              "\n",
              "        async function convertToInteractive(key) {\n",
              "          const element = document.querySelector('#df-3c6f151d-e3f3-465f-aea7-7a7bd064ab1b');\n",
              "          const dataTable =\n",
              "            await google.colab.kernel.invokeFunction('convertToInteractive',\n",
              "                                                     [key], {});\n",
              "          if (!dataTable) return;\n",
              "\n",
              "          const docLinkHtml = 'Like what you see? Visit the ' +\n",
              "            '<a target=\"_blank\" href=https://colab.research.google.com/notebooks/data_table.ipynb>data table notebook</a>'\n",
              "            + ' to learn more about interactive tables.';\n",
              "          element.innerHTML = '';\n",
              "          dataTable['output_type'] = 'display_data';\n",
              "          await google.colab.output.renderOutput(dataTable, element);\n",
              "          const docLink = document.createElement('div');\n",
              "          docLink.innerHTML = docLinkHtml;\n",
              "          element.appendChild(docLink);\n",
              "        }\n",
              "      </script>\n",
              "    </div>\n",
              "  </div>\n",
              "  "
            ]
          },
          "metadata": {},
          "execution_count": 42
        }
      ]
    },
    {
      "cell_type": "code",
      "source": [
        "products_1sp[products_1sp.price == products_1sp.promo_price].info()"
      ],
      "metadata": {
        "colab": {
          "base_uri": "https://localhost:8080/"
        },
        "id": "Z25UaGx012bD",
        "outputId": "7a6bb03c-cb5e-495c-a731-ad5a78629538"
      },
      "execution_count": 43,
      "outputs": [
        {
          "output_type": "stream",
          "name": "stdout",
          "text": [
            "<class 'pandas.core.frame.DataFrame'>\n",
            "Int64Index: 204 entries, 60 to 19306\n",
            "Data columns (total 7 columns):\n",
            " #   Column       Non-Null Count  Dtype \n",
            "---  ------       --------------  ----- \n",
            " 0   sku          204 non-null    object\n",
            " 1   name         204 non-null    object\n",
            " 2   desc         203 non-null    object\n",
            " 3   price        204 non-null    object\n",
            " 4   promo_price  204 non-null    object\n",
            " 5   in_stock     204 non-null    int64 \n",
            " 6   type         200 non-null    object\n",
            "dtypes: int64(1), object(6)\n",
            "memory usage: 12.8+ KB\n"
          ]
        }
      ]
    },
    {
      "cell_type": "code",
      "source": [
        "products_1sp[products_1sp.price.str.count('.') != products_1sp.promo_price.str.count('.')].sample(5)"
      ],
      "metadata": {
        "colab": {
          "base_uri": "https://localhost:8080/",
          "height": 206
        },
        "id": "ky3F87A024MR",
        "outputId": "f972bff3-a069-4c08-85b1-9eb1c1cf9d53"
      },
      "execution_count": 44,
      "outputs": [
        {
          "output_type": "execute_result",
          "data": {
            "text/plain": [
              "             sku  \\\n",
              "18829  WAC0224-A   \n",
              "15055    LIF0119   \n",
              "13523    BEL0283   \n",
              "12753  XDO0009-A   \n",
              "12733    PAC1470   \n",
              "\n",
              "                                                                      name  \\\n",
              "18829                    Wacom Intuos Pen & Touch 3D Creative Medium Black   \n",
              "15055                       Submersible Nood LifeProof iPhone Case 7 Black   \n",
              "13523                 Belkin Sport Armband Pro-Fit Bracelet Black iPhone 7   \n",
              "12753            (Open) X-Doria Defense Housing Edge 38mm Apple Watch Gold   \n",
              "12733  OWC ThunderBay 4 Thunderbolt 2 Edition RAID 5 | 8TB Seagate Desktop   \n",
              "\n",
              "                                                                                                                      desc  \\\n",
              "18829  Multitouch graphics tablet with ExpressKeys keys Reconditioned pencil precision and free 3D software for Mac and PC   \n",
              "15055                                                     waterproof and resistant to extreme conditions Case for iPhone 7   \n",
              "13523                                   lightweight neoprene armband with reflective tape and large belt loop for iPhone 7   \n",
              "12753                                                                                   anti-shock housing for Apple Watch   \n",
              "12733                                            OWC ThunderBay 4 + 8TB (4x2TB) Seagate Hard Drives Desktop for Mac and PC   \n",
              "\n",
              "         price promo_price  in_stock      type  \n",
              "18829   199.99   1.612.866         0      1405  \n",
              "15055    89.99     669.904         1  11865403  \n",
              "13523    34.99     189.897         0      5405  \n",
              "12753    24.99     164.942         0      1298  \n",
              "12733  1061.95   8.263.683         0  11935397  "
            ],
            "text/html": [
              "\n",
              "  <div id=\"df-d5cd0200-0fee-49b4-8ea8-98604979ed59\">\n",
              "    <div class=\"colab-df-container\">\n",
              "      <div>\n",
              "<style scoped>\n",
              "    .dataframe tbody tr th:only-of-type {\n",
              "        vertical-align: middle;\n",
              "    }\n",
              "\n",
              "    .dataframe tbody tr th {\n",
              "        vertical-align: top;\n",
              "    }\n",
              "\n",
              "    .dataframe thead th {\n",
              "        text-align: right;\n",
              "    }\n",
              "</style>\n",
              "<table border=\"1\" class=\"dataframe\">\n",
              "  <thead>\n",
              "    <tr style=\"text-align: right;\">\n",
              "      <th></th>\n",
              "      <th>sku</th>\n",
              "      <th>name</th>\n",
              "      <th>desc</th>\n",
              "      <th>price</th>\n",
              "      <th>promo_price</th>\n",
              "      <th>in_stock</th>\n",
              "      <th>type</th>\n",
              "    </tr>\n",
              "  </thead>\n",
              "  <tbody>\n",
              "    <tr>\n",
              "      <th>18829</th>\n",
              "      <td>WAC0224-A</td>\n",
              "      <td>Wacom Intuos Pen &amp; Touch 3D Creative Medium Black</td>\n",
              "      <td>Multitouch graphics tablet with ExpressKeys keys Reconditioned pencil precision and free 3D software for Mac and PC</td>\n",
              "      <td>199.99</td>\n",
              "      <td>1.612.866</td>\n",
              "      <td>0</td>\n",
              "      <td>1405</td>\n",
              "    </tr>\n",
              "    <tr>\n",
              "      <th>15055</th>\n",
              "      <td>LIF0119</td>\n",
              "      <td>Submersible Nood LifeProof iPhone Case 7 Black</td>\n",
              "      <td>waterproof and resistant to extreme conditions Case for iPhone 7</td>\n",
              "      <td>89.99</td>\n",
              "      <td>669.904</td>\n",
              "      <td>1</td>\n",
              "      <td>11865403</td>\n",
              "    </tr>\n",
              "    <tr>\n",
              "      <th>13523</th>\n",
              "      <td>BEL0283</td>\n",
              "      <td>Belkin Sport Armband Pro-Fit Bracelet Black iPhone 7</td>\n",
              "      <td>lightweight neoprene armband with reflective tape and large belt loop for iPhone 7</td>\n",
              "      <td>34.99</td>\n",
              "      <td>189.897</td>\n",
              "      <td>0</td>\n",
              "      <td>5405</td>\n",
              "    </tr>\n",
              "    <tr>\n",
              "      <th>12753</th>\n",
              "      <td>XDO0009-A</td>\n",
              "      <td>(Open) X-Doria Defense Housing Edge 38mm Apple Watch Gold</td>\n",
              "      <td>anti-shock housing for Apple Watch</td>\n",
              "      <td>24.99</td>\n",
              "      <td>164.942</td>\n",
              "      <td>0</td>\n",
              "      <td>1298</td>\n",
              "    </tr>\n",
              "    <tr>\n",
              "      <th>12733</th>\n",
              "      <td>PAC1470</td>\n",
              "      <td>OWC ThunderBay 4 Thunderbolt 2 Edition RAID 5 | 8TB Seagate Desktop</td>\n",
              "      <td>OWC ThunderBay 4 + 8TB (4x2TB) Seagate Hard Drives Desktop for Mac and PC</td>\n",
              "      <td>1061.95</td>\n",
              "      <td>8.263.683</td>\n",
              "      <td>0</td>\n",
              "      <td>11935397</td>\n",
              "    </tr>\n",
              "  </tbody>\n",
              "</table>\n",
              "</div>\n",
              "      <button class=\"colab-df-convert\" onclick=\"convertToInteractive('df-d5cd0200-0fee-49b4-8ea8-98604979ed59')\"\n",
              "              title=\"Convert this dataframe to an interactive table.\"\n",
              "              style=\"display:none;\">\n",
              "        \n",
              "  <svg xmlns=\"http://www.w3.org/2000/svg\" height=\"24px\"viewBox=\"0 0 24 24\"\n",
              "       width=\"24px\">\n",
              "    <path d=\"M0 0h24v24H0V0z\" fill=\"none\"/>\n",
              "    <path d=\"M18.56 5.44l.94 2.06.94-2.06 2.06-.94-2.06-.94-.94-2.06-.94 2.06-2.06.94zm-11 1L8.5 8.5l.94-2.06 2.06-.94-2.06-.94L8.5 2.5l-.94 2.06-2.06.94zm10 10l.94 2.06.94-2.06 2.06-.94-2.06-.94-.94-2.06-.94 2.06-2.06.94z\"/><path d=\"M17.41 7.96l-1.37-1.37c-.4-.4-.92-.59-1.43-.59-.52 0-1.04.2-1.43.59L10.3 9.45l-7.72 7.72c-.78.78-.78 2.05 0 2.83L4 21.41c.39.39.9.59 1.41.59.51 0 1.02-.2 1.41-.59l7.78-7.78 2.81-2.81c.8-.78.8-2.07 0-2.86zM5.41 20L4 18.59l7.72-7.72 1.47 1.35L5.41 20z\"/>\n",
              "  </svg>\n",
              "      </button>\n",
              "      \n",
              "  <style>\n",
              "    .colab-df-container {\n",
              "      display:flex;\n",
              "      flex-wrap:wrap;\n",
              "      gap: 12px;\n",
              "    }\n",
              "\n",
              "    .colab-df-convert {\n",
              "      background-color: #E8F0FE;\n",
              "      border: none;\n",
              "      border-radius: 50%;\n",
              "      cursor: pointer;\n",
              "      display: none;\n",
              "      fill: #1967D2;\n",
              "      height: 32px;\n",
              "      padding: 0 0 0 0;\n",
              "      width: 32px;\n",
              "    }\n",
              "\n",
              "    .colab-df-convert:hover {\n",
              "      background-color: #E2EBFA;\n",
              "      box-shadow: 0px 1px 2px rgba(60, 64, 67, 0.3), 0px 1px 3px 1px rgba(60, 64, 67, 0.15);\n",
              "      fill: #174EA6;\n",
              "    }\n",
              "\n",
              "    [theme=dark] .colab-df-convert {\n",
              "      background-color: #3B4455;\n",
              "      fill: #D2E3FC;\n",
              "    }\n",
              "\n",
              "    [theme=dark] .colab-df-convert:hover {\n",
              "      background-color: #434B5C;\n",
              "      box-shadow: 0px 1px 3px 1px rgba(0, 0, 0, 0.15);\n",
              "      filter: drop-shadow(0px 1px 2px rgba(0, 0, 0, 0.3));\n",
              "      fill: #FFFFFF;\n",
              "    }\n",
              "  </style>\n",
              "\n",
              "      <script>\n",
              "        const buttonEl =\n",
              "          document.querySelector('#df-d5cd0200-0fee-49b4-8ea8-98604979ed59 button.colab-df-convert');\n",
              "        buttonEl.style.display =\n",
              "          google.colab.kernel.accessAllowed ? 'block' : 'none';\n",
              "\n",
              "        async function convertToInteractive(key) {\n",
              "          const element = document.querySelector('#df-d5cd0200-0fee-49b4-8ea8-98604979ed59');\n",
              "          const dataTable =\n",
              "            await google.colab.kernel.invokeFunction('convertToInteractive',\n",
              "                                                     [key], {});\n",
              "          if (!dataTable) return;\n",
              "\n",
              "          const docLinkHtml = 'Like what you see? Visit the ' +\n",
              "            '<a target=\"_blank\" href=https://colab.research.google.com/notebooks/data_table.ipynb>data table notebook</a>'\n",
              "            + ' to learn more about interactive tables.';\n",
              "          element.innerHTML = '';\n",
              "          dataTable['output_type'] = 'display_data';\n",
              "          await google.colab.output.renderOutput(dataTable, element);\n",
              "          const docLink = document.createElement('div');\n",
              "          docLink.innerHTML = docLinkHtml;\n",
              "          element.appendChild(docLink);\n",
              "        }\n",
              "      </script>\n",
              "    </div>\n",
              "  </div>\n",
              "  "
            ]
          },
          "metadata": {},
          "execution_count": 44
        }
      ]
    },
    {
      "cell_type": "code",
      "source": [
        "# Investigate the cases\n",
        "(\n",
        "#CASE 1\n",
        "    (products_1sp.price.notna() & \n",
        "     products_1sp.price.str.match(r'^\\d{1,3}\\.\\d{3}\\.\\d{3}$'))\n",
        "     .value_counts(normalize=True)\n",
        "#CASE 2\n",
        "   ,(products_1sp.price.notna() & \n",
        "      products_1sp.price.str.match(r'^\\d{3}\\.\\d{3}$'))\n",
        "     .value_counts(normalize=True)\n",
        "#CASE 3\n",
        "   ,(products_1sp.price.notna() & \n",
        "      products_1sp.price.str.match(r'^\\d{1,4}\\.\\d{1,3}$'))  \n",
        "     .value_counts(normalize=True)\n",
        "#CASE 4\n",
        "   ,(products_1sp.price.notna() & \n",
        "      products_1sp.price.str.match(r'^\\d{1,5}$'))  \n",
        "     .value_counts(normalize=True)\n",
        "#Na\n",
        "   ,products_1sp.price.isna().value_counts(normalize=True)\n",
        ")\n",
        "\n",
        "# code too function"
      ],
      "metadata": {
        "colab": {
          "base_uri": "https://localhost:8080/"
        },
        "id": "hDXRjGiGduAy",
        "outputId": "1018a7ba-de08-43b5-985f-14965678dd15"
      },
      "execution_count": 45,
      "outputs": [
        {
          "output_type": "execute_result",
          "data": {
            "text/plain": [
              "(False   0.96\n",
              " True    0.04\n",
              " Name: price, dtype: float64,\n",
              " False   0.99\n",
              " True    0.01\n",
              " Name: price, dtype: float64,\n",
              " True    0.66\n",
              " False   0.34\n",
              " Name: price, dtype: float64,\n",
              " False   0.70\n",
              " True    0.30\n",
              " Name: price, dtype: float64,\n",
              " False   1.00\n",
              " True    0.00\n",
              " Name: price, dtype: float64)"
            ]
          },
          "metadata": {},
          "execution_count": 45
        }
      ]
    },
    {
      "cell_type": "code",
      "source": [
        "analyze_prices(products_1sp, \"price\")"
      ],
      "metadata": {
        "colab": {
          "base_uri": "https://localhost:8080/"
        },
        "id": "JFUY_jLRyDIa",
        "outputId": "c24b83eb-e811-4a4b-b133-6822cd67ca9e"
      },
      "execution_count": 46,
      "outputs": [
        {
          "output_type": "stream",
          "name": "stdout",
          "text": [
            "CASE 1: \\d{1,3}\\.\\d{3}\\.\\d{3}\n",
            "False   0.96\n",
            "True    0.04\n",
            "Name: price, dtype: float64\n",
            "CASE 2: \\d{3}\\.\\d{3}\n",
            "False   0.99\n",
            "True    0.01\n",
            "Name: price, dtype: float64\n",
            "CASE 3: \\d{1,4}\\.\\d{1,3}\n",
            "True    0.66\n",
            "False   0.34\n",
            "Name: price, dtype: float64\n",
            "CASE 4: \\d{1,5}\n",
            "False   0.70\n",
            "True    0.30\n",
            "Name: price, dtype: float64\n",
            "CASE Na\n",
            "False   1.00\n",
            "True    0.00\n",
            "Name: price, dtype: float64\n"
          ]
        }
      ]
    },
    {
      "cell_type": "markdown",
      "source": [
        "#### **Clean by cases**\n",
        "\n",
        "The columns `price` and `prome_price` seem to have multiple mistakes. \n",
        "\n",
        "* The range of \".\" count is 0-2.\n",
        "* The range of digits in a nummer 1-11.\n",
        "\n",
        "```\n",
        "CASE 1\n",
        "- 352.559.394 (10)   >  remove \".\" , float / 10000\n",
        "-  12.808.289 (138)  >  remove \".\" , float / 10000\n",
        "-   6.999.003 (229)  >  remove \".\" , float / 10000\n",
        "\t\n",
        "r'^\\d{1,3}\\.\\d{3}\\.\\d{3}$'\n",
        "\n",
        "CASE 2\t\n",
        "-     164.923 (139) > float / 10 \n",
        "\n",
        "r'^\\d{3}\\.\\d{3}$'\n",
        "\n",
        "CASE 3\n",
        "-      91.989 (23)  > float\n",
        "-       9.082 (3)   > float\n",
        "\n",
        "-     679.99 > float\n",
        "-      79.99 > float\n",
        "-       9.99 > float\n",
        " \n",
        "-    2117.5 (35) > float\n",
        "-     119.9 (113)> float \n",
        "-      19.9 (347)> float\n",
        "-       9.9 (11) > float \n",
        "       sum: 6941\n",
        "\n",
        "r'^\\d{1,4}\\.\\d{1,3}$'\n",
        "\n",
        "CASE 4\n",
        "- 11019 (42)   > float\n",
        "-  2859 (1132) > float\n",
        "-   209 (1112) > float\n",
        "-    35        > float\n",
        "-     9        > float \n",
        "     sum:3215\n",
        "\n",
        "r'^\\d{1,5}$'\n",
        "\n",
        "```\n"
      ],
      "metadata": {
        "id": "_IlpsFSrDm82"
      }
    },
    {
      "cell_type": "markdown",
      "source": [
        "##### CASE 4 and CASE 3"
      ],
      "metadata": {
        "id": "9b45CN6Kc26T"
      }
    },
    {
      "cell_type": "code",
      "source": [
        "(\n",
        "    products_1sp.loc[products_1sp.price.notna() &\n",
        "                     (products_1sp.price.str.match(r'^\\d{1,4}\\.\\d{1,3}$') | \n",
        "                      products_1sp.price.str.match(r'^\\d{1,5}$'))][\"price\"]\n",
        "                                        .astype(float)\n",
        "    .combine_first(products_1sp.loc[products_1sp.price.notna() &\n",
        "                                    products_1sp.price.str.match(r'^\\d{3}\\.\\d{3}$')][\"price\"]\n",
        "                                                          .astype(float) / 10)\n",
        ")"
      ],
      "metadata": {
        "colab": {
          "base_uri": "https://localhost:8080/"
        },
        "id": "n-5FPNtcDhVK",
        "outputId": "96bb4459-506a-4a0e-fdf0-9199dab4a463"
      },
      "execution_count": 47,
      "outputs": [
        {
          "output_type": "execute_result",
          "data": {
            "text/plain": [
              "0       59.99\n",
              "1       59.00\n",
              "2       59.00\n",
              "3       25.00\n",
              "4       34.99\n",
              "         ... \n",
              "19321   29.99\n",
              "19322   69.95\n",
              "19323   69.95\n",
              "19324   69.95\n",
              "19325   69.95\n",
              "Name: price, Length: 10156, dtype: float64"
            ]
          },
          "metadata": {},
          "execution_count": 47
        }
      ]
    },
    {
      "cell_type": "markdown",
      "source": [
        "##### CASE 2"
      ],
      "metadata": {
        "id": "aZPBJBWcdg7O"
      }
    },
    {
      "cell_type": "code",
      "source": [
        "(\n",
        "products_1sp[products_1sp.price.notna() &\n",
        "             products_1sp.price.str.match(r'^\\d{3}\\.\\d{3}$')].price.sample(10)\n",
        "                                                              .astype(float)/10\n",
        ")"
      ],
      "metadata": {
        "colab": {
          "base_uri": "https://localhost:8080/"
        },
        "id": "W_J9L0ntddK8",
        "outputId": "02f1bd99-226c-4e95-b69e-1f6e30846692"
      },
      "execution_count": 48,
      "outputs": [
        {
          "output_type": "execute_result",
          "data": {
            "text/plain": [
              "961     79.99\n",
              "14744   34.99\n",
              "15342   59.99\n",
              "12127   49.99\n",
              "15160   44.99\n",
              "18672   34.99\n",
              "999     10.99\n",
              "15377   59.99\n",
              "15417   39.99\n",
              "12746   89.99\n",
              "Name: price, dtype: float64"
            ]
          },
          "metadata": {},
          "execution_count": 48
        }
      ]
    },
    {
      "cell_type": "markdown",
      "source": [
        "##### CASE 1"
      ],
      "metadata": {
        "id": "I3ltvJ_MelVK"
      }
    },
    {
      "cell_type": "code",
      "source": [
        "(\n",
        "products_1sp[products_1sp.price.notna() &\n",
        "             products_1sp.price.str.match(r'^\\d{1,3}\\.\\d{3}\\.\\d{3}$')]\n",
        "                         .price.str.replace(\".\",\"\", regex=False)\n",
        "                         .astype(float)/100000\n",
        ").copy()   \n",
        "\n",
        "(\n",
        "products_1sp.isna().sum()\n",
        ",products_1sp[[\"desc\",\"price\",\"type\"]].isna().value_counts(normalize=True)\n",
        ")"
      ],
      "metadata": {
        "colab": {
          "base_uri": "https://localhost:8080/"
        },
        "id": "nbH9vxo1elcZ",
        "outputId": "60de1493-50b7-4086-c680-1581a30802ad"
      },
      "execution_count": 49,
      "outputs": [
        {
          "output_type": "execute_result",
          "data": {
            "text/plain": [
              "(sku             0\n",
              " name            0\n",
              " desc            7\n",
              " price          46\n",
              " promo_price     0\n",
              " in_stock        0\n",
              " type           50\n",
              " dtype: int64,\n",
              " desc   price  type \n",
              " False  False  False   0.99\n",
              "               True    0.00\n",
              "        True   False   0.00\n",
              " True   False  False   0.00\n",
              " dtype: float64)"
            ]
          },
          "metadata": {},
          "execution_count": 49
        }
      ]
    },
    {
      "cell_type": "markdown",
      "source": [
        "##### Apply all Cases"
      ],
      "metadata": {
        "id": "NiTW7evxHYGw"
      }
    },
    {
      "cell_type": "code",
      "source": [
        "products_1sp[\"cl_price\"] = (\n",
        "products_1sp[products_1sp.price.notna() &\n",
        "             products_1sp.price.str.match(r'^\\d{1,4}\\.\\d{1,3}$')| \n",
        "             products_1sp.price.str.match(r'^\\d{1,5}$')]\n",
        "                         .price.astype(float)\n",
        ".combine_first(products_1sp[products_1sp.price.notna() &\n",
        "               products_1sp.price.str.match(r'^\\d{3}\\.\\d{3}$')]\n",
        "                           .price.astype(float)/10)\n",
        ".combine_first(products_1sp[products_1sp.price.notna() &\n",
        "             products_1sp.price.str.match(r'^\\d{1,3}\\.\\d{3}\\.\\d{3}$')]\n",
        "                         .price.str.replace(\".\",\"\", regex=False)\n",
        "                         .astype(float)/100000)\n",
        ")\n",
        "# As functions "
      ],
      "metadata": {
        "id": "ZaT1r_Bgudz6"
      },
      "execution_count": 50,
      "outputs": []
    },
    {
      "cell_type": "code",
      "source": [
        "products_2sp = transform(products_1sp,'price','cl_price').dropna().copy()\n",
        "\n",
        "(\n",
        "products_2sp.cl_price.describe()\n",
        ",products_2sp[products_2sp.cl_price < 10000].boxplot('cl_price')\n",
        ")"
      ],
      "metadata": {
        "colab": {
          "base_uri": "https://localhost:8080/",
          "height": 604
        },
        "id": "za6wOSTc1VZ2",
        "outputId": "bdcbc075-d4a9-496f-a3f1-a54bc2621267"
      },
      "execution_count": 51,
      "outputs": [
        {
          "output_type": "execute_result",
          "data": {
            "text/plain": [
              "(count   10476.00\n",
              " mean      646.07\n",
              " std      1336.52\n",
              " min         2.99\n",
              " 25%        44.95\n",
              " 50%       109.99\n",
              " 75%       601.32\n",
              " max     15339.00\n",
              " Name: cl_price, dtype: float64,\n",
              " <Axes: >)"
            ]
          },
          "metadata": {},
          "execution_count": 51
        },
        {
          "output_type": "display_data",
          "data": {
            "text/plain": [
              "<Figure size 640x480 with 1 Axes>"
            ],
            "image/png": "[encoded data removed]"
          },
          "metadata": {}
        }
      ]
    },
    {
      "cell_type": "markdown",
      "source": [
        "####`promo_price`"
      ],
      "metadata": {
        "id": "KT_eH0xZtTLx"
      }
    },
    {
      "cell_type": "code",
      "source": [
        "products_2sp.promo_price"
      ],
      "metadata": {
        "colab": {
          "base_uri": "https://localhost:8080/"
        },
        "id": "h2TD73MyZjV_",
        "outputId": "21f56720-35fc-4d6c-a9d1-67bd148f87f3"
      },
      "execution_count": 52,
      "outputs": [
        {
          "output_type": "execute_result",
          "data": {
            "text/plain": [
              "0        499.899\n",
              "1        589.996\n",
              "2        569.898\n",
              "3        229.997\n",
              "4          31.99\n",
              "          ...   \n",
              "19321    269.903\n",
              "19322    649.903\n",
              "19323    649.903\n",
              "19324    649.903\n",
              "19325    649.903\n",
              "Name: promo_price, Length: 10476, dtype: object"
            ]
          },
          "metadata": {},
          "execution_count": 52
        }
      ]
    },
    {
      "cell_type": "code",
      "source": [
        "# Investigate the cases\n",
        "analyze_prices(products_1sp, \"promo_price\")"
      ],
      "metadata": {
        "colab": {
          "base_uri": "https://localhost:8080/"
        },
        "id": "ELny8gJQbXax",
        "outputId": "dcc94f14-4676-4de2-c31c-01ef9c20ba17"
      },
      "execution_count": 53,
      "outputs": [
        {
          "output_type": "stream",
          "name": "stdout",
          "text": [
            "CASE 1: \\d{1,3}\\.\\d{3}\\.\\d{3}\n",
            "False   0.57\n",
            "True    0.43\n",
            "Name: promo_price, dtype: float64\n",
            "CASE 2: \\d{3}\\.\\d{3}\n",
            "False   0.56\n",
            "True    0.44\n",
            "Name: promo_price, dtype: float64\n",
            "CASE 3: \\d{1,4}\\.\\d{1,3}\n",
            "True    0.55\n",
            "False   0.45\n",
            "Name: promo_price, dtype: float64\n",
            "CASE 4: \\d{1,5}\n",
            "False   0.99\n",
            "True    0.01\n",
            "Name: promo_price, dtype: float64\n",
            "CASE Na\n",
            "False   1.00\n",
            "Name: promo_price, dtype: float64\n"
          ]
        }
      ]
    },
    {
      "cell_type": "markdown",
      "source": [
        "Compare `price` to `promo_price` - is seemingly corrupted.\n",
        "* 43% with X.xxx.xxx  \n",
        "* 44% with xxx.xxx "
      ],
      "metadata": {
        "id": "Zp3iqpr2y7QN"
      }
    },
    {
      "cell_type": "code",
      "source": [
        "#Only testing the function\n",
        "products_2sp = transform(products_1sp,'promo_price','cl_promo_price').dropna().copy()\n",
        "\n",
        "(\n",
        "products_2sp.cl_promo_price.describe()\n",
        ",products_2sp[products_2sp.cl_promo_price > 1].boxplot('cl_promo_price')\n",
        ")"
      ],
      "metadata": {
        "colab": {
          "base_uri": "https://localhost:8080/",
          "height": 604
        },
        "id": "w2fvFbMf0xnh",
        "outputId": "56797c2b-e55f-4468-8bab-131de5191afc"
      },
      "execution_count": 54,
      "outputs": [
        {
          "output_type": "execute_result",
          "data": {
            "text/plain": [
              "(count   10476.00\n",
              " mean      255.55\n",
              " std       299.21\n",
              " min         2.31\n",
              " 25%        49.89\n",
              " 50%       169.90\n",
              " 75%       369.90\n",
              " max      9841.99\n",
              " Name: cl_promo_price, dtype: float64,\n",
              " <Axes: >)"
            ]
          },
          "metadata": {},
          "execution_count": 54
        },
        {
          "output_type": "display_data",
          "data": {
            "text/plain": [
              "<Figure size 640x480 with 1 Axes>"
            ],
            "image/png": "[encoded data removed]"
          },
          "metadata": {}
        }
      ]
    },
    {
      "cell_type": "markdown",
      "source": [
        "####**`sku`**"
      ],
      "metadata": {
        "id": "9iNMeEAB646C"
      }
    },
    {
      "cell_type": "code",
      "source": [
        "products_2sp.sku"
      ],
      "metadata": {
        "colab": {
          "base_uri": "https://localhost:8080/"
        },
        "id": "QYolYTPasI4V",
        "outputId": "5b815a33-ec9d-4a77-c9f3-516af8f7ea9e"
      },
      "execution_count": 55,
      "outputs": [
        {
          "output_type": "execute_result",
          "data": {
            "text/plain": [
              "0        RAI0007\n",
              "1        APP0023\n",
              "2        APP0025\n",
              "3        APP0072\n",
              "4        KIN0007\n",
              "          ...   \n",
              "19321    BEL0376\n",
              "19322    THU0060\n",
              "19323    THU0061\n",
              "19324    THU0062\n",
              "19325    THU0063\n",
              "Name: sku, Length: 10476, dtype: object"
            ]
          },
          "metadata": {},
          "execution_count": 55
        }
      ]
    },
    {
      "cell_type": "code",
      "source": [
        "len(products_2sp.sku.unique())"
      ],
      "metadata": {
        "colab": {
          "base_uri": "https://localhost:8080/"
        },
        "id": "WhFrMK-VeSFb",
        "outputId": "ae368a98-5a82-415d-8741-4fc4c603b636"
      },
      "execution_count": 56,
      "outputs": [
        {
          "output_type": "execute_result",
          "data": {
            "text/plain": [
              "10476"
            ]
          },
          "metadata": {},
          "execution_count": 56
        }
      ]
    },
    {
      "cell_type": "code",
      "source": [
        "products_2sp[products_1sp.sku.str.slice(0,3) == \"REP\"].sort_values(by=\"desc\").sample(2)"
      ],
      "metadata": {
        "colab": {
          "base_uri": "https://localhost:8080/",
          "height": 147
        },
        "id": "oBBCmpwG6-UO",
        "outputId": "0b0b570a-c8cd-4892-ac50-614265ece10a"
      },
      "execution_count": 57,
      "outputs": [
        {
          "output_type": "stream",
          "name": "stderr",
          "text": [
            "<ipython-input-57-0d7eca000b8f>:1: UserWarning: Boolean Series key will be reindexed to match DataFrame index.\n",
            "  products_2sp[products_1sp.sku.str.slice(0,3) == \"REP\"].sort_values(by=\"desc\").sample(2)\n"
          ]
        },
        {
          "output_type": "execute_result",
          "data": {
            "text/plain": [
              "          sku                              name  \\\n",
              "945   REP0193  posterior chamber repair cases 3   \n",
              "2405  REP0239           battery repair iPhone 6   \n",
              "\n",
              "                                                          desc   price  \\\n",
              "945   Installation service includes parts and labor for iPad 3  69.999   \n",
              "2405     Repair service including parts and labor for iPhone 6   59.99   \n",
              "\n",
              "     promo_price  in_stock      type  cl_price  cl_promo_price  \n",
              "945      699.888         0  1,44E+11     70.00          699.89  \n",
              "2405     399.893         0  1,44E+11     59.99          399.89  "
            ],
            "text/html": [
              "\n",
              "  <div id=\"df-e662fa80-b897-430f-822d-0ec8ec870646\">\n",
              "    <div class=\"colab-df-container\">\n",
              "      <div>\n",
              "<style scoped>\n",
              "    .dataframe tbody tr th:only-of-type {\n",
              "        vertical-align: middle;\n",
              "    }\n",
              "\n",
              "    .dataframe tbody tr th {\n",
              "        vertical-align: top;\n",
              "    }\n",
              "\n",
              "    .dataframe thead th {\n",
              "        text-align: right;\n",
              "    }\n",
              "</style>\n",
              "<table border=\"1\" class=\"dataframe\">\n",
              "  <thead>\n",
              "    <tr style=\"text-align: right;\">\n",
              "      <th></th>\n",
              "      <th>sku</th>\n",
              "      <th>name</th>\n",
              "      <th>desc</th>\n",
              "      <th>price</th>\n",
              "      <th>promo_price</th>\n",
              "      <th>in_stock</th>\n",
              "      <th>type</th>\n",
              "      <th>cl_price</th>\n",
              "      <th>cl_promo_price</th>\n",
              "    </tr>\n",
              "  </thead>\n",
              "  <tbody>\n",
              "    <tr>\n",
              "      <th>945</th>\n",
              "      <td>REP0193</td>\n",
              "      <td>posterior chamber repair cases 3</td>\n",
              "      <td>Installation service includes parts and labor for iPad 3</td>\n",
              "      <td>69.999</td>\n",
              "      <td>699.888</td>\n",
              "      <td>0</td>\n",
              "      <td>1,44E+11</td>\n",
              "      <td>70.00</td>\n",
              "      <td>699.89</td>\n",
              "    </tr>\n",
              "    <tr>\n",
              "      <th>2405</th>\n",
              "      <td>REP0239</td>\n",
              "      <td>battery repair iPhone 6</td>\n",
              "      <td>Repair service including parts and labor for iPhone 6</td>\n",
              "      <td>59.99</td>\n",
              "      <td>399.893</td>\n",
              "      <td>0</td>\n",
              "      <td>1,44E+11</td>\n",
              "      <td>59.99</td>\n",
              "      <td>399.89</td>\n",
              "    </tr>\n",
              "  </tbody>\n",
              "</table>\n",
              "</div>\n",
              "      <button class=\"colab-df-convert\" onclick=\"convertToInteractive('df-e662fa80-b897-430f-822d-0ec8ec870646')\"\n",
              "              title=\"Convert this dataframe to an interactive table.\"\n",
              "              style=\"display:none;\">\n",
              "        \n",
              "  <svg xmlns=\"http://www.w3.org/2000/svg\" height=\"24px\"viewBox=\"0 0 24 24\"\n",
              "       width=\"24px\">\n",
              "    <path d=\"M0 0h24v24H0V0z\" fill=\"none\"/>\n",
              "    <path d=\"M18.56 5.44l.94 2.06.94-2.06 2.06-.94-2.06-.94-.94-2.06-.94 2.06-2.06.94zm-11 1L8.5 8.5l.94-2.06 2.06-.94-2.06-.94L8.5 2.5l-.94 2.06-2.06.94zm10 10l.94 2.06.94-2.06 2.06-.94-2.06-.94-.94-2.06-.94 2.06-2.06.94z\"/><path d=\"M17.41 7.96l-1.37-1.37c-.4-.4-.92-.59-1.43-.59-.52 0-1.04.2-1.43.59L10.3 9.45l-7.72 7.72c-.78.78-.78 2.05 0 2.83L4 21.41c.39.39.9.59 1.41.59.51 0 1.02-.2 1.41-.59l7.78-7.78 2.81-2.81c.8-.78.8-2.07 0-2.86zM5.41 20L4 18.59l7.72-7.72 1.47 1.35L5.41 20z\"/>\n",
              "  </svg>\n",
              "      </button>\n",
              "      \n",
              "  <style>\n",
              "    .colab-df-container {\n",
              "      display:flex;\n",
              "      flex-wrap:wrap;\n",
              "      gap: 12px;\n",
              "    }\n",
              "\n",
              "    .colab-df-convert {\n",
              "      background-color: #E8F0FE;\n",
              "      border: none;\n",
              "      border-radius: 50%;\n",
              "      cursor: pointer;\n",
              "      display: none;\n",
              "      fill: #1967D2;\n",
              "      height: 32px;\n",
              "      padding: 0 0 0 0;\n",
              "      width: 32px;\n",
              "    }\n",
              "\n",
              "    .colab-df-convert:hover {\n",
              "      background-color: #E2EBFA;\n",
              "      box-shadow: 0px 1px 2px rgba(60, 64, 67, 0.3), 0px 1px 3px 1px rgba(60, 64, 67, 0.15);\n",
              "      fill: #174EA6;\n",
              "    }\n",
              "\n",
              "    [theme=dark] .colab-df-convert {\n",
              "      background-color: #3B4455;\n",
              "      fill: #D2E3FC;\n",
              "    }\n",
              "\n",
              "    [theme=dark] .colab-df-convert:hover {\n",
              "      background-color: #434B5C;\n",
              "      box-shadow: 0px 1px 3px 1px rgba(0, 0, 0, 0.15);\n",
              "      filter: drop-shadow(0px 1px 2px rgba(0, 0, 0, 0.3));\n",
              "      fill: #FFFFFF;\n",
              "    }\n",
              "  </style>\n",
              "\n",
              "      <script>\n",
              "        const buttonEl =\n",
              "          document.querySelector('#df-e662fa80-b897-430f-822d-0ec8ec870646 button.colab-df-convert');\n",
              "        buttonEl.style.display =\n",
              "          google.colab.kernel.accessAllowed ? 'block' : 'none';\n",
              "\n",
              "        async function convertToInteractive(key) {\n",
              "          const element = document.querySelector('#df-e662fa80-b897-430f-822d-0ec8ec870646');\n",
              "          const dataTable =\n",
              "            await google.colab.kernel.invokeFunction('convertToInteractive',\n",
              "                                                     [key], {});\n",
              "          if (!dataTable) return;\n",
              "\n",
              "          const docLinkHtml = 'Like what you see? Visit the ' +\n",
              "            '<a target=\"_blank\" href=https://colab.research.google.com/notebooks/data_table.ipynb>data table notebook</a>'\n",
              "            + ' to learn more about interactive tables.';\n",
              "          element.innerHTML = '';\n",
              "          dataTable['output_type'] = 'display_data';\n",
              "          await google.colab.output.renderOutput(dataTable, element);\n",
              "          const docLink = document.createElement('div');\n",
              "          docLink.innerHTML = docLinkHtml;\n",
              "          element.appendChild(docLink);\n",
              "        }\n",
              "      </script>\n",
              "    </div>\n",
              "  </div>\n",
              "  "
            ]
          },
          "metadata": {},
          "execution_count": 57
        }
      ]
    },
    {
      "cell_type": "code",
      "source": [
        "products_2sp[\"brands\"] = products_2sp.sku.str.slice(0,3)\n",
        "\n",
        "products_3sp = (\n",
        "products_2sp.merge(\n",
        "    brands,\n",
        "    how=\"inner\", \n",
        "    left_on=\"brands\", \n",
        "    right_on=\"short\")\n",
        "[[\"sku\",\"long\", \"name\", \"desc\", \"price\", \"promo_price\",\"cl_price\",\"cl_promo_price\", \"type\",]]\n",
        ".copy()\n",
        ")"
      ],
      "metadata": {
        "id": "Z7qqORRx2Ybe"
      },
      "execution_count": 58,
      "outputs": []
    },
    {
      "cell_type": "markdown",
      "source": [
        "### Comparing, checking for differences"
      ],
      "metadata": {
        "id": "5Dq_WNmu18m1"
      }
    },
    {
      "cell_type": "code",
      "source": [
        "products_3sp['cl_deff'] = products_3sp.cl_price - products_3sp.cl_promo_price\n",
        "products_3sp['cl_deff_2'] = products_3sp.cl_promo_price/products_3sp.cl_price\n",
        "products_3sp[[\"price\", \"promo_price\",\"cl_price\",\"cl_promo_price\",\"cl_deff\",\"cl_deff_2\"]]\n",
        "\n",
        "\n",
        "products_3sp[products_3sp.cl_deff_2 > 1].cl_deff_2.hist(bins=100);"
      ],
      "metadata": {
        "colab": {
          "base_uri": "https://localhost:8080/",
          "height": 430
        },
        "id": "glTlylAY8oFb",
        "outputId": "8979074e-7f17-4849-9b04-9dbd89a0e10d"
      },
      "execution_count": 59,
      "outputs": [
        {
          "output_type": "display_data",
          "data": {
            "text/plain": [
              "<Figure size 640x480 with 1 Axes>"
            ],
            "image/png": "[encoded data removed]"
          },
          "metadata": {}
        }
      ]
    },
    {
      "cell_type": "code",
      "source": [
        "#Drop columns\n",
        "#products_3sp = products_3sp.drop([\"price\",\"promo_price\",\"cl_deff\",'cl_deff_2'], axis=1)\n",
        "products_3sp = products_3sp.drop(['cl_promo_price'], axis=1).dropna().copy()\n",
        "products_3sp.sample(5)"
      ],
      "metadata": {
        "id": "cA19bG5Hjqqg",
        "colab": {
          "base_uri": "https://localhost:8080/",
          "height": 206
        },
        "outputId": "1d371085-7646-49c6-80e5-b46fd86c3808"
      },
      "execution_count": 60,
      "outputs": [
        {
          "output_type": "execute_result",
          "data": {
            "text/plain": [
              "          sku             long  \\\n",
              "7819  GTE0100     G-Technology   \n",
              "9490  LEX0047            Lexar   \n",
              "5537  PAC2361             Pack   \n",
              "2599  GRT0430          Griffin   \n",
              "3907  WDT0285  Western Digital   \n",
              "\n",
              "                                                                       name  \\\n",
              "7819           G-Technology G-DRIVE HDD 6TB 7200rpm Thunderbolt 3 and USB-C   \n",
              "9490                    Lexar Professional Workflow Disk 256GB External SSD   \n",
              "5537  Synology DS218 + NAS Server | 2GB RAM | 6TB (2x3TB) Seagate Iron Wolf   \n",
              "2599                             Griffin Survivor iPhone Case Clear 7 Clear   \n",
              "3907      Western Digital My Passport For Mac Black 2 TB hard drive for Mac   \n",
              "\n",
              "                                                                           desc  \\\n",
              "7819  6TB hard drive with 2 USB 3 and Thunderbolt connections-C for Mac and PC.   \n",
              "9490            Portable SSD drive with 256GB USB 3.0 connection for Mac and PC   \n",
              "5537        NAS storage server integrated with special focus on data protection   \n",
              "2599                     Resistant polycarbonate transparent cover for iPhone 7   \n",
              "3907                                   2TB External Hard Drive USB 3.0 for Mac.   \n",
              "\n",
              "       price promo_price  cl_price      type  cl_deff  cl_deff_2  \n",
              "7819  475.99   3.459.947    475.99  11935397   441.39       0.07  \n",
              "9490  139.99   1.147.939    139.99  11935397   128.51       0.08  \n",
              "5537  624.97     529.179    624.97  12175397    95.79       0.85  \n",
              "2599   24.99     129.894     24.99  11865403  -104.90       5.20  \n",
              "3907  109.99     999.896    109.99  11935397  -889.91       9.09  "
            ],
            "text/html": [
              "\n",
              "  <div id=\"df-01d1a41d-eab9-4b8d-8518-b33175123201\">\n",
              "    <div class=\"colab-df-container\">\n",
              "      <div>\n",
              "<style scoped>\n",
              "    .dataframe tbody tr th:only-of-type {\n",
              "        vertical-align: middle;\n",
              "    }\n",
              "\n",
              "    .dataframe tbody tr th {\n",
              "        vertical-align: top;\n",
              "    }\n",
              "\n",
              "    .dataframe thead th {\n",
              "        text-align: right;\n",
              "    }\n",
              "</style>\n",
              "<table border=\"1\" class=\"dataframe\">\n",
              "  <thead>\n",
              "    <tr style=\"text-align: right;\">\n",
              "      <th></th>\n",
              "      <th>sku</th>\n",
              "      <th>long</th>\n",
              "      <th>name</th>\n",
              "      <th>desc</th>\n",
              "      <th>price</th>\n",
              "      <th>promo_price</th>\n",
              "      <th>cl_price</th>\n",
              "      <th>type</th>\n",
              "      <th>cl_deff</th>\n",
              "      <th>cl_deff_2</th>\n",
              "    </tr>\n",
              "  </thead>\n",
              "  <tbody>\n",
              "    <tr>\n",
              "      <th>7819</th>\n",
              "      <td>GTE0100</td>\n",
              "      <td>G-Technology</td>\n",
              "      <td>G-Technology G-DRIVE HDD 6TB 7200rpm Thunderbolt 3 and USB-C</td>\n",
              "      <td>6TB hard drive with 2 USB 3 and Thunderbolt connections-C for Mac and PC.</td>\n",
              "      <td>475.99</td>\n",
              "      <td>3.459.947</td>\n",
              "      <td>475.99</td>\n",
              "      <td>11935397</td>\n",
              "      <td>441.39</td>\n",
              "      <td>0.07</td>\n",
              "    </tr>\n",
              "    <tr>\n",
              "      <th>9490</th>\n",
              "      <td>LEX0047</td>\n",
              "      <td>Lexar</td>\n",
              "      <td>Lexar Professional Workflow Disk 256GB External SSD</td>\n",
              "      <td>Portable SSD drive with 256GB USB 3.0 connection for Mac and PC</td>\n",
              "      <td>139.99</td>\n",
              "      <td>1.147.939</td>\n",
              "      <td>139.99</td>\n",
              "      <td>11935397</td>\n",
              "      <td>128.51</td>\n",
              "      <td>0.08</td>\n",
              "    </tr>\n",
              "    <tr>\n",
              "      <th>5537</th>\n",
              "      <td>PAC2361</td>\n",
              "      <td>Pack</td>\n",
              "      <td>Synology DS218 + NAS Server | 2GB RAM | 6TB (2x3TB) Seagate Iron Wolf</td>\n",
              "      <td>NAS storage server integrated with special focus on data protection</td>\n",
              "      <td>624.97</td>\n",
              "      <td>529.179</td>\n",
              "      <td>624.97</td>\n",
              "      <td>12175397</td>\n",
              "      <td>95.79</td>\n",
              "      <td>0.85</td>\n",
              "    </tr>\n",
              "    <tr>\n",
              "      <th>2599</th>\n",
              "      <td>GRT0430</td>\n",
              "      <td>Griffin</td>\n",
              "      <td>Griffin Survivor iPhone Case Clear 7 Clear</td>\n",
              "      <td>Resistant polycarbonate transparent cover for iPhone 7</td>\n",
              "      <td>24.99</td>\n",
              "      <td>129.894</td>\n",
              "      <td>24.99</td>\n",
              "      <td>11865403</td>\n",
              "      <td>-104.90</td>\n",
              "      <td>5.20</td>\n",
              "    </tr>\n",
              "    <tr>\n",
              "      <th>3907</th>\n",
              "      <td>WDT0285</td>\n",
              "      <td>Western Digital</td>\n",
              "      <td>Western Digital My Passport For Mac Black 2 TB hard drive for Mac</td>\n",
              "      <td>2TB External Hard Drive USB 3.0 for Mac.</td>\n",
              "      <td>109.99</td>\n",
              "      <td>999.896</td>\n",
              "      <td>109.99</td>\n",
              "      <td>11935397</td>\n",
              "      <td>-889.91</td>\n",
              "      <td>9.09</td>\n",
              "    </tr>\n",
              "  </tbody>\n",
              "</table>\n",
              "</div>\n",
              "      <button class=\"colab-df-convert\" onclick=\"convertToInteractive('df-01d1a41d-eab9-4b8d-8518-b33175123201')\"\n",
              "              title=\"Convert this dataframe to an interactive table.\"\n",
              "              style=\"display:none;\">\n",
              "        \n",
              "  <svg xmlns=\"http://www.w3.org/2000/svg\" height=\"24px\"viewBox=\"0 0 24 24\"\n",
              "       width=\"24px\">\n",
              "    <path d=\"M0 0h24v24H0V0z\" fill=\"none\"/>\n",
              "    <path d=\"M18.56 5.44l.94 2.06.94-2.06 2.06-.94-2.06-.94-.94-2.06-.94 2.06-2.06.94zm-11 1L8.5 8.5l.94-2.06 2.06-.94-2.06-.94L8.5 2.5l-.94 2.06-2.06.94zm10 10l.94 2.06.94-2.06 2.06-.94-2.06-.94-.94-2.06-.94 2.06-2.06.94z\"/><path d=\"M17.41 7.96l-1.37-1.37c-.4-.4-.92-.59-1.43-.59-.52 0-1.04.2-1.43.59L10.3 9.45l-7.72 7.72c-.78.78-.78 2.05 0 2.83L4 21.41c.39.39.9.59 1.41.59.51 0 1.02-.2 1.41-.59l7.78-7.78 2.81-2.81c.8-.78.8-2.07 0-2.86zM5.41 20L4 18.59l7.72-7.72 1.47 1.35L5.41 20z\"/>\n",
              "  </svg>\n",
              "      </button>\n",
              "      \n",
              "  <style>\n",
              "    .colab-df-container {\n",
              "      display:flex;\n",
              "      flex-wrap:wrap;\n",
              "      gap: 12px;\n",
              "    }\n",
              "\n",
              "    .colab-df-convert {\n",
              "      background-color: #E8F0FE;\n",
              "      border: none;\n",
              "      border-radius: 50%;\n",
              "      cursor: pointer;\n",
              "      display: none;\n",
              "      fill: #1967D2;\n",
              "      height: 32px;\n",
              "      padding: 0 0 0 0;\n",
              "      width: 32px;\n",
              "    }\n",
              "\n",
              "    .colab-df-convert:hover {\n",
              "      background-color: #E2EBFA;\n",
              "      box-shadow: 0px 1px 2px rgba(60, 64, 67, 0.3), 0px 1px 3px 1px rgba(60, 64, 67, 0.15);\n",
              "      fill: #174EA6;\n",
              "    }\n",
              "\n",
              "    [theme=dark] .colab-df-convert {\n",
              "      background-color: #3B4455;\n",
              "      fill: #D2E3FC;\n",
              "    }\n",
              "\n",
              "    [theme=dark] .colab-df-convert:hover {\n",
              "      background-color: #434B5C;\n",
              "      box-shadow: 0px 1px 3px 1px rgba(0, 0, 0, 0.15);\n",
              "      filter: drop-shadow(0px 1px 2px rgba(0, 0, 0, 0.3));\n",
              "      fill: #FFFFFF;\n",
              "    }\n",
              "  </style>\n",
              "\n",
              "      <script>\n",
              "        const buttonEl =\n",
              "          document.querySelector('#df-01d1a41d-eab9-4b8d-8518-b33175123201 button.colab-df-convert');\n",
              "        buttonEl.style.display =\n",
              "          google.colab.kernel.accessAllowed ? 'block' : 'none';\n",
              "\n",
              "        async function convertToInteractive(key) {\n",
              "          const element = document.querySelector('#df-01d1a41d-eab9-4b8d-8518-b33175123201');\n",
              "          const dataTable =\n",
              "            await google.colab.kernel.invokeFunction('convertToInteractive',\n",
              "                                                     [key], {});\n",
              "          if (!dataTable) return;\n",
              "\n",
              "          const docLinkHtml = 'Like what you see? Visit the ' +\n",
              "            '<a target=\"_blank\" href=https://colab.research.google.com/notebooks/data_table.ipynb>data table notebook</a>'\n",
              "            + ' to learn more about interactive tables.';\n",
              "          element.innerHTML = '';\n",
              "          dataTable['output_type'] = 'display_data';\n",
              "          await google.colab.output.renderOutput(dataTable, element);\n",
              "          const docLink = document.createElement('div');\n",
              "          docLink.innerHTML = docLinkHtml;\n",
              "          element.appendChild(docLink);\n",
              "        }\n",
              "      </script>\n",
              "    </div>\n",
              "  </div>\n",
              "  "
            ]
          },
          "metadata": {},
          "execution_count": 60
        }
      ]
    },
    {
      "cell_type": "markdown",
      "source": [
        "### Status\n",
        "`promo_price` not OK\n",
        "\n",
        "`type, name, desc, price`\n",
        "keep, no cleaning required\n",
        "\n",
        "Last Version: `products_3sp` "
      ],
      "metadata": {
        "id": "kb8xnsYM5mtw"
      }
    },
    {
      "cell_type": "markdown",
      "source": [
        "# 2 Brands [ok]"
      ],
      "metadata": {
        "id": "2quyAKQw1HT9"
      }
    },
    {
      "cell_type": "markdown",
      "source": [
        "**brands.csv**\n",
        "* `short` – the 3-character code by which the brand can be identified in the first 3 characters of products.sku\n",
        "* `long` – brand name"
      ],
      "metadata": {
        "id": "CeAn-rzo2mhf"
      }
    },
    {
      "cell_type": "code",
      "source": [
        "brands.sample(10)"
      ],
      "metadata": {
        "id": "e5I9aUcy1LIA",
        "colab": {
          "base_uri": "https://localhost:8080/",
          "height": 363
        },
        "outputId": "f8d027c9-85ce-4b9f-e40b-25956912fbde"
      },
      "execution_count": 61,
      "outputs": [
        {
          "output_type": "execute_result",
          "data": {
            "text/plain": [
              "    short        long\n",
              "27    DJI         DJI\n",
              "167   TPL     TP-Link\n",
              "93    MOL   Moleskine\n",
              "161   TAM     Tangram\n",
              "95    MOS       Moshi\n",
              "170   TRK      TrackR\n",
              "185   ZAG    ZaggKeys\n",
              "149   SOF    Software\n",
              "104   NES        Nest\n",
              "137   RUT  Runstastic"
            ],
            "text/html": [
              "\n",
              "  <div id=\"df-10b3370a-33e0-467a-b61e-37818332a05e\">\n",
              "    <div class=\"colab-df-container\">\n",
              "      <div>\n",
              "<style scoped>\n",
              "    .dataframe tbody tr th:only-of-type {\n",
              "        vertical-align: middle;\n",
              "    }\n",
              "\n",
              "    .dataframe tbody tr th {\n",
              "        vertical-align: top;\n",
              "    }\n",
              "\n",
              "    .dataframe thead th {\n",
              "        text-align: right;\n",
              "    }\n",
              "</style>\n",
              "<table border=\"1\" class=\"dataframe\">\n",
              "  <thead>\n",
              "    <tr style=\"text-align: right;\">\n",
              "      <th></th>\n",
              "      <th>short</th>\n",
              "      <th>long</th>\n",
              "    </tr>\n",
              "  </thead>\n",
              "  <tbody>\n",
              "    <tr>\n",
              "      <th>27</th>\n",
              "      <td>DJI</td>\n",
              "      <td>DJI</td>\n",
              "    </tr>\n",
              "    <tr>\n",
              "      <th>167</th>\n",
              "      <td>TPL</td>\n",
              "      <td>TP-Link</td>\n",
              "    </tr>\n",
              "    <tr>\n",
              "      <th>93</th>\n",
              "      <td>MOL</td>\n",
              "      <td>Moleskine</td>\n",
              "    </tr>\n",
              "    <tr>\n",
              "      <th>161</th>\n",
              "      <td>TAM</td>\n",
              "      <td>Tangram</td>\n",
              "    </tr>\n",
              "    <tr>\n",
              "      <th>95</th>\n",
              "      <td>MOS</td>\n",
              "      <td>Moshi</td>\n",
              "    </tr>\n",
              "    <tr>\n",
              "      <th>170</th>\n",
              "      <td>TRK</td>\n",
              "      <td>TrackR</td>\n",
              "    </tr>\n",
              "    <tr>\n",
              "      <th>185</th>\n",
              "      <td>ZAG</td>\n",
              "      <td>ZaggKeys</td>\n",
              "    </tr>\n",
              "    <tr>\n",
              "      <th>149</th>\n",
              "      <td>SOF</td>\n",
              "      <td>Software</td>\n",
              "    </tr>\n",
              "    <tr>\n",
              "      <th>104</th>\n",
              "      <td>NES</td>\n",
              "      <td>Nest</td>\n",
              "    </tr>\n",
              "    <tr>\n",
              "      <th>137</th>\n",
              "      <td>RUT</td>\n",
              "      <td>Runstastic</td>\n",
              "    </tr>\n",
              "  </tbody>\n",
              "</table>\n",
              "</div>\n",
              "      <button class=\"colab-df-convert\" onclick=\"convertToInteractive('df-10b3370a-33e0-467a-b61e-37818332a05e')\"\n",
              "              title=\"Convert this dataframe to an interactive table.\"\n",
              "              style=\"display:none;\">\n",
              "        \n",
              "  <svg xmlns=\"http://www.w3.org/2000/svg\" height=\"24px\"viewBox=\"0 0 24 24\"\n",
              "       width=\"24px\">\n",
              "    <path d=\"M0 0h24v24H0V0z\" fill=\"none\"/>\n",
              "    <path d=\"M18.56 5.44l.94 2.06.94-2.06 2.06-.94-2.06-.94-.94-2.06-.94 2.06-2.06.94zm-11 1L8.5 8.5l.94-2.06 2.06-.94-2.06-.94L8.5 2.5l-.94 2.06-2.06.94zm10 10l.94 2.06.94-2.06 2.06-.94-2.06-.94-.94-2.06-.94 2.06-2.06.94z\"/><path d=\"M17.41 7.96l-1.37-1.37c-.4-.4-.92-.59-1.43-.59-.52 0-1.04.2-1.43.59L10.3 9.45l-7.72 7.72c-.78.78-.78 2.05 0 2.83L4 21.41c.39.39.9.59 1.41.59.51 0 1.02-.2 1.41-.59l7.78-7.78 2.81-2.81c.8-.78.8-2.07 0-2.86zM5.41 20L4 18.59l7.72-7.72 1.47 1.35L5.41 20z\"/>\n",
              "  </svg>\n",
              "      </button>\n",
              "      \n",
              "  <style>\n",
              "    .colab-df-container {\n",
              "      display:flex;\n",
              "      flex-wrap:wrap;\n",
              "      gap: 12px;\n",
              "    }\n",
              "\n",
              "    .colab-df-convert {\n",
              "      background-color: #E8F0FE;\n",
              "      border: none;\n",
              "      border-radius: 50%;\n",
              "      cursor: pointer;\n",
              "      display: none;\n",
              "      fill: #1967D2;\n",
              "      height: 32px;\n",
              "      padding: 0 0 0 0;\n",
              "      width: 32px;\n",
              "    }\n",
              "\n",
              "    .colab-df-convert:hover {\n",
              "      background-color: #E2EBFA;\n",
              "      box-shadow: 0px 1px 2px rgba(60, 64, 67, 0.3), 0px 1px 3px 1px rgba(60, 64, 67, 0.15);\n",
              "      fill: #174EA6;\n",
              "    }\n",
              "\n",
              "    [theme=dark] .colab-df-convert {\n",
              "      background-color: #3B4455;\n",
              "      fill: #D2E3FC;\n",
              "    }\n",
              "\n",
              "    [theme=dark] .colab-df-convert:hover {\n",
              "      background-color: #434B5C;\n",
              "      box-shadow: 0px 1px 3px 1px rgba(0, 0, 0, 0.15);\n",
              "      filter: drop-shadow(0px 1px 2px rgba(0, 0, 0, 0.3));\n",
              "      fill: #FFFFFF;\n",
              "    }\n",
              "  </style>\n",
              "\n",
              "      <script>\n",
              "        const buttonEl =\n",
              "          document.querySelector('#df-10b3370a-33e0-467a-b61e-37818332a05e button.colab-df-convert');\n",
              "        buttonEl.style.display =\n",
              "          google.colab.kernel.accessAllowed ? 'block' : 'none';\n",
              "\n",
              "        async function convertToInteractive(key) {\n",
              "          const element = document.querySelector('#df-10b3370a-33e0-467a-b61e-37818332a05e');\n",
              "          const dataTable =\n",
              "            await google.colab.kernel.invokeFunction('convertToInteractive',\n",
              "                                                     [key], {});\n",
              "          if (!dataTable) return;\n",
              "\n",
              "          const docLinkHtml = 'Like what you see? Visit the ' +\n",
              "            '<a target=\"_blank\" href=https://colab.research.google.com/notebooks/data_table.ipynb>data table notebook</a>'\n",
              "            + ' to learn more about interactive tables.';\n",
              "          element.innerHTML = '';\n",
              "          dataTable['output_type'] = 'display_data';\n",
              "          await google.colab.output.renderOutput(dataTable, element);\n",
              "          const docLink = document.createElement('div');\n",
              "          docLink.innerHTML = docLinkHtml;\n",
              "          element.appendChild(docLink);\n",
              "        }\n",
              "      </script>\n",
              "    </div>\n",
              "  </div>\n",
              "  "
            ]
          },
          "metadata": {},
          "execution_count": 61
        }
      ]
    },
    {
      "cell_type": "code",
      "source": [
        "brands.info()"
      ],
      "metadata": {
        "id": "uWtFNjyY1P5A",
        "colab": {
          "base_uri": "https://localhost:8080/"
        },
        "outputId": "24f24662-4eed-4963-971c-5bd3ab349e67"
      },
      "execution_count": 62,
      "outputs": [
        {
          "output_type": "stream",
          "name": "stdout",
          "text": [
            "<class 'pandas.core.frame.DataFrame'>\n",
            "RangeIndex: 187 entries, 0 to 186\n",
            "Data columns (total 2 columns):\n",
            " #   Column  Non-Null Count  Dtype \n",
            "---  ------  --------------  ----- \n",
            " 0   short   187 non-null    object\n",
            " 1   long    187 non-null    object\n",
            "dtypes: object(2)\n",
            "memory usage: 3.0+ KB\n"
          ]
        }
      ]
    },
    {
      "cell_type": "markdown",
      "source": [
        "### Status\n",
        "\n",
        "All datatype are OK\n",
        "\n",
        "Last Version: `brands` "
      ],
      "metadata": {
        "id": "L25fqEYo5j35"
      }
    },
    {
      "cell_type": "markdown",
      "source": [
        "# 3 Orders [ok]\n"
      ],
      "metadata": {
        "id": "RqiGCqF81TYQ"
      }
    },
    {
      "cell_type": "markdown",
      "source": [
        "**orders.csv** – Every row in this file represents an order.\n",
        "* `order_id` – a unique identifier for each order\n",
        "* `created_date` – a timestamp for when the order was created\n",
        "* `total_paid` – the total amount paid by the customer for this order, in euros\n",
        "state \n",
        " * “Shopping basket” – products have been placed in the shopping basket, but the order has not been processed yet.\n",
        " * “Pending” – the shopping basket has been processed, but payment confirmation is pending.\n",
        " * “Completed” – the order has been placed and paid, and the transaction is completed.\n",
        " * “Cancelled” – the order has been cancelled and the payment returned to the \n",
        "customer."
      ],
      "metadata": {
        "id": "Kmysdfqm2yYJ"
      }
    },
    {
      "cell_type": "code",
      "source": [
        "orders.info()"
      ],
      "metadata": {
        "id": "n_4RWDxo1fVc",
        "colab": {
          "base_uri": "https://localhost:8080/"
        },
        "outputId": "261c443e-0ec5-4c3e-b3f5-60e87903daa1"
      },
      "execution_count": 63,
      "outputs": [
        {
          "output_type": "stream",
          "name": "stdout",
          "text": [
            "<class 'pandas.core.frame.DataFrame'>\n",
            "RangeIndex: 226909 entries, 0 to 226908\n",
            "Data columns (total 4 columns):\n",
            " #   Column        Non-Null Count   Dtype  \n",
            "---  ------        --------------   -----  \n",
            " 0   order_id      226909 non-null  int64  \n",
            " 1   created_date  226909 non-null  object \n",
            " 2   total_paid    226904 non-null  float64\n",
            " 3   state         226909 non-null  object \n",
            "dtypes: float64(1), int64(1), object(2)\n",
            "memory usage: 6.9+ MB\n"
          ]
        }
      ]
    },
    {
      "cell_type": "code",
      "source": [
        "orders.sample(5)"
      ],
      "metadata": {
        "id": "h_SL6gk51i6G",
        "colab": {
          "base_uri": "https://localhost:8080/",
          "height": 206
        },
        "outputId": "ecb49339-1f09-48d6-8ab0-d924dbec9950"
      },
      "execution_count": 64,
      "outputs": [
        {
          "output_type": "execute_result",
          "data": {
            "text/plain": [
              "        order_id         created_date  total_paid            state\n",
              "84059     383634  2017-07-29 09:23:39       15.99  Shopping Basket\n",
              "127484    427097  2017-11-15 12:12:32      138.42  Shopping Basket\n",
              "125398    425011  2017-11-11 00:14:39       18.98        Completed\n",
              "136045    435738  2017-11-23 20:23:40      100.76  Shopping Basket\n",
              "145183    445278  2017-11-26 14:19:29     2122.98  Shopping Basket"
            ],
            "text/html": [
              "\n",
              "  <div id=\"df-21a661e4-f813-472b-b52e-f736e77e55ea\">\n",
              "    <div class=\"colab-df-container\">\n",
              "      <div>\n",
              "<style scoped>\n",
              "    .dataframe tbody tr th:only-of-type {\n",
              "        vertical-align: middle;\n",
              "    }\n",
              "\n",
              "    .dataframe tbody tr th {\n",
              "        vertical-align: top;\n",
              "    }\n",
              "\n",
              "    .dataframe thead th {\n",
              "        text-align: right;\n",
              "    }\n",
              "</style>\n",
              "<table border=\"1\" class=\"dataframe\">\n",
              "  <thead>\n",
              "    <tr style=\"text-align: right;\">\n",
              "      <th></th>\n",
              "      <th>order_id</th>\n",
              "      <th>created_date</th>\n",
              "      <th>total_paid</th>\n",
              "      <th>state</th>\n",
              "    </tr>\n",
              "  </thead>\n",
              "  <tbody>\n",
              "    <tr>\n",
              "      <th>84059</th>\n",
              "      <td>383634</td>\n",
              "      <td>2017-07-29 09:23:39</td>\n",
              "      <td>15.99</td>\n",
              "      <td>Shopping Basket</td>\n",
              "    </tr>\n",
              "    <tr>\n",
              "      <th>127484</th>\n",
              "      <td>427097</td>\n",
              "      <td>2017-11-15 12:12:32</td>\n",
              "      <td>138.42</td>\n",
              "      <td>Shopping Basket</td>\n",
              "    </tr>\n",
              "    <tr>\n",
              "      <th>125398</th>\n",
              "      <td>425011</td>\n",
              "      <td>2017-11-11 00:14:39</td>\n",
              "      <td>18.98</td>\n",
              "      <td>Completed</td>\n",
              "    </tr>\n",
              "    <tr>\n",
              "      <th>136045</th>\n",
              "      <td>435738</td>\n",
              "      <td>2017-11-23 20:23:40</td>\n",
              "      <td>100.76</td>\n",
              "      <td>Shopping Basket</td>\n",
              "    </tr>\n",
              "    <tr>\n",
              "      <th>145183</th>\n",
              "      <td>445278</td>\n",
              "      <td>2017-11-26 14:19:29</td>\n",
              "      <td>2122.98</td>\n",
              "      <td>Shopping Basket</td>\n",
              "    </tr>\n",
              "  </tbody>\n",
              "</table>\n",
              "</div>\n",
              "      <button class=\"colab-df-convert\" onclick=\"convertToInteractive('df-21a661e4-f813-472b-b52e-f736e77e55ea')\"\n",
              "              title=\"Convert this dataframe to an interactive table.\"\n",
              "              style=\"display:none;\">\n",
              "        \n",
              "  <svg xmlns=\"http://www.w3.org/2000/svg\" height=\"24px\"viewBox=\"0 0 24 24\"\n",
              "       width=\"24px\">\n",
              "    <path d=\"M0 0h24v24H0V0z\" fill=\"none\"/>\n",
              "    <path d=\"M18.56 5.44l.94 2.06.94-2.06 2.06-.94-2.06-.94-.94-2.06-.94 2.06-2.06.94zm-11 1L8.5 8.5l.94-2.06 2.06-.94-2.06-.94L8.5 2.5l-.94 2.06-2.06.94zm10 10l.94 2.06.94-2.06 2.06-.94-2.06-.94-.94-2.06-.94 2.06-2.06.94z\"/><path d=\"M17.41 7.96l-1.37-1.37c-.4-.4-.92-.59-1.43-.59-.52 0-1.04.2-1.43.59L10.3 9.45l-7.72 7.72c-.78.78-.78 2.05 0 2.83L4 21.41c.39.39.9.59 1.41.59.51 0 1.02-.2 1.41-.59l7.78-7.78 2.81-2.81c.8-.78.8-2.07 0-2.86zM5.41 20L4 18.59l7.72-7.72 1.47 1.35L5.41 20z\"/>\n",
              "  </svg>\n",
              "      </button>\n",
              "      \n",
              "  <style>\n",
              "    .colab-df-container {\n",
              "      display:flex;\n",
              "      flex-wrap:wrap;\n",
              "      gap: 12px;\n",
              "    }\n",
              "\n",
              "    .colab-df-convert {\n",
              "      background-color: #E8F0FE;\n",
              "      border: none;\n",
              "      border-radius: 50%;\n",
              "      cursor: pointer;\n",
              "      display: none;\n",
              "      fill: #1967D2;\n",
              "      height: 32px;\n",
              "      padding: 0 0 0 0;\n",
              "      width: 32px;\n",
              "    }\n",
              "\n",
              "    .colab-df-convert:hover {\n",
              "      background-color: #E2EBFA;\n",
              "      box-shadow: 0px 1px 2px rgba(60, 64, 67, 0.3), 0px 1px 3px 1px rgba(60, 64, 67, 0.15);\n",
              "      fill: #174EA6;\n",
              "    }\n",
              "\n",
              "    [theme=dark] .colab-df-convert {\n",
              "      background-color: #3B4455;\n",
              "      fill: #D2E3FC;\n",
              "    }\n",
              "\n",
              "    [theme=dark] .colab-df-convert:hover {\n",
              "      background-color: #434B5C;\n",
              "      box-shadow: 0px 1px 3px 1px rgba(0, 0, 0, 0.15);\n",
              "      filter: drop-shadow(0px 1px 2px rgba(0, 0, 0, 0.3));\n",
              "      fill: #FFFFFF;\n",
              "    }\n",
              "  </style>\n",
              "\n",
              "      <script>\n",
              "        const buttonEl =\n",
              "          document.querySelector('#df-21a661e4-f813-472b-b52e-f736e77e55ea button.colab-df-convert');\n",
              "        buttonEl.style.display =\n",
              "          google.colab.kernel.accessAllowed ? 'block' : 'none';\n",
              "\n",
              "        async function convertToInteractive(key) {\n",
              "          const element = document.querySelector('#df-21a661e4-f813-472b-b52e-f736e77e55ea');\n",
              "          const dataTable =\n",
              "            await google.colab.kernel.invokeFunction('convertToInteractive',\n",
              "                                                     [key], {});\n",
              "          if (!dataTable) return;\n",
              "\n",
              "          const docLinkHtml = 'Like what you see? Visit the ' +\n",
              "            '<a target=\"_blank\" href=https://colab.research.google.com/notebooks/data_table.ipynb>data table notebook</a>'\n",
              "            + ' to learn more about interactive tables.';\n",
              "          element.innerHTML = '';\n",
              "          dataTable['output_type'] = 'display_data';\n",
              "          await google.colab.output.renderOutput(dataTable, element);\n",
              "          const docLink = document.createElement('div');\n",
              "          docLink.innerHTML = docLinkHtml;\n",
              "          element.appendChild(docLink);\n",
              "        }\n",
              "      </script>\n",
              "    </div>\n",
              "  </div>\n",
              "  "
            ]
          },
          "metadata": {},
          "execution_count": 64
        }
      ]
    },
    {
      "cell_type": "code",
      "source": [
        "orders.nunique()"
      ],
      "metadata": {
        "id": "JFoitNgX3wOa",
        "colab": {
          "base_uri": "https://localhost:8080/"
        },
        "outputId": "d7371c20-0dea-415b-a452-07ead2751670"
      },
      "execution_count": 65,
      "outputs": [
        {
          "output_type": "execute_result",
          "data": {
            "text/plain": [
              "order_id        226909\n",
              "created_date    224828\n",
              "total_paid       31236\n",
              "state                5\n",
              "dtype: int64"
            ]
          },
          "metadata": {},
          "execution_count": 65
        }
      ]
    },
    {
      "cell_type": "code",
      "source": [
        "len(orders.order_id.unique())"
      ],
      "metadata": {
        "id": "TTgPqPSu3ndT",
        "colab": {
          "base_uri": "https://localhost:8080/"
        },
        "outputId": "6446f1d9-5c95-465c-f19d-64482bfcd0b8"
      },
      "execution_count": 66,
      "outputs": [
        {
          "output_type": "execute_result",
          "data": {
            "text/plain": [
              "226909"
            ]
          },
          "metadata": {},
          "execution_count": 66
        }
      ]
    },
    {
      "cell_type": "markdown",
      "source": [
        "All `order_is` are unique."
      ],
      "metadata": {
        "id": "4isvv25F33BS"
      }
    },
    {
      "cell_type": "code",
      "source": [
        "orders_1sp = orders\n",
        "orders_1sp[\"created_date\"] = pd.to_datetime(orders.created_date).dropna().copy()"
      ],
      "metadata": {
        "id": "QX0DtPi14LvK"
      },
      "execution_count": 67,
      "outputs": []
    },
    {
      "cell_type": "code",
      "source": [
        "orders_1sp.info()"
      ],
      "metadata": {
        "id": "fKQug8p65Y7h",
        "colab": {
          "base_uri": "https://localhost:8080/"
        },
        "outputId": "80998854-8cbc-4798-e251-70d2c52bfb38"
      },
      "execution_count": 68,
      "outputs": [
        {
          "output_type": "stream",
          "name": "stdout",
          "text": [
            "<class 'pandas.core.frame.DataFrame'>\n",
            "RangeIndex: 226909 entries, 0 to 226908\n",
            "Data columns (total 4 columns):\n",
            " #   Column        Non-Null Count   Dtype         \n",
            "---  ------        --------------   -----         \n",
            " 0   order_id      226909 non-null  int64         \n",
            " 1   created_date  226909 non-null  datetime64[ns]\n",
            " 2   total_paid    226904 non-null  float64       \n",
            " 3   state         226909 non-null  object        \n",
            "dtypes: datetime64[ns](1), float64(1), int64(1), object(1)\n",
            "memory usage: 6.9+ MB\n"
          ]
        }
      ]
    },
    {
      "cell_type": "code",
      "source": [
        "orders_2sp_comp = orders_1sp[orders_1sp.state == \"Completed\"].dropna().copy()"
      ],
      "metadata": {
        "id": "NXvBGa-KIA8u"
      },
      "execution_count": 69,
      "outputs": []
    },
    {
      "cell_type": "code",
      "source": [
        "orders_2sp_comp"
      ],
      "metadata": {
        "colab": {
          "base_uri": "https://localhost:8080/",
          "height": 424
        },
        "id": "fv4Hz6S22xDE",
        "outputId": "b9724661-ba97-46a6-c15e-3b0d165e0d3e"
      },
      "execution_count": 70,
      "outputs": [
        {
          "output_type": "execute_result",
          "data": {
            "text/plain": [
              "        order_id        created_date  total_paid      state\n",
              "1         241423 2017-11-06 13:10:02      136.15  Completed\n",
              "2         242832 2017-12-31 17:40:03       15.76  Completed\n",
              "3         243330 2017-02-16 10:59:38       84.98  Completed\n",
              "5         245275 2017-06-28 11:35:37      149.00  Completed\n",
              "6         245595 2017-01-21 12:52:47      112.97  Completed\n",
              "...          ...                 ...         ...        ...\n",
              "226549    527042 2018-03-14 11:47:50       18.98  Completed\n",
              "226577    527070 2018-03-14 11:50:48       24.97  Completed\n",
              "226581    527074 2018-03-14 11:51:42       24.97  Completed\n",
              "226603    527096 2018-03-14 11:58:40       34.96  Completed\n",
              "226619    527112 2018-03-14 12:03:52       14.98  Completed\n",
              "\n",
              "[46605 rows x 4 columns]"
            ],
            "text/html": [
              "\n",
              "  <div id=\"df-dc895cb6-3384-44f7-b9bd-6537026a35d0\">\n",
              "    <div class=\"colab-df-container\">\n",
              "      <div>\n",
              "<style scoped>\n",
              "    .dataframe tbody tr th:only-of-type {\n",
              "        vertical-align: middle;\n",
              "    }\n",
              "\n",
              "    .dataframe tbody tr th {\n",
              "        vertical-align: top;\n",
              "    }\n",
              "\n",
              "    .dataframe thead th {\n",
              "        text-align: right;\n",
              "    }\n",
              "</style>\n",
              "<table border=\"1\" class=\"dataframe\">\n",
              "  <thead>\n",
              "    <tr style=\"text-align: right;\">\n",
              "      <th></th>\n",
              "      <th>order_id</th>\n",
              "      <th>created_date</th>\n",
              "      <th>total_paid</th>\n",
              "      <th>state</th>\n",
              "    </tr>\n",
              "  </thead>\n",
              "  <tbody>\n",
              "    <tr>\n",
              "      <th>1</th>\n",
              "      <td>241423</td>\n",
              "      <td>2017-11-06 13:10:02</td>\n",
              "      <td>136.15</td>\n",
              "      <td>Completed</td>\n",
              "    </tr>\n",
              "    <tr>\n",
              "      <th>2</th>\n",
              "      <td>242832</td>\n",
              "      <td>2017-12-31 17:40:03</td>\n",
              "      <td>15.76</td>\n",
              "      <td>Completed</td>\n",
              "    </tr>\n",
              "    <tr>\n",
              "      <th>3</th>\n",
              "      <td>243330</td>\n",
              "      <td>2017-02-16 10:59:38</td>\n",
              "      <td>84.98</td>\n",
              "      <td>Completed</td>\n",
              "    </tr>\n",
              "    <tr>\n",
              "      <th>5</th>\n",
              "      <td>245275</td>\n",
              "      <td>2017-06-28 11:35:37</td>\n",
              "      <td>149.00</td>\n",
              "      <td>Completed</td>\n",
              "    </tr>\n",
              "    <tr>\n",
              "      <th>6</th>\n",
              "      <td>245595</td>\n",
              "      <td>2017-01-21 12:52:47</td>\n",
              "      <td>112.97</td>\n",
              "      <td>Completed</td>\n",
              "    </tr>\n",
              "    <tr>\n",
              "      <th>...</th>\n",
              "      <td>...</td>\n",
              "      <td>...</td>\n",
              "      <td>...</td>\n",
              "      <td>...</td>\n",
              "    </tr>\n",
              "    <tr>\n",
              "      <th>226549</th>\n",
              "      <td>527042</td>\n",
              "      <td>2018-03-14 11:47:50</td>\n",
              "      <td>18.98</td>\n",
              "      <td>Completed</td>\n",
              "    </tr>\n",
              "    <tr>\n",
              "      <th>226577</th>\n",
              "      <td>527070</td>\n",
              "      <td>2018-03-14 11:50:48</td>\n",
              "      <td>24.97</td>\n",
              "      <td>Completed</td>\n",
              "    </tr>\n",
              "    <tr>\n",
              "      <th>226581</th>\n",
              "      <td>527074</td>\n",
              "      <td>2018-03-14 11:51:42</td>\n",
              "      <td>24.97</td>\n",
              "      <td>Completed</td>\n",
              "    </tr>\n",
              "    <tr>\n",
              "      <th>226603</th>\n",
              "      <td>527096</td>\n",
              "      <td>2018-03-14 11:58:40</td>\n",
              "      <td>34.96</td>\n",
              "      <td>Completed</td>\n",
              "    </tr>\n",
              "    <tr>\n",
              "      <th>226619</th>\n",
              "      <td>527112</td>\n",
              "      <td>2018-03-14 12:03:52</td>\n",
              "      <td>14.98</td>\n",
              "      <td>Completed</td>\n",
              "    </tr>\n",
              "  </tbody>\n",
              "</table>\n",
              "<p>46605 rows × 4 columns</p>\n",
              "</div>\n",
              "      <button class=\"colab-df-convert\" onclick=\"convertToInteractive('df-dc895cb6-3384-44f7-b9bd-6537026a35d0')\"\n",
              "              title=\"Convert this dataframe to an interactive table.\"\n",
              "              style=\"display:none;\">\n",
              "        \n",
              "  <svg xmlns=\"http://www.w3.org/2000/svg\" height=\"24px\"viewBox=\"0 0 24 24\"\n",
              "       width=\"24px\">\n",
              "    <path d=\"M0 0h24v24H0V0z\" fill=\"none\"/>\n",
              "    <path d=\"M18.56 5.44l.94 2.06.94-2.06 2.06-.94-2.06-.94-.94-2.06-.94 2.06-2.06.94zm-11 1L8.5 8.5l.94-2.06 2.06-.94-2.06-.94L8.5 2.5l-.94 2.06-2.06.94zm10 10l.94 2.06.94-2.06 2.06-.94-2.06-.94-.94-2.06-.94 2.06-2.06.94z\"/><path d=\"M17.41 7.96l-1.37-1.37c-.4-.4-.92-.59-1.43-.59-.52 0-1.04.2-1.43.59L10.3 9.45l-7.72 7.72c-.78.78-.78 2.05 0 2.83L4 21.41c.39.39.9.59 1.41.59.51 0 1.02-.2 1.41-.59l7.78-7.78 2.81-2.81c.8-.78.8-2.07 0-2.86zM5.41 20L4 18.59l7.72-7.72 1.47 1.35L5.41 20z\"/>\n",
              "  </svg>\n",
              "      </button>\n",
              "      \n",
              "  <style>\n",
              "    .colab-df-container {\n",
              "      display:flex;\n",
              "      flex-wrap:wrap;\n",
              "      gap: 12px;\n",
              "    }\n",
              "\n",
              "    .colab-df-convert {\n",
              "      background-color: #E8F0FE;\n",
              "      border: none;\n",
              "      border-radius: 50%;\n",
              "      cursor: pointer;\n",
              "      display: none;\n",
              "      fill: #1967D2;\n",
              "      height: 32px;\n",
              "      padding: 0 0 0 0;\n",
              "      width: 32px;\n",
              "    }\n",
              "\n",
              "    .colab-df-convert:hover {\n",
              "      background-color: #E2EBFA;\n",
              "      box-shadow: 0px 1px 2px rgba(60, 64, 67, 0.3), 0px 1px 3px 1px rgba(60, 64, 67, 0.15);\n",
              "      fill: #174EA6;\n",
              "    }\n",
              "\n",
              "    [theme=dark] .colab-df-convert {\n",
              "      background-color: #3B4455;\n",
              "      fill: #D2E3FC;\n",
              "    }\n",
              "\n",
              "    [theme=dark] .colab-df-convert:hover {\n",
              "      background-color: #434B5C;\n",
              "      box-shadow: 0px 1px 3px 1px rgba(0, 0, 0, 0.15);\n",
              "      filter: drop-shadow(0px 1px 2px rgba(0, 0, 0, 0.3));\n",
              "      fill: #FFFFFF;\n",
              "    }\n",
              "  </style>\n",
              "\n",
              "      <script>\n",
              "        const buttonEl =\n",
              "          document.querySelector('#df-dc895cb6-3384-44f7-b9bd-6537026a35d0 button.colab-df-convert');\n",
              "        buttonEl.style.display =\n",
              "          google.colab.kernel.accessAllowed ? 'block' : 'none';\n",
              "\n",
              "        async function convertToInteractive(key) {\n",
              "          const element = document.querySelector('#df-dc895cb6-3384-44f7-b9bd-6537026a35d0');\n",
              "          const dataTable =\n",
              "            await google.colab.kernel.invokeFunction('convertToInteractive',\n",
              "                                                     [key], {});\n",
              "          if (!dataTable) return;\n",
              "\n",
              "          const docLinkHtml = 'Like what you see? Visit the ' +\n",
              "            '<a target=\"_blank\" href=https://colab.research.google.com/notebooks/data_table.ipynb>data table notebook</a>'\n",
              "            + ' to learn more about interactive tables.';\n",
              "          element.innerHTML = '';\n",
              "          dataTable['output_type'] = 'display_data';\n",
              "          await google.colab.output.renderOutput(dataTable, element);\n",
              "          const docLink = document.createElement('div');\n",
              "          docLink.innerHTML = docLinkHtml;\n",
              "          element.appendChild(docLink);\n",
              "        }\n",
              "      </script>\n",
              "    </div>\n",
              "  </div>\n",
              "  "
            ]
          },
          "metadata": {},
          "execution_count": 70
        }
      ]
    },
    {
      "cell_type": "markdown",
      "source": [
        "### Status\n",
        "All datatype are OK.\n",
        "Price range is not OK\n",
        "\n",
        "Clean version no filter: `orders_1sp` \n",
        "Last version with filter: `orders_2sp_comp` "
      ],
      "metadata": {
        "id": "wOVvhQJY5dyn"
      }
    },
    {
      "cell_type": "markdown",
      "source": [
        "#4 Orderlines [non ok]"
      ],
      "metadata": {
        "id": "TJAUUTUR6jC1"
      }
    },
    {
      "cell_type": "markdown",
      "source": [
        "**orderlines.csv** – Every row represents each one of the different products involved in an order.\n",
        "* `id` – a unique identifier for each row in this file\n",
        "* `id_order` – corresponds to orders.order_id\n",
        "* `product_id` – an old identifier for each product, nowadays not in use\n",
        "* `product_quantity` – how many units of that product were purchased on that order\n",
        "* `sku` – stock keeping unit: a unique identifier for each product\n",
        "* `unit_price` – the unitary price (in euros) of each product at the moment of placing that order\n",
        "date \n",
        "* `timestamp` for the processing of that product"
      ],
      "metadata": {
        "id": "RyXRB5cU6xm8"
      }
    },
    {
      "cell_type": "code",
      "source": [
        "orderlines.info()"
      ],
      "metadata": {
        "id": "LZa64_JA7OMB",
        "colab": {
          "base_uri": "https://localhost:8080/"
        },
        "outputId": "4cecfbe1-7a7d-42cc-ceda-d8d460bc48a8"
      },
      "execution_count": 71,
      "outputs": [
        {
          "output_type": "stream",
          "name": "stdout",
          "text": [
            "<class 'pandas.core.frame.DataFrame'>\n",
            "RangeIndex: 293983 entries, 0 to 293982\n",
            "Data columns (total 7 columns):\n",
            " #   Column            Non-Null Count   Dtype \n",
            "---  ------            --------------   ----- \n",
            " 0   id                293983 non-null  int64 \n",
            " 1   id_order          293983 non-null  int64 \n",
            " 2   product_id        293983 non-null  int64 \n",
            " 3   product_quantity  293983 non-null  int64 \n",
            " 4   sku               293983 non-null  object\n",
            " 5   unit_price        293983 non-null  object\n",
            " 6   date              293983 non-null  object\n",
            "dtypes: int64(4), object(3)\n",
            "memory usage: 15.7+ MB\n"
          ]
        }
      ]
    },
    {
      "cell_type": "markdown",
      "source": [
        "###`unti_price` analyses"
      ],
      "metadata": {
        "id": "uyLeNPQKD_Nk"
      }
    },
    {
      "cell_type": "code",
      "source": [
        "analyze_prices(orderlines,'unit_price')"
      ],
      "metadata": {
        "colab": {
          "base_uri": "https://localhost:8080/"
        },
        "id": "Lvp7fdZu83fQ",
        "outputId": "214a5732-ddf7-4886-caa6-7c38f4524de9"
      },
      "execution_count": 72,
      "outputs": [
        {
          "output_type": "stream",
          "name": "stdout",
          "text": [
            "CASE 1: \\d{1,3}\\.\\d{3}\\.\\d{3}\n",
            "False   1.00\n",
            "Name: unit_price, dtype: float64\n",
            "CASE 2: \\d{3}\\.\\d{3}\n",
            "False   1.00\n",
            "Name: unit_price, dtype: float64\n",
            "CASE 3: \\d{1,4}\\.\\d{1,3}\n",
            "True    0.88\n",
            "False   0.12\n",
            "Name: unit_price, dtype: float64\n",
            "CASE 4: \\d{1,5}\n",
            "False   1.00\n",
            "Name: unit_price, dtype: float64\n",
            "CASE Na\n",
            "False   1.00\n",
            "Name: unit_price, dtype: float64\n"
          ]
        }
      ]
    },
    {
      "cell_type": "code",
      "source": [
        "orderlines.unit_price.str.match(r'^\\d+\\.\\d+\\.\\d+$').value_counts(normalize=True)\n",
        "orderlines.unit_price.str.count(\".\").value_counts(normalize=True)\n",
        "((orderlines.unit_price.str.endswith(\"0\")) | (orderlines.unit_price.str.endswith(\"9\"))).value_counts(normalize=True)"
      ],
      "metadata": {
        "colab": {
          "base_uri": "https://localhost:8080/"
        },
        "id": "Dpp4ttRv9mCs",
        "outputId": "2bf2557b-d183-44bf-b574-74b43a6410fe"
      },
      "execution_count": 73,
      "outputs": [
        {
          "output_type": "execute_result",
          "data": {
            "text/plain": [
              "True    0.87\n",
              "False   0.13\n",
              "Name: unit_price, dtype: float64"
            ]
          },
          "metadata": {},
          "execution_count": 73
        }
      ]
    },
    {
      "cell_type": "code",
      "source": [
        "orderlines[orderlines.unit_price.str.match(r'^\\d+\\.\\d+\\.\\d{2}$')].sample(5)\n",
        "orderlines[orderlines.unit_price.str.match(r'^\\d{3}\\.\\d{2}$')].sample(5)"
      ],
      "metadata": {
        "colab": {
          "base_uri": "https://localhost:8080/",
          "height": 206
        },
        "id": "7socGiaRFJpx",
        "outputId": "483ce045-d3e7-40dd-e7ae-b024438822d3"
      },
      "execution_count": 74,
      "outputs": [
        {
          "output_type": "execute_result",
          "data": {
            "text/plain": [
              "             id  id_order  product_id  product_quantity      sku unit_price  \\\n",
              "117885  1354385    401026           0                 1  APP0909     642.59   \n",
              "17933   1160519    315296           0                 1  SAM0074     164.99   \n",
              "276940  1623401    515803           0                 1  APP0662     159.00   \n",
              "193157  1483790    457950           0                 1  LAC0155     117.79   \n",
              "123326  1364225    405810           0                 1  APP2478     807.33   \n",
              "\n",
              "                       date  \n",
              "117885  2017-09-17 18:17:42  \n",
              "17933   2017-01-27 00:00:05  \n",
              "276940  2018-02-22 00:25:38  \n",
              "193157  2017-12-09 01:03:30  \n",
              "123326  2017-09-28 13:09:37  "
            ],
            "text/html": [
              "\n",
              "  <div id=\"df-64f6473a-171a-41ed-97ea-1cba69558ea8\">\n",
              "    <div class=\"colab-df-container\">\n",
              "      <div>\n",
              "<style scoped>\n",
              "    .dataframe tbody tr th:only-of-type {\n",
              "        vertical-align: middle;\n",
              "    }\n",
              "\n",
              "    .dataframe tbody tr th {\n",
              "        vertical-align: top;\n",
              "    }\n",
              "\n",
              "    .dataframe thead th {\n",
              "        text-align: right;\n",
              "    }\n",
              "</style>\n",
              "<table border=\"1\" class=\"dataframe\">\n",
              "  <thead>\n",
              "    <tr style=\"text-align: right;\">\n",
              "      <th></th>\n",
              "      <th>id</th>\n",
              "      <th>id_order</th>\n",
              "      <th>product_id</th>\n",
              "      <th>product_quantity</th>\n",
              "      <th>sku</th>\n",
              "      <th>unit_price</th>\n",
              "      <th>date</th>\n",
              "    </tr>\n",
              "  </thead>\n",
              "  <tbody>\n",
              "    <tr>\n",
              "      <th>117885</th>\n",
              "      <td>1354385</td>\n",
              "      <td>401026</td>\n",
              "      <td>0</td>\n",
              "      <td>1</td>\n",
              "      <td>APP0909</td>\n",
              "      <td>642.59</td>\n",
              "      <td>2017-09-17 18:17:42</td>\n",
              "    </tr>\n",
              "    <tr>\n",
              "      <th>17933</th>\n",
              "      <td>1160519</td>\n",
              "      <td>315296</td>\n",
              "      <td>0</td>\n",
              "      <td>1</td>\n",
              "      <td>SAM0074</td>\n",
              "      <td>164.99</td>\n",
              "      <td>2017-01-27 00:00:05</td>\n",
              "    </tr>\n",
              "    <tr>\n",
              "      <th>276940</th>\n",
              "      <td>1623401</td>\n",
              "      <td>515803</td>\n",
              "      <td>0</td>\n",
              "      <td>1</td>\n",
              "      <td>APP0662</td>\n",
              "      <td>159.00</td>\n",
              "      <td>2018-02-22 00:25:38</td>\n",
              "    </tr>\n",
              "    <tr>\n",
              "      <th>193157</th>\n",
              "      <td>1483790</td>\n",
              "      <td>457950</td>\n",
              "      <td>0</td>\n",
              "      <td>1</td>\n",
              "      <td>LAC0155</td>\n",
              "      <td>117.79</td>\n",
              "      <td>2017-12-09 01:03:30</td>\n",
              "    </tr>\n",
              "    <tr>\n",
              "      <th>123326</th>\n",
              "      <td>1364225</td>\n",
              "      <td>405810</td>\n",
              "      <td>0</td>\n",
              "      <td>1</td>\n",
              "      <td>APP2478</td>\n",
              "      <td>807.33</td>\n",
              "      <td>2017-09-28 13:09:37</td>\n",
              "    </tr>\n",
              "  </tbody>\n",
              "</table>\n",
              "</div>\n",
              "      <button class=\"colab-df-convert\" onclick=\"convertToInteractive('df-64f6473a-171a-41ed-97ea-1cba69558ea8')\"\n",
              "              title=\"Convert this dataframe to an interactive table.\"\n",
              "              style=\"display:none;\">\n",
              "        \n",
              "  <svg xmlns=\"http://www.w3.org/2000/svg\" height=\"24px\"viewBox=\"0 0 24 24\"\n",
              "       width=\"24px\">\n",
              "    <path d=\"M0 0h24v24H0V0z\" fill=\"none\"/>\n",
              "    <path d=\"M18.56 5.44l.94 2.06.94-2.06 2.06-.94-2.06-.94-.94-2.06-.94 2.06-2.06.94zm-11 1L8.5 8.5l.94-2.06 2.06-.94-2.06-.94L8.5 2.5l-.94 2.06-2.06.94zm10 10l.94 2.06.94-2.06 2.06-.94-2.06-.94-.94-2.06-.94 2.06-2.06.94z\"/><path d=\"M17.41 7.96l-1.37-1.37c-.4-.4-.92-.59-1.43-.59-.52 0-1.04.2-1.43.59L10.3 9.45l-7.72 7.72c-.78.78-.78 2.05 0 2.83L4 21.41c.39.39.9.59 1.41.59.51 0 1.02-.2 1.41-.59l7.78-7.78 2.81-2.81c.8-.78.8-2.07 0-2.86zM5.41 20L4 18.59l7.72-7.72 1.47 1.35L5.41 20z\"/>\n",
              "  </svg>\n",
              "      </button>\n",
              "      \n",
              "  <style>\n",
              "    .colab-df-container {\n",
              "      display:flex;\n",
              "      flex-wrap:wrap;\n",
              "      gap: 12px;\n",
              "    }\n",
              "\n",
              "    .colab-df-convert {\n",
              "      background-color: #E8F0FE;\n",
              "      border: none;\n",
              "      border-radius: 50%;\n",
              "      cursor: pointer;\n",
              "      display: none;\n",
              "      fill: #1967D2;\n",
              "      height: 32px;\n",
              "      padding: 0 0 0 0;\n",
              "      width: 32px;\n",
              "    }\n",
              "\n",
              "    .colab-df-convert:hover {\n",
              "      background-color: #E2EBFA;\n",
              "      box-shadow: 0px 1px 2px rgba(60, 64, 67, 0.3), 0px 1px 3px 1px rgba(60, 64, 67, 0.15);\n",
              "      fill: #174EA6;\n",
              "    }\n",
              "\n",
              "    [theme=dark] .colab-df-convert {\n",
              "      background-color: #3B4455;\n",
              "      fill: #D2E3FC;\n",
              "    }\n",
              "\n",
              "    [theme=dark] .colab-df-convert:hover {\n",
              "      background-color: #434B5C;\n",
              "      box-shadow: 0px 1px 3px 1px rgba(0, 0, 0, 0.15);\n",
              "      filter: drop-shadow(0px 1px 2px rgba(0, 0, 0, 0.3));\n",
              "      fill: #FFFFFF;\n",
              "    }\n",
              "  </style>\n",
              "\n",
              "      <script>\n",
              "        const buttonEl =\n",
              "          document.querySelector('#df-64f6473a-171a-41ed-97ea-1cba69558ea8 button.colab-df-convert');\n",
              "        buttonEl.style.display =\n",
              "          google.colab.kernel.accessAllowed ? 'block' : 'none';\n",
              "\n",
              "        async function convertToInteractive(key) {\n",
              "          const element = document.querySelector('#df-64f6473a-171a-41ed-97ea-1cba69558ea8');\n",
              "          const dataTable =\n",
              "            await google.colab.kernel.invokeFunction('convertToInteractive',\n",
              "                                                     [key], {});\n",
              "          if (!dataTable) return;\n",
              "\n",
              "          const docLinkHtml = 'Like what you see? Visit the ' +\n",
              "            '<a target=\"_blank\" href=https://colab.research.google.com/notebooks/data_table.ipynb>data table notebook</a>'\n",
              "            + ' to learn more about interactive tables.';\n",
              "          element.innerHTML = '';\n",
              "          dataTable['output_type'] = 'display_data';\n",
              "          await google.colab.output.renderOutput(dataTable, element);\n",
              "          const docLink = document.createElement('div');\n",
              "          docLink.innerHTML = docLinkHtml;\n",
              "          element.appendChild(docLink);\n",
              "        }\n",
              "      </script>\n",
              "    </div>\n",
              "  </div>\n",
              "  "
            ]
          },
          "metadata": {},
          "execution_count": 74
        }
      ]
    },
    {
      "cell_type": "code",
      "source": [
        "orderlines[orderlines.unit_price.str.count(\".\") > 4].sample(5)"
      ],
      "metadata": {
        "colab": {
          "base_uri": "https://localhost:8080/",
          "height": 206
        },
        "id": "KJVD-rlRHCwU",
        "outputId": "7c82bcd4-4d99-45e8-d3c2-e86c7d047bab"
      },
      "execution_count": 75,
      "outputs": [
        {
          "output_type": "execute_result",
          "data": {
            "text/plain": [
              "             id  id_order  product_id  product_quantity      sku unit_price  \\\n",
              "168315  1447997    443861           0                 2  OWC0063      17.84   \n",
              "230433  1548400    486165           0                 1  APP2157     849.00   \n",
              "254276  1586591    500823           0                 1  UBT0007     314.99   \n",
              "222078  1534491    480557           0                 1  APP2500     389.99   \n",
              "78476   1271138    367176           0                 1  SHE0039      29.99   \n",
              "\n",
              "                       date  \n",
              "168315  2017-11-25 18:40:24  \n",
              "230433  2018-01-09 07:30:42  \n",
              "254276  2018-01-29 10:30:58  \n",
              "222078  2018-01-03 08:47:54  \n",
              "78476   2017-06-19 16:04:03  "
            ],
            "text/html": [
              "\n",
              "  <div id=\"df-cfff44e3-fee1-4bfa-babd-30f78a61e74b\">\n",
              "    <div class=\"colab-df-container\">\n",
              "      <div>\n",
              "<style scoped>\n",
              "    .dataframe tbody tr th:only-of-type {\n",
              "        vertical-align: middle;\n",
              "    }\n",
              "\n",
              "    .dataframe tbody tr th {\n",
              "        vertical-align: top;\n",
              "    }\n",
              "\n",
              "    .dataframe thead th {\n",
              "        text-align: right;\n",
              "    }\n",
              "</style>\n",
              "<table border=\"1\" class=\"dataframe\">\n",
              "  <thead>\n",
              "    <tr style=\"text-align: right;\">\n",
              "      <th></th>\n",
              "      <th>id</th>\n",
              "      <th>id_order</th>\n",
              "      <th>product_id</th>\n",
              "      <th>product_quantity</th>\n",
              "      <th>sku</th>\n",
              "      <th>unit_price</th>\n",
              "      <th>date</th>\n",
              "    </tr>\n",
              "  </thead>\n",
              "  <tbody>\n",
              "    <tr>\n",
              "      <th>168315</th>\n",
              "      <td>1447997</td>\n",
              "      <td>443861</td>\n",
              "      <td>0</td>\n",
              "      <td>2</td>\n",
              "      <td>OWC0063</td>\n",
              "      <td>17.84</td>\n",
              "      <td>2017-11-25 18:40:24</td>\n",
              "    </tr>\n",
              "    <tr>\n",
              "      <th>230433</th>\n",
              "      <td>1548400</td>\n",
              "      <td>486165</td>\n",
              "      <td>0</td>\n",
              "      <td>1</td>\n",
              "      <td>APP2157</td>\n",
              "      <td>849.00</td>\n",
              "      <td>2018-01-09 07:30:42</td>\n",
              "    </tr>\n",
              "    <tr>\n",
              "      <th>254276</th>\n",
              "      <td>1586591</td>\n",
              "      <td>500823</td>\n",
              "      <td>0</td>\n",
              "      <td>1</td>\n",
              "      <td>UBT0007</td>\n",
              "      <td>314.99</td>\n",
              "      <td>2018-01-29 10:30:58</td>\n",
              "    </tr>\n",
              "    <tr>\n",
              "      <th>222078</th>\n",
              "      <td>1534491</td>\n",
              "      <td>480557</td>\n",
              "      <td>0</td>\n",
              "      <td>1</td>\n",
              "      <td>APP2500</td>\n",
              "      <td>389.99</td>\n",
              "      <td>2018-01-03 08:47:54</td>\n",
              "    </tr>\n",
              "    <tr>\n",
              "      <th>78476</th>\n",
              "      <td>1271138</td>\n",
              "      <td>367176</td>\n",
              "      <td>0</td>\n",
              "      <td>1</td>\n",
              "      <td>SHE0039</td>\n",
              "      <td>29.99</td>\n",
              "      <td>2017-06-19 16:04:03</td>\n",
              "    </tr>\n",
              "  </tbody>\n",
              "</table>\n",
              "</div>\n",
              "      <button class=\"colab-df-convert\" onclick=\"convertToInteractive('df-cfff44e3-fee1-4bfa-babd-30f78a61e74b')\"\n",
              "              title=\"Convert this dataframe to an interactive table.\"\n",
              "              style=\"display:none;\">\n",
              "        \n",
              "  <svg xmlns=\"http://www.w3.org/2000/svg\" height=\"24px\"viewBox=\"0 0 24 24\"\n",
              "       width=\"24px\">\n",
              "    <path d=\"M0 0h24v24H0V0z\" fill=\"none\"/>\n",
              "    <path d=\"M18.56 5.44l.94 2.06.94-2.06 2.06-.94-2.06-.94-.94-2.06-.94 2.06-2.06.94zm-11 1L8.5 8.5l.94-2.06 2.06-.94-2.06-.94L8.5 2.5l-.94 2.06-2.06.94zm10 10l.94 2.06.94-2.06 2.06-.94-2.06-.94-.94-2.06-.94 2.06-2.06.94z\"/><path d=\"M17.41 7.96l-1.37-1.37c-.4-.4-.92-.59-1.43-.59-.52 0-1.04.2-1.43.59L10.3 9.45l-7.72 7.72c-.78.78-.78 2.05 0 2.83L4 21.41c.39.39.9.59 1.41.59.51 0 1.02-.2 1.41-.59l7.78-7.78 2.81-2.81c.8-.78.8-2.07 0-2.86zM5.41 20L4 18.59l7.72-7.72 1.47 1.35L5.41 20z\"/>\n",
              "  </svg>\n",
              "      </button>\n",
              "      \n",
              "  <style>\n",
              "    .colab-df-container {\n",
              "      display:flex;\n",
              "      flex-wrap:wrap;\n",
              "      gap: 12px;\n",
              "    }\n",
              "\n",
              "    .colab-df-convert {\n",
              "      background-color: #E8F0FE;\n",
              "      border: none;\n",
              "      border-radius: 50%;\n",
              "      cursor: pointer;\n",
              "      display: none;\n",
              "      fill: #1967D2;\n",
              "      height: 32px;\n",
              "      padding: 0 0 0 0;\n",
              "      width: 32px;\n",
              "    }\n",
              "\n",
              "    .colab-df-convert:hover {\n",
              "      background-color: #E2EBFA;\n",
              "      box-shadow: 0px 1px 2px rgba(60, 64, 67, 0.3), 0px 1px 3px 1px rgba(60, 64, 67, 0.15);\n",
              "      fill: #174EA6;\n",
              "    }\n",
              "\n",
              "    [theme=dark] .colab-df-convert {\n",
              "      background-color: #3B4455;\n",
              "      fill: #D2E3FC;\n",
              "    }\n",
              "\n",
              "    [theme=dark] .colab-df-convert:hover {\n",
              "      background-color: #434B5C;\n",
              "      box-shadow: 0px 1px 3px 1px rgba(0, 0, 0, 0.15);\n",
              "      filter: drop-shadow(0px 1px 2px rgba(0, 0, 0, 0.3));\n",
              "      fill: #FFFFFF;\n",
              "    }\n",
              "  </style>\n",
              "\n",
              "      <script>\n",
              "        const buttonEl =\n",
              "          document.querySelector('#df-cfff44e3-fee1-4bfa-babd-30f78a61e74b button.colab-df-convert');\n",
              "        buttonEl.style.display =\n",
              "          google.colab.kernel.accessAllowed ? 'block' : 'none';\n",
              "\n",
              "        async function convertToInteractive(key) {\n",
              "          const element = document.querySelector('#df-cfff44e3-fee1-4bfa-babd-30f78a61e74b');\n",
              "          const dataTable =\n",
              "            await google.colab.kernel.invokeFunction('convertToInteractive',\n",
              "                                                     [key], {});\n",
              "          if (!dataTable) return;\n",
              "\n",
              "          const docLinkHtml = 'Like what you see? Visit the ' +\n",
              "            '<a target=\"_blank\" href=https://colab.research.google.com/notebooks/data_table.ipynb>data table notebook</a>'\n",
              "            + ' to learn more about interactive tables.';\n",
              "          element.innerHTML = '';\n",
              "          dataTable['output_type'] = 'display_data';\n",
              "          await google.colab.output.renderOutput(dataTable, element);\n",
              "          const docLink = document.createElement('div');\n",
              "          docLink.innerHTML = docLinkHtml;\n",
              "          element.appendChild(docLink);\n",
              "        }\n",
              "      </script>\n",
              "    </div>\n",
              "  </div>\n",
              "  "
            ]
          },
          "metadata": {},
          "execution_count": 75
        }
      ]
    },
    {
      "cell_type": "code",
      "source": [
        "orderlines_1sp = transform_OL(orderlines,\"unit_price\",\"cl_unit_price\").copy()"
      ],
      "metadata": {
        "id": "-e1THc-2KobG"
      },
      "execution_count": 76,
      "outputs": []
    },
    {
      "cell_type": "code",
      "source": [
        "orderlines[orderlines['id_order'] == 461458], orders_1sp[orders_1sp['order_id'] == 461458]"
      ],
      "metadata": {
        "id": "SdQCSSdkCWgn",
        "colab": {
          "base_uri": "https://localhost:8080/"
        },
        "outputId": "d282b8b9-7edd-414f-dd0a-9fdde9b2b8f8"
      },
      "execution_count": 77,
      "outputs": [
        {
          "output_type": "execute_result",
          "data": {
            "text/plain": [
              "(             id  id_order  product_id  product_quantity      sku unit_price  \\\n",
              " 199773  1492821    461458           0                 1  MIN0011      13.99   \n",
              " \n",
              "                        date  cl_unit_price  \n",
              " 199773  2017-12-13 07:37:44          13.99  ,\n",
              "         order_id        created_date  total_paid            state\n",
              " 161200    461458 2017-12-13 07:37:44       13.99  Shopping Basket)"
            ]
          },
          "metadata": {},
          "execution_count": 77
        }
      ]
    },
    {
      "cell_type": "markdown",
      "source": [
        "* `orders`:`created_date` is the same as `orderlines`:`date`\n",
        " \n",
        "* `orders`:`order_id` is the same as `orderlines`:`id_order`\n",
        "\n",
        "\n",
        "\n",
        "\n"
      ],
      "metadata": {
        "id": "fQzIGwhgCutC"
      }
    },
    {
      "cell_type": "code",
      "source": [
        "orderlines_2sp = orderlines_1sp.copy()\n",
        "orderlines_2sp[\"date\"] = pd.to_datetime(orderlines.date)\n",
        "orderlines_2sp.info()"
      ],
      "metadata": {
        "id": "MZkVRlQOAl7h",
        "colab": {
          "base_uri": "https://localhost:8080/"
        },
        "outputId": "4347d8d3-d001-42da-d212-ff90b19ddd8b"
      },
      "execution_count": 78,
      "outputs": [
        {
          "output_type": "stream",
          "name": "stdout",
          "text": [
            "<class 'pandas.core.frame.DataFrame'>\n",
            "RangeIndex: 293983 entries, 0 to 293982\n",
            "Data columns (total 8 columns):\n",
            " #   Column            Non-Null Count   Dtype         \n",
            "---  ------            --------------   -----         \n",
            " 0   id                293983 non-null  int64         \n",
            " 1   id_order          293983 non-null  int64         \n",
            " 2   product_id        293983 non-null  int64         \n",
            " 3   product_quantity  293983 non-null  int64         \n",
            " 4   sku               293983 non-null  object        \n",
            " 5   unit_price        293983 non-null  object        \n",
            " 6   date              293983 non-null  datetime64[ns]\n",
            " 7   cl_unit_price     293982 non-null  float64       \n",
            "dtypes: datetime64[ns](1), float64(1), int64(4), object(2)\n",
            "memory usage: 17.9+ MB\n"
          ]
        }
      ]
    },
    {
      "cell_type": "code",
      "source": [
        "orderlines_2sp[orderlines_2sp.product_quantity ==2]\n",
        "orderlines_2sp[\"sum_price\"] = orderlines_1sp.product_quantity * orderlines_1sp.cl_unit_price\n",
        "orderlines_2sp"
      ],
      "metadata": {
        "id": "1gBIoZ-h7Sk6",
        "colab": {
          "base_uri": "https://localhost:8080/",
          "height": 424
        },
        "outputId": "fd047eee-a26f-4383-c3ba-9c4c0705ad45"
      },
      "execution_count": 79,
      "outputs": [
        {
          "output_type": "execute_result",
          "data": {
            "text/plain": [
              "             id  id_order  product_id  product_quantity      sku unit_price  \\\n",
              "0       1119109    299539           0                 1  OTT0133      18.99   \n",
              "1       1119110    299540           0                 1  LGE0043     399.00   \n",
              "2       1119111    299541           0                 1  PAR0071     474.05   \n",
              "3       1119112    299542           0                 1  WDT0315      68.39   \n",
              "4       1119113    299543           0                 1  JBL0104      23.74   \n",
              "...         ...       ...         ...               ...      ...        ...   \n",
              "293978  1650199    527398           0                 1  JBL0122      42.99   \n",
              "293979  1650200    527399           0                 1  PAC0653     141.58   \n",
              "293980  1650201    527400           0                 2  APP0698       9.99   \n",
              "293981  1650202    527388           0                 1  BEZ0204      19.99   \n",
              "293982  1650203    527401           0                 1  APP0927      13.99   \n",
              "\n",
              "                      date  cl_unit_price  sum_price  \n",
              "0      2017-01-01 00:07:19          18.99      18.99  \n",
              "1      2017-01-01 00:19:45         399.00     399.00  \n",
              "2      2017-01-01 00:20:57         474.05     474.05  \n",
              "3      2017-01-01 00:51:40          68.39      68.39  \n",
              "4      2017-01-01 01:06:38          23.74      23.74  \n",
              "...                    ...            ...        ...  \n",
              "293978 2018-03-14 13:57:25          42.99      42.99  \n",
              "293979 2018-03-14 13:57:34         141.58     141.58  \n",
              "293980 2018-03-14 13:57:41           9.99      19.98  \n",
              "293981 2018-03-14 13:58:01          19.99      19.99  \n",
              "293982 2018-03-14 13:58:36          13.99      13.99  \n",
              "\n",
              "[293983 rows x 9 columns]"
            ],
            "text/html": [
              "\n",
              "  <div id=\"df-988f3961-396f-47df-9c6f-40c49787aa16\">\n",
              "    <div class=\"colab-df-container\">\n",
              "      <div>\n",
              "<style scoped>\n",
              "    .dataframe tbody tr th:only-of-type {\n",
              "        vertical-align: middle;\n",
              "    }\n",
              "\n",
              "    .dataframe tbody tr th {\n",
              "        vertical-align: top;\n",
              "    }\n",
              "\n",
              "    .dataframe thead th {\n",
              "        text-align: right;\n",
              "    }\n",
              "</style>\n",
              "<table border=\"1\" class=\"dataframe\">\n",
              "  <thead>\n",
              "    <tr style=\"text-align: right;\">\n",
              "      <th></th>\n",
              "      <th>id</th>\n",
              "      <th>id_order</th>\n",
              "      <th>product_id</th>\n",
              "      <th>product_quantity</th>\n",
              "      <th>sku</th>\n",
              "      <th>unit_price</th>\n",
              "      <th>date</th>\n",
              "      <th>cl_unit_price</th>\n",
              "      <th>sum_price</th>\n",
              "    </tr>\n",
              "  </thead>\n",
              "  <tbody>\n",
              "    <tr>\n",
              "      <th>0</th>\n",
              "      <td>1119109</td>\n",
              "      <td>299539</td>\n",
              "      <td>0</td>\n",
              "      <td>1</td>\n",
              "      <td>OTT0133</td>\n",
              "      <td>18.99</td>\n",
              "      <td>2017-01-01 00:07:19</td>\n",
              "      <td>18.99</td>\n",
              "      <td>18.99</td>\n",
              "    </tr>\n",
              "    <tr>\n",
              "      <th>1</th>\n",
              "      <td>1119110</td>\n",
              "      <td>299540</td>\n",
              "      <td>0</td>\n",
              "      <td>1</td>\n",
              "      <td>LGE0043</td>\n",
              "      <td>399.00</td>\n",
              "      <td>2017-01-01 00:19:45</td>\n",
              "      <td>399.00</td>\n",
              "      <td>399.00</td>\n",
              "    </tr>\n",
              "    <tr>\n",
              "      <th>2</th>\n",
              "      <td>1119111</td>\n",
              "      <td>299541</td>\n",
              "      <td>0</td>\n",
              "      <td>1</td>\n",
              "      <td>PAR0071</td>\n",
              "      <td>474.05</td>\n",
              "      <td>2017-01-01 00:20:57</td>\n",
              "      <td>474.05</td>\n",
              "      <td>474.05</td>\n",
              "    </tr>\n",
              "    <tr>\n",
              "      <th>3</th>\n",
              "      <td>1119112</td>\n",
              "      <td>299542</td>\n",
              "      <td>0</td>\n",
              "      <td>1</td>\n",
              "      <td>WDT0315</td>\n",
              "      <td>68.39</td>\n",
              "      <td>2017-01-01 00:51:40</td>\n",
              "      <td>68.39</td>\n",
              "      <td>68.39</td>\n",
              "    </tr>\n",
              "    <tr>\n",
              "      <th>4</th>\n",
              "      <td>1119113</td>\n",
              "      <td>299543</td>\n",
              "      <td>0</td>\n",
              "      <td>1</td>\n",
              "      <td>JBL0104</td>\n",
              "      <td>23.74</td>\n",
              "      <td>2017-01-01 01:06:38</td>\n",
              "      <td>23.74</td>\n",
              "      <td>23.74</td>\n",
              "    </tr>\n",
              "    <tr>\n",
              "      <th>...</th>\n",
              "      <td>...</td>\n",
              "      <td>...</td>\n",
              "      <td>...</td>\n",
              "      <td>...</td>\n",
              "      <td>...</td>\n",
              "      <td>...</td>\n",
              "      <td>...</td>\n",
              "      <td>...</td>\n",
              "      <td>...</td>\n",
              "    </tr>\n",
              "    <tr>\n",
              "      <th>293978</th>\n",
              "      <td>1650199</td>\n",
              "      <td>527398</td>\n",
              "      <td>0</td>\n",
              "      <td>1</td>\n",
              "      <td>JBL0122</td>\n",
              "      <td>42.99</td>\n",
              "      <td>2018-03-14 13:57:25</td>\n",
              "      <td>42.99</td>\n",
              "      <td>42.99</td>\n",
              "    </tr>\n",
              "    <tr>\n",
              "      <th>293979</th>\n",
              "      <td>1650200</td>\n",
              "      <td>527399</td>\n",
              "      <td>0</td>\n",
              "      <td>1</td>\n",
              "      <td>PAC0653</td>\n",
              "      <td>141.58</td>\n",
              "      <td>2018-03-14 13:57:34</td>\n",
              "      <td>141.58</td>\n",
              "      <td>141.58</td>\n",
              "    </tr>\n",
              "    <tr>\n",
              "      <th>293980</th>\n",
              "      <td>1650201</td>\n",
              "      <td>527400</td>\n",
              "      <td>0</td>\n",
              "      <td>2</td>\n",
              "      <td>APP0698</td>\n",
              "      <td>9.99</td>\n",
              "      <td>2018-03-14 13:57:41</td>\n",
              "      <td>9.99</td>\n",
              "      <td>19.98</td>\n",
              "    </tr>\n",
              "    <tr>\n",
              "      <th>293981</th>\n",
              "      <td>1650202</td>\n",
              "      <td>527388</td>\n",
              "      <td>0</td>\n",
              "      <td>1</td>\n",
              "      <td>BEZ0204</td>\n",
              "      <td>19.99</td>\n",
              "      <td>2018-03-14 13:58:01</td>\n",
              "      <td>19.99</td>\n",
              "      <td>19.99</td>\n",
              "    </tr>\n",
              "    <tr>\n",
              "      <th>293982</th>\n",
              "      <td>1650203</td>\n",
              "      <td>527401</td>\n",
              "      <td>0</td>\n",
              "      <td>1</td>\n",
              "      <td>APP0927</td>\n",
              "      <td>13.99</td>\n",
              "      <td>2018-03-14 13:58:36</td>\n",
              "      <td>13.99</td>\n",
              "      <td>13.99</td>\n",
              "    </tr>\n",
              "  </tbody>\n",
              "</table>\n",
              "<p>293983 rows × 9 columns</p>\n",
              "</div>\n",
              "      <button class=\"colab-df-convert\" onclick=\"convertToInteractive('df-988f3961-396f-47df-9c6f-40c49787aa16')\"\n",
              "              title=\"Convert this dataframe to an interactive table.\"\n",
              "              style=\"display:none;\">\n",
              "        \n",
              "  <svg xmlns=\"http://www.w3.org/2000/svg\" height=\"24px\"viewBox=\"0 0 24 24\"\n",
              "       width=\"24px\">\n",
              "    <path d=\"M0 0h24v24H0V0z\" fill=\"none\"/>\n",
              "    <path d=\"M18.56 5.44l.94 2.06.94-2.06 2.06-.94-2.06-.94-.94-2.06-.94 2.06-2.06.94zm-11 1L8.5 8.5l.94-2.06 2.06-.94-2.06-.94L8.5 2.5l-.94 2.06-2.06.94zm10 10l.94 2.06.94-2.06 2.06-.94-2.06-.94-.94-2.06-.94 2.06-2.06.94z\"/><path d=\"M17.41 7.96l-1.37-1.37c-.4-.4-.92-.59-1.43-.59-.52 0-1.04.2-1.43.59L10.3 9.45l-7.72 7.72c-.78.78-.78 2.05 0 2.83L4 21.41c.39.39.9.59 1.41.59.51 0 1.02-.2 1.41-.59l7.78-7.78 2.81-2.81c.8-.78.8-2.07 0-2.86zM5.41 20L4 18.59l7.72-7.72 1.47 1.35L5.41 20z\"/>\n",
              "  </svg>\n",
              "      </button>\n",
              "      \n",
              "  <style>\n",
              "    .colab-df-container {\n",
              "      display:flex;\n",
              "      flex-wrap:wrap;\n",
              "      gap: 12px;\n",
              "    }\n",
              "\n",
              "    .colab-df-convert {\n",
              "      background-color: #E8F0FE;\n",
              "      border: none;\n",
              "      border-radius: 50%;\n",
              "      cursor: pointer;\n",
              "      display: none;\n",
              "      fill: #1967D2;\n",
              "      height: 32px;\n",
              "      padding: 0 0 0 0;\n",
              "      width: 32px;\n",
              "    }\n",
              "\n",
              "    .colab-df-convert:hover {\n",
              "      background-color: #E2EBFA;\n",
              "      box-shadow: 0px 1px 2px rgba(60, 64, 67, 0.3), 0px 1px 3px 1px rgba(60, 64, 67, 0.15);\n",
              "      fill: #174EA6;\n",
              "    }\n",
              "\n",
              "    [theme=dark] .colab-df-convert {\n",
              "      background-color: #3B4455;\n",
              "      fill: #D2E3FC;\n",
              "    }\n",
              "\n",
              "    [theme=dark] .colab-df-convert:hover {\n",
              "      background-color: #434B5C;\n",
              "      box-shadow: 0px 1px 3px 1px rgba(0, 0, 0, 0.15);\n",
              "      filter: drop-shadow(0px 1px 2px rgba(0, 0, 0, 0.3));\n",
              "      fill: #FFFFFF;\n",
              "    }\n",
              "  </style>\n",
              "\n",
              "      <script>\n",
              "        const buttonEl =\n",
              "          document.querySelector('#df-988f3961-396f-47df-9c6f-40c49787aa16 button.colab-df-convert');\n",
              "        buttonEl.style.display =\n",
              "          google.colab.kernel.accessAllowed ? 'block' : 'none';\n",
              "\n",
              "        async function convertToInteractive(key) {\n",
              "          const element = document.querySelector('#df-988f3961-396f-47df-9c6f-40c49787aa16');\n",
              "          const dataTable =\n",
              "            await google.colab.kernel.invokeFunction('convertToInteractive',\n",
              "                                                     [key], {});\n",
              "          if (!dataTable) return;\n",
              "\n",
              "          const docLinkHtml = 'Like what you see? Visit the ' +\n",
              "            '<a target=\"_blank\" href=https://colab.research.google.com/notebooks/data_table.ipynb>data table notebook</a>'\n",
              "            + ' to learn more about interactive tables.';\n",
              "          element.innerHTML = '';\n",
              "          dataTable['output_type'] = 'display_data';\n",
              "          await google.colab.output.renderOutput(dataTable, element);\n",
              "          const docLink = document.createElement('div');\n",
              "          docLink.innerHTML = docLinkHtml;\n",
              "          element.appendChild(docLink);\n",
              "        }\n",
              "      </script>\n",
              "    </div>\n",
              "  </div>\n",
              "  "
            ]
          },
          "metadata": {},
          "execution_count": 79
        }
      ]
    },
    {
      "cell_type": "code",
      "source": [
        "#Drop columns\n",
        "orderlines_2sp = orderlines_2sp.drop(['unit_price'], axis=1).dropna().copy()\n",
        "orderlines_2sp"
      ],
      "metadata": {
        "colab": {
          "base_uri": "https://localhost:8080/",
          "height": 424
        },
        "id": "SnGfllMJV1gm",
        "outputId": "817bef35-0a67-4c7b-db0e-941c9ccd6284"
      },
      "execution_count": 80,
      "outputs": [
        {
          "output_type": "execute_result",
          "data": {
            "text/plain": [
              "             id  id_order  product_id  product_quantity      sku  \\\n",
              "0       1119109    299539           0                 1  OTT0133   \n",
              "1       1119110    299540           0                 1  LGE0043   \n",
              "2       1119111    299541           0                 1  PAR0071   \n",
              "3       1119112    299542           0                 1  WDT0315   \n",
              "4       1119113    299543           0                 1  JBL0104   \n",
              "...         ...       ...         ...               ...      ...   \n",
              "293978  1650199    527398           0                 1  JBL0122   \n",
              "293979  1650200    527399           0                 1  PAC0653   \n",
              "293980  1650201    527400           0                 2  APP0698   \n",
              "293981  1650202    527388           0                 1  BEZ0204   \n",
              "293982  1650203    527401           0                 1  APP0927   \n",
              "\n",
              "                      date  cl_unit_price  sum_price  \n",
              "0      2017-01-01 00:07:19          18.99      18.99  \n",
              "1      2017-01-01 00:19:45         399.00     399.00  \n",
              "2      2017-01-01 00:20:57         474.05     474.05  \n",
              "3      2017-01-01 00:51:40          68.39      68.39  \n",
              "4      2017-01-01 01:06:38          23.74      23.74  \n",
              "...                    ...            ...        ...  \n",
              "293978 2018-03-14 13:57:25          42.99      42.99  \n",
              "293979 2018-03-14 13:57:34         141.58     141.58  \n",
              "293980 2018-03-14 13:57:41           9.99      19.98  \n",
              "293981 2018-03-14 13:58:01          19.99      19.99  \n",
              "293982 2018-03-14 13:58:36          13.99      13.99  \n",
              "\n",
              "[293982 rows x 8 columns]"
            ],
            "text/html": [
              "\n",
              "  <div id=\"df-f6cfbc23-38ef-42c1-a8f2-917bd404f333\">\n",
              "    <div class=\"colab-df-container\">\n",
              "      <div>\n",
              "<style scoped>\n",
              "    .dataframe tbody tr th:only-of-type {\n",
              "        vertical-align: middle;\n",
              "    }\n",
              "\n",
              "    .dataframe tbody tr th {\n",
              "        vertical-align: top;\n",
              "    }\n",
              "\n",
              "    .dataframe thead th {\n",
              "        text-align: right;\n",
              "    }\n",
              "</style>\n",
              "<table border=\"1\" class=\"dataframe\">\n",
              "  <thead>\n",
              "    <tr style=\"text-align: right;\">\n",
              "      <th></th>\n",
              "      <th>id</th>\n",
              "      <th>id_order</th>\n",
              "      <th>product_id</th>\n",
              "      <th>product_quantity</th>\n",
              "      <th>sku</th>\n",
              "      <th>date</th>\n",
              "      <th>cl_unit_price</th>\n",
              "      <th>sum_price</th>\n",
              "    </tr>\n",
              "  </thead>\n",
              "  <tbody>\n",
              "    <tr>\n",
              "      <th>0</th>\n",
              "      <td>1119109</td>\n",
              "      <td>299539</td>\n",
              "      <td>0</td>\n",
              "      <td>1</td>\n",
              "      <td>OTT0133</td>\n",
              "      <td>2017-01-01 00:07:19</td>\n",
              "      <td>18.99</td>\n",
              "      <td>18.99</td>\n",
              "    </tr>\n",
              "    <tr>\n",
              "      <th>1</th>\n",
              "      <td>1119110</td>\n",
              "      <td>299540</td>\n",
              "      <td>0</td>\n",
              "      <td>1</td>\n",
              "      <td>LGE0043</td>\n",
              "      <td>2017-01-01 00:19:45</td>\n",
              "      <td>399.00</td>\n",
              "      <td>399.00</td>\n",
              "    </tr>\n",
              "    <tr>\n",
              "      <th>2</th>\n",
              "      <td>1119111</td>\n",
              "      <td>299541</td>\n",
              "      <td>0</td>\n",
              "      <td>1</td>\n",
              "      <td>PAR0071</td>\n",
              "      <td>2017-01-01 00:20:57</td>\n",
              "      <td>474.05</td>\n",
              "      <td>474.05</td>\n",
              "    </tr>\n",
              "    <tr>\n",
              "      <th>3</th>\n",
              "      <td>1119112</td>\n",
              "      <td>299542</td>\n",
              "      <td>0</td>\n",
              "      <td>1</td>\n",
              "      <td>WDT0315</td>\n",
              "      <td>2017-01-01 00:51:40</td>\n",
              "      <td>68.39</td>\n",
              "      <td>68.39</td>\n",
              "    </tr>\n",
              "    <tr>\n",
              "      <th>4</th>\n",
              "      <td>1119113</td>\n",
              "      <td>299543</td>\n",
              "      <td>0</td>\n",
              "      <td>1</td>\n",
              "      <td>JBL0104</td>\n",
              "      <td>2017-01-01 01:06:38</td>\n",
              "      <td>23.74</td>\n",
              "      <td>23.74</td>\n",
              "    </tr>\n",
              "    <tr>\n",
              "      <th>...</th>\n",
              "      <td>...</td>\n",
              "      <td>...</td>\n",
              "      <td>...</td>\n",
              "      <td>...</td>\n",
              "      <td>...</td>\n",
              "      <td>...</td>\n",
              "      <td>...</td>\n",
              "      <td>...</td>\n",
              "    </tr>\n",
              "    <tr>\n",
              "      <th>293978</th>\n",
              "      <td>1650199</td>\n",
              "      <td>527398</td>\n",
              "      <td>0</td>\n",
              "      <td>1</td>\n",
              "      <td>JBL0122</td>\n",
              "      <td>2018-03-14 13:57:25</td>\n",
              "      <td>42.99</td>\n",
              "      <td>42.99</td>\n",
              "    </tr>\n",
              "    <tr>\n",
              "      <th>293979</th>\n",
              "      <td>1650200</td>\n",
              "      <td>527399</td>\n",
              "      <td>0</td>\n",
              "      <td>1</td>\n",
              "      <td>PAC0653</td>\n",
              "      <td>2018-03-14 13:57:34</td>\n",
              "      <td>141.58</td>\n",
              "      <td>141.58</td>\n",
              "    </tr>\n",
              "    <tr>\n",
              "      <th>293980</th>\n",
              "      <td>1650201</td>\n",
              "      <td>527400</td>\n",
              "      <td>0</td>\n",
              "      <td>2</td>\n",
              "      <td>APP0698</td>\n",
              "      <td>2018-03-14 13:57:41</td>\n",
              "      <td>9.99</td>\n",
              "      <td>19.98</td>\n",
              "    </tr>\n",
              "    <tr>\n",
              "      <th>293981</th>\n",
              "      <td>1650202</td>\n",
              "      <td>527388</td>\n",
              "      <td>0</td>\n",
              "      <td>1</td>\n",
              "      <td>BEZ0204</td>\n",
              "      <td>2018-03-14 13:58:01</td>\n",
              "      <td>19.99</td>\n",
              "      <td>19.99</td>\n",
              "    </tr>\n",
              "    <tr>\n",
              "      <th>293982</th>\n",
              "      <td>1650203</td>\n",
              "      <td>527401</td>\n",
              "      <td>0</td>\n",
              "      <td>1</td>\n",
              "      <td>APP0927</td>\n",
              "      <td>2018-03-14 13:58:36</td>\n",
              "      <td>13.99</td>\n",
              "      <td>13.99</td>\n",
              "    </tr>\n",
              "  </tbody>\n",
              "</table>\n",
              "<p>293982 rows × 8 columns</p>\n",
              "</div>\n",
              "      <button class=\"colab-df-convert\" onclick=\"convertToInteractive('df-f6cfbc23-38ef-42c1-a8f2-917bd404f333')\"\n",
              "              title=\"Convert this dataframe to an interactive table.\"\n",
              "              style=\"display:none;\">\n",
              "        \n",
              "  <svg xmlns=\"http://www.w3.org/2000/svg\" height=\"24px\"viewBox=\"0 0 24 24\"\n",
              "       width=\"24px\">\n",
              "    <path d=\"M0 0h24v24H0V0z\" fill=\"none\"/>\n",
              "    <path d=\"M18.56 5.44l.94 2.06.94-2.06 2.06-.94-2.06-.94-.94-2.06-.94 2.06-2.06.94zm-11 1L8.5 8.5l.94-2.06 2.06-.94-2.06-.94L8.5 2.5l-.94 2.06-2.06.94zm10 10l.94 2.06.94-2.06 2.06-.94-2.06-.94-.94-2.06-.94 2.06-2.06.94z\"/><path d=\"M17.41 7.96l-1.37-1.37c-.4-.4-.92-.59-1.43-.59-.52 0-1.04.2-1.43.59L10.3 9.45l-7.72 7.72c-.78.78-.78 2.05 0 2.83L4 21.41c.39.39.9.59 1.41.59.51 0 1.02-.2 1.41-.59l7.78-7.78 2.81-2.81c.8-.78.8-2.07 0-2.86zM5.41 20L4 18.59l7.72-7.72 1.47 1.35L5.41 20z\"/>\n",
              "  </svg>\n",
              "      </button>\n",
              "      \n",
              "  <style>\n",
              "    .colab-df-container {\n",
              "      display:flex;\n",
              "      flex-wrap:wrap;\n",
              "      gap: 12px;\n",
              "    }\n",
              "\n",
              "    .colab-df-convert {\n",
              "      background-color: #E8F0FE;\n",
              "      border: none;\n",
              "      border-radius: 50%;\n",
              "      cursor: pointer;\n",
              "      display: none;\n",
              "      fill: #1967D2;\n",
              "      height: 32px;\n",
              "      padding: 0 0 0 0;\n",
              "      width: 32px;\n",
              "    }\n",
              "\n",
              "    .colab-df-convert:hover {\n",
              "      background-color: #E2EBFA;\n",
              "      box-shadow: 0px 1px 2px rgba(60, 64, 67, 0.3), 0px 1px 3px 1px rgba(60, 64, 67, 0.15);\n",
              "      fill: #174EA6;\n",
              "    }\n",
              "\n",
              "    [theme=dark] .colab-df-convert {\n",
              "      background-color: #3B4455;\n",
              "      fill: #D2E3FC;\n",
              "    }\n",
              "\n",
              "    [theme=dark] .colab-df-convert:hover {\n",
              "      background-color: #434B5C;\n",
              "      box-shadow: 0px 1px 3px 1px rgba(0, 0, 0, 0.15);\n",
              "      filter: drop-shadow(0px 1px 2px rgba(0, 0, 0, 0.3));\n",
              "      fill: #FFFFFF;\n",
              "    }\n",
              "  </style>\n",
              "\n",
              "      <script>\n",
              "        const buttonEl =\n",
              "          document.querySelector('#df-f6cfbc23-38ef-42c1-a8f2-917bd404f333 button.colab-df-convert');\n",
              "        buttonEl.style.display =\n",
              "          google.colab.kernel.accessAllowed ? 'block' : 'none';\n",
              "\n",
              "        async function convertToInteractive(key) {\n",
              "          const element = document.querySelector('#df-f6cfbc23-38ef-42c1-a8f2-917bd404f333');\n",
              "          const dataTable =\n",
              "            await google.colab.kernel.invokeFunction('convertToInteractive',\n",
              "                                                     [key], {});\n",
              "          if (!dataTable) return;\n",
              "\n",
              "          const docLinkHtml = 'Like what you see? Visit the ' +\n",
              "            '<a target=\"_blank\" href=https://colab.research.google.com/notebooks/data_table.ipynb>data table notebook</a>'\n",
              "            + ' to learn more about interactive tables.';\n",
              "          element.innerHTML = '';\n",
              "          dataTable['output_type'] = 'display_data';\n",
              "          await google.colab.output.renderOutput(dataTable, element);\n",
              "          const docLink = document.createElement('div');\n",
              "          docLink.innerHTML = docLinkHtml;\n",
              "          element.appendChild(docLink);\n",
              "        }\n",
              "      </script>\n",
              "    </div>\n",
              "  </div>\n",
              "  "
            ]
          },
          "metadata": {},
          "execution_count": 80
        }
      ]
    },
    {
      "cell_type": "code",
      "source": [
        "orderlines_2sp.id_order.nunique()"
      ],
      "metadata": {
        "id": "Vy37kGTF7X9M",
        "colab": {
          "base_uri": "https://localhost:8080/"
        },
        "outputId": "ad8d08d4-a9b0-4fea-a2a8-3a19506a49bc"
      },
      "execution_count": 81,
      "outputs": [
        {
          "output_type": "execute_result",
          "data": {
            "text/plain": [
              "204855"
            ]
          },
          "metadata": {},
          "execution_count": 81
        }
      ]
    },
    {
      "cell_type": "markdown",
      "source": [
        "Different ammount of unique `id_order`\n",
        "\n",
        "`orders`: 226909\n",
        "`orderlines`: 204855"
      ],
      "metadata": {
        "id": "hZGX3EyM7nzr"
      }
    },
    {
      "cell_type": "code",
      "source": [
        "orderlines_2sp.query('product_quantity == 1').id_order.nunique()"
      ],
      "metadata": {
        "id": "dIZuGHfL8BUv",
        "colab": {
          "base_uri": "https://localhost:8080/"
        },
        "outputId": "2e9a386c-23df-43e8-a9d2-51173d6b2fc3"
      },
      "execution_count": 82,
      "outputs": [
        {
          "output_type": "execute_result",
          "data": {
            "text/plain": [
              "194780"
            ]
          },
          "metadata": {},
          "execution_count": 82
        }
      ]
    },
    {
      "cell_type": "code",
      "source": [
        "orderlines_2sp.query('product_quantity != 1').id_order.nunique()"
      ],
      "metadata": {
        "id": "JVSys2248W1N",
        "colab": {
          "base_uri": "https://localhost:8080/"
        },
        "outputId": "eb9be8c0-f500-48d3-92d4-c703c4016e26"
      },
      "execution_count": 83,
      "outputs": [
        {
          "output_type": "execute_result",
          "data": {
            "text/plain": [
              "14734"
            ]
          },
          "metadata": {},
          "execution_count": 83
        }
      ]
    },
    {
      "cell_type": "markdown",
      "source": [
        "REP is not in `orderlines`"
      ],
      "metadata": {
        "id": "vcAI512Dnkms"
      }
    },
    {
      "cell_type": "code",
      "source": [
        "orderlines_2sp.sku.isin([\"REP\"]).sum() "
      ],
      "metadata": {
        "id": "0zNc29lT81Tg",
        "colab": {
          "base_uri": "https://localhost:8080/"
        },
        "outputId": "49f7bc57-e145-4409-e9bb-5c12a57fbe3a"
      },
      "execution_count": 84,
      "outputs": [
        {
          "output_type": "execute_result",
          "data": {
            "text/plain": [
              "0"
            ]
          },
          "metadata": {},
          "execution_count": 84
        }
      ]
    },
    {
      "cell_type": "markdown",
      "source": [
        "### Status\n",
        "All OK \n",
        "\n",
        "Last Version `orderlines_2sp`"
      ],
      "metadata": {
        "id": "8HZSZOGPPeYT"
      }
    },
    {
      "cell_type": "markdown",
      "source": [
        "# Combine Tables"
      ],
      "metadata": {
        "id": "ASaBmWSm_BnE"
      }
    },
    {
      "cell_type": "markdown",
      "source": [
        "The `products` table should be the primary reference for all the products being sold. It is likely that, during the Data Cleaning phase, you deleted many rows from `products`. Any order involving products not present there is susceptible to containing corrupted information.\n",
        "\n",
        "You might choose to deal with this in many different ways, but a conservative one would be to delete all of the potentially corrupted rows. \n",
        "\n",
        "Exclude orders with unknown products.\n",
        "\n",
        "`orderlines.sku` are in `produts.sku`. If `sku` not in `products` remove it from `orderlines.order_id` and from `orders`.  If no it will affect the Orders. \n"
      ],
      "metadata": {
        "id": "dVWx-43qQMfn"
      }
    },
    {
      "cell_type": "markdown",
      "source": [
        "### All clean Tables"
      ],
      "metadata": {
        "id": "sVNf5ZUGxu5s"
      }
    },
    {
      "cell_type": "code",
      "source": [
        "orderlines_2sp.head(1).sort_values(by=\"id_order\")"
      ],
      "metadata": {
        "colab": {
          "base_uri": "https://localhost:8080/",
          "height": 81
        },
        "id": "d0n2rODQTpdx",
        "outputId": "52fdcd11-f985-46a5-d193-a48007ef2c78"
      },
      "execution_count": 85,
      "outputs": [
        {
          "output_type": "execute_result",
          "data": {
            "text/plain": [
              "        id  id_order  product_id  product_quantity      sku  \\\n",
              "0  1119109    299539           0                 1  OTT0133   \n",
              "\n",
              "                 date  cl_unit_price  sum_price  \n",
              "0 2017-01-01 00:07:19          18.99      18.99  "
            ],
            "text/html": [
              "\n",
              "  <div id=\"df-75281ee3-3084-4d08-8a33-94ae4f170615\">\n",
              "    <div class=\"colab-df-container\">\n",
              "      <div>\n",
              "<style scoped>\n",
              "    .dataframe tbody tr th:only-of-type {\n",
              "        vertical-align: middle;\n",
              "    }\n",
              "\n",
              "    .dataframe tbody tr th {\n",
              "        vertical-align: top;\n",
              "    }\n",
              "\n",
              "    .dataframe thead th {\n",
              "        text-align: right;\n",
              "    }\n",
              "</style>\n",
              "<table border=\"1\" class=\"dataframe\">\n",
              "  <thead>\n",
              "    <tr style=\"text-align: right;\">\n",
              "      <th></th>\n",
              "      <th>id</th>\n",
              "      <th>id_order</th>\n",
              "      <th>product_id</th>\n",
              "      <th>product_quantity</th>\n",
              "      <th>sku</th>\n",
              "      <th>date</th>\n",
              "      <th>cl_unit_price</th>\n",
              "      <th>sum_price</th>\n",
              "    </tr>\n",
              "  </thead>\n",
              "  <tbody>\n",
              "    <tr>\n",
              "      <th>0</th>\n",
              "      <td>1119109</td>\n",
              "      <td>299539</td>\n",
              "      <td>0</td>\n",
              "      <td>1</td>\n",
              "      <td>OTT0133</td>\n",
              "      <td>2017-01-01 00:07:19</td>\n",
              "      <td>18.99</td>\n",
              "      <td>18.99</td>\n",
              "    </tr>\n",
              "  </tbody>\n",
              "</table>\n",
              "</div>\n",
              "      <button class=\"colab-df-convert\" onclick=\"convertToInteractive('df-75281ee3-3084-4d08-8a33-94ae4f170615')\"\n",
              "              title=\"Convert this dataframe to an interactive table.\"\n",
              "              style=\"display:none;\">\n",
              "        \n",
              "  <svg xmlns=\"http://www.w3.org/2000/svg\" height=\"24px\"viewBox=\"0 0 24 24\"\n",
              "       width=\"24px\">\n",
              "    <path d=\"M0 0h24v24H0V0z\" fill=\"none\"/>\n",
              "    <path d=\"M18.56 5.44l.94 2.06.94-2.06 2.06-.94-2.06-.94-.94-2.06-.94 2.06-2.06.94zm-11 1L8.5 8.5l.94-2.06 2.06-.94-2.06-.94L8.5 2.5l-.94 2.06-2.06.94zm10 10l.94 2.06.94-2.06 2.06-.94-2.06-.94-.94-2.06-.94 2.06-2.06.94z\"/><path d=\"M17.41 7.96l-1.37-1.37c-.4-.4-.92-.59-1.43-.59-.52 0-1.04.2-1.43.59L10.3 9.45l-7.72 7.72c-.78.78-.78 2.05 0 2.83L4 21.41c.39.39.9.59 1.41.59.51 0 1.02-.2 1.41-.59l7.78-7.78 2.81-2.81c.8-.78.8-2.07 0-2.86zM5.41 20L4 18.59l7.72-7.72 1.47 1.35L5.41 20z\"/>\n",
              "  </svg>\n",
              "      </button>\n",
              "      \n",
              "  <style>\n",
              "    .colab-df-container {\n",
              "      display:flex;\n",
              "      flex-wrap:wrap;\n",
              "      gap: 12px;\n",
              "    }\n",
              "\n",
              "    .colab-df-convert {\n",
              "      background-color: #E8F0FE;\n",
              "      border: none;\n",
              "      border-radius: 50%;\n",
              "      cursor: pointer;\n",
              "      display: none;\n",
              "      fill: #1967D2;\n",
              "      height: 32px;\n",
              "      padding: 0 0 0 0;\n",
              "      width: 32px;\n",
              "    }\n",
              "\n",
              "    .colab-df-convert:hover {\n",
              "      background-color: #E2EBFA;\n",
              "      box-shadow: 0px 1px 2px rgba(60, 64, 67, 0.3), 0px 1px 3px 1px rgba(60, 64, 67, 0.15);\n",
              "      fill: #174EA6;\n",
              "    }\n",
              "\n",
              "    [theme=dark] .colab-df-convert {\n",
              "      background-color: #3B4455;\n",
              "      fill: #D2E3FC;\n",
              "    }\n",
              "\n",
              "    [theme=dark] .colab-df-convert:hover {\n",
              "      background-color: #434B5C;\n",
              "      box-shadow: 0px 1px 3px 1px rgba(0, 0, 0, 0.15);\n",
              "      filter: drop-shadow(0px 1px 2px rgba(0, 0, 0, 0.3));\n",
              "      fill: #FFFFFF;\n",
              "    }\n",
              "  </style>\n",
              "\n",
              "      <script>\n",
              "        const buttonEl =\n",
              "          document.querySelector('#df-75281ee3-3084-4d08-8a33-94ae4f170615 button.colab-df-convert');\n",
              "        buttonEl.style.display =\n",
              "          google.colab.kernel.accessAllowed ? 'block' : 'none';\n",
              "\n",
              "        async function convertToInteractive(key) {\n",
              "          const element = document.querySelector('#df-75281ee3-3084-4d08-8a33-94ae4f170615');\n",
              "          const dataTable =\n",
              "            await google.colab.kernel.invokeFunction('convertToInteractive',\n",
              "                                                     [key], {});\n",
              "          if (!dataTable) return;\n",
              "\n",
              "          const docLinkHtml = 'Like what you see? Visit the ' +\n",
              "            '<a target=\"_blank\" href=https://colab.research.google.com/notebooks/data_table.ipynb>data table notebook</a>'\n",
              "            + ' to learn more about interactive tables.';\n",
              "          element.innerHTML = '';\n",
              "          dataTable['output_type'] = 'display_data';\n",
              "          await google.colab.output.renderOutput(dataTable, element);\n",
              "          const docLink = document.createElement('div');\n",
              "          docLink.innerHTML = docLinkHtml;\n",
              "          element.appendChild(docLink);\n",
              "        }\n",
              "      </script>\n",
              "    </div>\n",
              "  </div>\n",
              "  "
            ]
          },
          "metadata": {},
          "execution_count": 85
        }
      ]
    },
    {
      "cell_type": "code",
      "source": [
        "products_3sp.sample(1)"
      ],
      "metadata": {
        "colab": {
          "base_uri": "https://localhost:8080/",
          "height": 81
        },
        "id": "T1nQTSCbfPVP",
        "outputId": "9a8fe7f2-89c6-4add-d7e1-476fac99f204"
      },
      "execution_count": 86,
      "outputs": [
        {
          "output_type": "execute_result",
          "data": {
            "text/plain": [
              "          sku          long                                name  \\\n",
              "3437  SPE0205  Spek SeeThru  Presidio Speck Case iPhone X Black   \n",
              "\n",
              "                                                         desc  price  \\\n",
              "3437  protective case with anti-impact polycarbonate iPhone X  24.95   \n",
              "\n",
              "     promo_price  cl_price      type  cl_deff  cl_deff_2  \n",
              "3437     179.915     24.95  11865403  -154.97       7.21  "
            ],
            "text/html": [
              "\n",
              "  <div id=\"df-c00005b0-9079-4f44-a5f2-7c4b83557f97\">\n",
              "    <div class=\"colab-df-container\">\n",
              "      <div>\n",
              "<style scoped>\n",
              "    .dataframe tbody tr th:only-of-type {\n",
              "        vertical-align: middle;\n",
              "    }\n",
              "\n",
              "    .dataframe tbody tr th {\n",
              "        vertical-align: top;\n",
              "    }\n",
              "\n",
              "    .dataframe thead th {\n",
              "        text-align: right;\n",
              "    }\n",
              "</style>\n",
              "<table border=\"1\" class=\"dataframe\">\n",
              "  <thead>\n",
              "    <tr style=\"text-align: right;\">\n",
              "      <th></th>\n",
              "      <th>sku</th>\n",
              "      <th>long</th>\n",
              "      <th>name</th>\n",
              "      <th>desc</th>\n",
              "      <th>price</th>\n",
              "      <th>promo_price</th>\n",
              "      <th>cl_price</th>\n",
              "      <th>type</th>\n",
              "      <th>cl_deff</th>\n",
              "      <th>cl_deff_2</th>\n",
              "    </tr>\n",
              "  </thead>\n",
              "  <tbody>\n",
              "    <tr>\n",
              "      <th>3437</th>\n",
              "      <td>SPE0205</td>\n",
              "      <td>Spek SeeThru</td>\n",
              "      <td>Presidio Speck Case iPhone X Black</td>\n",
              "      <td>protective case with anti-impact polycarbonate iPhone X</td>\n",
              "      <td>24.95</td>\n",
              "      <td>179.915</td>\n",
              "      <td>24.95</td>\n",
              "      <td>11865403</td>\n",
              "      <td>-154.97</td>\n",
              "      <td>7.21</td>\n",
              "    </tr>\n",
              "  </tbody>\n",
              "</table>\n",
              "</div>\n",
              "      <button class=\"colab-df-convert\" onclick=\"convertToInteractive('df-c00005b0-9079-4f44-a5f2-7c4b83557f97')\"\n",
              "              title=\"Convert this dataframe to an interactive table.\"\n",
              "              style=\"display:none;\">\n",
              "        \n",
              "  <svg xmlns=\"http://www.w3.org/2000/svg\" height=\"24px\"viewBox=\"0 0 24 24\"\n",
              "       width=\"24px\">\n",
              "    <path d=\"M0 0h24v24H0V0z\" fill=\"none\"/>\n",
              "    <path d=\"M18.56 5.44l.94 2.06.94-2.06 2.06-.94-2.06-.94-.94-2.06-.94 2.06-2.06.94zm-11 1L8.5 8.5l.94-2.06 2.06-.94-2.06-.94L8.5 2.5l-.94 2.06-2.06.94zm10 10l.94 2.06.94-2.06 2.06-.94-2.06-.94-.94-2.06-.94 2.06-2.06.94z\"/><path d=\"M17.41 7.96l-1.37-1.37c-.4-.4-.92-.59-1.43-.59-.52 0-1.04.2-1.43.59L10.3 9.45l-7.72 7.72c-.78.78-.78 2.05 0 2.83L4 21.41c.39.39.9.59 1.41.59.51 0 1.02-.2 1.41-.59l7.78-7.78 2.81-2.81c.8-.78.8-2.07 0-2.86zM5.41 20L4 18.59l7.72-7.72 1.47 1.35L5.41 20z\"/>\n",
              "  </svg>\n",
              "      </button>\n",
              "      \n",
              "  <style>\n",
              "    .colab-df-container {\n",
              "      display:flex;\n",
              "      flex-wrap:wrap;\n",
              "      gap: 12px;\n",
              "    }\n",
              "\n",
              "    .colab-df-convert {\n",
              "      background-color: #E8F0FE;\n",
              "      border: none;\n",
              "      border-radius: 50%;\n",
              "      cursor: pointer;\n",
              "      display: none;\n",
              "      fill: #1967D2;\n",
              "      height: 32px;\n",
              "      padding: 0 0 0 0;\n",
              "      width: 32px;\n",
              "    }\n",
              "\n",
              "    .colab-df-convert:hover {\n",
              "      background-color: #E2EBFA;\n",
              "      box-shadow: 0px 1px 2px rgba(60, 64, 67, 0.3), 0px 1px 3px 1px rgba(60, 64, 67, 0.15);\n",
              "      fill: #174EA6;\n",
              "    }\n",
              "\n",
              "    [theme=dark] .colab-df-convert {\n",
              "      background-color: #3B4455;\n",
              "      fill: #D2E3FC;\n",
              "    }\n",
              "\n",
              "    [theme=dark] .colab-df-convert:hover {\n",
              "      background-color: #434B5C;\n",
              "      box-shadow: 0px 1px 3px 1px rgba(0, 0, 0, 0.15);\n",
              "      filter: drop-shadow(0px 1px 2px rgba(0, 0, 0, 0.3));\n",
              "      fill: #FFFFFF;\n",
              "    }\n",
              "  </style>\n",
              "\n",
              "      <script>\n",
              "        const buttonEl =\n",
              "          document.querySelector('#df-c00005b0-9079-4f44-a5f2-7c4b83557f97 button.colab-df-convert');\n",
              "        buttonEl.style.display =\n",
              "          google.colab.kernel.accessAllowed ? 'block' : 'none';\n",
              "\n",
              "        async function convertToInteractive(key) {\n",
              "          const element = document.querySelector('#df-c00005b0-9079-4f44-a5f2-7c4b83557f97');\n",
              "          const dataTable =\n",
              "            await google.colab.kernel.invokeFunction('convertToInteractive',\n",
              "                                                     [key], {});\n",
              "          if (!dataTable) return;\n",
              "\n",
              "          const docLinkHtml = 'Like what you see? Visit the ' +\n",
              "            '<a target=\"_blank\" href=https://colab.research.google.com/notebooks/data_table.ipynb>data table notebook</a>'\n",
              "            + ' to learn more about interactive tables.';\n",
              "          element.innerHTML = '';\n",
              "          dataTable['output_type'] = 'display_data';\n",
              "          await google.colab.output.renderOutput(dataTable, element);\n",
              "          const docLink = document.createElement('div');\n",
              "          docLink.innerHTML = docLinkHtml;\n",
              "          element.appendChild(docLink);\n",
              "        }\n",
              "      </script>\n",
              "    </div>\n",
              "  </div>\n",
              "  "
            ]
          },
          "metadata": {},
          "execution_count": 86
        }
      ]
    },
    {
      "cell_type": "code",
      "source": [
        "orders_2sp_comp.sample(1)"
      ],
      "metadata": {
        "colab": {
          "base_uri": "https://localhost:8080/",
          "height": 81
        },
        "id": "fxWEf_9dfKCi",
        "outputId": "d07b69d2-3894-44d1-811b-e5aa9ad0f0d9"
      },
      "execution_count": 87,
      "outputs": [
        {
          "output_type": "execute_result",
          "data": {
            "text/plain": [
              "        order_id        created_date  total_paid      state\n",
              "150874    451075 2017-11-29 00:31:59      116.97  Completed"
            ],
            "text/html": [
              "\n",
              "  <div id=\"df-ac3ffbee-8fe1-4c6f-a05c-0276da0e51eb\">\n",
              "    <div class=\"colab-df-container\">\n",
              "      <div>\n",
              "<style scoped>\n",
              "    .dataframe tbody tr th:only-of-type {\n",
              "        vertical-align: middle;\n",
              "    }\n",
              "\n",
              "    .dataframe tbody tr th {\n",
              "        vertical-align: top;\n",
              "    }\n",
              "\n",
              "    .dataframe thead th {\n",
              "        text-align: right;\n",
              "    }\n",
              "</style>\n",
              "<table border=\"1\" class=\"dataframe\">\n",
              "  <thead>\n",
              "    <tr style=\"text-align: right;\">\n",
              "      <th></th>\n",
              "      <th>order_id</th>\n",
              "      <th>created_date</th>\n",
              "      <th>total_paid</th>\n",
              "      <th>state</th>\n",
              "    </tr>\n",
              "  </thead>\n",
              "  <tbody>\n",
              "    <tr>\n",
              "      <th>150874</th>\n",
              "      <td>451075</td>\n",
              "      <td>2017-11-29 00:31:59</td>\n",
              "      <td>116.97</td>\n",
              "      <td>Completed</td>\n",
              "    </tr>\n",
              "  </tbody>\n",
              "</table>\n",
              "</div>\n",
              "      <button class=\"colab-df-convert\" onclick=\"convertToInteractive('df-ac3ffbee-8fe1-4c6f-a05c-0276da0e51eb')\"\n",
              "              title=\"Convert this dataframe to an interactive table.\"\n",
              "              style=\"display:none;\">\n",
              "        \n",
              "  <svg xmlns=\"http://www.w3.org/2000/svg\" height=\"24px\"viewBox=\"0 0 24 24\"\n",
              "       width=\"24px\">\n",
              "    <path d=\"M0 0h24v24H0V0z\" fill=\"none\"/>\n",
              "    <path d=\"M18.56 5.44l.94 2.06.94-2.06 2.06-.94-2.06-.94-.94-2.06-.94 2.06-2.06.94zm-11 1L8.5 8.5l.94-2.06 2.06-.94-2.06-.94L8.5 2.5l-.94 2.06-2.06.94zm10 10l.94 2.06.94-2.06 2.06-.94-2.06-.94-.94-2.06-.94 2.06-2.06.94z\"/><path d=\"M17.41 7.96l-1.37-1.37c-.4-.4-.92-.59-1.43-.59-.52 0-1.04.2-1.43.59L10.3 9.45l-7.72 7.72c-.78.78-.78 2.05 0 2.83L4 21.41c.39.39.9.59 1.41.59.51 0 1.02-.2 1.41-.59l7.78-7.78 2.81-2.81c.8-.78.8-2.07 0-2.86zM5.41 20L4 18.59l7.72-7.72 1.47 1.35L5.41 20z\"/>\n",
              "  </svg>\n",
              "      </button>\n",
              "      \n",
              "  <style>\n",
              "    .colab-df-container {\n",
              "      display:flex;\n",
              "      flex-wrap:wrap;\n",
              "      gap: 12px;\n",
              "    }\n",
              "\n",
              "    .colab-df-convert {\n",
              "      background-color: #E8F0FE;\n",
              "      border: none;\n",
              "      border-radius: 50%;\n",
              "      cursor: pointer;\n",
              "      display: none;\n",
              "      fill: #1967D2;\n",
              "      height: 32px;\n",
              "      padding: 0 0 0 0;\n",
              "      width: 32px;\n",
              "    }\n",
              "\n",
              "    .colab-df-convert:hover {\n",
              "      background-color: #E2EBFA;\n",
              "      box-shadow: 0px 1px 2px rgba(60, 64, 67, 0.3), 0px 1px 3px 1px rgba(60, 64, 67, 0.15);\n",
              "      fill: #174EA6;\n",
              "    }\n",
              "\n",
              "    [theme=dark] .colab-df-convert {\n",
              "      background-color: #3B4455;\n",
              "      fill: #D2E3FC;\n",
              "    }\n",
              "\n",
              "    [theme=dark] .colab-df-convert:hover {\n",
              "      background-color: #434B5C;\n",
              "      box-shadow: 0px 1px 3px 1px rgba(0, 0, 0, 0.15);\n",
              "      filter: drop-shadow(0px 1px 2px rgba(0, 0, 0, 0.3));\n",
              "      fill: #FFFFFF;\n",
              "    }\n",
              "  </style>\n",
              "\n",
              "      <script>\n",
              "        const buttonEl =\n",
              "          document.querySelector('#df-ac3ffbee-8fe1-4c6f-a05c-0276da0e51eb button.colab-df-convert');\n",
              "        buttonEl.style.display =\n",
              "          google.colab.kernel.accessAllowed ? 'block' : 'none';\n",
              "\n",
              "        async function convertToInteractive(key) {\n",
              "          const element = document.querySelector('#df-ac3ffbee-8fe1-4c6f-a05c-0276da0e51eb');\n",
              "          const dataTable =\n",
              "            await google.colab.kernel.invokeFunction('convertToInteractive',\n",
              "                                                     [key], {});\n",
              "          if (!dataTable) return;\n",
              "\n",
              "          const docLinkHtml = 'Like what you see? Visit the ' +\n",
              "            '<a target=\"_blank\" href=https://colab.research.google.com/notebooks/data_table.ipynb>data table notebook</a>'\n",
              "            + ' to learn more about interactive tables.';\n",
              "          element.innerHTML = '';\n",
              "          dataTable['output_type'] = 'display_data';\n",
              "          await google.colab.output.renderOutput(dataTable, element);\n",
              "          const docLink = document.createElement('div');\n",
              "          docLink.innerHTML = docLinkHtml;\n",
              "          element.appendChild(docLink);\n",
              "        }\n",
              "      </script>\n",
              "    </div>\n",
              "  </div>\n",
              "  "
            ]
          },
          "metadata": {},
          "execution_count": 87
        }
      ]
    },
    {
      "cell_type": "code",
      "source": [
        "orderlines_in_prod = orderlines_2sp.merge(\n",
        "    products_3sp,\n",
        "    how = \"left\",\n",
        "    left_on = 'sku',\n",
        "    right_on = 'sku'\n",
        ")\n",
        "\n",
        "len(set(orderlines_in_prod.sku)), len(set(orderlines_2sp.sku))"
      ],
      "metadata": {
        "colab": {
          "base_uri": "https://localhost:8080/"
        },
        "id": "FQaEMYsRUXQa",
        "outputId": "56f902be-c716-4e4a-9f5a-031c0eab11b4"
      },
      "execution_count": 88,
      "outputs": [
        {
          "output_type": "execute_result",
          "data": {
            "text/plain": [
              "(7951, 7951)"
            ]
          },
          "metadata": {},
          "execution_count": 88
        }
      ]
    },
    {
      "cell_type": "code",
      "source": [
        "orderlines_in_prod.isna().sum() #NA from products"
      ],
      "metadata": {
        "colab": {
          "base_uri": "https://localhost:8080/"
        },
        "id": "2OBu8Hgyi18V",
        "outputId": "365c429e-1421-4411-b0b7-006d3240a4bb"
      },
      "execution_count": 89,
      "outputs": [
        {
          "output_type": "execute_result",
          "data": {
            "text/plain": [
              "id                     0\n",
              "id_order               0\n",
              "product_id             0\n",
              "product_quantity       0\n",
              "sku                    0\n",
              "date                   0\n",
              "cl_unit_price          0\n",
              "sum_price              0\n",
              "long                2031\n",
              "name                2031\n",
              "desc                2031\n",
              "price               2031\n",
              "promo_price         2031\n",
              "cl_price            2031\n",
              "type                2031\n",
              "cl_deff             2031\n",
              "cl_deff_2           2031\n",
              "dtype: int64"
            ]
          },
          "metadata": {},
          "execution_count": 89
        }
      ]
    },
    {
      "cell_type": "markdown",
      "source": [
        "This `ska` and `id_order` are not in `produkts`."
      ],
      "metadata": {
        "id": "WJUgEjqRq1IZ"
      }
    },
    {
      "cell_type": "code",
      "source": [
        "orderlines_in_prod[orderlines_in_prod['type'].isna()].tail(5)"
      ],
      "metadata": {
        "colab": {
          "base_uri": "https://localhost:8080/",
          "height": 206
        },
        "id": "xhT70b-HgjOg",
        "outputId": "8f1a8c37-99a1-444e-bc6d-fbc390f7231f"
      },
      "execution_count": 90,
      "outputs": [
        {
          "output_type": "execute_result",
          "data": {
            "text/plain": [
              "             id  id_order  product_id  product_quantity      sku  \\\n",
              "291956  1646559    525670           0                 1  DOD0010   \n",
              "292160  1646897    523315           0                 1  LUM0008   \n",
              "292193  1646975    525863           0                 1  UBT0009   \n",
              "292355  1647280    526003           0                 1  NET0028   \n",
              "293647  1649570    527099           0                 2  CAL0010   \n",
              "\n",
              "                      date  cl_unit_price  sum_price long name desc price  \\\n",
              "291956 2018-03-11 22:54:41          21.99      21.99  NaN  NaN  NaN   NaN   \n",
              "292160 2018-03-12 11:07:33          59.99      59.99  NaN  NaN  NaN   NaN   \n",
              "292193 2018-03-12 12:03:31         159.95     159.95  NaN  NaN  NaN   NaN   \n",
              "292355 2018-03-12 15:59:19         404.99     404.99  NaN  NaN  NaN   NaN   \n",
              "293647 2018-03-14 11:54:58         299.99     599.98  NaN  NaN  NaN   NaN   \n",
              "\n",
              "       promo_price  cl_price type  cl_deff  cl_deff_2  \n",
              "291956         NaN       NaN  NaN      NaN        NaN  \n",
              "292160         NaN       NaN  NaN      NaN        NaN  \n",
              "292193         NaN       NaN  NaN      NaN        NaN  \n",
              "292355         NaN       NaN  NaN      NaN        NaN  \n",
              "293647         NaN       NaN  NaN      NaN        NaN  "
            ],
            "text/html": [
              "\n",
              "  <div id=\"df-c2bb2f74-77ce-421b-a2bd-58b202ff862c\">\n",
              "    <div class=\"colab-df-container\">\n",
              "      <div>\n",
              "<style scoped>\n",
              "    .dataframe tbody tr th:only-of-type {\n",
              "        vertical-align: middle;\n",
              "    }\n",
              "\n",
              "    .dataframe tbody tr th {\n",
              "        vertical-align: top;\n",
              "    }\n",
              "\n",
              "    .dataframe thead th {\n",
              "        text-align: right;\n",
              "    }\n",
              "</style>\n",
              "<table border=\"1\" class=\"dataframe\">\n",
              "  <thead>\n",
              "    <tr style=\"text-align: right;\">\n",
              "      <th></th>\n",
              "      <th>id</th>\n",
              "      <th>id_order</th>\n",
              "      <th>product_id</th>\n",
              "      <th>product_quantity</th>\n",
              "      <th>sku</th>\n",
              "      <th>date</th>\n",
              "      <th>cl_unit_price</th>\n",
              "      <th>sum_price</th>\n",
              "      <th>long</th>\n",
              "      <th>name</th>\n",
              "      <th>desc</th>\n",
              "      <th>price</th>\n",
              "      <th>promo_price</th>\n",
              "      <th>cl_price</th>\n",
              "      <th>type</th>\n",
              "      <th>cl_deff</th>\n",
              "      <th>cl_deff_2</th>\n",
              "    </tr>\n",
              "  </thead>\n",
              "  <tbody>\n",
              "    <tr>\n",
              "      <th>291956</th>\n",
              "      <td>1646559</td>\n",
              "      <td>525670</td>\n",
              "      <td>0</td>\n",
              "      <td>1</td>\n",
              "      <td>DOD0010</td>\n",
              "      <td>2018-03-11 22:54:41</td>\n",
              "      <td>21.99</td>\n",
              "      <td>21.99</td>\n",
              "      <td>NaN</td>\n",
              "      <td>NaN</td>\n",
              "      <td>NaN</td>\n",
              "      <td>NaN</td>\n",
              "      <td>NaN</td>\n",
              "      <td>NaN</td>\n",
              "      <td>NaN</td>\n",
              "      <td>NaN</td>\n",
              "      <td>NaN</td>\n",
              "    </tr>\n",
              "    <tr>\n",
              "      <th>292160</th>\n",
              "      <td>1646897</td>\n",
              "      <td>523315</td>\n",
              "      <td>0</td>\n",
              "      <td>1</td>\n",
              "      <td>LUM0008</td>\n",
              "      <td>2018-03-12 11:07:33</td>\n",
              "      <td>59.99</td>\n",
              "      <td>59.99</td>\n",
              "      <td>NaN</td>\n",
              "      <td>NaN</td>\n",
              "      <td>NaN</td>\n",
              "      <td>NaN</td>\n",
              "      <td>NaN</td>\n",
              "      <td>NaN</td>\n",
              "      <td>NaN</td>\n",
              "      <td>NaN</td>\n",
              "      <td>NaN</td>\n",
              "    </tr>\n",
              "    <tr>\n",
              "      <th>292193</th>\n",
              "      <td>1646975</td>\n",
              "      <td>525863</td>\n",
              "      <td>0</td>\n",
              "      <td>1</td>\n",
              "      <td>UBT0009</td>\n",
              "      <td>2018-03-12 12:03:31</td>\n",
              "      <td>159.95</td>\n",
              "      <td>159.95</td>\n",
              "      <td>NaN</td>\n",
              "      <td>NaN</td>\n",
              "      <td>NaN</td>\n",
              "      <td>NaN</td>\n",
              "      <td>NaN</td>\n",
              "      <td>NaN</td>\n",
              "      <td>NaN</td>\n",
              "      <td>NaN</td>\n",
              "      <td>NaN</td>\n",
              "    </tr>\n",
              "    <tr>\n",
              "      <th>292355</th>\n",
              "      <td>1647280</td>\n",
              "      <td>526003</td>\n",
              "      <td>0</td>\n",
              "      <td>1</td>\n",
              "      <td>NET0028</td>\n",
              "      <td>2018-03-12 15:59:19</td>\n",
              "      <td>404.99</td>\n",
              "      <td>404.99</td>\n",
              "      <td>NaN</td>\n",
              "      <td>NaN</td>\n",
              "      <td>NaN</td>\n",
              "      <td>NaN</td>\n",
              "      <td>NaN</td>\n",
              "      <td>NaN</td>\n",
              "      <td>NaN</td>\n",
              "      <td>NaN</td>\n",
              "      <td>NaN</td>\n",
              "    </tr>\n",
              "    <tr>\n",
              "      <th>293647</th>\n",
              "      <td>1649570</td>\n",
              "      <td>527099</td>\n",
              "      <td>0</td>\n",
              "      <td>2</td>\n",
              "      <td>CAL0010</td>\n",
              "      <td>2018-03-14 11:54:58</td>\n",
              "      <td>299.99</td>\n",
              "      <td>599.98</td>\n",
              "      <td>NaN</td>\n",
              "      <td>NaN</td>\n",
              "      <td>NaN</td>\n",
              "      <td>NaN</td>\n",
              "      <td>NaN</td>\n",
              "      <td>NaN</td>\n",
              "      <td>NaN</td>\n",
              "      <td>NaN</td>\n",
              "      <td>NaN</td>\n",
              "    </tr>\n",
              "  </tbody>\n",
              "</table>\n",
              "</div>\n",
              "      <button class=\"colab-df-convert\" onclick=\"convertToInteractive('df-c2bb2f74-77ce-421b-a2bd-58b202ff862c')\"\n",
              "              title=\"Convert this dataframe to an interactive table.\"\n",
              "              style=\"display:none;\">\n",
              "        \n",
              "  <svg xmlns=\"http://www.w3.org/2000/svg\" height=\"24px\"viewBox=\"0 0 24 24\"\n",
              "       width=\"24px\">\n",
              "    <path d=\"M0 0h24v24H0V0z\" fill=\"none\"/>\n",
              "    <path d=\"M18.56 5.44l.94 2.06.94-2.06 2.06-.94-2.06-.94-.94-2.06-.94 2.06-2.06.94zm-11 1L8.5 8.5l.94-2.06 2.06-.94-2.06-.94L8.5 2.5l-.94 2.06-2.06.94zm10 10l.94 2.06.94-2.06 2.06-.94-2.06-.94-.94-2.06-.94 2.06-2.06.94z\"/><path d=\"M17.41 7.96l-1.37-1.37c-.4-.4-.92-.59-1.43-.59-.52 0-1.04.2-1.43.59L10.3 9.45l-7.72 7.72c-.78.78-.78 2.05 0 2.83L4 21.41c.39.39.9.59 1.41.59.51 0 1.02-.2 1.41-.59l7.78-7.78 2.81-2.81c.8-.78.8-2.07 0-2.86zM5.41 20L4 18.59l7.72-7.72 1.47 1.35L5.41 20z\"/>\n",
              "  </svg>\n",
              "      </button>\n",
              "      \n",
              "  <style>\n",
              "    .colab-df-container {\n",
              "      display:flex;\n",
              "      flex-wrap:wrap;\n",
              "      gap: 12px;\n",
              "    }\n",
              "\n",
              "    .colab-df-convert {\n",
              "      background-color: #E8F0FE;\n",
              "      border: none;\n",
              "      border-radius: 50%;\n",
              "      cursor: pointer;\n",
              "      display: none;\n",
              "      fill: #1967D2;\n",
              "      height: 32px;\n",
              "      padding: 0 0 0 0;\n",
              "      width: 32px;\n",
              "    }\n",
              "\n",
              "    .colab-df-convert:hover {\n",
              "      background-color: #E2EBFA;\n",
              "      box-shadow: 0px 1px 2px rgba(60, 64, 67, 0.3), 0px 1px 3px 1px rgba(60, 64, 67, 0.15);\n",
              "      fill: #174EA6;\n",
              "    }\n",
              "\n",
              "    [theme=dark] .colab-df-convert {\n",
              "      background-color: #3B4455;\n",
              "      fill: #D2E3FC;\n",
              "    }\n",
              "\n",
              "    [theme=dark] .colab-df-convert:hover {\n",
              "      background-color: #434B5C;\n",
              "      box-shadow: 0px 1px 3px 1px rgba(0, 0, 0, 0.15);\n",
              "      filter: drop-shadow(0px 1px 2px rgba(0, 0, 0, 0.3));\n",
              "      fill: #FFFFFF;\n",
              "    }\n",
              "  </style>\n",
              "\n",
              "      <script>\n",
              "        const buttonEl =\n",
              "          document.querySelector('#df-c2bb2f74-77ce-421b-a2bd-58b202ff862c button.colab-df-convert');\n",
              "        buttonEl.style.display =\n",
              "          google.colab.kernel.accessAllowed ? 'block' : 'none';\n",
              "\n",
              "        async function convertToInteractive(key) {\n",
              "          const element = document.querySelector('#df-c2bb2f74-77ce-421b-a2bd-58b202ff862c');\n",
              "          const dataTable =\n",
              "            await google.colab.kernel.invokeFunction('convertToInteractive',\n",
              "                                                     [key], {});\n",
              "          if (!dataTable) return;\n",
              "\n",
              "          const docLinkHtml = 'Like what you see? Visit the ' +\n",
              "            '<a target=\"_blank\" href=https://colab.research.google.com/notebooks/data_table.ipynb>data table notebook</a>'\n",
              "            + ' to learn more about interactive tables.';\n",
              "          element.innerHTML = '';\n",
              "          dataTable['output_type'] = 'display_data';\n",
              "          await google.colab.output.renderOutput(dataTable, element);\n",
              "          const docLink = document.createElement('div');\n",
              "          docLink.innerHTML = docLinkHtml;\n",
              "          element.appendChild(docLink);\n",
              "        }\n",
              "      </script>\n",
              "    </div>\n",
              "  </div>\n",
              "  "
            ]
          },
          "metadata": {},
          "execution_count": 90
        }
      ]
    },
    {
      "cell_type": "code",
      "source": [
        "drop_ids = list(orderlines_in_prod[orderlines_in_prod['type'].isna()].id_order.drop_duplicates())"
      ],
      "metadata": {
        "id": "LQAzUjS9rM1i"
      },
      "execution_count": 91,
      "outputs": []
    },
    {
      "cell_type": "markdown",
      "source": [
        "Remove no corresponding `id_orders` from `orderlines`"
      ],
      "metadata": {
        "id": "Wksjc0E4wrsh"
      }
    },
    {
      "cell_type": "code",
      "source": [
        "orderlines_3sp = orderlines_2sp.set_index(\"id_order\").drop(drop_ids, axis=0).reset_index().copy()"
      ],
      "metadata": {
        "id": "H3ZYmVdZqCho"
      },
      "execution_count": 92,
      "outputs": []
    },
    {
      "cell_type": "code",
      "source": [
        "orderlines_2sp.shape, orderlines_3sp.shape"
      ],
      "metadata": {
        "colab": {
          "base_uri": "https://localhost:8080/"
        },
        "id": "6fY5E1l2vybx",
        "outputId": "8d8ad5c2-96f4-46c7-bbea-0158b57c6f4a"
      },
      "execution_count": 93,
      "outputs": [
        {
          "output_type": "execute_result",
          "data": {
            "text/plain": [
              "((293982, 8), (289668, 8))"
            ]
          },
          "metadata": {},
          "execution_count": 93
        }
      ]
    },
    {
      "cell_type": "markdown",
      "source": [
        "Remove no corresponding `order_id` from `orders`\n"
      ],
      "metadata": {
        "id": "_Vs_6EyHxYif"
      }
    },
    {
      "cell_type": "code",
      "source": [
        "# Convert drop_ids to a set for faster membership checking\n",
        "drop_ids_set = set(drop_ids)\n",
        "\n",
        "# Filter rows with existing index values\n",
        "orders_3sp_comp = orders_2sp_comp.set_index(\"order_id\").loc[lambda x: x.index.isin(drop_ids_set) == False].reset_index()\n",
        "orders_3sp_comp"
      ],
      "metadata": {
        "colab": {
          "base_uri": "https://localhost:8080/",
          "height": 424
        },
        "id": "HTZc3y5f40nU",
        "outputId": "01763c8e-52c3-4122-adc7-ff941910c464"
      },
      "execution_count": 94,
      "outputs": [
        {
          "output_type": "execute_result",
          "data": {
            "text/plain": [
              "       order_id        created_date  total_paid      state\n",
              "0        241423 2017-11-06 13:10:02      136.15  Completed\n",
              "1        242832 2017-12-31 17:40:03       15.76  Completed\n",
              "2        243330 2017-02-16 10:59:38       84.98  Completed\n",
              "3        245275 2017-06-28 11:35:37      149.00  Completed\n",
              "4        245595 2017-01-21 12:52:47      112.97  Completed\n",
              "...         ...                 ...         ...        ...\n",
              "46157    527042 2018-03-14 11:47:50       18.98  Completed\n",
              "46158    527070 2018-03-14 11:50:48       24.97  Completed\n",
              "46159    527074 2018-03-14 11:51:42       24.97  Completed\n",
              "46160    527096 2018-03-14 11:58:40       34.96  Completed\n",
              "46161    527112 2018-03-14 12:03:52       14.98  Completed\n",
              "\n",
              "[46162 rows x 4 columns]"
            ],
            "text/html": [
              "\n",
              "  <div id=\"df-0c479bf4-b6ce-4862-9865-6bb4b311a2ce\">\n",
              "    <div class=\"colab-df-container\">\n",
              "      <div>\n",
              "<style scoped>\n",
              "    .dataframe tbody tr th:only-of-type {\n",
              "        vertical-align: middle;\n",
              "    }\n",
              "\n",
              "    .dataframe tbody tr th {\n",
              "        vertical-align: top;\n",
              "    }\n",
              "\n",
              "    .dataframe thead th {\n",
              "        text-align: right;\n",
              "    }\n",
              "</style>\n",
              "<table border=\"1\" class=\"dataframe\">\n",
              "  <thead>\n",
              "    <tr style=\"text-align: right;\">\n",
              "      <th></th>\n",
              "      <th>order_id</th>\n",
              "      <th>created_date</th>\n",
              "      <th>total_paid</th>\n",
              "      <th>state</th>\n",
              "    </tr>\n",
              "  </thead>\n",
              "  <tbody>\n",
              "    <tr>\n",
              "      <th>0</th>\n",
              "      <td>241423</td>\n",
              "      <td>2017-11-06 13:10:02</td>\n",
              "      <td>136.15</td>\n",
              "      <td>Completed</td>\n",
              "    </tr>\n",
              "    <tr>\n",
              "      <th>1</th>\n",
              "      <td>242832</td>\n",
              "      <td>2017-12-31 17:40:03</td>\n",
              "      <td>15.76</td>\n",
              "      <td>Completed</td>\n",
              "    </tr>\n",
              "    <tr>\n",
              "      <th>2</th>\n",
              "      <td>243330</td>\n",
              "      <td>2017-02-16 10:59:38</td>\n",
              "      <td>84.98</td>\n",
              "      <td>Completed</td>\n",
              "    </tr>\n",
              "    <tr>\n",
              "      <th>3</th>\n",
              "      <td>245275</td>\n",
              "      <td>2017-06-28 11:35:37</td>\n",
              "      <td>149.00</td>\n",
              "      <td>Completed</td>\n",
              "    </tr>\n",
              "    <tr>\n",
              "      <th>4</th>\n",
              "      <td>245595</td>\n",
              "      <td>2017-01-21 12:52:47</td>\n",
              "      <td>112.97</td>\n",
              "      <td>Completed</td>\n",
              "    </tr>\n",
              "    <tr>\n",
              "      <th>...</th>\n",
              "      <td>...</td>\n",
              "      <td>...</td>\n",
              "      <td>...</td>\n",
              "      <td>...</td>\n",
              "    </tr>\n",
              "    <tr>\n",
              "      <th>46157</th>\n",
              "      <td>527042</td>\n",
              "      <td>2018-03-14 11:47:50</td>\n",
              "      <td>18.98</td>\n",
              "      <td>Completed</td>\n",
              "    </tr>\n",
              "    <tr>\n",
              "      <th>46158</th>\n",
              "      <td>527070</td>\n",
              "      <td>2018-03-14 11:50:48</td>\n",
              "      <td>24.97</td>\n",
              "      <td>Completed</td>\n",
              "    </tr>\n",
              "    <tr>\n",
              "      <th>46159</th>\n",
              "      <td>527074</td>\n",
              "      <td>2018-03-14 11:51:42</td>\n",
              "      <td>24.97</td>\n",
              "      <td>Completed</td>\n",
              "    </tr>\n",
              "    <tr>\n",
              "      <th>46160</th>\n",
              "      <td>527096</td>\n",
              "      <td>2018-03-14 11:58:40</td>\n",
              "      <td>34.96</td>\n",
              "      <td>Completed</td>\n",
              "    </tr>\n",
              "    <tr>\n",
              "      <th>46161</th>\n",
              "      <td>527112</td>\n",
              "      <td>2018-03-14 12:03:52</td>\n",
              "      <td>14.98</td>\n",
              "      <td>Completed</td>\n",
              "    </tr>\n",
              "  </tbody>\n",
              "</table>\n",
              "<p>46162 rows × 4 columns</p>\n",
              "</div>\n",
              "      <button class=\"colab-df-convert\" onclick=\"convertToInteractive('df-0c479bf4-b6ce-4862-9865-6bb4b311a2ce')\"\n",
              "              title=\"Convert this dataframe to an interactive table.\"\n",
              "              style=\"display:none;\">\n",
              "        \n",
              "  <svg xmlns=\"http://www.w3.org/2000/svg\" height=\"24px\"viewBox=\"0 0 24 24\"\n",
              "       width=\"24px\">\n",
              "    <path d=\"M0 0h24v24H0V0z\" fill=\"none\"/>\n",
              "    <path d=\"M18.56 5.44l.94 2.06.94-2.06 2.06-.94-2.06-.94-.94-2.06-.94 2.06-2.06.94zm-11 1L8.5 8.5l.94-2.06 2.06-.94-2.06-.94L8.5 2.5l-.94 2.06-2.06.94zm10 10l.94 2.06.94-2.06 2.06-.94-2.06-.94-.94-2.06-.94 2.06-2.06.94z\"/><path d=\"M17.41 7.96l-1.37-1.37c-.4-.4-.92-.59-1.43-.59-.52 0-1.04.2-1.43.59L10.3 9.45l-7.72 7.72c-.78.78-.78 2.05 0 2.83L4 21.41c.39.39.9.59 1.41.59.51 0 1.02-.2 1.41-.59l7.78-7.78 2.81-2.81c.8-.78.8-2.07 0-2.86zM5.41 20L4 18.59l7.72-7.72 1.47 1.35L5.41 20z\"/>\n",
              "  </svg>\n",
              "      </button>\n",
              "      \n",
              "  <style>\n",
              "    .colab-df-container {\n",
              "      display:flex;\n",
              "      flex-wrap:wrap;\n",
              "      gap: 12px;\n",
              "    }\n",
              "\n",
              "    .colab-df-convert {\n",
              "      background-color: #E8F0FE;\n",
              "      border: none;\n",
              "      border-radius: 50%;\n",
              "      cursor: pointer;\n",
              "      display: none;\n",
              "      fill: #1967D2;\n",
              "      height: 32px;\n",
              "      padding: 0 0 0 0;\n",
              "      width: 32px;\n",
              "    }\n",
              "\n",
              "    .colab-df-convert:hover {\n",
              "      background-color: #E2EBFA;\n",
              "      box-shadow: 0px 1px 2px rgba(60, 64, 67, 0.3), 0px 1px 3px 1px rgba(60, 64, 67, 0.15);\n",
              "      fill: #174EA6;\n",
              "    }\n",
              "\n",
              "    [theme=dark] .colab-df-convert {\n",
              "      background-color: #3B4455;\n",
              "      fill: #D2E3FC;\n",
              "    }\n",
              "\n",
              "    [theme=dark] .colab-df-convert:hover {\n",
              "      background-color: #434B5C;\n",
              "      box-shadow: 0px 1px 3px 1px rgba(0, 0, 0, 0.15);\n",
              "      filter: drop-shadow(0px 1px 2px rgba(0, 0, 0, 0.3));\n",
              "      fill: #FFFFFF;\n",
              "    }\n",
              "  </style>\n",
              "\n",
              "      <script>\n",
              "        const buttonEl =\n",
              "          document.querySelector('#df-0c479bf4-b6ce-4862-9865-6bb4b311a2ce button.colab-df-convert');\n",
              "        buttonEl.style.display =\n",
              "          google.colab.kernel.accessAllowed ? 'block' : 'none';\n",
              "\n",
              "        async function convertToInteractive(key) {\n",
              "          const element = document.querySelector('#df-0c479bf4-b6ce-4862-9865-6bb4b311a2ce');\n",
              "          const dataTable =\n",
              "            await google.colab.kernel.invokeFunction('convertToInteractive',\n",
              "                                                     [key], {});\n",
              "          if (!dataTable) return;\n",
              "\n",
              "          const docLinkHtml = 'Like what you see? Visit the ' +\n",
              "            '<a target=\"_blank\" href=https://colab.research.google.com/notebooks/data_table.ipynb>data table notebook</a>'\n",
              "            + ' to learn more about interactive tables.';\n",
              "          element.innerHTML = '';\n",
              "          dataTable['output_type'] = 'display_data';\n",
              "          await google.colab.output.renderOutput(dataTable, element);\n",
              "          const docLink = document.createElement('div');\n",
              "          docLink.innerHTML = docLinkHtml;\n",
              "          element.appendChild(docLink);\n",
              "        }\n",
              "      </script>\n",
              "    </div>\n",
              "  </div>\n",
              "  "
            ]
          },
          "metadata": {},
          "execution_count": 94
        }
      ]
    },
    {
      "cell_type": "markdown",
      "source": [
        "Remove the not corresponding `id_orders` from `orderlines`"
      ],
      "metadata": {
        "id": "DfuXJ3cchxky"
      }
    },
    {
      "cell_type": "code",
      "source": [
        "orderlines_4sp = orders_3sp_comp.merge(orderlines_3sp, how=\"right\", left_on='order_id', right_on=\"id_order\")\n",
        "orderlines_4sp = orderlines_4sp.dropna().drop([\"order_id\",\"created_date\",\"total_paid\",\"state\"], axis=1).copy()\n",
        "orderlines_4sp"
      ],
      "metadata": {
        "colab": {
          "base_uri": "https://localhost:8080/",
          "height": 424
        },
        "id": "r0QtfQAyiDS6",
        "outputId": "0942f737-db8e-4a89-e234-3ec77ccb4448"
      },
      "execution_count": 95,
      "outputs": [
        {
          "output_type": "execute_result",
          "data": {
            "text/plain": [
              "        id_order       id  product_id  product_quantity        sku  \\\n",
              "7         299545  1119116           0                 1    OWC0100   \n",
              "8         299546  1119119           0                 1    IOT0014   \n",
              "9         295347  1119120           0                 1    APP0700   \n",
              "11        299549  1119126           0                 1    PAC0929   \n",
              "18        299556  1119134           0                 1  CRU0039-A   \n",
              "...          ...      ...         ...               ...        ...   \n",
              "289285    525664  1649474           0                 1    TUC0207   \n",
              "289302    527070  1649512           0                 2    APP0698   \n",
              "289307    527074  1649522           0                 2    APP0698   \n",
              "289330    527096  1649565           0                 3    APP0698   \n",
              "289346    527112  1649593           0                 1    APP0698   \n",
              "\n",
              "                      date  cl_unit_price  sum_price  \n",
              "7      2017-01-01 01:46:16          47.49      47.49  \n",
              "8      2017-01-01 01:50:34          18.99      18.99  \n",
              "9      2017-01-01 01:54:11          72.19      72.19  \n",
              "11     2017-01-01 02:07:42        2565.99    2565.99  \n",
              "18     2017-01-01 02:20:14          60.90      60.90  \n",
              "...                    ...            ...        ...  \n",
              "289285 2018-03-14 11:45:05          16.52      16.52  \n",
              "289302 2018-03-14 11:49:01           9.99      19.98  \n",
              "289307 2018-03-14 11:49:36           9.99      19.98  \n",
              "289330 2018-03-14 11:54:35           9.99      29.97  \n",
              "289346 2018-03-14 11:58:13           9.99       9.99  \n",
              "\n",
              "[61269 rows x 8 columns]"
            ],
            "text/html": [
              "\n",
              "  <div id=\"df-916af5e0-9836-4494-9cdc-901a62f49384\">\n",
              "    <div class=\"colab-df-container\">\n",
              "      <div>\n",
              "<style scoped>\n",
              "    .dataframe tbody tr th:only-of-type {\n",
              "        vertical-align: middle;\n",
              "    }\n",
              "\n",
              "    .dataframe tbody tr th {\n",
              "        vertical-align: top;\n",
              "    }\n",
              "\n",
              "    .dataframe thead th {\n",
              "        text-align: right;\n",
              "    }\n",
              "</style>\n",
              "<table border=\"1\" class=\"dataframe\">\n",
              "  <thead>\n",
              "    <tr style=\"text-align: right;\">\n",
              "      <th></th>\n",
              "      <th>id_order</th>\n",
              "      <th>id</th>\n",
              "      <th>product_id</th>\n",
              "      <th>product_quantity</th>\n",
              "      <th>sku</th>\n",
              "      <th>date</th>\n",
              "      <th>cl_unit_price</th>\n",
              "      <th>sum_price</th>\n",
              "    </tr>\n",
              "  </thead>\n",
              "  <tbody>\n",
              "    <tr>\n",
              "      <th>7</th>\n",
              "      <td>299545</td>\n",
              "      <td>1119116</td>\n",
              "      <td>0</td>\n",
              "      <td>1</td>\n",
              "      <td>OWC0100</td>\n",
              "      <td>2017-01-01 01:46:16</td>\n",
              "      <td>47.49</td>\n",
              "      <td>47.49</td>\n",
              "    </tr>\n",
              "    <tr>\n",
              "      <th>8</th>\n",
              "      <td>299546</td>\n",
              "      <td>1119119</td>\n",
              "      <td>0</td>\n",
              "      <td>1</td>\n",
              "      <td>IOT0014</td>\n",
              "      <td>2017-01-01 01:50:34</td>\n",
              "      <td>18.99</td>\n",
              "      <td>18.99</td>\n",
              "    </tr>\n",
              "    <tr>\n",
              "      <th>9</th>\n",
              "      <td>295347</td>\n",
              "      <td>1119120</td>\n",
              "      <td>0</td>\n",
              "      <td>1</td>\n",
              "      <td>APP0700</td>\n",
              "      <td>2017-01-01 01:54:11</td>\n",
              "      <td>72.19</td>\n",
              "      <td>72.19</td>\n",
              "    </tr>\n",
              "    <tr>\n",
              "      <th>11</th>\n",
              "      <td>299549</td>\n",
              "      <td>1119126</td>\n",
              "      <td>0</td>\n",
              "      <td>1</td>\n",
              "      <td>PAC0929</td>\n",
              "      <td>2017-01-01 02:07:42</td>\n",
              "      <td>2565.99</td>\n",
              "      <td>2565.99</td>\n",
              "    </tr>\n",
              "    <tr>\n",
              "      <th>18</th>\n",
              "      <td>299556</td>\n",
              "      <td>1119134</td>\n",
              "      <td>0</td>\n",
              "      <td>1</td>\n",
              "      <td>CRU0039-A</td>\n",
              "      <td>2017-01-01 02:20:14</td>\n",
              "      <td>60.90</td>\n",
              "      <td>60.90</td>\n",
              "    </tr>\n",
              "    <tr>\n",
              "      <th>...</th>\n",
              "      <td>...</td>\n",
              "      <td>...</td>\n",
              "      <td>...</td>\n",
              "      <td>...</td>\n",
              "      <td>...</td>\n",
              "      <td>...</td>\n",
              "      <td>...</td>\n",
              "      <td>...</td>\n",
              "    </tr>\n",
              "    <tr>\n",
              "      <th>289285</th>\n",
              "      <td>525664</td>\n",
              "      <td>1649474</td>\n",
              "      <td>0</td>\n",
              "      <td>1</td>\n",
              "      <td>TUC0207</td>\n",
              "      <td>2018-03-14 11:45:05</td>\n",
              "      <td>16.52</td>\n",
              "      <td>16.52</td>\n",
              "    </tr>\n",
              "    <tr>\n",
              "      <th>289302</th>\n",
              "      <td>527070</td>\n",
              "      <td>1649512</td>\n",
              "      <td>0</td>\n",
              "      <td>2</td>\n",
              "      <td>APP0698</td>\n",
              "      <td>2018-03-14 11:49:01</td>\n",
              "      <td>9.99</td>\n",
              "      <td>19.98</td>\n",
              "    </tr>\n",
              "    <tr>\n",
              "      <th>289307</th>\n",
              "      <td>527074</td>\n",
              "      <td>1649522</td>\n",
              "      <td>0</td>\n",
              "      <td>2</td>\n",
              "      <td>APP0698</td>\n",
              "      <td>2018-03-14 11:49:36</td>\n",
              "      <td>9.99</td>\n",
              "      <td>19.98</td>\n",
              "    </tr>\n",
              "    <tr>\n",
              "      <th>289330</th>\n",
              "      <td>527096</td>\n",
              "      <td>1649565</td>\n",
              "      <td>0</td>\n",
              "      <td>3</td>\n",
              "      <td>APP0698</td>\n",
              "      <td>2018-03-14 11:54:35</td>\n",
              "      <td>9.99</td>\n",
              "      <td>29.97</td>\n",
              "    </tr>\n",
              "    <tr>\n",
              "      <th>289346</th>\n",
              "      <td>527112</td>\n",
              "      <td>1649593</td>\n",
              "      <td>0</td>\n",
              "      <td>1</td>\n",
              "      <td>APP0698</td>\n",
              "      <td>2018-03-14 11:58:13</td>\n",
              "      <td>9.99</td>\n",
              "      <td>9.99</td>\n",
              "    </tr>\n",
              "  </tbody>\n",
              "</table>\n",
              "<p>61269 rows × 8 columns</p>\n",
              "</div>\n",
              "      <button class=\"colab-df-convert\" onclick=\"convertToInteractive('df-916af5e0-9836-4494-9cdc-901a62f49384')\"\n",
              "              title=\"Convert this dataframe to an interactive table.\"\n",
              "              style=\"display:none;\">\n",
              "        \n",
              "  <svg xmlns=\"http://www.w3.org/2000/svg\" height=\"24px\"viewBox=\"0 0 24 24\"\n",
              "       width=\"24px\">\n",
              "    <path d=\"M0 0h24v24H0V0z\" fill=\"none\"/>\n",
              "    <path d=\"M18.56 5.44l.94 2.06.94-2.06 2.06-.94-2.06-.94-.94-2.06-.94 2.06-2.06.94zm-11 1L8.5 8.5l.94-2.06 2.06-.94-2.06-.94L8.5 2.5l-.94 2.06-2.06.94zm10 10l.94 2.06.94-2.06 2.06-.94-2.06-.94-.94-2.06-.94 2.06-2.06.94z\"/><path d=\"M17.41 7.96l-1.37-1.37c-.4-.4-.92-.59-1.43-.59-.52 0-1.04.2-1.43.59L10.3 9.45l-7.72 7.72c-.78.78-.78 2.05 0 2.83L4 21.41c.39.39.9.59 1.41.59.51 0 1.02-.2 1.41-.59l7.78-7.78 2.81-2.81c.8-.78.8-2.07 0-2.86zM5.41 20L4 18.59l7.72-7.72 1.47 1.35L5.41 20z\"/>\n",
              "  </svg>\n",
              "      </button>\n",
              "      \n",
              "  <style>\n",
              "    .colab-df-container {\n",
              "      display:flex;\n",
              "      flex-wrap:wrap;\n",
              "      gap: 12px;\n",
              "    }\n",
              "\n",
              "    .colab-df-convert {\n",
              "      background-color: #E8F0FE;\n",
              "      border: none;\n",
              "      border-radius: 50%;\n",
              "      cursor: pointer;\n",
              "      display: none;\n",
              "      fill: #1967D2;\n",
              "      height: 32px;\n",
              "      padding: 0 0 0 0;\n",
              "      width: 32px;\n",
              "    }\n",
              "\n",
              "    .colab-df-convert:hover {\n",
              "      background-color: #E2EBFA;\n",
              "      box-shadow: 0px 1px 2px rgba(60, 64, 67, 0.3), 0px 1px 3px 1px rgba(60, 64, 67, 0.15);\n",
              "      fill: #174EA6;\n",
              "    }\n",
              "\n",
              "    [theme=dark] .colab-df-convert {\n",
              "      background-color: #3B4455;\n",
              "      fill: #D2E3FC;\n",
              "    }\n",
              "\n",
              "    [theme=dark] .colab-df-convert:hover {\n",
              "      background-color: #434B5C;\n",
              "      box-shadow: 0px 1px 3px 1px rgba(0, 0, 0, 0.15);\n",
              "      filter: drop-shadow(0px 1px 2px rgba(0, 0, 0, 0.3));\n",
              "      fill: #FFFFFF;\n",
              "    }\n",
              "  </style>\n",
              "\n",
              "      <script>\n",
              "        const buttonEl =\n",
              "          document.querySelector('#df-916af5e0-9836-4494-9cdc-901a62f49384 button.colab-df-convert');\n",
              "        buttonEl.style.display =\n",
              "          google.colab.kernel.accessAllowed ? 'block' : 'none';\n",
              "\n",
              "        async function convertToInteractive(key) {\n",
              "          const element = document.querySelector('#df-916af5e0-9836-4494-9cdc-901a62f49384');\n",
              "          const dataTable =\n",
              "            await google.colab.kernel.invokeFunction('convertToInteractive',\n",
              "                                                     [key], {});\n",
              "          if (!dataTable) return;\n",
              "\n",
              "          const docLinkHtml = 'Like what you see? Visit the ' +\n",
              "            '<a target=\"_blank\" href=https://colab.research.google.com/notebooks/data_table.ipynb>data table notebook</a>'\n",
              "            + ' to learn more about interactive tables.';\n",
              "          element.innerHTML = '';\n",
              "          dataTable['output_type'] = 'display_data';\n",
              "          await google.colab.output.renderOutput(dataTable, element);\n",
              "          const docLink = document.createElement('div');\n",
              "          docLink.innerHTML = docLinkHtml;\n",
              "          element.appendChild(docLink);\n",
              "        }\n",
              "      </script>\n",
              "    </div>\n",
              "  </div>\n",
              "  "
            ]
          },
          "metadata": {},
          "execution_count": 95
        }
      ]
    },
    {
      "cell_type": "code",
      "source": [
        "orderlines_4sp"
      ],
      "metadata": {
        "colab": {
          "base_uri": "https://localhost:8080/",
          "height": 424
        },
        "id": "jVQ5V2FbjRZU",
        "outputId": "8d89299f-ddcc-4a70-bb90-1f81267999af"
      },
      "execution_count": 96,
      "outputs": [
        {
          "output_type": "execute_result",
          "data": {
            "text/plain": [
              "        id_order       id  product_id  product_quantity        sku  \\\n",
              "7         299545  1119116           0                 1    OWC0100   \n",
              "8         299546  1119119           0                 1    IOT0014   \n",
              "9         295347  1119120           0                 1    APP0700   \n",
              "11        299549  1119126           0                 1    PAC0929   \n",
              "18        299556  1119134           0                 1  CRU0039-A   \n",
              "...          ...      ...         ...               ...        ...   \n",
              "289285    525664  1649474           0                 1    TUC0207   \n",
              "289302    527070  1649512           0                 2    APP0698   \n",
              "289307    527074  1649522           0                 2    APP0698   \n",
              "289330    527096  1649565           0                 3    APP0698   \n",
              "289346    527112  1649593           0                 1    APP0698   \n",
              "\n",
              "                      date  cl_unit_price  sum_price  \n",
              "7      2017-01-01 01:46:16          47.49      47.49  \n",
              "8      2017-01-01 01:50:34          18.99      18.99  \n",
              "9      2017-01-01 01:54:11          72.19      72.19  \n",
              "11     2017-01-01 02:07:42        2565.99    2565.99  \n",
              "18     2017-01-01 02:20:14          60.90      60.90  \n",
              "...                    ...            ...        ...  \n",
              "289285 2018-03-14 11:45:05          16.52      16.52  \n",
              "289302 2018-03-14 11:49:01           9.99      19.98  \n",
              "289307 2018-03-14 11:49:36           9.99      19.98  \n",
              "289330 2018-03-14 11:54:35           9.99      29.97  \n",
              "289346 2018-03-14 11:58:13           9.99       9.99  \n",
              "\n",
              "[61269 rows x 8 columns]"
            ],
            "text/html": [
              "\n",
              "  <div id=\"df-0efb71fd-ad4c-472c-a61f-36307f497b8d\">\n",
              "    <div class=\"colab-df-container\">\n",
              "      <div>\n",
              "<style scoped>\n",
              "    .dataframe tbody tr th:only-of-type {\n",
              "        vertical-align: middle;\n",
              "    }\n",
              "\n",
              "    .dataframe tbody tr th {\n",
              "        vertical-align: top;\n",
              "    }\n",
              "\n",
              "    .dataframe thead th {\n",
              "        text-align: right;\n",
              "    }\n",
              "</style>\n",
              "<table border=\"1\" class=\"dataframe\">\n",
              "  <thead>\n",
              "    <tr style=\"text-align: right;\">\n",
              "      <th></th>\n",
              "      <th>id_order</th>\n",
              "      <th>id</th>\n",
              "      <th>product_id</th>\n",
              "      <th>product_quantity</th>\n",
              "      <th>sku</th>\n",
              "      <th>date</th>\n",
              "      <th>cl_unit_price</th>\n",
              "      <th>sum_price</th>\n",
              "    </tr>\n",
              "  </thead>\n",
              "  <tbody>\n",
              "    <tr>\n",
              "      <th>7</th>\n",
              "      <td>299545</td>\n",
              "      <td>1119116</td>\n",
              "      <td>0</td>\n",
              "      <td>1</td>\n",
              "      <td>OWC0100</td>\n",
              "      <td>2017-01-01 01:46:16</td>\n",
              "      <td>47.49</td>\n",
              "      <td>47.49</td>\n",
              "    </tr>\n",
              "    <tr>\n",
              "      <th>8</th>\n",
              "      <td>299546</td>\n",
              "      <td>1119119</td>\n",
              "      <td>0</td>\n",
              "      <td>1</td>\n",
              "      <td>IOT0014</td>\n",
              "      <td>2017-01-01 01:50:34</td>\n",
              "      <td>18.99</td>\n",
              "      <td>18.99</td>\n",
              "    </tr>\n",
              "    <tr>\n",
              "      <th>9</th>\n",
              "      <td>295347</td>\n",
              "      <td>1119120</td>\n",
              "      <td>0</td>\n",
              "      <td>1</td>\n",
              "      <td>APP0700</td>\n",
              "      <td>2017-01-01 01:54:11</td>\n",
              "      <td>72.19</td>\n",
              "      <td>72.19</td>\n",
              "    </tr>\n",
              "    <tr>\n",
              "      <th>11</th>\n",
              "      <td>299549</td>\n",
              "      <td>1119126</td>\n",
              "      <td>0</td>\n",
              "      <td>1</td>\n",
              "      <td>PAC0929</td>\n",
              "      <td>2017-01-01 02:07:42</td>\n",
              "      <td>2565.99</td>\n",
              "      <td>2565.99</td>\n",
              "    </tr>\n",
              "    <tr>\n",
              "      <th>18</th>\n",
              "      <td>299556</td>\n",
              "      <td>1119134</td>\n",
              "      <td>0</td>\n",
              "      <td>1</td>\n",
              "      <td>CRU0039-A</td>\n",
              "      <td>2017-01-01 02:20:14</td>\n",
              "      <td>60.90</td>\n",
              "      <td>60.90</td>\n",
              "    </tr>\n",
              "    <tr>\n",
              "      <th>...</th>\n",
              "      <td>...</td>\n",
              "      <td>...</td>\n",
              "      <td>...</td>\n",
              "      <td>...</td>\n",
              "      <td>...</td>\n",
              "      <td>...</td>\n",
              "      <td>...</td>\n",
              "      <td>...</td>\n",
              "    </tr>\n",
              "    <tr>\n",
              "      <th>289285</th>\n",
              "      <td>525664</td>\n",
              "      <td>1649474</td>\n",
              "      <td>0</td>\n",
              "      <td>1</td>\n",
              "      <td>TUC0207</td>\n",
              "      <td>2018-03-14 11:45:05</td>\n",
              "      <td>16.52</td>\n",
              "      <td>16.52</td>\n",
              "    </tr>\n",
              "    <tr>\n",
              "      <th>289302</th>\n",
              "      <td>527070</td>\n",
              "      <td>1649512</td>\n",
              "      <td>0</td>\n",
              "      <td>2</td>\n",
              "      <td>APP0698</td>\n",
              "      <td>2018-03-14 11:49:01</td>\n",
              "      <td>9.99</td>\n",
              "      <td>19.98</td>\n",
              "    </tr>\n",
              "    <tr>\n",
              "      <th>289307</th>\n",
              "      <td>527074</td>\n",
              "      <td>1649522</td>\n",
              "      <td>0</td>\n",
              "      <td>2</td>\n",
              "      <td>APP0698</td>\n",
              "      <td>2018-03-14 11:49:36</td>\n",
              "      <td>9.99</td>\n",
              "      <td>19.98</td>\n",
              "    </tr>\n",
              "    <tr>\n",
              "      <th>289330</th>\n",
              "      <td>527096</td>\n",
              "      <td>1649565</td>\n",
              "      <td>0</td>\n",
              "      <td>3</td>\n",
              "      <td>APP0698</td>\n",
              "      <td>2018-03-14 11:54:35</td>\n",
              "      <td>9.99</td>\n",
              "      <td>29.97</td>\n",
              "    </tr>\n",
              "    <tr>\n",
              "      <th>289346</th>\n",
              "      <td>527112</td>\n",
              "      <td>1649593</td>\n",
              "      <td>0</td>\n",
              "      <td>1</td>\n",
              "      <td>APP0698</td>\n",
              "      <td>2018-03-14 11:58:13</td>\n",
              "      <td>9.99</td>\n",
              "      <td>9.99</td>\n",
              "    </tr>\n",
              "  </tbody>\n",
              "</table>\n",
              "<p>61269 rows × 8 columns</p>\n",
              "</div>\n",
              "      <button class=\"colab-df-convert\" onclick=\"convertToInteractive('df-0efb71fd-ad4c-472c-a61f-36307f497b8d')\"\n",
              "              title=\"Convert this dataframe to an interactive table.\"\n",
              "              style=\"display:none;\">\n",
              "        \n",
              "  <svg xmlns=\"http://www.w3.org/2000/svg\" height=\"24px\"viewBox=\"0 0 24 24\"\n",
              "       width=\"24px\">\n",
              "    <path d=\"M0 0h24v24H0V0z\" fill=\"none\"/>\n",
              "    <path d=\"M18.56 5.44l.94 2.06.94-2.06 2.06-.94-2.06-.94-.94-2.06-.94 2.06-2.06.94zm-11 1L8.5 8.5l.94-2.06 2.06-.94-2.06-.94L8.5 2.5l-.94 2.06-2.06.94zm10 10l.94 2.06.94-2.06 2.06-.94-2.06-.94-.94-2.06-.94 2.06-2.06.94z\"/><path d=\"M17.41 7.96l-1.37-1.37c-.4-.4-.92-.59-1.43-.59-.52 0-1.04.2-1.43.59L10.3 9.45l-7.72 7.72c-.78.78-.78 2.05 0 2.83L4 21.41c.39.39.9.59 1.41.59.51 0 1.02-.2 1.41-.59l7.78-7.78 2.81-2.81c.8-.78.8-2.07 0-2.86zM5.41 20L4 18.59l7.72-7.72 1.47 1.35L5.41 20z\"/>\n",
              "  </svg>\n",
              "      </button>\n",
              "      \n",
              "  <style>\n",
              "    .colab-df-container {\n",
              "      display:flex;\n",
              "      flex-wrap:wrap;\n",
              "      gap: 12px;\n",
              "    }\n",
              "\n",
              "    .colab-df-convert {\n",
              "      background-color: #E8F0FE;\n",
              "      border: none;\n",
              "      border-radius: 50%;\n",
              "      cursor: pointer;\n",
              "      display: none;\n",
              "      fill: #1967D2;\n",
              "      height: 32px;\n",
              "      padding: 0 0 0 0;\n",
              "      width: 32px;\n",
              "    }\n",
              "\n",
              "    .colab-df-convert:hover {\n",
              "      background-color: #E2EBFA;\n",
              "      box-shadow: 0px 1px 2px rgba(60, 64, 67, 0.3), 0px 1px 3px 1px rgba(60, 64, 67, 0.15);\n",
              "      fill: #174EA6;\n",
              "    }\n",
              "\n",
              "    [theme=dark] .colab-df-convert {\n",
              "      background-color: #3B4455;\n",
              "      fill: #D2E3FC;\n",
              "    }\n",
              "\n",
              "    [theme=dark] .colab-df-convert:hover {\n",
              "      background-color: #434B5C;\n",
              "      box-shadow: 0px 1px 3px 1px rgba(0, 0, 0, 0.15);\n",
              "      filter: drop-shadow(0px 1px 2px rgba(0, 0, 0, 0.3));\n",
              "      fill: #FFFFFF;\n",
              "    }\n",
              "  </style>\n",
              "\n",
              "      <script>\n",
              "        const buttonEl =\n",
              "          document.querySelector('#df-0efb71fd-ad4c-472c-a61f-36307f497b8d button.colab-df-convert');\n",
              "        buttonEl.style.display =\n",
              "          google.colab.kernel.accessAllowed ? 'block' : 'none';\n",
              "\n",
              "        async function convertToInteractive(key) {\n",
              "          const element = document.querySelector('#df-0efb71fd-ad4c-472c-a61f-36307f497b8d');\n",
              "          const dataTable =\n",
              "            await google.colab.kernel.invokeFunction('convertToInteractive',\n",
              "                                                     [key], {});\n",
              "          if (!dataTable) return;\n",
              "\n",
              "          const docLinkHtml = 'Like what you see? Visit the ' +\n",
              "            '<a target=\"_blank\" href=https://colab.research.google.com/notebooks/data_table.ipynb>data table notebook</a>'\n",
              "            + ' to learn more about interactive tables.';\n",
              "          element.innerHTML = '';\n",
              "          dataTable['output_type'] = 'display_data';\n",
              "          await google.colab.output.renderOutput(dataTable, element);\n",
              "          const docLink = document.createElement('div');\n",
              "          docLink.innerHTML = docLinkHtml;\n",
              "          element.appendChild(docLink);\n",
              "        }\n",
              "      </script>\n",
              "    </div>\n",
              "  </div>\n",
              "  "
            ]
          },
          "metadata": {},
          "execution_count": 96
        }
      ]
    },
    {
      "cell_type": "markdown",
      "source": [
        "### Status\n",
        "\n",
        "Last Version: `orderlines_4sp` and `orders_3sp_comp`"
      ],
      "metadata": {
        "id": "68ngGM8OkXpg"
      }
    },
    {
      "cell_type": "markdown",
      "source": [
        "# Big table"
      ],
      "metadata": {
        "id": "j65CLX7lUGox"
      }
    },
    {
      "cell_type": "code",
      "source": [
        "all_commbine = (\n",
        "orders_3sp_comp\n",
        " .merge(\n",
        "    orderlines_1sp, \n",
        "    how = \"inner\", \n",
        "    left_on =\"order_id\", \n",
        "    right_on =\"id_order\")\n",
        " .merge(\n",
        "    products_3sp, \n",
        "    how = \"inner\",\n",
        "    left_on = \"sku\",\n",
        "    right_on = \"sku\")\n",
        " .copy()\n",
        ")"
      ],
      "metadata": {
        "id": "OV9w7T4v_ViY"
      },
      "execution_count": 97,
      "outputs": []
    },
    {
      "cell_type": "code",
      "source": [
        "(\n",
        "all_commbine[(all_commbine.product_quantity == 1)\n",
        "           & (all_commbine.state == \"Completed\")\n",
        "           & (all_commbine.total_paid > 100) \n",
        "           & (all_commbine.total_paid < 100000) ]\n",
        "            [[\"total_paid\", \n",
        "              'product_quantity',\n",
        "              'cl_unit_price',\n",
        "              'cl_price']]\n",
        "              .sort_values(by=\"total_paid\")\n",
        "              .drop_duplicates()\n",
        ").sample(10)"
      ],
      "metadata": {
        "id": "udpQGlhDJxAQ",
        "colab": {
          "base_uri": "https://localhost:8080/",
          "height": 363
        },
        "outputId": "e2670e5b-a004-4616-ebcf-bb168f39f170"
      },
      "execution_count": 98,
      "outputs": [
        {
          "output_type": "execute_result",
          "data": {
            "text/plain": [
              "       total_paid  product_quantity  cl_unit_price  cl_price\n",
              "31127      233.98                 1         228.99    444.00\n",
              "50911      931.99                 1         931.99    976.80\n",
              "47324     3690.58                 1        3525.59   4639.00\n",
              "27335      143.45                 1          19.47     29.90\n",
              "41945      403.47                 1          66.49     69.99\n",
              "43759     2843.57                 1          94.99     99.95\n",
              "56850     1069.64                 1         703.07    756.25\n",
              "31162      246.17                 1          27.19     34.99\n",
              "33387     1486.56                 1         225.00    239.00\n",
              "41171      338.43                 1         297.79    419.00"
            ],
            "text/html": [
              "\n",
              "  <div id=\"df-82d1583e-cbf5-495d-b078-416c73d86a96\">\n",
              "    <div class=\"colab-df-container\">\n",
              "      <div>\n",
              "<style scoped>\n",
              "    .dataframe tbody tr th:only-of-type {\n",
              "        vertical-align: middle;\n",
              "    }\n",
              "\n",
              "    .dataframe tbody tr th {\n",
              "        vertical-align: top;\n",
              "    }\n",
              "\n",
              "    .dataframe thead th {\n",
              "        text-align: right;\n",
              "    }\n",
              "</style>\n",
              "<table border=\"1\" class=\"dataframe\">\n",
              "  <thead>\n",
              "    <tr style=\"text-align: right;\">\n",
              "      <th></th>\n",
              "      <th>total_paid</th>\n",
              "      <th>product_quantity</th>\n",
              "      <th>cl_unit_price</th>\n",
              "      <th>cl_price</th>\n",
              "    </tr>\n",
              "  </thead>\n",
              "  <tbody>\n",
              "    <tr>\n",
              "      <th>31127</th>\n",
              "      <td>233.98</td>\n",
              "      <td>1</td>\n",
              "      <td>228.99</td>\n",
              "      <td>444.00</td>\n",
              "    </tr>\n",
              "    <tr>\n",
              "      <th>50911</th>\n",
              "      <td>931.99</td>\n",
              "      <td>1</td>\n",
              "      <td>931.99</td>\n",
              "      <td>976.80</td>\n",
              "    </tr>\n",
              "    <tr>\n",
              "      <th>47324</th>\n",
              "      <td>3690.58</td>\n",
              "      <td>1</td>\n",
              "      <td>3525.59</td>\n",
              "      <td>4639.00</td>\n",
              "    </tr>\n",
              "    <tr>\n",
              "      <th>27335</th>\n",
              "      <td>143.45</td>\n",
              "      <td>1</td>\n",
              "      <td>19.47</td>\n",
              "      <td>29.90</td>\n",
              "    </tr>\n",
              "    <tr>\n",
              "      <th>41945</th>\n",
              "      <td>403.47</td>\n",
              "      <td>1</td>\n",
              "      <td>66.49</td>\n",
              "      <td>69.99</td>\n",
              "    </tr>\n",
              "    <tr>\n",
              "      <th>43759</th>\n",
              "      <td>2843.57</td>\n",
              "      <td>1</td>\n",
              "      <td>94.99</td>\n",
              "      <td>99.95</td>\n",
              "    </tr>\n",
              "    <tr>\n",
              "      <th>56850</th>\n",
              "      <td>1069.64</td>\n",
              "      <td>1</td>\n",
              "      <td>703.07</td>\n",
              "      <td>756.25</td>\n",
              "    </tr>\n",
              "    <tr>\n",
              "      <th>31162</th>\n",
              "      <td>246.17</td>\n",
              "      <td>1</td>\n",
              "      <td>27.19</td>\n",
              "      <td>34.99</td>\n",
              "    </tr>\n",
              "    <tr>\n",
              "      <th>33387</th>\n",
              "      <td>1486.56</td>\n",
              "      <td>1</td>\n",
              "      <td>225.00</td>\n",
              "      <td>239.00</td>\n",
              "    </tr>\n",
              "    <tr>\n",
              "      <th>41171</th>\n",
              "      <td>338.43</td>\n",
              "      <td>1</td>\n",
              "      <td>297.79</td>\n",
              "      <td>419.00</td>\n",
              "    </tr>\n",
              "  </tbody>\n",
              "</table>\n",
              "</div>\n",
              "      <button class=\"colab-df-convert\" onclick=\"convertToInteractive('df-82d1583e-cbf5-495d-b078-416c73d86a96')\"\n",
              "              title=\"Convert this dataframe to an interactive table.\"\n",
              "              style=\"display:none;\">\n",
              "        \n",
              "  <svg xmlns=\"http://www.w3.org/2000/svg\" height=\"24px\"viewBox=\"0 0 24 24\"\n",
              "       width=\"24px\">\n",
              "    <path d=\"M0 0h24v24H0V0z\" fill=\"none\"/>\n",
              "    <path d=\"M18.56 5.44l.94 2.06.94-2.06 2.06-.94-2.06-.94-.94-2.06-.94 2.06-2.06.94zm-11 1L8.5 8.5l.94-2.06 2.06-.94-2.06-.94L8.5 2.5l-.94 2.06-2.06.94zm10 10l.94 2.06.94-2.06 2.06-.94-2.06-.94-.94-2.06-.94 2.06-2.06.94z\"/><path d=\"M17.41 7.96l-1.37-1.37c-.4-.4-.92-.59-1.43-.59-.52 0-1.04.2-1.43.59L10.3 9.45l-7.72 7.72c-.78.78-.78 2.05 0 2.83L4 21.41c.39.39.9.59 1.41.59.51 0 1.02-.2 1.41-.59l7.78-7.78 2.81-2.81c.8-.78.8-2.07 0-2.86zM5.41 20L4 18.59l7.72-7.72 1.47 1.35L5.41 20z\"/>\n",
              "  </svg>\n",
              "      </button>\n",
              "      \n",
              "  <style>\n",
              "    .colab-df-container {\n",
              "      display:flex;\n",
              "      flex-wrap:wrap;\n",
              "      gap: 12px;\n",
              "    }\n",
              "\n",
              "    .colab-df-convert {\n",
              "      background-color: #E8F0FE;\n",
              "      border: none;\n",
              "      border-radius: 50%;\n",
              "      cursor: pointer;\n",
              "      display: none;\n",
              "      fill: #1967D2;\n",
              "      height: 32px;\n",
              "      padding: 0 0 0 0;\n",
              "      width: 32px;\n",
              "    }\n",
              "\n",
              "    .colab-df-convert:hover {\n",
              "      background-color: #E2EBFA;\n",
              "      box-shadow: 0px 1px 2px rgba(60, 64, 67, 0.3), 0px 1px 3px 1px rgba(60, 64, 67, 0.15);\n",
              "      fill: #174EA6;\n",
              "    }\n",
              "\n",
              "    [theme=dark] .colab-df-convert {\n",
              "      background-color: #3B4455;\n",
              "      fill: #D2E3FC;\n",
              "    }\n",
              "\n",
              "    [theme=dark] .colab-df-convert:hover {\n",
              "      background-color: #434B5C;\n",
              "      box-shadow: 0px 1px 3px 1px rgba(0, 0, 0, 0.15);\n",
              "      filter: drop-shadow(0px 1px 2px rgba(0, 0, 0, 0.3));\n",
              "      fill: #FFFFFF;\n",
              "    }\n",
              "  </style>\n",
              "\n",
              "      <script>\n",
              "        const buttonEl =\n",
              "          document.querySelector('#df-82d1583e-cbf5-495d-b078-416c73d86a96 button.colab-df-convert');\n",
              "        buttonEl.style.display =\n",
              "          google.colab.kernel.accessAllowed ? 'block' : 'none';\n",
              "\n",
              "        async function convertToInteractive(key) {\n",
              "          const element = document.querySelector('#df-82d1583e-cbf5-495d-b078-416c73d86a96');\n",
              "          const dataTable =\n",
              "            await google.colab.kernel.invokeFunction('convertToInteractive',\n",
              "                                                     [key], {});\n",
              "          if (!dataTable) return;\n",
              "\n",
              "          const docLinkHtml = 'Like what you see? Visit the ' +\n",
              "            '<a target=\"_blank\" href=https://colab.research.google.com/notebooks/data_table.ipynb>data table notebook</a>'\n",
              "            + ' to learn more about interactive tables.';\n",
              "          element.innerHTML = '';\n",
              "          dataTable['output_type'] = 'display_data';\n",
              "          await google.colab.output.renderOutput(dataTable, element);\n",
              "          const docLink = document.createElement('div');\n",
              "          docLink.innerHTML = docLinkHtml;\n",
              "          element.appendChild(docLink);\n",
              "        }\n",
              "      </script>\n",
              "    </div>\n",
              "  </div>\n",
              "  "
            ]
          },
          "metadata": {},
          "execution_count": 98
        }
      ]
    },
    {
      "cell_type": "markdown",
      "source": [
        "# Save tables"
      ],
      "metadata": {
        "id": "GCVIQkGA6RdT"
      }
    },
    {
      "cell_type": "code",
      "source": [
        "from google.colab import files\n",
        "\n",
        "orders_1sp.to_csv(\"orders_cl.csv\", index=False)\n",
        "files.download('orders_cl.csv')\n",
        "\n",
        "orders_3sp_comp.to_csv(\"orders_fl.csv\", index=False)\n",
        "files.download(\"orders_fl.csv\")"
      ],
      "metadata": {
        "colab": {
          "base_uri": "https://localhost:8080/",
          "height": 17
        },
        "id": "FGCYeebK7dnW",
        "outputId": "dc58b827-9aa0-434f-85c0-e922acbb6f69"
      },
      "execution_count": 99,
      "outputs": [
        {
          "output_type": "display_data",
          "data": {
            "text/plain": [
              "<IPython.core.display.Javascript object>"
            ],
            "application/javascript": [
              "\n",
              "    async function download(id, filename, size) {\n",
              "      if (!google.colab.kernel.accessAllowed) {\n",
              "        return;\n",
              "      }\n",
              "      const div = document.createElement('div');\n",
              "      const label = document.createElement('label');\n",
              "      label.textContent = `Downloading \"${filename}\": `;\n",
              "      div.appendChild(label);\n",
              "      const progress = document.createElement('progress');\n",
              "      progress.max = size;\n",
              "      div.appendChild(progress);\n",
              "      document.body.appendChild(div);\n",
              "\n",
              "      const buffers = [];\n",
              "      let downloaded = 0;\n",
              "\n",
              "      const channel = await google.colab.kernel.comms.open(id);\n",
              "      // Send a message to notify the kernel that we're ready.\n",
              "      channel.send({})\n",
              "\n",
              "      for await (const message of channel.messages) {\n",
              "        // Send a message to notify the kernel that we're ready.\n",
              "        channel.send({})\n",
              "        if (message.buffers) {\n",
              "          for (const buffer of message.buffers) {\n",
              "            buffers.push(buffer);\n",
              "            downloaded += buffer.byteLength;\n",
              "            progress.value = downloaded;\n",
              "          }\n",
              "        }\n",
              "      }\n",
              "      const blob = new Blob(buffers, {type: 'application/binary'});\n",
              "      const a = document.createElement('a');\n",
              "      a.href = window.URL.createObjectURL(blob);\n",
              "      a.download = filename;\n",
              "      div.appendChild(a);\n",
              "      a.click();\n",
              "      div.remove();\n",
              "    }\n",
              "  "
            ]
          },
          "metadata": {}
        },
        {
          "output_type": "display_data",
          "data": {
            "text/plain": [
              "<IPython.core.display.Javascript object>"
            ],
            "application/javascript": [
              "download(\"download_0e3435ef-cb1c-484d-b0ed-fbbf263b5d13\", \"orders_cl.csv\", 10596923)"
            ]
          },
          "metadata": {}
        },
        {
          "output_type": "display_data",
          "data": {
            "text/plain": [
              "<IPython.core.display.Javascript object>"
            ],
            "application/javascript": [
              "\n",
              "    async function download(id, filename, size) {\n",
              "      if (!google.colab.kernel.accessAllowed) {\n",
              "        return;\n",
              "      }\n",
              "      const div = document.createElement('div');\n",
              "      const label = document.createElement('label');\n",
              "      label.textContent = `Downloading \"${filename}\": `;\n",
              "      div.appendChild(label);\n",
              "      const progress = document.createElement('progress');\n",
              "      progress.max = size;\n",
              "      div.appendChild(progress);\n",
              "      document.body.appendChild(div);\n",
              "\n",
              "      const buffers = [];\n",
              "      let downloaded = 0;\n",
              "\n",
              "      const channel = await google.colab.kernel.comms.open(id);\n",
              "      // Send a message to notify the kernel that we're ready.\n",
              "      channel.send({})\n",
              "\n",
              "      for await (const message of channel.messages) {\n",
              "        // Send a message to notify the kernel that we're ready.\n",
              "        channel.send({})\n",
              "        if (message.buffers) {\n",
              "          for (const buffer of message.buffers) {\n",
              "            buffers.push(buffer);\n",
              "            downloaded += buffer.byteLength;\n",
              "            progress.value = downloaded;\n",
              "          }\n",
              "        }\n",
              "      }\n",
              "      const blob = new Blob(buffers, {type: 'application/binary'});\n",
              "      const a = document.createElement('a');\n",
              "      a.href = window.URL.createObjectURL(blob);\n",
              "      a.download = filename;\n",
              "      div.appendChild(a);\n",
              "      a.click();\n",
              "      div.remove();\n",
              "    }\n",
              "  "
            ]
          },
          "metadata": {}
        },
        {
          "output_type": "display_data",
          "data": {
            "text/plain": [
              "<IPython.core.display.Javascript object>"
            ],
            "application/javascript": [
              "download(\"download_deb890ed-9f9a-45c7-8ca4-e45cf2e55bd3\", \"orders_fl.csv\", 2009840)"
            ]
          },
          "metadata": {}
        }
      ]
    },
    {
      "cell_type": "code",
      "source": [
        "orderlines_4sp.to_csv(\"orderslines_fl.csv\", index=False)\n",
        "files.download(\"orderslines_fl.csv\")\n",
        "\n",
        "orderlines_2sp.to_csv(\"orderslines_cl.csv\", index=False)\n",
        "files.download(\"orderslines_cl.csv\")"
      ],
      "metadata": {
        "colab": {
          "base_uri": "https://localhost:8080/",
          "height": 17
        },
        "id": "UIfx2UWX8IGz",
        "outputId": "e3796dc8-46cc-416c-e5fb-8513e896c69c"
      },
      "execution_count": 100,
      "outputs": [
        {
          "output_type": "display_data",
          "data": {
            "text/plain": [
              "<IPython.core.display.Javascript object>"
            ],
            "application/javascript": [
              "\n",
              "    async function download(id, filename, size) {\n",
              "      if (!google.colab.kernel.accessAllowed) {\n",
              "        return;\n",
              "      }\n",
              "      const div = document.createElement('div');\n",
              "      const label = document.createElement('label');\n",
              "      label.textContent = `Downloading \"${filename}\": `;\n",
              "      div.appendChild(label);\n",
              "      const progress = document.createElement('progress');\n",
              "      progress.max = size;\n",
              "      div.appendChild(progress);\n",
              "      document.body.appendChild(div);\n",
              "\n",
              "      const buffers = [];\n",
              "      let downloaded = 0;\n",
              "\n",
              "      const channel = await google.colab.kernel.comms.open(id);\n",
              "      // Send a message to notify the kernel that we're ready.\n",
              "      channel.send({})\n",
              "\n",
              "      for await (const message of channel.messages) {\n",
              "        // Send a message to notify the kernel that we're ready.\n",
              "        channel.send({})\n",
              "        if (message.buffers) {\n",
              "          for (const buffer of message.buffers) {\n",
              "            buffers.push(buffer);\n",
              "            downloaded += buffer.byteLength;\n",
              "            progress.value = downloaded;\n",
              "          }\n",
              "        }\n",
              "      }\n",
              "      const blob = new Blob(buffers, {type: 'application/binary'});\n",
              "      const a = document.createElement('a');\n",
              "      a.href = window.URL.createObjectURL(blob);\n",
              "      a.download = filename;\n",
              "      div.appendChild(a);\n",
              "      a.click();\n",
              "      div.remove();\n",
              "    }\n",
              "  "
            ]
          },
          "metadata": {}
        },
        {
          "output_type": "display_data",
          "data": {
            "text/plain": [
              "<IPython.core.display.Javascript object>"
            ],
            "application/javascript": [
              "download(\"download_e3245e80-73dd-4f4c-93a5-636119a6a931\", \"orderslines_fl.csv\", 3653396)"
            ]
          },
          "metadata": {}
        },
        {
          "output_type": "display_data",
          "data": {
            "text/plain": [
              "<IPython.core.display.Javascript object>"
            ],
            "application/javascript": [
              "\n",
              "    async function download(id, filename, size) {\n",
              "      if (!google.colab.kernel.accessAllowed) {\n",
              "        return;\n",
              "      }\n",
              "      const div = document.createElement('div');\n",
              "      const label = document.createElement('label');\n",
              "      label.textContent = `Downloading \"${filename}\": `;\n",
              "      div.appendChild(label);\n",
              "      const progress = document.createElement('progress');\n",
              "      progress.max = size;\n",
              "      div.appendChild(progress);\n",
              "      document.body.appendChild(div);\n",
              "\n",
              "      const buffers = [];\n",
              "      let downloaded = 0;\n",
              "\n",
              "      const channel = await google.colab.kernel.comms.open(id);\n",
              "      // Send a message to notify the kernel that we're ready.\n",
              "      channel.send({})\n",
              "\n",
              "      for await (const message of channel.messages) {\n",
              "        // Send a message to notify the kernel that we're ready.\n",
              "        channel.send({})\n",
              "        if (message.buffers) {\n",
              "          for (const buffer of message.buffers) {\n",
              "            buffers.push(buffer);\n",
              "            downloaded += buffer.byteLength;\n",
              "            progress.value = downloaded;\n",
              "          }\n",
              "        }\n",
              "      }\n",
              "      const blob = new Blob(buffers, {type: 'application/binary'});\n",
              "      const a = document.createElement('a');\n",
              "      a.href = window.URL.createObjectURL(blob);\n",
              "      a.download = filename;\n",
              "      div.appendChild(a);\n",
              "      a.click();\n",
              "      div.remove();\n",
              "    }\n",
              "  "
            ]
          },
          "metadata": {}
        },
        {
          "output_type": "display_data",
          "data": {
            "text/plain": [
              "<IPython.core.display.Javascript object>"
            ],
            "application/javascript": [
              "download(\"download_94a93cb0-b3cd-418e-a1f8-a8f6234bee3c\", \"orderslines_cl.csv\", 17568196)"
            ]
          },
          "metadata": {}
        }
      ]
    },
    {
      "cell_type": "code",
      "source": [
        "products_3sp.to_csv(\"products_cl.csv\", index=False)\n",
        "files.download(\"products_cl.csv\")"
      ],
      "metadata": {
        "colab": {
          "base_uri": "https://localhost:8080/",
          "height": 17
        },
        "id": "PBppBc4t8-_n",
        "outputId": "28c89aba-da1a-40af-f89a-79a78eba2733"
      },
      "execution_count": 101,
      "outputs": [
        {
          "output_type": "display_data",
          "data": {
            "text/plain": [
              "<IPython.core.display.Javascript object>"
            ],
            "application/javascript": [
              "\n",
              "    async function download(id, filename, size) {\n",
              "      if (!google.colab.kernel.accessAllowed) {\n",
              "        return;\n",
              "      }\n",
              "      const div = document.createElement('div');\n",
              "      const label = document.createElement('label');\n",
              "      label.textContent = `Downloading \"${filename}\": `;\n",
              "      div.appendChild(label);\n",
              "      const progress = document.createElement('progress');\n",
              "      progress.max = size;\n",
              "      div.appendChild(progress);\n",
              "      document.body.appendChild(div);\n",
              "\n",
              "      const buffers = [];\n",
              "      let downloaded = 0;\n",
              "\n",
              "      const channel = await google.colab.kernel.comms.open(id);\n",
              "      // Send a message to notify the kernel that we're ready.\n",
              "      channel.send({})\n",
              "\n",
              "      for await (const message of channel.messages) {\n",
              "        // Send a message to notify the kernel that we're ready.\n",
              "        channel.send({})\n",
              "        if (message.buffers) {\n",
              "          for (const buffer of message.buffers) {\n",
              "            buffers.push(buffer);\n",
              "            downloaded += buffer.byteLength;\n",
              "            progress.value = downloaded;\n",
              "          }\n",
              "        }\n",
              "      }\n",
              "      const blob = new Blob(buffers, {type: 'application/binary'});\n",
              "      const a = document.createElement('a');\n",
              "      a.href = window.URL.createObjectURL(blob);\n",
              "      a.download = filename;\n",
              "      div.appendChild(a);\n",
              "      a.click();\n",
              "      div.remove();\n",
              "    }\n",
              "  "
            ]
          },
          "metadata": {}
        },
        {
          "output_type": "display_data",
          "data": {
            "text/plain": [
              "<IPython.core.display.Javascript object>"
            ],
            "application/javascript": [
              "download(\"download_0fdf2ee7-6dbc-4e0f-8943-b9a074846ae6\", \"products_cl.csv\", 1974840)"
            ]
          },
          "metadata": {}
        }
      ]
    }
  ]
}