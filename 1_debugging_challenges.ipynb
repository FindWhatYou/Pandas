{
  "nbformat": 4,
  "nbformat_minor": 0,
  "metadata": {
    "colab": {
      "provenance": []
    },
    "kernelspec": {
      "name": "python3",
      "display_name": "Python 3"
    },
    "language_info": {
      "name": "python"
    }
  },
  "cells": [
    {
      "cell_type": "markdown",
      "source": [
        "# Debugging Python code\n",
        "\n",
        "Go through the exercises below. \n",
        "\n",
        "- Each exercise contains some code with **one or more mistakes**. \n",
        "- The mistakes can either prompt an error or not.\n",
        "- There might be multiple ways to fix the mistakes.\n",
        "- Improving the code readability is also encouraged."
      ],
      "metadata": {
        "id": "eGqyDOiK4nv5"
      }
    },
    {
      "cell_type": "code",
      "source": [
        "# data creation\n",
        "beatles = [\"John Lennon\", \"Paul McCartney\", \"George Harrison\", \"Ringo Starr\"]\n",
        "\n",
        "numbers = [1, 2, 3, 4, 5]\n",
        "\n",
        "capitals = {\"Germany\": \"Berlin\", \n",
        "            \"Russia\": \"Moscow\",\n",
        "            \"France\": \"Paris\",\n",
        "            \"China\": \"Beijing\",\n",
        "            \"Egypt\": \"Cairo\",\n",
        "            \"Brazil\": \"Sao Paulo\"\n",
        "            }\n",
        "\n",
        "top_profitable_films = {\n",
        "    \"Film\": [\"Avengers: Endgame\", \"Avatar\", \"Titanic\", \"Star Wars: The Force Awakens\", \"Jurassic World\",\n",
        "             \"The Lion King\", \"The Avengers\", \"Frozen II\", \"Frozen\", \"Beauty and the Beast\"],\n",
        "    \"Year\": [\"2019\", \"2007\", \"1997\", \"2015\", \"2015\", \"2019\", \"2012\", \"2019\", \"2013\", \"2017\"],\n",
        "    \"Worldwide Gross (in billions)\": [\"2.798\", \"2.789\", \"2.194\", \"2.073\", \"1.673\", \"1.656\", \"1.519\", \n",
        "                                      \"1.450\", \"1.276\", \"1.263\"]\n",
        "    }"
      ],
      "metadata": {
        "id": "7teQ1W7aJKqR"
      },
      "execution_count": 3,
      "outputs": []
    },
    {
      "cell_type": "markdown",
      "source": [
        "## Exercise 1:"
      ],
      "metadata": {
        "id": "BaJkDo5mMZX2"
      }
    },
    {
      "cell_type": "code",
      "source": [
        "for c in capitals.keys():\n",
        "  print(f\"{capitals[c]} is the capital of {c}.\")"
      ],
      "metadata": {
        "id": "05L7VqDMKfx2",
        "colab": {
          "base_uri": "https://localhost:8080/"
        },
        "outputId": "9397c4bb-366a-4846-f350-fa4c8cb02144"
      },
      "execution_count": null,
      "outputs": [
        {
          "output_type": "stream",
          "name": "stdout",
          "text": [
            "Berlin is the capital of Germany.\n",
            "Moscow is the capital of Russia.\n",
            "Paris is the capital of France.\n",
            "Beijing is the capital of China.\n",
            "Cairo is the capital of Egypt.\n",
            "Sao Paulo is the capital of Brazil.\n"
          ]
        }
      ]
    },
    {
      "cell_type": "code",
      "source": [
        "# your code here"
      ],
      "metadata": {
        "id": "6pVyeB8poUGk"
      },
      "execution_count": null,
      "outputs": []
    },
    {
      "cell_type": "markdown",
      "source": [
        "## Exercise 2:\n",
        "Let's imagine we want to show our love for Ringo Starr and print a love statement for him as many times as numbers are in the `numbers` list. For all Beatles who are not Ringo, we want to print as many times a hate statement. The output should look like this:\n",
        "\n",
        "```\n",
        "I hate John Lennon!\n",
        "I hate Paul McCartney!\n",
        "I hate George Harrison!\n",
        "I love Ringo Starr!\n",
        "\n",
        "\n",
        "I hate John Lennon!\n",
        "I hate Paul McCartney!\n",
        "I hate George Harrison!\n",
        "I love Ringo Starr!\n",
        "\n",
        "\n",
        "I hate John Lennon!\n",
        "I hate Paul McCartney!\n",
        "I hate George Harrison!\n",
        "I love Ringo Starr!\n",
        "\n",
        "\n",
        "I hate John Lennon!\n",
        "I hate Paul McCartney!\n",
        "I hate George Harrison!\n",
        "I love Ringo Starr!\n",
        "\n",
        "\n",
        "I hate John Lennon!\n",
        "I hate Paul McCartney!\n",
        "I hate George Harrison!\n",
        "I love Ringo Starr!\n",
        "```\n",
        "\n"
      ],
      "metadata": {
        "id": "Ktqf8UlUT7Wo"
      }
    },
    {
      "cell_type": "code",
      "source": [
        "# Bad code:\n",
        "for beatle in beatles:\n",
        "  if beatle == \"Ringo Starr\":\n",
        "    for n in numbers:\n",
        "      print(f\"I love {beatle}!\")\n",
        "  if beatle != \"Ringo Starr\":\n",
        "    print(f\"I hate {beatle}!\")\n",
        "    print(\"\\n\")"
      ],
      "metadata": {
        "id": "cb212PumTUM-",
        "colab": {
          "base_uri": "https://localhost:8080/"
        },
        "outputId": "7f244cee-c3dd-47e4-aa6d-3a91b6c57579"
      },
      "execution_count": null,
      "outputs": [
        {
          "output_type": "stream",
          "name": "stdout",
          "text": [
            "I hate John Lennon!\n",
            "\n",
            "\n",
            "I hate Paul McCartney!\n",
            "\n",
            "\n",
            "I hate George Harrison!\n",
            "\n",
            "\n",
            "I love Ringo Starr!\n",
            "I love Ringo Starr!\n",
            "I love Ringo Starr!\n",
            "I love Ringo Starr!\n",
            "I love Ringo Starr!\n"
          ]
        }
      ]
    },
    {
      "cell_type": "code",
      "source": [
        "for i in range(5):\n",
        "  for beatle in beatles:\n",
        "    if beatle != \"Ringo Starr\":\n",
        "      print(f\"I hate {beatle}!\")\n",
        "    else:\n",
        "      print(f\"I love {beatle}!\")\n",
        "      print(\"\\n\")"
      ],
      "metadata": {
        "id": "J69Sx-XfoafE",
        "colab": {
          "base_uri": "https://localhost:8080/"
        },
        "outputId": "292f9303-bfca-4181-89d1-3b29e481f6e0"
      },
      "execution_count": 4,
      "outputs": [
        {
          "output_type": "stream",
          "name": "stdout",
          "text": [
            "I hate John Lennon!\n",
            "I hate Paul McCartney!\n",
            "I hate George Harrison!\n",
            "I love Ringo Starr!\n",
            "\n",
            "\n",
            "I hate John Lennon!\n",
            "I hate Paul McCartney!\n",
            "I hate George Harrison!\n",
            "I love Ringo Starr!\n",
            "\n",
            "\n",
            "I hate John Lennon!\n",
            "I hate Paul McCartney!\n",
            "I hate George Harrison!\n",
            "I love Ringo Starr!\n",
            "\n",
            "\n",
            "I hate John Lennon!\n",
            "I hate Paul McCartney!\n",
            "I hate George Harrison!\n",
            "I love Ringo Starr!\n",
            "\n",
            "\n",
            "I hate John Lennon!\n",
            "I hate Paul McCartney!\n",
            "I hate George Harrison!\n",
            "I love Ringo Starr!\n",
            "\n",
            "\n"
          ]
        }
      ]
    },
    {
      "cell_type": "markdown",
      "source": [
        "## Exercise 3:"
      ],
      "metadata": {
        "id": "cOKlhWRqMQF1"
      }
    },
    {
      "cell_type": "code",
      "source": [
        "import pandas as pd\n",
        "top_profitable_films = pd.DataFrame(top_profitable_films)\n",
        "top_profitable_films.head"
      ],
      "metadata": {
        "id": "h6PF4HQfMiex",
        "colab": {
          "base_uri": "https://localhost:8080/"
        },
        "outputId": "a92704b8-561f-4024-eadf-fb5aa2f971d8"
      },
      "execution_count": null,
      "outputs": [
        {
          "output_type": "execute_result",
          "data": {
            "text/plain": [
              "<bound method NDFrame.head of                            Film  Year Worldwide Gross (in billions)\n",
              "0             Avengers: Endgame  2019                         2.798\n",
              "1                        Avatar  2007                         2.789\n",
              "2                       Titanic  1997                         2.194\n",
              "3  Star Wars: The Force Awakens  2015                         2.073\n",
              "4                Jurassic World  2015                         1.673\n",
              "5                 The Lion King  2019                         1.656\n",
              "6                  The Avengers  2012                         1.519\n",
              "7                     Frozen II  2019                         1.450\n",
              "8                        Frozen  2013                         1.276\n",
              "9          Beauty and the Beast  2017                         1.263>"
            ]
          },
          "metadata": {},
          "execution_count": 14
        }
      ]
    },
    {
      "cell_type": "markdown",
      "source": [
        "## Exercise 4:\n",
        "\n",
        "We realised that, in our top_films_df, the year of the movie Avatar is wrong. We want to replace it for the correct one, 2009:"
      ],
      "metadata": {
        "id": "nuQNxD6HOcMP"
      }
    },
    {
      "cell_type": "code",
      "source": [
        "top_films_df = pd.DataFrame.from_dict(data = top_profitable_films)\n",
        "top_films_df.iloc[1,1] = \"2009\"\n",
        "top_films_df"
      ],
      "metadata": {
        "id": "03M8YhGWRW5f",
        "colab": {
          "base_uri": "https://localhost:8080/",
          "height": 363
        },
        "outputId": "01a9491e-8ac9-4491-8ff0-f6efaf844a8c"
      },
      "execution_count": null,
      "outputs": [
        {
          "output_type": "execute_result",
          "data": {
            "text/plain": [
              "                           Film  Year Worldwide Gross (in billions)\n",
              "0             Avengers: Endgame  2019                         2.798\n",
              "1                        Avatar  2009                         2.789\n",
              "2                       Titanic  1997                         2.194\n",
              "3  Star Wars: The Force Awakens  2015                         2.073\n",
              "4                Jurassic World  2015                         1.673\n",
              "5                 The Lion King  2019                         1.656\n",
              "6                  The Avengers  2012                         1.519\n",
              "7                     Frozen II  2019                         1.450\n",
              "8                        Frozen  2013                         1.276\n",
              "9          Beauty and the Beast  2017                         1.263"
            ],
            "text/html": [
              "\n",
              "  <div id=\"df-c7baf3bb-65ad-4758-8fde-de6d0ebe9efc\">\n",
              "    <div class=\"colab-df-container\">\n",
              "      <div>\n",
              "<style scoped>\n",
              "    .dataframe tbody tr th:only-of-type {\n",
              "        vertical-align: middle;\n",
              "    }\n",
              "\n",
              "    .dataframe tbody tr th {\n",
              "        vertical-align: top;\n",
              "    }\n",
              "\n",
              "    .dataframe thead th {\n",
              "        text-align: right;\n",
              "    }\n",
              "</style>\n",
              "<table border=\"1\" class=\"dataframe\">\n",
              "  <thead>\n",
              "    <tr style=\"text-align: right;\">\n",
              "      <th></th>\n",
              "      <th>Film</th>\n",
              "      <th>Year</th>\n",
              "      <th>Worldwide Gross (in billions)</th>\n",
              "    </tr>\n",
              "  </thead>\n",
              "  <tbody>\n",
              "    <tr>\n",
              "      <th>0</th>\n",
              "      <td>Avengers: Endgame</td>\n",
              "      <td>2019</td>\n",
              "      <td>2.798</td>\n",
              "    </tr>\n",
              "    <tr>\n",
              "      <th>1</th>\n",
              "      <td>Avatar</td>\n",
              "      <td>2009</td>\n",
              "      <td>2.789</td>\n",
              "    </tr>\n",
              "    <tr>\n",
              "      <th>2</th>\n",
              "      <td>Titanic</td>\n",
              "      <td>1997</td>\n",
              "      <td>2.194</td>\n",
              "    </tr>\n",
              "    <tr>\n",
              "      <th>3</th>\n",
              "      <td>Star Wars: The Force Awakens</td>\n",
              "      <td>2015</td>\n",
              "      <td>2.073</td>\n",
              "    </tr>\n",
              "    <tr>\n",
              "      <th>4</th>\n",
              "      <td>Jurassic World</td>\n",
              "      <td>2015</td>\n",
              "      <td>1.673</td>\n",
              "    </tr>\n",
              "    <tr>\n",
              "      <th>5</th>\n",
              "      <td>The Lion King</td>\n",
              "      <td>2019</td>\n",
              "      <td>1.656</td>\n",
              "    </tr>\n",
              "    <tr>\n",
              "      <th>6</th>\n",
              "      <td>The Avengers</td>\n",
              "      <td>2012</td>\n",
              "      <td>1.519</td>\n",
              "    </tr>\n",
              "    <tr>\n",
              "      <th>7</th>\n",
              "      <td>Frozen II</td>\n",
              "      <td>2019</td>\n",
              "      <td>1.450</td>\n",
              "    </tr>\n",
              "    <tr>\n",
              "      <th>8</th>\n",
              "      <td>Frozen</td>\n",
              "      <td>2013</td>\n",
              "      <td>1.276</td>\n",
              "    </tr>\n",
              "    <tr>\n",
              "      <th>9</th>\n",
              "      <td>Beauty and the Beast</td>\n",
              "      <td>2017</td>\n",
              "      <td>1.263</td>\n",
              "    </tr>\n",
              "  </tbody>\n",
              "</table>\n",
              "</div>\n",
              "      <button class=\"colab-df-convert\" onclick=\"convertToInteractive('df-c7baf3bb-65ad-4758-8fde-de6d0ebe9efc')\"\n",
              "              title=\"Convert this dataframe to an interactive table.\"\n",
              "              style=\"display:none;\">\n",
              "        \n",
              "  <svg xmlns=\"http://www.w3.org/2000/svg\" height=\"24px\"viewBox=\"0 0 24 24\"\n",
              "       width=\"24px\">\n",
              "    <path d=\"M0 0h24v24H0V0z\" fill=\"none\"/>\n",
              "    <path d=\"M18.56 5.44l.94 2.06.94-2.06 2.06-.94-2.06-.94-.94-2.06-.94 2.06-2.06.94zm-11 1L8.5 8.5l.94-2.06 2.06-.94-2.06-.94L8.5 2.5l-.94 2.06-2.06.94zm10 10l.94 2.06.94-2.06 2.06-.94-2.06-.94-.94-2.06-.94 2.06-2.06.94z\"/><path d=\"M17.41 7.96l-1.37-1.37c-.4-.4-.92-.59-1.43-.59-.52 0-1.04.2-1.43.59L10.3 9.45l-7.72 7.72c-.78.78-.78 2.05 0 2.83L4 21.41c.39.39.9.59 1.41.59.51 0 1.02-.2 1.41-.59l7.78-7.78 2.81-2.81c.8-.78.8-2.07 0-2.86zM5.41 20L4 18.59l7.72-7.72 1.47 1.35L5.41 20z\"/>\n",
              "  </svg>\n",
              "      </button>\n",
              "      \n",
              "  <style>\n",
              "    .colab-df-container {\n",
              "      display:flex;\n",
              "      flex-wrap:wrap;\n",
              "      gap: 12px;\n",
              "    }\n",
              "\n",
              "    .colab-df-convert {\n",
              "      background-color: #E8F0FE;\n",
              "      border: none;\n",
              "      border-radius: 50%;\n",
              "      cursor: pointer;\n",
              "      display: none;\n",
              "      fill: #1967D2;\n",
              "      height: 32px;\n",
              "      padding: 0 0 0 0;\n",
              "      width: 32px;\n",
              "    }\n",
              "\n",
              "    .colab-df-convert:hover {\n",
              "      background-color: #E2EBFA;\n",
              "      box-shadow: 0px 1px 2px rgba(60, 64, 67, 0.3), 0px 1px 3px 1px rgba(60, 64, 67, 0.15);\n",
              "      fill: #174EA6;\n",
              "    }\n",
              "\n",
              "    [theme=dark] .colab-df-convert {\n",
              "      background-color: #3B4455;\n",
              "      fill: #D2E3FC;\n",
              "    }\n",
              "\n",
              "    [theme=dark] .colab-df-convert:hover {\n",
              "      background-color: #434B5C;\n",
              "      box-shadow: 0px 1px 3px 1px rgba(0, 0, 0, 0.15);\n",
              "      filter: drop-shadow(0px 1px 2px rgba(0, 0, 0, 0.3));\n",
              "      fill: #FFFFFF;\n",
              "    }\n",
              "  </style>\n",
              "\n",
              "      <script>\n",
              "        const buttonEl =\n",
              "          document.querySelector('#df-c7baf3bb-65ad-4758-8fde-de6d0ebe9efc button.colab-df-convert');\n",
              "        buttonEl.style.display =\n",
              "          google.colab.kernel.accessAllowed ? 'block' : 'none';\n",
              "\n",
              "        async function convertToInteractive(key) {\n",
              "          const element = document.querySelector('#df-c7baf3bb-65ad-4758-8fde-de6d0ebe9efc');\n",
              "          const dataTable =\n",
              "            await google.colab.kernel.invokeFunction('convertToInteractive',\n",
              "                                                     [key], {});\n",
              "          if (!dataTable) return;\n",
              "\n",
              "          const docLinkHtml = 'Like what you see? Visit the ' +\n",
              "            '<a target=\"_blank\" href=https://colab.research.google.com/notebooks/data_table.ipynb>data table notebook</a>'\n",
              "            + ' to learn more about interactive tables.';\n",
              "          element.innerHTML = '';\n",
              "          dataTable['output_type'] = 'display_data';\n",
              "          await google.colab.output.renderOutput(dataTable, element);\n",
              "          const docLink = document.createElement('div');\n",
              "          docLink.innerHTML = docLinkHtml;\n",
              "          element.appendChild(docLink);\n",
              "        }\n",
              "      </script>\n",
              "    </div>\n",
              "  </div>\n",
              "  "
            ]
          },
          "metadata": {},
          "execution_count": 53
        }
      ]
    },
    {
      "cell_type": "markdown",
      "source": [
        "## Exercise 5:\n",
        "\n",
        "We want to get the average gross profit of all films:"
      ],
      "metadata": {
        "id": "OwCeBaNYS_aM"
      }
    },
    {
      "cell_type": "code",
      "source": [
        "top_films_df.iloc[:,0]"
      ],
      "metadata": {
        "colab": {
          "base_uri": "https://localhost:8080/"
        },
        "id": "RnVuXpZA9Dou",
        "outputId": "861803bb-b3d5-4f74-85e5-20afd848d91d"
      },
      "execution_count": null,
      "outputs": [
        {
          "output_type": "execute_result",
          "data": {
            "text/plain": [
              "0               Avengers: Endgame\n",
              "1                          Avatar\n",
              "2                         Titanic\n",
              "3    Star Wars: The Force Awakens\n",
              "4                  Jurassic World\n",
              "5                   The Lion King\n",
              "6                    The Avengers\n",
              "7                       Frozen II\n",
              "8                          Frozen\n",
              "9            Beauty and the Beast\n",
              "Name: Film, dtype: object"
            ]
          },
          "metadata": {},
          "execution_count": 117
        }
      ]
    },
    {
      "cell_type": "code",
      "source": [
        "round(top_films_df.iloc[:,2].astype('float').mean(),3)"
      ],
      "metadata": {
        "colab": {
          "base_uri": "https://localhost:8080/"
        },
        "id": "uBfQD8Oe4tqv",
        "outputId": "f1946dfa-0cb4-4c28-b425-1609744e3409"
      },
      "execution_count": null,
      "outputs": [
        {
          "output_type": "execute_result",
          "data": {
            "text/plain": [
              "1.869"
            ]
          },
          "metadata": {},
          "execution_count": 98
        }
      ]
    }
  ]
}